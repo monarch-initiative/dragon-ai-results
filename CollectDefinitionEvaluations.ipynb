{
 "cells": [
  {
   "cell_type": "code",
   "execution_count": 1,
   "id": "cc2e2119-f668-40ff-a757-84b8a5248a93",
   "metadata": {},
   "outputs": [],
   "source": [
    "import pandas as pd\n",
    "import gspread\n",
    "from google.oauth2.service_account import Credentials\n",
    "gc = gspread.service_account()"
   ]
  },
  {
   "cell_type": "code",
   "execution_count": 2,
   "id": "1990f185-daaf-45b2-910e-cec0d6b3b53c",
   "metadata": {},
   "outputs": [],
   "source": [
    "scopes = [\"https://spreadsheets.google.com/feeds\", 'https://www.googleapis.com/auth/spreadsheets',\n",
    "          \"https://www.googleapis.com/auth/drive.file\", \"https://www.googleapis.com/auth/drive\"]\n",
    "creds = Credentials.from_service_account_file('secrets/linkml-336707-1c85304108ea.json', scopes=scopes)\n",
    "client = gspread.authorize(creds)\n"
   ]
  },
  {
   "cell_type": "code",
   "execution_count": 3,
   "id": "1fcb69ef-06f3-4211-8047-00589b750eda",
   "metadata": {},
   "outputs": [],
   "source": [
    "import time"
   ]
  },
  {
   "cell_type": "code",
   "execution_count": 4,
   "id": "b373ea3e-8ce0-40a6-92f0-84de5303bc66",
   "metadata": {},
   "outputs": [],
   "source": [
    "names = [x.strip() for x in open(\"definitions-sheets/evaluator-ids.txt\").readlines()]"
   ]
  },
  {
   "cell_type": "code",
   "execution_count": 5,
   "id": "bd1ef4b8-678f-41c9-8364-bc4abba9b682",
   "metadata": {},
   "outputs": [
    {
     "name": "stdout",
     "output_type": "stream",
     "text": [
      "BAD VALUE   in A structural abnormality in which the sperm neck is bent or curved.\n"
     ]
    }
   ],
   "source": [
    "dfs = []\n",
    "all_rows = []\n",
    "for name in names:\n",
    "    #print(name)\n",
    "    wks = gc.open(str(f\"Definition Evaluation Template - {name}\")).worksheet(\"Definitions (EDIT HERE)\")\n",
    "    rows = wks.get_all_records()\n",
    "    rows = [row for row in rows if row[\"score\"] or row[\"accuracy\"]]\n",
    "    propagated = 0\n",
    "    for row in rows:\n",
    "        row[\"evaluator\"] = name\n",
    "        for k in [\"accuracy\", \"internal_consistency\", \"score\", \"confidence\"]:\n",
    "            v = row[k]\n",
    "            if v == \"?\":\n",
    "                v = \"\"\n",
    "            if isinstance(v,float):\n",
    "                v = round(v)\n",
    "            if isinstance(v,str) and \"-\" in v:\n",
    "                # some customized their form\n",
    "                v = int(v.split(\"-\")[0])\n",
    "            if v and v not in list(range(1,6)):\n",
    "                print(f\"BAD VALUE {v} in {row['definition']}\")\n",
    "                row[k] = None\n",
    "        if not row[\"score\"] and row[\"accuracy\"]:\n",
    "            propagated += 1\n",
    "            row[\"score\"] = row[\"accuracy\"]\n",
    "    all_rows.extend(rows)\n",
    "    wks_df = pd.DataFrame(rows)\n",
    "    #print(\"rows\", len(rows))\n",
    "    #print(\"propagated\", propagated)\n",
    "    wks_df[\"evaluator\"] = name\n",
    "    time.sleep(3)\n",
    "    \n",
    "    dfs.append(wks_df)\n",
    "#eval_df = pd.concat(dfs)\n",
    "eval_df = pd.DataFrame(all_rows)\n",
    "\n",
    "#eval_df[\"evaluator\"].unique()"
   ]
  },
  {
   "cell_type": "code",
   "execution_count": 6,
   "id": "bea188bd-09e2-41d1-b7ff-1baf8c09e06d",
   "metadata": {},
   "outputs": [
    {
     "data": {
      "text/plain": [
       "ontology\n",
       "cl        1917\n",
       "envo      1151\n",
       "foodon    1223\n",
       "go         917\n",
       "hp         355\n",
       "mondo      472\n",
       "mp         265\n",
       "oba        236\n",
       "uberon     471\n",
       "dtype: int64"
      ]
     },
     "execution_count": 6,
     "metadata": {},
     "output_type": "execute_result"
    }
   ],
   "source": [
    "#eval_df.groupby([\"ontology\", \"evaluator\"]).size()\n",
    "eval_df.groupby([\"ontology\"]).size()"
   ]
  },
  {
   "cell_type": "code",
   "execution_count": 7,
   "id": "8801b8e3-8ef6-46d3-8007-d4a4d7e993b3",
   "metadata": {},
   "outputs": [],
   "source": [
    "eval_df = eval_df.rename(columns={\"label_x\": \"label\", \"ontology_x\": \"ontology\", \\\n",
    "                        \"accuracy_x\": \"accuracy\", \"score_x\": \"score\", \"internal_consistency_x\": \"consistency\", \\\n",
    "                        \"confidence_x\": \"confidence\", \"notes_x\": \"notes\"})"
   ]
  },
  {
   "cell_type": "code",
   "execution_count": 8,
   "id": "4278091d-f078-4c22-9956-9d186c752fec",
   "metadata": {},
   "outputs": [],
   "source": [
    "for k in [\"score\", \"accuracy\", \"internal_consistency\"]:\n",
    "    eval_df[k] = pd.to_numeric(eval_df[k], errors='coerce')"
   ]
  },
  {
   "cell_type": "code",
   "execution_count": 9,
   "id": "e7d5a0a7-3838-4bdb-a93a-d70fc0a4526b",
   "metadata": {},
   "outputs": [],
   "source": [
    "import hashlib\n",
    "eval_df['evaluator'] = eval_df['evaluator'].apply(lambda x: hashlib.sha256(x.encode()).hexdigest())"
   ]
  },
  {
   "cell_type": "markdown",
   "id": "a7aa5fb2-2d36-4672-8a85-35dc4cb91dc6",
   "metadata": {},
   "source": [
    "## Save as CSV for later analysis\n",
    "\n",
    "This is analyzed in a separate notebook"
   ]
  },
  {
   "cell_type": "code",
   "execution_count": 10,
   "id": "5cb154fc-e242-40c7-9567-2f10af6f12e5",
   "metadata": {},
   "outputs": [],
   "source": [
    "eval_df.to_csv(\"definitions-sheets/combined.csv\", index=False)"
   ]
  }
 ],
 "metadata": {
  "kernelspec": {
   "display_name": "Python 3 (ipykernel)",
   "language": "python",
   "name": "python3"
  },
  "language_info": {
   "codemirror_mode": {
    "name": "ipython",
    "version": 3
   },
   "file_extension": ".py",
   "mimetype": "text/x-python",
   "name": "python",
   "nbconvert_exporter": "python",
   "pygments_lexer": "ipython3",
   "version": "3.10.9"
  }
 },
 "nbformat": 4,
 "nbformat_minor": 5
}
