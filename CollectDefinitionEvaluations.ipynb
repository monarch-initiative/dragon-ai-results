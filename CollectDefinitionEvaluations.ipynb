{
 "cells": [
  {
   "cell_type": "markdown",
   "id": "011a96c4-ebb6-47ba-bfff-f713493ed6e4",
   "metadata": {},
   "source": [
    "## Collecting Evaluations from Google Sheets\n",
    "\n",
    "Aggregates evaluations, making an md5 for every contributor. Also joins with additional metadata\n",
    "about each definition, including its source"
   ]
  },
  {
   "cell_type": "code",
   "execution_count": 1,
   "id": "cc2e2119-f668-40ff-a757-84b8a5248a93",
   "metadata": {
    "ExecuteTime": {
     "end_time": "2024-05-25T20:24:07.238561Z",
     "start_time": "2024-05-25T20:24:07.111720Z"
    }
   },
   "outputs": [],
   "source": [
    "import pandas as pd\n",
    "import gspread\n",
    "from google.oauth2.service_account import Credentials\n",
    "gc = gspread.service_account()"
   ]
  },
  {
   "cell_type": "code",
   "execution_count": 2,
   "id": "1990f185-daaf-45b2-910e-cec0d6b3b53c",
   "metadata": {
    "ExecuteTime": {
     "end_time": "2024-05-25T20:24:07.259820Z",
     "start_time": "2024-05-25T20:24:07.241517Z"
    }
   },
   "outputs": [],
   "source": [
    "scopes = [\"https://spreadsheets.google.com/feeds\", 'https://www.googleapis.com/auth/spreadsheets',\n",
    "          \"https://www.googleapis.com/auth/drive.file\", \"https://www.googleapis.com/auth/drive\"]\n",
    "creds = Credentials.from_service_account_file('secrets/linkml-336707-1c85304108ea.json', scopes=scopes)\n",
    "client = gspread.authorize(creds)\n"
   ]
  },
  {
   "cell_type": "code",
   "execution_count": 3,
   "id": "1fcb69ef-06f3-4211-8047-00589b750eda",
   "metadata": {
    "ExecuteTime": {
     "end_time": "2024-05-25T20:24:07.260183Z",
     "start_time": "2024-05-25T20:24:07.243514Z"
    }
   },
   "outputs": [],
   "source": [
    "import time"
   ]
  },
  {
   "cell_type": "code",
   "execution_count": 4,
   "id": "b373ea3e-8ce0-40a6-92f0-84de5303bc66",
   "metadata": {
    "ExecuteTime": {
     "end_time": "2024-05-25T20:24:07.260263Z",
     "start_time": "2024-05-25T20:24:07.248989Z"
    }
   },
   "outputs": [],
   "source": [
    "names = [x.strip() for x in open(\"definitions-sheets/evaluator-ids.txt\").readlines()]"
   ]
  },
  {
   "cell_type": "code",
   "execution_count": 5,
   "id": "bd1ef4b8-678f-41c9-8364-bc4abba9b682",
   "metadata": {
    "ExecuteTime": {
     "end_time": "2024-05-25T20:32:43.464111Z",
     "start_time": "2024-05-25T20:30:32.895160Z"
    }
   },
   "outputs": [
    {
     "name": "stdout",
     "output_type": "stream",
     "text": [
      "BAD VALUE   in A structural abnormality in which the sperm neck is bent or curved.\n"
     ]
    }
   ],
   "source": [
    "dfs = []\n",
    "all_rows = []\n",
    "for name in names:\n",
    "    #print(name)\n",
    "    wks = gc.open(str(f\"Definition Evaluation Template - {name}\")).worksheet(\"Definitions (EDIT HERE)\")\n",
    "    rows = wks.get_all_records()\n",
    "    rows = [row for row in rows if row[\"score\"] or row[\"accuracy\"]]\n",
    "    propagated = 0\n",
    "    for row in rows:\n",
    "        row[\"evaluator\"] = name\n",
    "        for k in [\"accuracy\", \"internal_consistency\", \"score\", \"confidence\"]:\n",
    "            v = row[k]\n",
    "            if v == \"?\":\n",
    "                v = \"\"\n",
    "            if isinstance(v,float):\n",
    "                v = round(v)\n",
    "            if isinstance(v,str) and \"-\" in v:\n",
    "                # some customized their form\n",
    "                v = int(v.split(\"-\")[0])\n",
    "            if v and v not in list(range(1,6)):\n",
    "                print(f\"BAD VALUE {v} in {row['definition']}\")\n",
    "                row[k] = None\n",
    "        if not row[\"score\"] and row[\"accuracy\"]:\n",
    "            propagated += 1\n",
    "            row[\"score\"] = row[\"accuracy\"]\n",
    "    all_rows.extend(rows)\n",
    "    wks_df = pd.DataFrame(rows)\n",
    "    #print(\"rows\", len(rows))\n",
    "    #print(\"propagated\", propagated)\n",
    "    wks_df[\"evaluator\"] = name\n",
    "    time.sleep(3)\n",
    "    \n",
    "    dfs.append(wks_df)\n",
    "#eval_df = pd.concat(dfs)\n",
    "eval_df = pd.DataFrame(all_rows)\n",
    "\n",
    "#eval_df[\"evaluator\"].unique()"
   ]
  },
  {
   "cell_type": "code",
   "execution_count": 6,
   "id": "bea188bd-09e2-41d1-b7ff-1baf8c09e06d",
   "metadata": {
    "ExecuteTime": {
     "end_time": "2024-05-25T20:33:34.816832Z",
     "start_time": "2024-05-25T20:33:34.787400Z"
    }
   },
   "outputs": [
    {
     "data": {
      "text/plain": "ontology\ncl        1917\nenvo      1151\nfoodon    1223\ngo         917\nhp         355\nmondo      472\nmp         265\noba        236\nuberon     471\ndtype: int64"
     },
     "execution_count": 6,
     "metadata": {},
     "output_type": "execute_result"
    }
   ],
   "source": [
    "#eval_df.groupby([\"ontology\", \"evaluator\"]).size()\n",
    "eval_df.groupby([\"ontology\"]).size()"
   ]
  },
  {
   "cell_type": "code",
   "execution_count": 7,
   "id": "8801b8e3-8ef6-46d3-8007-d4a4d7e993b3",
   "metadata": {
    "ExecuteTime": {
     "end_time": "2024-05-25T20:33:37.108929Z",
     "start_time": "2024-05-25T20:33:37.094417Z"
    }
   },
   "outputs": [],
   "source": [
    "eval_df = eval_df.rename(columns={\"label_x\": \"label\", \"ontology_x\": \"ontology\", \\\n",
    "                        \"accuracy_x\": \"accuracy\", \"score_x\": \"score\", \"internal_consistency_x\": \"consistency\", \\\n",
    "                        \"confidence_x\": \"confidence\", \"notes_x\": \"notes\"})"
   ]
  },
  {
   "cell_type": "code",
   "execution_count": 8,
   "id": "4278091d-f078-4c22-9956-9d186c752fec",
   "metadata": {
    "ExecuteTime": {
     "end_time": "2024-05-25T20:33:39.088755Z",
     "start_time": "2024-05-25T20:33:39.075937Z"
    }
   },
   "outputs": [],
   "source": [
    "for k in [\"score\", \"accuracy\", \"internal_consistency\"]:\n",
    "    eval_df[k] = pd.to_numeric(eval_df[k], errors='coerce')"
   ]
  },
  {
   "cell_type": "code",
   "execution_count": 9,
   "id": "e7d5a0a7-3838-4bdb-a93a-d70fc0a4526b",
   "metadata": {
    "ExecuteTime": {
     "end_time": "2024-05-25T20:33:39.668039Z",
     "start_time": "2024-05-25T20:33:39.653970Z"
    }
   },
   "outputs": [],
   "source": [
    "import hashlib\n",
    "eval_df['evaluator'] = eval_df['evaluator'].apply(lambda x: hashlib.sha256(x.encode()).hexdigest())"
   ]
  },
  {
   "cell_type": "markdown",
   "id": "a7aa5fb2-2d36-4672-8a85-35dc4cb91dc6",
   "metadata": {},
   "source": [
    "## Save as CSV for later analysis\n",
    "\n",
    "This is analyzed in a separate notebook"
   ]
  },
  {
   "cell_type": "code",
   "execution_count": 10,
   "id": "5cb154fc-e242-40c7-9567-2f10af6f12e5",
   "metadata": {
    "ExecuteTime": {
     "end_time": "2024-05-25T20:33:51.372838Z",
     "start_time": "2024-05-25T20:33:51.119531Z"
    }
   },
   "outputs": [],
   "source": [
    "eval_df.to_csv(\"definitions-sheets/combined.csv\", index=False)"
   ]
  },
  {
   "cell_type": "markdown",
   "source": [
    "## Load definitions plus sources\n"
   ],
   "metadata": {
    "collapsed": false
   },
   "id": "ce16d9d1b4de7fd5"
  },
  {
   "cell_type": "code",
   "execution_count": 17,
   "outputs": [],
   "source": [
    "def get_method(obj: dict) -> str:\n",
    "    \"\"\"\n",
    "    gets the method from the yaml object\n",
    "    \"\"\"\n",
    "    if obj.get(\"generate_background\"):\n",
    "        return \"background\"\n",
    "    additional = obj.get(\"additional_collections\", [])\n",
    "    if additional:\n",
    "        assert len(additional) == 1\n",
    "        x = additional[0]\n",
    "        if x.startswith(\"gh_\"):\n",
    "            return \"github\"\n",
    "        elif x.startswith(\"devdocs\"):\n",
    "            return \"devdocs\"\n",
    "        else:\n",
    "            assert False\n",
    "    else:\n",
    "        return \"RAG\""
   ],
   "metadata": {
    "collapsed": false,
    "ExecuteTime": {
     "end_time": "2024-05-25T23:44:49.842445Z",
     "start_time": "2024-05-25T23:44:49.811360Z"
    }
   },
   "id": "2974ef8b5484048b"
  },
  {
   "cell_type": "code",
   "execution_count": 65,
   "outputs": [
    {
     "data": {
      "text/plain": "                            masked_id                                 label  \\\n0                    PignutHickoryNut                    pignut hickory nut   \n1                         GreekYogurt                          greek yogurt   \n2          TurkeyMeat_ground_sauteed_         turkey meat (ground, sauteed)   \n3                                 Raw                                   raw   \n4                    SpeltFoodProduct                    spelt food product   \n..                                ...                                   ...   \n45  MalnutritionSupplementFoodProduct  malnutrition supplement food product   \n46                   DuckEggYolk_raw_                   duck egg yolk (raw)   \n47                    Parsnip_peeled_                      parsnip (peeled)   \n48           GreenCardamomSeed_dried_           green cardamom seed (dried)   \n49               CommonMillet_cooked_                common millet (cooked)   \n\n   ontology                                         definition     model_name  \\\n0    foodon  A caryopsis fruit of a pignut hickory cultivar...  gpt-3.5-turbo   \n1    foodon  Yogurt made by straining whey from the yogurt....  gpt-3.5-turbo   \n2    foodon    Ground and sauteed meat made from turkey parts.  gpt-3.5-turbo   \n3    foodon                                                NaN  gpt-3.5-turbo   \n4    foodon                                                NaN  gpt-3.5-turbo   \n..      ...                                                ...            ...   \n45   foodon  A food supplement food product designed to all...          human   \n46   foodon                                                NaN          human   \n47   foodon                   A parsnip which has been peeled.          human   \n48   foodon                                                NaN          human   \n49   foodon                     Common millet which is cooked.          human   \n\n     method  \n0       RAG  \n1       RAG  \n2       RAG  \n3       RAG  \n4       RAG  \n..      ...  \n45  curator  \n46  curator  \n47  curator  \n48  curator  \n49  curator  \n\n[100 rows x 6 columns]",
      "text/html": "<div>\n<style scoped>\n    .dataframe tbody tr th:only-of-type {\n        vertical-align: middle;\n    }\n\n    .dataframe tbody tr th {\n        vertical-align: top;\n    }\n\n    .dataframe thead th {\n        text-align: right;\n    }\n</style>\n<table border=\"1\" class=\"dataframe\">\n  <thead>\n    <tr style=\"text-align: right;\">\n      <th></th>\n      <th>masked_id</th>\n      <th>label</th>\n      <th>ontology</th>\n      <th>definition</th>\n      <th>model_name</th>\n      <th>method</th>\n    </tr>\n  </thead>\n  <tbody>\n    <tr>\n      <th>0</th>\n      <td>PignutHickoryNut</td>\n      <td>pignut hickory nut</td>\n      <td>foodon</td>\n      <td>A caryopsis fruit of a pignut hickory cultivar...</td>\n      <td>gpt-3.5-turbo</td>\n      <td>RAG</td>\n    </tr>\n    <tr>\n      <th>1</th>\n      <td>GreekYogurt</td>\n      <td>greek yogurt</td>\n      <td>foodon</td>\n      <td>Yogurt made by straining whey from the yogurt....</td>\n      <td>gpt-3.5-turbo</td>\n      <td>RAG</td>\n    </tr>\n    <tr>\n      <th>2</th>\n      <td>TurkeyMeat_ground_sauteed_</td>\n      <td>turkey meat (ground, sauteed)</td>\n      <td>foodon</td>\n      <td>Ground and sauteed meat made from turkey parts.</td>\n      <td>gpt-3.5-turbo</td>\n      <td>RAG</td>\n    </tr>\n    <tr>\n      <th>3</th>\n      <td>Raw</td>\n      <td>raw</td>\n      <td>foodon</td>\n      <td>NaN</td>\n      <td>gpt-3.5-turbo</td>\n      <td>RAG</td>\n    </tr>\n    <tr>\n      <th>4</th>\n      <td>SpeltFoodProduct</td>\n      <td>spelt food product</td>\n      <td>foodon</td>\n      <td>NaN</td>\n      <td>gpt-3.5-turbo</td>\n      <td>RAG</td>\n    </tr>\n    <tr>\n      <th>...</th>\n      <td>...</td>\n      <td>...</td>\n      <td>...</td>\n      <td>...</td>\n      <td>...</td>\n      <td>...</td>\n    </tr>\n    <tr>\n      <th>45</th>\n      <td>MalnutritionSupplementFoodProduct</td>\n      <td>malnutrition supplement food product</td>\n      <td>foodon</td>\n      <td>A food supplement food product designed to all...</td>\n      <td>human</td>\n      <td>curator</td>\n    </tr>\n    <tr>\n      <th>46</th>\n      <td>DuckEggYolk_raw_</td>\n      <td>duck egg yolk (raw)</td>\n      <td>foodon</td>\n      <td>NaN</td>\n      <td>human</td>\n      <td>curator</td>\n    </tr>\n    <tr>\n      <th>47</th>\n      <td>Parsnip_peeled_</td>\n      <td>parsnip (peeled)</td>\n      <td>foodon</td>\n      <td>A parsnip which has been peeled.</td>\n      <td>human</td>\n      <td>curator</td>\n    </tr>\n    <tr>\n      <th>48</th>\n      <td>GreenCardamomSeed_dried_</td>\n      <td>green cardamom seed (dried)</td>\n      <td>foodon</td>\n      <td>NaN</td>\n      <td>human</td>\n      <td>curator</td>\n    </tr>\n    <tr>\n      <th>49</th>\n      <td>CommonMillet_cooked_</td>\n      <td>common millet (cooked)</td>\n      <td>foodon</td>\n      <td>Common millet which is cooked.</td>\n      <td>human</td>\n      <td>curator</td>\n    </tr>\n  </tbody>\n</table>\n<p>100 rows × 6 columns</p>\n</div>"
     },
     "execution_count": 65,
     "metadata": {},
     "output_type": "execute_result"
    }
   ],
   "source": [
    "import glob\n",
    "import yaml\n",
    "from pathlib import Path\n",
    "def load_results(files):\n",
    "    dfs = []\n",
    "    defs = set()\n",
    "    for file in files:\n",
    "        yaml_path = file.replace(\".tsv\", \".yaml\")\n",
    "        if not Path(yaml_path).exists():\n",
    "            continue\n",
    "        meta = yaml.safe_load(open(yaml_path))\n",
    "        ont = meta.get(\"source_collection\", \"\").replace(\"ont_\", \"\")\n",
    "        res = pd.read_csv(file, comment=\"#\", sep=\"\\t\")\n",
    "        # create a new dataframe copying the predicated_definition column:\n",
    "        res2 = pd.DataFrame()\n",
    "        res2[\"masked_id\"] = res[\"masked_id\"]\n",
    "        res2[\"label\"] = res[\"feature_label\"]\n",
    "        res2['ontology'] = ont\n",
    "        res2[\"definition\"] = res[\"predicted_definition\"]\n",
    "        res2[\"model_name\"] = meta[\"model_name\"]\n",
    "        res2[\"method\"] = get_method(meta)\n",
    "        res3 = pd.DataFrame()\n",
    "        res3[\"masked_id\"] = res[\"masked_id\"]\n",
    "        res3[\"label\"] = res[\"feature_label\"]\n",
    "        res3['ontology'] = ont\n",
    "        res3[\"definition\"] = res[\"expected_definition\"]\n",
    "        res3[\"model_name\"] = \"human\"\n",
    "        res3[\"method\"] = \"curator\"\n",
    "        # remove duplicates in res3\n",
    "        res3 = res3.drop_duplicates(subset=['label', 'ontology', 'definition'])\n",
    "        dfs.append(res2)\n",
    "        dfs.append(res3)\n",
    "    return pd.concat(dfs).drop_duplicates()\n",
    "\n",
    "load_results([\"results/ont_foodon-Pdefinition-Mid.original_id-BGFalse-TrNone-Te50-Mgpt-3.5-turbo-EMopenai.results.tsv\"])"
   ],
   "metadata": {
    "collapsed": false,
    "ExecuteTime": {
     "end_time": "2024-05-26T00:42:12.230164Z",
     "start_time": "2024-05-26T00:42:12.142553Z"
    }
   },
   "id": "9a9378cd2603cc5"
  },
  {
   "cell_type": "code",
   "execution_count": 66,
   "outputs": [],
   "source": [
    "files = glob.glob(\"results/*Pdefinition*.results.tsv\")\n",
    "res_df = load_results(files)"
   ],
   "metadata": {
    "collapsed": false,
    "ExecuteTime": {
     "end_time": "2024-05-26T00:42:13.153255Z",
     "start_time": "2024-05-26T00:42:12.618494Z"
    }
   },
   "id": "a7bc36d8d9635cdc"
  },
  {
   "cell_type": "code",
   "execution_count": 67,
   "outputs": [
    {
     "data": {
      "text/plain": "                                masked_id  \\\n0                        PignutHickoryNut   \n1                             GreekYogurt   \n2              TurkeyMeat_ground_sauteed_   \n3                                     Raw   \n4                        SpeltFoodProduct   \n..                                    ...   \n45                          DrySoilAlbedo   \n46     PediatricIntensiveCareUnitFacility   \n47                        NestOfAlligator   \n48  ConcentrationOfCarbon13AtomInSeaWater   \n49                                Hillock   \n\n                                           label ontology  \\\n0                             pignut hickory nut   foodon   \n1                                   greek yogurt   foodon   \n2                  turkey meat (ground, sauteed)   foodon   \n3                                            raw   foodon   \n4                             spelt food product   foodon   \n..                                           ...      ...   \n45                               dry soil albedo     envo   \n46        pediatric intensive care unit facility     envo   \n47                             nest of alligator     envo   \n48  concentration of carbon-13 atom in sea water     envo   \n49                                       hillock     envo   \n\n                                           definition     model_name  \\\n0   A caryopsis fruit of a pignut hickory tree (Ca...  gpt-3.5-turbo   \n1   Greek yogurt is a type of yogurt that is made ...  gpt-3.5-turbo   \n2   Ground sautéed turkey meat is a specific type ...  gpt-3.5-turbo   \n3                                                 NaN  gpt-3.5-turbo   \n4                                                 NaN  gpt-3.5-turbo   \n..                                                ...            ...   \n45  Soil albedo that specifically focuses on the r...  gpt-3.5-turbo   \n46  A specialized healthcare facility that provide...  gpt-3.5-turbo   \n47  A specific physical structure or location wher...  gpt-3.5-turbo   \n48  The concentration of carbon-13 atom when measu...  gpt-3.5-turbo   \n49  A hillock is a smaller, gently sloping landfor...  gpt-3.5-turbo   \n\n            method  \n0   RAG+background  \n1   RAG+background  \n2   RAG+background  \n3   RAG+background  \n4   RAG+background  \n..             ...  \n45  RAG+background  \n46  RAG+background  \n47  RAG+background  \n48  RAG+background  \n49  RAG+background  \n\n[3304 rows x 6 columns]",
      "text/html": "<div>\n<style scoped>\n    .dataframe tbody tr th:only-of-type {\n        vertical-align: middle;\n    }\n\n    .dataframe tbody tr th {\n        vertical-align: top;\n    }\n\n    .dataframe thead th {\n        text-align: right;\n    }\n</style>\n<table border=\"1\" class=\"dataframe\">\n  <thead>\n    <tr style=\"text-align: right;\">\n      <th></th>\n      <th>masked_id</th>\n      <th>label</th>\n      <th>ontology</th>\n      <th>definition</th>\n      <th>model_name</th>\n      <th>method</th>\n    </tr>\n  </thead>\n  <tbody>\n    <tr>\n      <th>0</th>\n      <td>PignutHickoryNut</td>\n      <td>pignut hickory nut</td>\n      <td>foodon</td>\n      <td>A caryopsis fruit of a pignut hickory tree (Ca...</td>\n      <td>gpt-3.5-turbo</td>\n      <td>RAG+background</td>\n    </tr>\n    <tr>\n      <th>1</th>\n      <td>GreekYogurt</td>\n      <td>greek yogurt</td>\n      <td>foodon</td>\n      <td>Greek yogurt is a type of yogurt that is made ...</td>\n      <td>gpt-3.5-turbo</td>\n      <td>RAG+background</td>\n    </tr>\n    <tr>\n      <th>2</th>\n      <td>TurkeyMeat_ground_sauteed_</td>\n      <td>turkey meat (ground, sauteed)</td>\n      <td>foodon</td>\n      <td>Ground sautéed turkey meat is a specific type ...</td>\n      <td>gpt-3.5-turbo</td>\n      <td>RAG+background</td>\n    </tr>\n    <tr>\n      <th>3</th>\n      <td>Raw</td>\n      <td>raw</td>\n      <td>foodon</td>\n      <td>NaN</td>\n      <td>gpt-3.5-turbo</td>\n      <td>RAG+background</td>\n    </tr>\n    <tr>\n      <th>4</th>\n      <td>SpeltFoodProduct</td>\n      <td>spelt food product</td>\n      <td>foodon</td>\n      <td>NaN</td>\n      <td>gpt-3.5-turbo</td>\n      <td>RAG+background</td>\n    </tr>\n    <tr>\n      <th>...</th>\n      <td>...</td>\n      <td>...</td>\n      <td>...</td>\n      <td>...</td>\n      <td>...</td>\n      <td>...</td>\n    </tr>\n    <tr>\n      <th>45</th>\n      <td>DrySoilAlbedo</td>\n      <td>dry soil albedo</td>\n      <td>envo</td>\n      <td>Soil albedo that specifically focuses on the r...</td>\n      <td>gpt-3.5-turbo</td>\n      <td>RAG+background</td>\n    </tr>\n    <tr>\n      <th>46</th>\n      <td>PediatricIntensiveCareUnitFacility</td>\n      <td>pediatric intensive care unit facility</td>\n      <td>envo</td>\n      <td>A specialized healthcare facility that provide...</td>\n      <td>gpt-3.5-turbo</td>\n      <td>RAG+background</td>\n    </tr>\n    <tr>\n      <th>47</th>\n      <td>NestOfAlligator</td>\n      <td>nest of alligator</td>\n      <td>envo</td>\n      <td>A specific physical structure or location wher...</td>\n      <td>gpt-3.5-turbo</td>\n      <td>RAG+background</td>\n    </tr>\n    <tr>\n      <th>48</th>\n      <td>ConcentrationOfCarbon13AtomInSeaWater</td>\n      <td>concentration of carbon-13 atom in sea water</td>\n      <td>envo</td>\n      <td>The concentration of carbon-13 atom when measu...</td>\n      <td>gpt-3.5-turbo</td>\n      <td>RAG+background</td>\n    </tr>\n    <tr>\n      <th>49</th>\n      <td>Hillock</td>\n      <td>hillock</td>\n      <td>envo</td>\n      <td>A hillock is a smaller, gently sloping landfor...</td>\n      <td>gpt-3.5-turbo</td>\n      <td>RAG+background</td>\n    </tr>\n  </tbody>\n</table>\n<p>3304 rows × 6 columns</p>\n</div>"
     },
     "execution_count": 67,
     "metadata": {},
     "output_type": "execute_result"
    }
   ],
   "source": [
    "res_df"
   ],
   "metadata": {
    "collapsed": false,
    "ExecuteTime": {
     "end_time": "2024-05-26T00:42:13.171994Z",
     "start_time": "2024-05-26T00:42:13.158764Z"
    }
   },
   "id": "5a779a3b49491eca"
  },
  {
   "cell_type": "code",
   "execution_count": 68,
   "outputs": [
    {
     "data": {
      "text/plain": "array(['foodon', 'go', 'cl', 'mondo', 'oba', 'obi', 'hp', 'envo',\n       'uberon', 'mp'], dtype=object)"
     },
     "execution_count": 68,
     "metadata": {},
     "output_type": "execute_result"
    }
   ],
   "source": [
    "res_df[\"ontology\"].unique()"
   ],
   "metadata": {
    "collapsed": false,
    "ExecuteTime": {
     "end_time": "2024-05-26T00:42:13.945929Z",
     "start_time": "2024-05-26T00:42:13.751604Z"
    }
   },
   "id": "84fcf408e6eca8cd"
  },
  {
   "cell_type": "code",
   "execution_count": 69,
   "outputs": [
    {
     "data": {
      "text/plain": "array(['RAG+background', 'curator', 'RAG', 'RAG+github', 'RAG+devdocs'],\n      dtype=object)"
     },
     "execution_count": 69,
     "metadata": {},
     "output_type": "execute_result"
    }
   ],
   "source": [
    "res_df[\"method\"].unique()"
   ],
   "metadata": {
    "collapsed": false,
    "ExecuteTime": {
     "end_time": "2024-05-26T00:42:14.600807Z",
     "start_time": "2024-05-26T00:42:14.503129Z"
    }
   },
   "id": "e35c9e7fc52ff158"
  },
  {
   "cell_type": "code",
   "execution_count": 70,
   "outputs": [
    {
     "data": {
      "text/plain": "array(['gpt-3.5-turbo', 'human', 'gpt-4', 'nous-hermes-13b'], dtype=object)"
     },
     "execution_count": 70,
     "metadata": {},
     "output_type": "execute_result"
    }
   ],
   "source": [
    "res_df[\"model_name\"].unique()"
   ],
   "metadata": {
    "collapsed": false,
    "ExecuteTime": {
     "end_time": "2024-05-26T00:42:15.243494Z",
     "start_time": "2024-05-26T00:42:15.196784Z"
    }
   },
   "id": "bd67de048ef7bc0"
  },
  {
   "cell_type": "code",
   "execution_count": 71,
   "outputs": [],
   "source": [
    "res_df.to_csv(\"definitions-sheets/combined-definitions.csv\", index=False)"
   ],
   "metadata": {
    "collapsed": false,
    "ExecuteTime": {
     "end_time": "2024-05-26T00:42:16.006522Z",
     "start_time": "2024-05-26T00:42:15.965437Z"
    }
   },
   "id": "1ecb1f8b7c94df6a"
  },
  {
   "cell_type": "code",
   "execution_count": null,
   "outputs": [],
   "source": [],
   "metadata": {
    "collapsed": false
   },
   "id": "7dd250eb8b66a0be"
  }
 ],
 "metadata": {
  "kernelspec": {
   "display_name": "Python 3 (ipykernel)",
   "language": "python",
   "name": "python3"
  },
  "language_info": {
   "codemirror_mode": {
    "name": "ipython",
    "version": 3
   },
   "file_extension": ".py",
   "mimetype": "text/x-python",
   "name": "python",
   "nbconvert_exporter": "python",
   "pygments_lexer": "ipython3",
   "version": "3.10.9"
  }
 },
 "nbformat": 4,
 "nbformat_minor": 5
}
