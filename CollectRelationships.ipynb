{
 "cells": [
  {
   "cell_type": "markdown",
   "id": "5625b72b-605d-4a48-b0ff-a308466a8b69",
   "metadata": {},
   "source": [
    "# DRAGON relationships pre-processing\n",
    "\n",
    "See [Makefile](Makefile) for how the results were generated"
   ]
  },
  {
   "cell_type": "code",
   "execution_count": 341,
   "outputs": [],
   "source": [],
   "metadata": {
    "collapsed": false,
    "ExecuteTime": {
     "end_time": "2023-10-22T19:29:51.876633Z",
     "start_time": "2023-10-22T19:29:51.395508Z"
    }
   },
   "id": "7deb126217dea271"
  },
  {
   "cell_type": "code",
   "execution_count": 342,
   "id": "9433a0e3-29a6-4af8-bb13-fec4e0aac6a5",
   "metadata": {
    "ExecuteTime": {
     "end_time": "2023-10-22T19:29:51.964568Z",
     "start_time": "2023-10-22T19:29:51.397015Z"
    }
   },
   "outputs": [],
   "source": [
    "# initial imports\n",
    "import warnings\n",
    "warnings.filterwarnings('ignore', category=FutureWarning)\n",
    "\n",
    "import pandas as pd\n",
    "\n",
    "import matplotlib.pyplot as plt\n",
    "import seaborn as sns\n",
    "from oaklib import get_adapter\n",
    "\n",
    "from typing import List, Dict\n",
    "\n",
    "import yaml\n",
    "import glob"
   ]
  },
  {
   "cell_type": "code",
   "execution_count": 343,
   "outputs": [],
   "source": [
    "def connect(ont: str) -> pd.DataFrame:\n",
    "    \"\"\"\n",
    "    Connect to an ontology via OAK/sqlite\n",
    "    \n",
    "    Assumes already in db folder\n",
    "    :param ont: \n",
    "    :return: \n",
    "    \"\"\"\n",
    "    return get_adapter(f\"downloads/{ont}.db\")\n"
   ],
   "metadata": {
    "collapsed": false,
    "ExecuteTime": {
     "end_time": "2023-10-22T19:29:51.979620Z",
     "start_time": "2023-10-22T19:29:51.401114Z"
    }
   },
   "id": "b5e8766fe9cbdfa3"
  },
  {
   "cell_type": "code",
   "execution_count": 344,
   "outputs": [
    {
     "data": {
      "text/plain": "16012"
     },
     "execution_count": 344,
     "metadata": {},
     "output_type": "execute_result"
    }
   ],
   "source": [
    "from linkml_runtime.utils.formatutils import camelcase\n",
    "from collections import defaultdict\n",
    "from functools import lru_cache\n",
    "\n",
    "\n",
    "@lru_cache\n",
    "def labels2ids(ont: str) -> Dict[str, List[str]]:\n",
    "    \"\"\"\n",
    "    Get a map of labels to ids for an ontology\n",
    "    \n",
    "    :param ont: \n",
    "    :return: \n",
    "    \"\"\"\n",
    "    m = defaultdict(list)\n",
    "    adapter = connect(ont)\n",
    "    for id, lbl in adapter.labels(list(adapter.entities())):\n",
    "        if not lbl:\n",
    "            continue\n",
    "        lbl = camelcase(lbl)\n",
    "        m[lbl].append(id)\n",
    "    return m\n",
    "\n",
    "cl_map = labels2ids(\"cl\")\n",
    "len(cl_map)"
   ],
   "metadata": {
    "collapsed": false,
    "ExecuteTime": {
     "end_time": "2023-10-22T19:29:53.619861Z",
     "start_time": "2023-10-22T19:29:51.426359Z"
    }
   },
   "id": "1845dae6692b6afd"
  },
  {
   "cell_type": "code",
   "execution_count": 345,
   "outputs": [],
   "source": [
    "def revmap(m: Dict[str, List[str]]) -> Dict[str, str]:\n",
    "    \"\"\"\n",
    "    Reverse a one to many map into a one to one map\n",
    "    \n",
    "    :param m: \n",
    "    :return: \n",
    "    \"\"\"\n",
    "    r = {}\n",
    "    for k, v in m.items():\n",
    "        for x in v:\n",
    "            r[x] = k\n",
    "    return r"
   ],
   "metadata": {
    "collapsed": false,
    "ExecuteTime": {
     "end_time": "2023-10-22T19:29:53.622524Z",
     "start_time": "2023-10-22T19:29:53.620284Z"
    }
   },
   "id": "b96ced49e77ad940"
  },
  {
   "cell_type": "code",
   "execution_count": 346,
   "outputs": [],
   "source": [
    "from copy import copy\n",
    "from pydantic import BaseModel\n",
    "\n",
    "\n",
    "class Outcome(BaseModel):\n",
    "    \"\"\"\n",
    "    Model the outcome of the prediction for a particular term\n",
    "    \n",
    "    \"\"\"\n",
    "    tp: int = 0\n",
    "    fp: int = 0\n",
    "    fn: float = 0\n",
    "    other: List[str] = []\n",
    "    \n",
    "    tp_list: List = []\n",
    "    fp_list: List = []\n",
    "    fn_list: List = []\n",
    "    \n",
    "    new_terms: List[str] = []\n",
    "    \n",
    "    def matches(self, other: 'Outcome') -> bool:\n",
    "        return self.tp == other.tp and self.fp == other.fp and self.fn == other.fn and self.other == other.other"
   ],
   "metadata": {
    "collapsed": false,
    "ExecuteTime": {
     "end_time": "2023-10-22T19:29:53.639973Z",
     "start_time": "2023-10-22T19:29:53.625169Z"
    }
   },
   "id": "f8c0d6fe518abc5d"
  },
  {
   "cell_type": "code",
   "execution_count": 373,
   "outputs": [
    {
     "name": "stdout",
     "output_type": "stream",
     "text": [
      "MISSING: MadeUpRel\n",
      "tp=2 fp=0 fn=2.5 other=[\"PartOf MoreGeneralThan ['Brain'] Cerebellum\"] tp_list=[('OnlyInTaxon', 'HomoSapiens'), ('subClassOf', 'Neuron')] fp_list=[] fn_list=[('DevelopsFrom', 'StemCell'), ('subClassOf', 'Cell')] new_terms=['MadeUp']\n"
     ]
    }
   ],
   "source": [
    "from oaklib.interfaces import OboGraphInterface\n",
    "from oaklib.datamodels.vocabulary import IS_A\n",
    "from oaklib.utilities.obograph_utils import graph_to_image, default_stylemap_path\n",
    "\n",
    "def score_rels(expected_rels, predicted_rels, ont, term_id:str=None, strict=False, base=\"default\", ignore_ungrounded=True) -> Outcome:\n",
    "    outcome = Outcome()\n",
    "    labelmap = labels2ids(ont)\n",
    "    idmap = revmap(labelmap)\n",
    "    new_terms = set()\n",
    "    adapter = get_adapter(f\"sqlite:obo:{ont}\")\n",
    "    if not isinstance(adapter, OboGraphInterface):\n",
    "        raise Exception(f\"Only OboGraphInterface supported\")\n",
    "    all_preds = set(expected_rels.keys()).union(set(predicted_rels.keys()))\n",
    "    all_predicted_tgts = set()\n",
    "    for pred in all_preds:\n",
    "        if pred.lower() == 'subclassof':\n",
    "            preds = [IS_A]\n",
    "        else:\n",
    "            pred_ids = labelmap.get(pred)\n",
    "            if not pred_ids:\n",
    "                pred_ids = [ids[0] for lbl, ids in labelmap.items() if pred.lower() == lbl.lower()]\n",
    "            if not pred_ids:\n",
    "                print(f\"MISSING: {pred}\")\n",
    "                continue\n",
    "                preds = [IS_A]\n",
    "            else:\n",
    "                preds = [IS_A, *pred_ids]\n",
    "        preds = list(set(preds))\n",
    "        def lbl2id(lbl):\n",
    "            return labelmap.get(lbl, [lbl])\n",
    "        expected_tgts = {x: lbl2id(x) for x in expected_rels.get(pred, [])}\n",
    "        predicted_tgts = {x: lbl2id(x) for x in predicted_rels.get(pred, [])}\n",
    "        for xs in predicted_tgts.values():\n",
    "            all_predicted_tgts.update(xs)\n",
    "        new_terms.update({x for x in predicted_tgts.keys() if x not in labelmap})\n",
    "        #print(f\"PRED: {pred} // predicted= {predicted_tgts} // expected= {expected_tgts}\")\n",
    "        \n",
    "        predicted_accounted_for = set()\n",
    "        expected_accounted_for = set()\n",
    "        for expected_tgt in expected_tgts:\n",
    "            if expected_tgt in predicted_tgts:\n",
    "                #print(f\"TP: {pred} {expected_tgt}\")\n",
    "                outcome.tp += 1\n",
    "                outcome.tp_list.append((pred, expected_tgt))\n",
    "                predicted_accounted_for.add(expected_tgt)\n",
    "                expected_accounted_for.add(expected_tgt)\n",
    "            else:\n",
    "                ok = False\n",
    "                for expected_tgt_id in expected_tgts.get(expected_tgt, []):\n",
    "                    ancs = adapter.ancestors(expected_tgt_id, preds)\n",
    "                    ancs_as_lbls = [idmap.get(x,x) for x in ancs]\n",
    "                    more_general_predictions = [x for x in ancs_as_lbls if x in predicted_tgts]\n",
    "                    if more_general_predictions:\n",
    "                        #print(f\"n/a PREDICTED_IS_MORE_GENERAL: {pred} {expected_tgt} // more_general_preds: {more_general_predictions}\")\n",
    "                        predicted_accounted_for.update(more_general_predictions)\n",
    "                        expected_accounted_for.add(expected_tgt)\n",
    "                        if strict:\n",
    "                           outcome.fn += 1\n",
    "                           outcome.fn_list.append((pred, expected_tgt))\n",
    "                        else:\n",
    "                            outcome.fn += 0.5\n",
    "                            outcome.other.append(f\"{pred} MoreGeneralThan {more_general_predictions} {expected_tgt}\")\n",
    "                        ok = True\n",
    "                        break\n",
    "        for predicted_tgt in predicted_tgts:\n",
    "            if predicted_tgt in predicted_accounted_for:\n",
    "                continue\n",
    "            if ignore_ungrounded and predicted_tgt not in labelmap:\n",
    "                continue\n",
    "            if term_id:\n",
    "                ancs = adapter.ancestors(term_id, preds)\n",
    "                ancs_as_lbls = [idmap.get(x, x) for x in ancs]\n",
    "                #print(f\"CHECKING {term_id} {pred} {predicted_tgt} // ancs: {ancs_as_lbls}\")\n",
    "                if predicted_tgt in ancs_as_lbls:\n",
    "                    outcome.tp += 1\n",
    "                    outcome.tp_list.append((pred, predicted_tgt))\n",
    "                    continue\n",
    "            ok = False\n",
    "            for predicted_tgt_id in predicted_tgts.get(predicted_tgt, []):\n",
    "                ancs = adapter.ancestors(predicted_tgt_id, preds)\n",
    "                ancs_as_lbls = [idmap.get(x, x) for x in ancs]\n",
    "                #print(pred, predicted_tgt_id, ancs_as_lbls)\n",
    "                more_general_expected = [x for x in ancs_as_lbls if x in expected_tgts]\n",
    "                if more_general_expected:\n",
    "                    #print(f\"?? PREDICTED_IS_MORE_SPECIFIC: {pred} {expected_tgt} // more_general_expected: {more_general_expected}\")\n",
    "                    expected_accounted_for.update(more_general_expected)\n",
    "                    if strict:\n",
    "                        outcome.fp += 1\n",
    "                        outcome.fp_list.append((pred, predicted_tgt))\n",
    "                    else:\n",
    "                        outcome.other.append(f\"{pred} MoreSpecificThan {predicted_tgt} {more_general_expected}\")\n",
    "                    ok = True\n",
    "                    break\n",
    "            if not ok:\n",
    "                #print(f\"FP: {pred} {predicted_tgt}\")\n",
    "                outcome.fp += 1\n",
    "                outcome.fp_list.append((pred, predicted_tgt))\n",
    "        for expected_tgt in expected_tgts:\n",
    "            if expected_tgt in expected_accounted_for:\n",
    "                continue\n",
    "            #print(f\"FN: {pred} {expected_tgt}\")\n",
    "            outcome.fn += 1\n",
    "            outcome.fn_list.append((pred, expected_tgt))\n",
    "    outcome.new_terms = list(new_terms)\n",
    "    if term_id:\n",
    "        seed = [term_id] + list(all_predicted_tgts)\n",
    "        #print(seed)\n",
    "        pred_ids = [IS_A]\n",
    "        for pred_name in all_preds:\n",
    "            next_pred_ids = labelmap.get(pred_name, [])\n",
    "            pred_ids.extend(next_pred_ids)\n",
    "        pred_ids = list(set(pred_ids))\n",
    "        graph = adapter.ancestor_graph(seed, pred_ids)\n",
    "        name = f\"term-{term_id}\"\n",
    "        dirn = Path(\"terms\") / base\n",
    "        dirn.mkdir(exist_ok=True)\n",
    "        imgfile = f\"{name}.png\"\n",
    "        graph_to_image(\n",
    "            graph,\n",
    "            seeds=seed,\n",
    "            stylemap=default_stylemap_path(),\n",
    "            #configure=configure,\n",
    "            imgfile=str(dirn / imgfile),\n",
    "            #view=view,\n",
    "            format=\"png\",\n",
    "        )\n",
    "        mdfile = str(dirn / f\"{name}.md\")\n",
    "        with open(mdfile, 'w') as outf:\n",
    "            outf.write(f\"## {term_id}: {adapter.label(term_id)} ({base})\\n\\n\")\n",
    "            outf.write(f\"Outcome: tp: {outcome.tp} fp: {outcome.fp} fn: {outcome.fn}\\n\\n\")\n",
    "            outf.write(f\"### True Positives\\n\")\n",
    "            for pred, tgt in outcome.tp_list:\n",
    "                outf.write(f\"* {pred} {tgt}\\n\")\n",
    "            outf.write(f\"### False Positives\\n\")\n",
    "            for pred, tgt in outcome.fp_list:\n",
    "                outf.write(f\"* {pred} {tgt}\\n\")\n",
    "            outf.write(f\"### False Negatives\\n\")\n",
    "            for pred, tgt in outcome.fn_list:\n",
    "                outf.write(f\"* {pred} {tgt}\\n\")\n",
    "            outf.write(f\"### Other\\n\")\n",
    "            for x in outcome.other:\n",
    "                outf.write(f\"* {x}\\n\")\n",
    "            outf.write(f\"### Predicted terms\\n\")\n",
    "            for pred, tgts in predicted_rels.items():\n",
    "                outf.write(f\"* {pred}: {tgts}\\n\")\n",
    "            outf.write(f\"### Expected terms\\n\")\n",
    "            for pred, tgts in expected_rels.items():\n",
    "                outf.write(f\"* {pred}: {tgts}\\n\")\n",
    "            outf.write(f\"### New terms\\n\")\n",
    "            for term in new_terms:\n",
    "                outf.write(f\"* {term}\\n\")\n",
    "            outf.write(f\"### Graph\\n\")\n",
    "            outf.write(f\"![{term_id}]({imgfile})\\n\")\n",
    "    return outcome\n",
    "                \n",
    "outcome = score_rels({\"subClassOf\": [\"Cell\"], \"PartOf\": [\"Cerebellum\"], \"DevelopsFrom\": [\"StemCell\"], \"OnlyInTaxon\": [\"HomoSapiens\"]}, {\"subClassOf\": [\"Neuron\"], \"PartOf\": [\"Brain\", \"MadeUp\"], \"MadeUpRel\": [\"z\", \"y\"], \"OnlyInTaxon\": [\"HomoSapiens\"]}, \"cl\", term_id=\"CL:0000540\")\n",
    "print(outcome) \n",
    "assert outcome.tp == 2\n",
    "assert outcome.fp == 0\n",
    "assert outcome.fn == 2.5\n",
    "assert len(outcome.other) == 1"
   ],
   "metadata": {
    "collapsed": false,
    "ExecuteTime": {
     "end_time": "2023-10-23T01:16:54.007756Z",
     "start_time": "2023-10-23T01:16:52.731240Z"
    }
   },
   "id": "7c2fe0c0a9be417d"
  },
  {
   "cell_type": "code",
   "execution_count": 374,
   "outputs": [],
   "source": [
    "outcome = score_rels({\"subClassOf\": [\"DentalPulpStemCell\"]}, {\"PartOf\": [\"DentalPulp\"]}, \"cl\", term_id=\"CL:4030035\")\n",
    "outcome\n",
    "assert outcome.tp == 1\n",
    "assert outcome.fp == 0\n",
    "assert outcome.fn == 1"
   ],
   "metadata": {
    "collapsed": false,
    "ExecuteTime": {
     "end_time": "2023-10-23T01:16:54.793656Z",
     "start_time": "2023-10-23T01:16:53.994432Z"
    }
   },
   "id": "53b7ef58442b6f62"
  },
  {
   "cell_type": "code",
   "execution_count": 375,
   "outputs": [],
   "source": [
    "assert score_rels({\"subClassOf\": [\"MadeUp\"]}, {}, \"cl\").matches(Outcome(tp=0, fp=0, fn=1))"
   ],
   "metadata": {
    "collapsed": false,
    "ExecuteTime": {
     "end_time": "2023-10-23T01:16:54.793871Z",
     "start_time": "2023-10-23T01:16:54.754590Z"
    }
   },
   "id": "d1f5a6287be0e441"
  },
  {
   "cell_type": "code",
   "execution_count": 376,
   "outputs": [],
   "source": [
    "assert score_rels({}, {}, \"cl\").matches(Outcome(tp=0, fp=0, fn=0))"
   ],
   "metadata": {
    "collapsed": false,
    "ExecuteTime": {
     "end_time": "2023-10-23T01:16:54.793923Z",
     "start_time": "2023-10-23T01:16:54.766802Z"
    }
   },
   "id": "e1b73a3d5e0aac44"
  },
  {
   "cell_type": "code",
   "execution_count": 377,
   "outputs": [],
   "source": [
    "assert score_rels({\"subClassOf\": [\"Cell\"]}, {}, \"cl\").matches(Outcome(tp=0, fp=0, fn=1, other=[]))"
   ],
   "metadata": {
    "collapsed": false,
    "ExecuteTime": {
     "end_time": "2023-10-23T01:16:55.247132Z",
     "start_time": "2023-10-23T01:16:55.224363Z"
    }
   },
   "id": "b4ea58560514bf78"
  },
  {
   "cell_type": "code",
   "execution_count": 378,
   "outputs": [],
   "source": [
    "assert score_rels({}, {\"subClassOf\": [\"Cell\"]}, \"cl\") .matches(Outcome(tp=0, fp=1, fn=0))"
   ],
   "metadata": {
    "collapsed": false,
    "ExecuteTime": {
     "end_time": "2023-10-23T01:16:55.861608Z",
     "start_time": "2023-10-23T01:16:55.835816Z"
    }
   },
   "id": "2b767e724dcca6be"
  },
  {
   "cell_type": "code",
   "execution_count": 379,
   "outputs": [],
   "source": [
    "assert score_rels({\"subClassOf\": [\"Cell\"]}, {\"subClassOf\": [\"Cell\"]}, \"cl\").matches(Outcome(tp=1, fp=0, fn=0))"
   ],
   "metadata": {
    "collapsed": false,
    "ExecuteTime": {
     "end_time": "2023-10-23T01:16:56.386680Z",
     "start_time": "2023-10-23T01:16:56.367249Z"
    }
   },
   "id": "cf60aec1af32cbea"
  },
  {
   "cell_type": "code",
   "execution_count": 380,
   "outputs": [],
   "source": [
    "outcome = score_rels({\"subClassOf\": [\"Cell\"]}, {\"subClassOf\": [\"Neuron\"]}, \"cl\")\n",
    "assert outcome.tp == 0\n",
    "assert outcome.fp == 0\n",
    "assert outcome.fn == 0\n",
    "assert len(outcome.other) == 1"
   ],
   "metadata": {
    "collapsed": false,
    "ExecuteTime": {
     "end_time": "2023-10-23T01:16:57.197456Z",
     "start_time": "2023-10-23T01:16:57.176979Z"
    }
   },
   "id": "99bfe795848bf9b6"
  },
  {
   "cell_type": "code",
   "execution_count": 381,
   "outputs": [
    {
     "name": "stdout",
     "output_type": "stream",
     "text": [
      "tp=0 fp=0 fn=0.5 other=[\"subClassOf MoreGeneralThan ['Cell'] Neuron\"] tp_list=[] fp_list=[] fn_list=[] new_terms=[]\n"
     ]
    }
   ],
   "source": [
    "outcome = score_rels({\"subClassOf\": [\"Neuron\"]}, {\"subClassOf\": [\"Cell\"]}, \"cl\")\n",
    "print(outcome)\n",
    "assert outcome.tp == 0\n",
    "assert outcome.fp == 0\n",
    "assert outcome.fn == 0.5\n",
    "assert len(outcome.other) == 1"
   ],
   "metadata": {
    "collapsed": false,
    "ExecuteTime": {
     "end_time": "2023-10-23T01:17:00.541928Z",
     "start_time": "2023-10-23T01:17:00.514868Z"
    }
   },
   "id": "5fc92934d896d4c6"
  },
  {
   "cell_type": "code",
   "execution_count": 382,
   "outputs": [],
   "source": [
    "assert score_rels({\"subClassOf\": [\"Neuron\"]}, {\"subClassOf\": [\"StemCell\"]}, \"cl\").matches(Outcome(tp=0, fp=1, fn=1))\n"
   ],
   "metadata": {
    "collapsed": false,
    "ExecuteTime": {
     "end_time": "2023-10-23T01:17:02.096441Z",
     "start_time": "2023-10-23T01:17:02.071821Z"
    }
   },
   "id": "febb464d193aefdd"
  },
  {
   "cell_type": "code",
   "execution_count": 382,
   "outputs": [],
   "source": [],
   "metadata": {
    "collapsed": false,
    "ExecuteTime": {
     "end_time": "2023-10-23T01:17:16.107056Z",
     "start_time": "2023-10-23T01:17:16.072742Z"
    }
   },
   "id": "f3dba8ccce61fb73"
  },
  {
   "cell_type": "code",
   "execution_count": 383,
   "outputs": [],
   "source": [
    "def parse_relationships(rel_str: str) -> Dict[str, List[str]]:\n",
    "    if pd.isnull(rel_str):\n",
    "        return {}\n",
    "    if not isinstance(rel_str, str):\n",
    "        print(f\"BAD: {rel_str}\")\n",
    "        return {}\n",
    "    rels = yaml.safe_load(rel_str)\n",
    "    m = defaultdict(list)\n",
    "    for rel in rels:\n",
    "        if \"predicate\" not in rel or \"target\" not in rel:\n",
    "            print(f\"BAD REL: {rel} in {rel_str}\")\n",
    "            continue\n",
    "        if not isinstance(rel[\"target\"], str):\n",
    "            print(f\"BAD REL: {rel} in {rel_str}\")\n",
    "            continue\n",
    "        m[rel[\"predicate\"]].append(rel[\"target\"])\n",
    "    return m"
   ],
   "metadata": {
    "collapsed": false,
    "ExecuteTime": {
     "end_time": "2023-10-23T01:17:16.847189Z",
     "start_time": "2023-10-23T01:17:16.818511Z"
    }
   },
   "id": "5a4de5dffccd121a"
  },
  {
   "cell_type": "code",
   "execution_count": 387,
   "outputs": [],
   "source": [
    "def load_relationships_results_tsv(f: str, ont: str, preds: List=None, strict=False, method=\"no_method\"):\n",
    "    #adapter = get_adapter(f\"sqlite:obo:{ont}\")\n",
    "    res = pd.read_csv(f, comment=\"#\", sep=\"\\t\")\n",
    "    rows = []\n",
    "    for _, row in res.iterrows():\n",
    "        expected_rels = parse_relationships(row['expected_relationships'])\n",
    "        predicted_rels = parse_relationships(row['predicted_relationships'])\n",
    "        term_id = row[\"masked_original_id\"]\n",
    "        if preds:\n",
    "            expected_rels = {k: v for k, v in expected_rels.items() if k in preds}\n",
    "            predicted_rels = {k: v for k, v in predicted_rels.items() if k in preds}\n",
    "            base = f\"{method}-{'+'.join(preds)}\"\n",
    "        else:\n",
    "            base = method\n",
    "        #print(f\"Scoring: {expected_rels} // {predicted_rels}\")\n",
    "        outcome = score_rels(expected_rels, predicted_rels, ont, term_id=term_id, strict=strict, base=base, ignore_ungrounded=True)\n",
    "        if outcome.other:\n",
    "            print(f\"Other: {outcome}\")\n",
    "        outcome = outcome.model_dump()\n",
    "        #outcome[\"expected_relationships\"] = json.dumps(expected_rels)\n",
    "        #outcome[\"predicted_relationships\"] = json.dumps(predicted_rels)\n",
    "        outcome = {\"ontology\": ont, \n",
    "                   \"preds\": \",\".join(preds) if preds else \"all\",\n",
    "                   **outcome, **row.to_dict()}\n",
    "        rows.append(outcome)\n",
    "    return rows\n",
    "\n",
    "#rows = load_relationships_results_tsv(\"results/ont_cl-Prelationships-Mid.original_id-BGFalse-TrNone-Te50-Mgpt-4-EMopenai.results.tsv\", \"cl\", strict=False, method=\"RAG+gpt4\")\n",
    "#df = pd.DataFrame(rows)\n",
    "#df.to_csv(\"foo.tsv\", sep=\"\\t\")\n",
    "#df"
   ],
   "metadata": {
    "collapsed": false,
    "ExecuteTime": {
     "end_time": "2023-10-23T01:19:36.874467Z",
     "start_time": "2023-10-23T01:19:36.831192Z"
    }
   },
   "id": "bfe25072d703377a"
  },
  {
   "cell_type": "code",
   "execution_count": 388,
   "outputs": [],
   "source": [
    "#rows = load_relationships_results_tsv(\"results/ont_cl-Prelationships-Mid.original_id-BGFalse-TrNone-Te50-Mgpt-4-EMopenai.results.tsv\", \"cl\", preds=[\"subClassOf\"])\n",
    "#df = pd.DataFrame(rows)\n",
    "#df"
   ],
   "metadata": {
    "collapsed": false,
    "ExecuteTime": {
     "end_time": "2023-10-23T01:19:40.836303Z",
     "start_time": "2023-10-23T01:19:40.796098Z"
    }
   },
   "id": "8ad97e7b7a17f357"
  },
  {
   "cell_type": "code",
   "execution_count": 389,
   "outputs": [],
   "source": [
    "def get_method(obj: dict) -> str:\n",
    "    \"\"\"\n",
    "    gets the method from the yaml object\n",
    "    \"\"\"\n",
    "    if obj.get(\"generate_background\"):\n",
    "        return \"RAG+background\"\n",
    "    additional = obj.get(\"additional_collections\", [])\n",
    "    if additional:\n",
    "        assert len(additional) == 1\n",
    "        x = additional[0]\n",
    "        if x.startswith(\"gh_\"):\n",
    "            return \"RAG+github\"\n",
    "        elif x.startswith(\"devdocs\"):\n",
    "            return \"RAG+devdocs\"\n",
    "        else:\n",
    "            assert False\n",
    "    else:\n",
    "        return \"RAG\""
   ],
   "metadata": {
    "collapsed": false,
    "ExecuteTime": {
     "end_time": "2023-10-23T01:19:41.396582Z",
     "start_time": "2023-10-23T01:19:41.364681Z"
    }
   },
   "id": "9a40fa1a2ee7681b"
  },
  {
   "cell_type": "code",
   "execution_count": 390,
   "outputs": [],
   "source": [
    "import re\n",
    "\n",
    "def load_all_results(preds=None):\n",
    "    files = glob.glob(\"results/*.results.yaml\")\n",
    "    rows = []\n",
    "    for f in files:\n",
    "        print(f)\n",
    "        obj = yaml.safe_load(open(f))\n",
    "        if \"Prelationships\" not in f:\n",
    "            continue\n",
    "        # look for string '/ont_{ONT}-Prelationships' using regex\n",
    "        m = re.search(r\"ont_(\\w+)-Prelationships\", f)\n",
    "        assert m\n",
    "        meth = get_method(obj) + \"-\" + obj[\"model_name\"]\n",
    "        print(f, meth)\n",
    "        ont = m.group(1)\n",
    "        this_rows = load_relationships_results_tsv(f.replace(\".yaml\", \".tsv\"), ont, preds, strict=False, method=meth)\n",
    "        for row in this_rows:\n",
    "            row = {**obj, **row}\n",
    "            row[\"method\"] = meth\n",
    "            rows.append(row)\n",
    "        #rows.extend(this_rows)\n",
    "        \n",
    "    return pd.DataFrame(rows)\n"
   ],
   "metadata": {
    "collapsed": false,
    "ExecuteTime": {
     "end_time": "2023-10-23T01:19:42.499507Z",
     "start_time": "2023-10-23T01:19:42.465492Z"
    }
   },
   "id": "9c91705ac4b81742"
  },
  {
   "cell_type": "code",
   "execution_count": 391,
   "outputs": [
    {
     "name": "stdout",
     "output_type": "stream",
     "text": [
      "results/ont_oba-Plabel-Mid.original_id-BGFalse-TrNone-Te50-Mgpt-3.5-turbo-EMopenai.results.yaml\n",
      "results/ont_cl-Pdefinition-Mid.original_id-BGTrue-TrNone-Te50-Mgpt-4-EMopenai.results.yaml\n",
      "results/ont_go-Plabel-Mid.original_id-BGTrue-TrNone-Te50-Mgpt-4-EMopenai.results.yaml\n",
      "results/ont_uberon-Plabel-Mid.original_id-BGFalse-TrNone-Te40-Mgpt-4-EMopenai.results.yaml\n",
      "results/ont_mondo-Plabel-Mid.original_id-BGTrue-TrNone-Te50-Mgpt-3.5-turbo-EMopenai.results.yaml\n",
      "results/ont_go-Prelationships-Mid.original_id-BGTrue-TrNone-Te50-Mgpt-4-EMopenai.results.yaml\n",
      "results/ont_go-Prelationships-Mid.original_id-BGTrue-TrNone-Te50-Mgpt-4-EMopenai.results.yaml RAG+background-gpt-4\n",
      "Other: tp=1 fp=0 fn=0.5 other=[\"subClassOf MoreGeneralThan ['Detoxification'] DetoxificationOfInorganicCompound\"] tp_list=[('HasPrimaryInput', 'AluminiumCation')] fp_list=[] fn_list=[] new_terms=[]\n",
      "Other: tp=0 fp=0 fn=0.5 other=[\"subClassOf MoreGeneralThan ['RetrotransposonSilencing'] RetrotransposonSilencingByMRNADestabilization\"] tp_list=[] fp_list=[] fn_list=[] new_terms=['mRNADestabilization']\n",
      "Other: tp=0 fp=0 fn=0 other=[\"subClassOf MoreSpecificThan DisruptionOfCellularAnatomicalStructureInAnotherOrganism ['DisruptionOfAnatomicalStructureInAnotherOrganism']\"] tp_list=[] fp_list=[] fn_list=[] new_terms=[]\n",
      "MISSING: HasProduct\n",
      "Other: tp=0 fp=0 fn=2.5 other=[\"subClassOf MoreGeneralThan ['OxidoreductaseActivity'] DisulfideOxidoreductaseActivity\"] tp_list=[] fp_list=[] fn_list=[('subClassOf', 'OxidoreductaseActivity_actingOnASulfurGroupOfDonors_disulfideAsAcceptor'), ('subClassOf', 'CatalyticActivity_actingOnAProtein')] new_terms=['glutathione (GSH)', 'glutathionylated protein (PSSG)']\n",
      "Other: tp=1 fp=0 fn=0.5 other=[\"subClassOf MoreGeneralThan ['CellularProcessInvolvedInReproductionInMulticellularOrganism', 'EpigeneticRegulationOfGeneExpression'] GenomicImprinting\"] tp_list=[('PartOf', 'GermCellDevelopment')] fp_list=[] fn_list=[] new_terms=[]\n",
      "Other: tp=0 fp=0 fn=0 other=[\"subClassOf MoreSpecificThan ProteinTagActivity ['MolecularTagActivity']\"] tp_list=[] fp_list=[] fn_list=[] new_terms=[]\n",
      "Other: tp=1 fp=0 fn=0.5 other=[\"subClassOf MoreGeneralThan ['CellularHomeostasis'] IntracellularChemicalHomeostasis\"] tp_list=[('RegulatesLevelsOf', 'Nucleoside')] fp_list=[] fn_list=[] new_terms=[]\n",
      "Other: tp=1 fp=0 fn=0.5 other=[\"subClassOf MoreGeneralThan ['CellularHomeostasis'] IntracellularChemicalHomeostasis\"] tp_list=[('RegulatesLevelsOf', 'NitrogenAtom')] fp_list=[] fn_list=[] new_terms=[]\n",
      "Other: tp=2 fp=0 fn=0.5 other=[\"subClassOf MoreGeneralThan ['Membrane'] EndosomeMembrane\"] tp_list=[('PartOf', 'Macropinosome'), ('BoundingLayerOf', 'Macropinosome')] fp_list=[] fn_list=[] new_terms=[]\n",
      "Other: tp=0 fp=0 fn=0.5 other=[\"subClassOf MoreGeneralThan ['UbiquitinProteinLigaseActivity', 'HistoneModifyingActivity'] HistoneUbiquitinLigaseActivity\"] tp_list=[] fp_list=[] fn_list=[] new_terms=[]\n",
      "Other: tp=2 fp=0 fn=0.5 other=[\"subClassOf MoreGeneralThan ['PositiveRegulationOfSignalTransduction'] PositiveRegulationOfPatternRecognitionReceptorSignalingPathway\"] tp_list=[('subClassOf', 'RegulationOfInflammasomeMediatedSignalingPathway'), ('PositivelyRegulates', 'InflammasomeMediatedSignalingPathway')] fp_list=[] fn_list=[] new_terms=['InflammasomeMediatedSignalingPathway', 'RegulationOfInflammasomeMediatedSignalingPathway']\n",
      "Other: tp=0 fp=3 fn=0.5 other=[\"subClassOf MoreGeneralThan ['PhosphataseActivity'] RNAPolymeraseIICTDHeptapeptideRepeatPhosphataseActivity\"] tp_list=[] fp_list=[('CapableOf', 'Dephosphorylation'), ('HasParticipant', 'Hydron'), ('HasParticipant', 'Phosphate')] fn_list=[] new_terms=['CatalyticActivity_actingOnAProtein', 'RNA polymerase II large subunit']\n",
      "Other: tp=1 fp=0 fn=1.0 other=[\"subClassOf MoreGeneralThan ['Binding'] RibosomalLargeSubunitBinding\", \"subClassOf MoreGeneralThan ['Binding'] MitochondrialRibosomeBinding\"] tp_list=[('HasInput', 'MitochondrialLargeRibosomalSubunit')] fp_list=[] fn_list=[] new_terms=[]\n",
      "Other: tp=2 fp=0 fn=1.5 other=[\"subClassOf MoreGeneralThan ['NucleosideTransport'] NucleosideTransmembraneTransport\"] tp_list=[('HasPrimaryInput', 'Nucleoside'), ('subClassOf', 'ImportAcrossPlasmaMembrane')] fp_list=[] fn_list=[('subClassOf', 'ImportIntoCell')] new_terms=[]\n",
      "Other: tp=0 fp=0 fn=0.5 other=[\"subClassOf MoreGeneralThan ['PerturbationBySymbiontOfHostCytoskeleton'] PerturbationBySymbiontOfHostActinCytoskeleton\"] tp_list=[] fp_list=[] fn_list=[] new_terms=[]\n",
      "results/ont_envo-Plabel-Mid.original_id-BGTrue-TrNone-Te50-Mgpt-4-EMopenai.results.yaml\n",
      "results/ont_mondo-Plabel-Mid.original_id-BGFalse-TrNone-Te50-Mnous-hermes-13b-EMopenai.results.yaml\n",
      "results/ont_hp-Prelationships-Mid.original_id-BGFalse-TrNone-Te50-Mgpt-4-EMopenai.results.yaml\n",
      "results/ont_hp-Prelationships-Mid.original_id-BGFalse-TrNone-Te50-Mgpt-4-EMopenai.results.yaml RAG-gpt-4\n",
      "Other: tp=1 fp=0 fn=0 other=[\"subClassOf MoreSpecificThan PainInHeadAndNeckRegion ['Pain']\"] tp_list=[('subClassOf', 'AbnormalEyelidPhysiology')] fp_list=[] fn_list=[] new_terms=[]\n",
      "Other: tp=0 fp=0 fn=0.5 other=[\"subClassOf MoreGeneralThan ['AmelioratedBy'] AmelioratedByExposureToMedication\"] tp_list=[] fp_list=[] fn_list=[] new_terms=[]\n",
      "Other: tp=0 fp=0 fn=0.5 other=[\"subClassOf MoreGeneralThan ['AbnormalSpermMorphology'] AbnormalSpermNeckMorphology\"] tp_list=[] fp_list=[] fn_list=[] new_terms=[]\n",
      "Other: tp=0 fp=0 fn=0.5 other=[\"subClassOf MoreGeneralThan ['AbnormalCirculatingApolipoproteinConcentration'] IncreasedCirculatingApolipoproteinCirculation\"] tp_list=[] fp_list=[] fn_list=[] new_terms=[]\n",
      "Other: tp=0 fp=0 fn=0.5 other=[\"subClassOf MoreGeneralThan ['AbnormalityOfLowerLimbJoint'] AbnormalityOfTheKnee\"] tp_list=[] fp_list=[] fn_list=[] new_terms=[]\n",
      "Other: tp=0 fp=0 fn=0.5 other=[\"subClassOf MoreGeneralThan ['ElevatedUrinaryCarboxylicAcid'] DicarboxylicAciduria\"] tp_list=[] fp_list=[] fn_list=[] new_terms=[]\n",
      "Other: tp=0 fp=0 fn=0 other=[\"subClassOf MoreSpecificThan AbnormalOvarianMorphology ['AbnormalityOfTheOvary']\"] tp_list=[] fp_list=[] fn_list=[] new_terms=[]\n",
      "results/ont_cl-Plabel-Mid.original_id-BGFalse-TrNone-Te50-Mgpt-3.5-turbo-EMopenai.results.yaml\n",
      "results/ont_cl-Pdefinition-Mid.original_id-BGTrue-TrNone-Te50-Mgpt-3.5-turbo-EMopenai.results.yaml\n",
      "results/ont_oba-Pdefinition-Mid.original_id-BGFalse-TrNone-Te50-Mgpt-4-EMopenai.results.yaml\n",
      "results/ont_mp-Plogical_definition-Mid.original_id-BGFalse-TrNone-Te50-Mgpt-3.5-turbo-EMopenai.results.yaml\n",
      "results/ont_envo-Plabel-Mid.original_id-BGTrue-TrNone-Te50-Mgpt-3.5-turbo-EMopenai.results.yaml\n",
      "results/ont_mondo-Pdefinition-Mid.original_id-BGFalse-TrNone-Te50-Mnous-hermes-13b-EMopenai.results.yaml\n",
      "results/ont_cl-Prelationships-Mid.original_id-BGFalse-TrNone-Te50-Mnous-hermes-13b-EMopenai.results.yaml\n",
      "results/ont_cl-Prelationships-Mid.original_id-BGFalse-TrNone-Te50-Mnous-hermes-13b-EMopenai.results.yaml RAG-nous-hermes-13b\n",
      "MISSING: ExpressesMetallothionein\n",
      "Other: tp=1 fp=0 fn=1.5 other=[\"subClassOf MoreGeneralThan ['MucusSecretingCell'] MucusSecretingCellOfTracheobronchialTreeSubmucosalGland\"] tp_list=[('PartOf', 'BronchusSubmucosalGland')] fp_list=[] fn_list=[('subClassOf', 'BronchialEpithelialCell')] new_terms=[]\n",
      "Other: tp=0 fp=0 fn=1.5 other=[\"subClassOf MoreGeneralThan ['CiliatedEpithelialCell'] EndometrialCiliatedEpithelialCell\"] tp_list=[] fp_list=[] fn_list=[('PartOf', 'EndometriumGlandularEpithelium')] new_terms=['EndometrialGlandularEpithelium']\n",
      "Other: tp=0 fp=0 fn=0.5 other=[\"subClassOf MoreGeneralThan ['MediumSpinyNeuron'] IndirectPathwayMediumSpinyNeuron\"] tp_list=[] fp_list=[] fn_list=[] new_terms=['MatrixCompartment_dorsalStriatum', 'DRD2']\n"
     ]
    },
    {
     "name": "stderr",
     "output_type": "stream",
     "text": [
      "Warning: Unable to reclaim box space in spline routing for edge \"UBERON_0000922\" -> \"UBERON_0000468\". Something is probably seriously wrong.\n"
     ]
    },
    {
     "name": "stdout",
     "output_type": "stream",
     "text": [
      "Other: tp=0 fp=1 fn=2.5 other=[\"subClassOf MoreGeneralThan ['ConnectiveTissueCell'] MyofibroblastCell\"] tp_list=[] fp_list=[('DevelopsFrom', 'MigratoryNeuralCrestCell')] fn_list=[('PartOf', 'LungConnectiveTissue'), ('ParticipatesIn', 'LungAlveolusDevelopment')] new_terms=['Myofibroblast']\n",
      "Other: tp=1 fp=0 fn=0.5 other=[\"PartOf MoreGeneralThan ['RespiratorySystem'] RespiratoryTractEpithelium\"] tp_list=[('subClassOf', 'CiliatedCell')] fp_list=[] fn_list=[] new_terms=[]\n",
      "MISSING: LacksCalbindinD28KImmunoreactivity\n",
      "Other: tp=1 fp=0 fn=0.5 other=[\"subClassOf MoreGeneralThan ['CiliatedCell', 'EpithelialCell'] CiliatedEpithelialCell\"] tp_list=[('PartOf', 'EndometriumEpithelium')] fp_list=[] fn_list=[] new_terms=[]\n",
      "Other: tp=0 fp=0 fn=0.5 other=[\"subClassOf MoreGeneralThan ['MediumSpinyNeuron'] DirectPathwayMediumSpinyNeuron\"] tp_list=[] fp_list=[] fn_list=[] new_terms=['D1A_dopamineReceptor']\n",
      "Other: tp=0 fp=0 fn=1.0 other=[\"subClassOf MoreGeneralThan ['SmoothMuscleCell'] TracheobronchialSmoothMuscleCell\", \"PartOf MoreGeneralThan ['Bronchiole'] SmoothMuscleTissueOfBronchiole\"] tp_list=[] fp_list=[] fn_list=[] new_terms=[]\n",
      "Other: tp=0 fp=0 fn=0.5 other=[\"subClassOf MoreGeneralThan ['MediumSpinyNeuron'] IndirectPathwayMediumSpinyNeuron\"] tp_list=[] fp_list=[] fn_list=[] new_terms=['D2_dopamineReceptor']\n",
      "BAD REL: {'predictive': 'subClassOf', 'target': 'TransitionalEpithelialCell'} in [{'predicate': 'PartOf', 'target': 'Urothelium'}, {'predictive': 'subClassOf', 'target': 'TransitionalEpithelialCell'}]\n",
      "Other: tp=0 fp=0 fn=0.5 other=[\"subClassOf MoreGeneralThan ['TrophoblastCell'] ChorionicTrophoblastCell\"] tp_list=[] fp_list=[] fn_list=[] new_terms=['EndometrialCup']\n",
      "Other: tp=1 fp=0 fn=3.0 other=[\"DevelopsFrom MoreGeneralThan ['SecondarySpermatocyte'] EarlySpermatid\", \"subClassOf MoreGeneralThan ['MaleGermCell', 'HaploidCell'] Spermatid\"] tp_list=[('CapableOf', 'AcrosomeAssembly')] fp_list=[] fn_list=[('PartOf', 'MaleReproductiveSystem'), ('CapableOf', 'SpermatidDevelopment')] new_terms=[]\n",
      "results/ont_envo-Pdefinition-Mid.original_id-BGFalse-TrNone-Te50-Mnous-hermes-13b-EMopenai.results.yaml\n",
      "results/ont_cl-Plabel-Mid.original_id-BGTrue-TrNone-Te50-Mgpt-4-EMopenai.results.yaml\n",
      "results/ont_oba-Prelationships-Mid.original_id-BGTrue-TrNone-Te50-Mgpt-3.5-turbo-EMopenai.results.yaml\n",
      "results/ont_oba-Prelationships-Mid.original_id-BGTrue-TrNone-Te50-Mgpt-3.5-turbo-EMopenai.results.yaml RAG+background-gpt-3.5-turbo\n",
      "Other: tp=2 fp=0 fn=1.0 other=[\"subClassOf MoreGeneralThan ['AnatomicalEntityAttribute'] SynovialJointQuality\", \"subClassOf MoreGeneralThan ['AnatomicalEntityAttribute'] HindlimbJointQuality\"] tp_list=[('InheresIn', 'KneeJoint'), ('subClassOf', 'Functionality')] fp_list=[] fn_list=[] new_terms=[]\n",
      "Other: tp=0 fp=0 fn=1.0 other=[\"subClassOf MoreGeneralThan ['ChemicalInBloodAmount'] BloodMetaboliteAmount\", \"subClassOf MoreGeneralThan ['AminoAcidAmount', 'ChemicalInBloodAmount'] BloodAminoAcidAmount\"] tp_list=[] fp_list=[] fn_list=[] new_terms=['_:riog00238966']\n",
      "Other: tp=2 fp=0 fn=1.0 other=[\"subClassOf MoreGeneralThan ['Morphology'] MandibleMorphologyTrait\", \"subClassOf MoreGeneralThan ['Morphology'] FacialMorphologyTrait\"] tp_list=[('InheresIn', 'Chin'), ('subClassOf', 'ChinMorphologyTrait')] fp_list=[] fn_list=[] new_terms=[]\n",
      "Other: tp=1 fp=0 fn=0.5 other=[\"subClassOf MoreGeneralThan ['Rate'] LocomotoryBehaviorRate\"] tp_list=[('InheresIn', 'Thigmotaxis')] fp_list=[] fn_list=[] new_terms=[]\n",
      "Other: tp=0 fp=1 fn=0 other=[\"subClassOf MoreSpecificThan BloodMetaboliteAmount ['ChemicalInBloodAmount']\"] tp_list=[] fp_list=[('InheresIn', 'Blood')] fn_list=[] new_terms=[]\n",
      "Other: tp=1 fp=0 fn=1.0 other=[\"subClassOf MoreGeneralThan ['AnatomicalEntityAttribute', 'Functionality'] MuscleOrganFunctionality\", \"subClassOf MoreGeneralThan ['AnatomicalEntityAttribute'] HeadTrait\"] tp_list=[('InheresIn', 'FacialMuscle')] fp_list=[] fn_list=[] new_terms=[]\n",
      "Other: tp=1 fp=0 fn=0.5 other=[\"subClassOf MoreGeneralThan ['Rate'] AggressiveBehaviorRate\"] tp_list=[('InheresIn', 'AggressiveBehaviorTowardsInanimateObjects')] fp_list=[] fn_list=[] new_terms=[]\n",
      "Other: tp=0 fp=0 fn=1.5 other=[\"subClassOf MoreGeneralThan ['BloodProteinAmount'] AmountOfAlbuminInBlood\"] tp_list=[] fp_list=[] fn_list=[('subClassOf', 'SerumNonAlbuminProteinAmount')] new_terms=[]\n",
      "Other: tp=1 fp=0 fn=1.5 other=[\"subClassOf MoreGeneralThan ['Thickness'] CarotidArteryThickness\"] tp_list=[('InheresIn', 'InternalCarotidArtery')] fp_list=[] fn_list=[('subClassOf', 'InternalCarotidArterySize')] new_terms=[]\n",
      "Other: tp=2 fp=0 fn=1.5 other=[\"subClassOf MoreGeneralThan ['HasNumberOf'] PresacralVertebraQuantity\"] tp_list=[('InheresIn', 'CervicalVertebra'), ('subClassOf', 'CervicalVertebraHasNumberOf')] fp_list=[] fn_list=[('subClassOf', 'OrganismSubdivisionTrait')] new_terms=[]\n",
      "Other: tp=1 fp=0 fn=0.5 other=[\"subClassOf MoreGeneralThan ['Quality'] BiologicalProcessAttribute\"] tp_list=[('InheresIn', 'Sleep')] fp_list=[] fn_list=[] new_terms=[]\n",
      "Other: tp=2 fp=0 fn=0.5 other=[\"subClassOf MoreGeneralThan ['BiologicalProcessAttribute'] StartleReflexQuality\"] tp_list=[('InheresIn', 'StartleReflex'), ('subClassOf', 'Amount')] fp_list=[] fn_list=[] new_terms=[]\n",
      "Other: tp=1 fp=0 fn=1.5 other=[\"subClassOf MoreGeneralThan ['Functionality'] MuscleOrganFunctionality\"] tp_list=[('InheresIn', 'Brachioradialis')] fp_list=[] fn_list=[('subClassOf', 'AppendageTrait')] new_terms=[]\n",
      "Other: tp=1 fp=0 fn=0.5 other=[\"subClassOf MoreGeneralThan ['OrganismTrait'] MulticellularOrganismStructure\"] tp_list=[('subClassOf', 'Stability')] fp_list=[] fn_list=[] new_terms=[]\n",
      "Other: tp=1 fp=0 fn=0.5 other=[\"subClassOf MoreGeneralThan ['ProcessEfficacy'] MotorCoordinationEfficacy\"] tp_list=[('InheresIn', 'GrossMotorCoordination')] fp_list=[] fn_list=[] new_terms=[]\n",
      "Other: tp=1 fp=0 fn=0.5 other=[\"subClassOf MoreGeneralThan ['Amount'] LimbAmount\"] tp_list=[('InheresIn', 'Forelimb')] fp_list=[] fn_list=[] new_terms=[]\n",
      "Other: tp=1 fp=0 fn=0 other=[\"subClassOf MoreSpecificThan BloodInsulinAmount ['NitrogenMolecularEntityAmount', 'BloodHormoneAmount']\"] tp_list=[('InheresIn', 'Insulin')] fp_list=[] fn_list=[] new_terms=[]\n",
      "Other: tp=1 fp=0 fn=2.5 other=[\"subClassOf MoreGeneralThan ['Size'] AnatomicalStructureSize\"] tp_list=[('InheresIn', 'CingulateCortex')] fp_list=[] fn_list=[('subClassOf', 'FornicateGyrusMorphologyTrait'), ('subClassOf', 'NeocortexMorphologyTrait')] new_terms=[]\n",
      "Other: tp=0 fp=0 fn=1.0 other=[\"subClassOf MoreGeneralThan ['BloodImmunoglobulinAmount', 'Amount'] SerumImmunoglobulinAmount\", \"subClassOf MoreGeneralThan ['BloodImmunoglobulinAmount', 'Amount'] BloodImmunoglobulinAAmount\"] tp_list=[] fp_list=[] fn_list=[] new_terms=['SerumIgAComplex']\n",
      "Other: tp=1 fp=0 fn=1.5 other=[\"subClassOf MoreGeneralThan ['HasNumberOf'] VertebraQuantity\"] tp_list=[('InheresIn', 'SacralVertebra')] fp_list=[] fn_list=[('subClassOf', 'OrganismSubdivisionTrait')] new_terms=[]\n",
      "results/ont_envo-Prelationships-Mid.original_id-BGFalse-TrNone-Te50-Mnous-hermes-13b-EMopenai.results.yaml\n",
      "results/ont_envo-Prelationships-Mid.original_id-BGFalse-TrNone-Te50-Mnous-hermes-13b-EMopenai.results.yaml RAG-nous-hermes-13b\n",
      "BAD REL: {'predictor': 'hasCausalAgent', 'effect': 'increased hunger, malnutrition and consequent mortality'} in [{'predicate': 'subClassOf', 'target': 'AnthropogenicEnvironmentalProcess'}, {'predictor': 'hasCausalAgent', 'effect': 'increased hunger, malnutrition and consequent mortality'}]\n",
      "Other: tp=0 fp=0 fn=0 other=[\"subClassOf MoreSpecificThan AnthropogenicEnvironmentalProcess ['EnvironmentalSystemProcess']\"] tp_list=[] fp_list=[] fn_list=[] new_terms=[]\n",
      "MISSING: provides\n",
      "MISSING: hasType\n",
      "Other: tp=0 fp=0 fn=0.5 other=[\"subClassOf MoreGeneralThan ['TransportFeature'] Bridge\"] tp_list=[] fp_list=[] fn_list=[] new_terms=[]\n",
      "Other: tp=0 fp=0 fn=0.5 other=[\"subClassOf MoreGeneralThan ['ConcentrationOf'] ConcentrationOfAmmoniumInLiquidWater\"] tp_list=[] fp_list=[] fn_list=[] new_terms=[]\n",
      "Other: tp=0 fp=0 fn=0 other=[\"subClassOf MoreSpecificThan CleaningAgent ['ManufacturedProduct']\"] tp_list=[] fp_list=[] fn_list=[] new_terms=['SuctionDevice']\n",
      "Other: tp=0 fp=0 fn=0.5 other=[\"subClassOf MoreGeneralThan ['EnvironmentalSystemProcess'] RecyclingProcess\"] tp_list=[] fp_list=[] fn_list=[] new_terms=[]\n",
      "Other: tp=0 fp=0 fn=0.5 other=[\"subClassOf MoreGeneralThan ['PrecipitationProcess'] HydrologicalPrecipitationProcess\"] tp_list=[] fp_list=[] fn_list=[] new_terms=[]\n",
      "MISSING: ComposedMainlyOf\n",
      "Other: tp=0 fp=0 fn=0.5 other=[\"subClassOf MoreGeneralThan ['HospitalUnitFacility'] IntensiveCareUnitFacility\"] tp_list=[] fp_list=[] fn_list=[] new_terms=[]\n",
      "Other: tp=0 fp=0 fn=0.5 other=[\"subClassOf MoreGeneralThan ['ConcentrationOf'] ConcentrationOfCarbonAtomInSeaWater\"] tp_list=[] fp_list=[] fn_list=[] new_terms=[]\n",
      "results/ont_foodon-Pdefinition-Mid.original_id-BGFalse-TrNone-Te50-Mgpt-3.5-turbo-EMopenai.results.yaml\n",
      "results/ont_hp-Plabel-Mid.original_id-BGFalse-TrNone-Te50-Mgpt-4-EMopenai.results.yaml\n",
      "results/ont_mp-Plabel-Mid.original_id-BGFalse-TrNone-Te50-Mnous-hermes-13b-EMopenai.results.yaml\n",
      "results/ont_mondo-Pdefinition-Mid.original_id-BGTrue-TrNone-Te50-Mgpt-4-EMopenai.results.yaml\n",
      "results/ont_go-Plabel-Mid.original_id-BGFalse-TrNone-Te50-Mgpt-4-EMopenai.results.yaml\n",
      "results/ont_foodon-Prelationships-Mid.original_id-BGFalse-TrNone-Te50-Mnous-hermes-13b-EMopenai.results.yaml\n",
      "results/ont_foodon-Prelationships-Mid.original_id-BGFalse-TrNone-Te50-Mnous-hermes-13b-EMopenai.results.yaml RAG-nous-hermes-13b\n",
      "Other: tp=0 fp=0 fn=0.5 other=[\"subClassOf MoreGeneralThan ['YogurtFoodProduct'] StrainedYogurt\"] tp_list=[] fp_list=[] fn_list=[] new_terms=['Milk_cow_']\n",
      "BAD REL: {'predicate': 'hasProcess', 'object': 'saute'} in [{'predicate': 'subClassOf', 'target': 'TurkeyMeatFoodProduct'}, {'predicate': 'hasProcess', 'object': 'saute'}]\n",
      "MISSING: HasQualityRO:0000124\n",
      "Other: tp=1 fp=0 fn=0.5 other=[\"subClassOf MoreGeneralThan ['SumacFoodProduct', 'CaryopsisFruit'] RyeKernel\"] tp_list=[('InTaxon', 'SecaleCereale')] fp_list=[] fn_list=[] new_terms=['GrainOrStarchProduct_usCfr_']\n",
      "Other: tp=0 fp=0 fn=0.5 other=[\"subClassOf MoreGeneralThan ['AsparagusBeanFoodProduct'] AsparagusBean\"] tp_list=[] fp_list=[] fn_list=[] new_terms=['PhaseolusVulgaris_edibleSeedCultivar_plant_']\n",
      "Other: tp=1 fp=0 fn=0.5 other=[\"subClassOf MoreGeneralThan ['BerryFruit'] PitayaFruit\"] tp_list=[('InTaxon', 'SelenicereusUndatus')] fp_list=[] fn_list=[] new_terms=[]\n",
      "MISSING: HasQuality_RO:0000086\n",
      "MISSING: rdfs:subClassOf\n",
      "MISSING: HasQuality_RO:0000086\n",
      "Other: tp=0 fp=0 fn=0.5 other=[\"subClassOf MoreGeneralThan ['AnimalFoodProduct'] MammalianMeatFoodProduct\"] tp_list=[] fp_list=[] fn_list=[] new_terms=['MeatFoodProduct']\n",
      "MISSING: HasQuality_RO:0000086\n",
      "Other: tp=0 fp=0 fn=0 other=[\"subClassOf MoreSpecificThan HempSeed ['HempFoodProduct']\"] tp_list=[] fp_list=[] fn_list=[] new_terms=['HempPlant', 'SpiceOrHerb_usCfr_']\n",
      "Other: tp=0 fp=0 fn=0.5 other=[\"subClassOf MoreGeneralThan ['MaterialEntity'] OrganismMaterial\"] tp_list=[] fp_list=[] fn_list=[] new_terms=[]\n",
      "Other: tp=0 fp=0 fn=0.5 other=[\"subClassOf MoreGeneralThan ['AnimalMaterial'] AnimalPiece\"] tp_list=[] fp_list=[] fn_list=[] new_terms=['AnimalBody']\n",
      "Other: tp=0 fp=1 fn=0.5 other=[\"subClassOf MoreGeneralThan ['ArugulaFoodProduct'] ArugulaGreensBunch\"] tp_list=[] fp_list=[('InTaxon', 'BabyLimaBeanPlant')] fn_list=[] new_terms=[]\n",
      "Other: tp=0 fp=0 fn=0 other=[\"subClassOf MoreSpecificThan RiceKernelFoodProduct ['RiceFoodProduct']\"] tp_list=[] fp_list=[] fn_list=[] new_terms=[]\n",
      "Other: tp=0 fp=0 fn=0.5 other=[\"subClassOf MoreGeneralThan ['SweetPotatoFoodProduct'] SweetPotato\"] tp_list=[] fp_list=[] fn_list=[] new_terms=[]\n",
      "Other: tp=0 fp=0 fn=0.5 other=[\"subClassOf MoreGeneralThan ['SquashFoodProduct'] MexicanGreySquash\"] tp_list=[] fp_list=[] fn_list=[] new_terms=['RawVegetable']\n",
      "results/ont_obi-Prelationships-Mid.original_id-BGFalse-TrNone-Te50-Mgpt-4-EMopenai.results.yaml\n",
      "results/ont_obi-Prelationships-Mid.original_id-BGFalse-TrNone-Te50-Mgpt-4-EMopenai.results.yaml RAG-gpt-4\n",
      "Other: tp=1 fp=0 fn=0.5 other=[\"subClassOf MoreGeneralThan ['Assay'] CarboxyfluoresceinSuccinimidylEsterStainingAssay\"] tp_list=[('subClassOf', 'CellProliferationAssay')] fp_list=[] fn_list=[] new_terms=[]\n",
      "results/ont_obi-Plabel-Mid.original_id-BGTrue-TrNone-Te50-Mgpt-3.5-turbo-EMopenai.results.yaml\n",
      "results/ont_go-Prelationships-Mid.original_id-BGFalse-TrNone-Te50-Mgpt-4-EMopenai.results.yaml\n",
      "results/ont_go-Prelationships-Mid.original_id-BGFalse-TrNone-Te50-Mgpt-4-EMopenai.results.yaml RAG-gpt-4\n",
      "Other: tp=1 fp=0 fn=0.5 other=[\"subClassOf MoreGeneralThan ['Detoxification'] DetoxificationOfInorganicCompound\"] tp_list=[('HasPrimaryInput', 'AluminiumCation')] fp_list=[] fn_list=[] new_terms=[]\n",
      "Other: tp=0 fp=0 fn=0 other=[\"subClassOf MoreSpecificThan DisruptionOfCellularAnatomicalStructureInAnotherOrganism ['DisruptionOfAnatomicalStructureInAnotherOrganism']\"] tp_list=[] fp_list=[] fn_list=[] new_terms=[]\n",
      "Other: tp=0 fp=0 fn=1.5 other=[\"subClassOf MoreGeneralThan ['RetrotransposonSilencing'] RetrotransposonSilencingByHeterochromatinFormation\"] tp_list=[] fp_list=[] fn_list=[('subClassOf', 'GeneSilencingByRNADirectedDNAMethylation')] new_terms=['GeneSilencingByRnaDirectedDnaMethylation']\n",
      "Other: tp=1 fp=0 fn=0.5 other=[\"subClassOf MoreGeneralThan ['CellularProcessInvolvedInReproductionInMulticellularOrganism', 'EpigeneticRegulationOfGeneExpression'] GenomicImprinting\"] tp_list=[('PartOf', 'GermCellDevelopment')] fp_list=[] fn_list=[] new_terms=[]\n",
      "Other: tp=1 fp=0 fn=0.5 other=[\"subClassOf MoreGeneralThan ['CellularHomeostasis'] IntracellularChemicalHomeostasis\"] tp_list=[('RegulatesLevelsOf', 'Nucleoside')] fp_list=[] fn_list=[] new_terms=[]\n",
      "Other: tp=1 fp=0 fn=0.5 other=[\"subClassOf MoreGeneralThan ['CellularHomeostasis'] IntracellularChemicalHomeostasis\"] tp_list=[('RegulatesLevelsOf', 'NitrogenAtom')] fp_list=[] fn_list=[] new_terms=[]\n",
      "Other: tp=0 fp=0 fn=0.5 other=[\"subClassOf MoreGeneralThan ['UbiquitinProteinLigaseActivity'] HistoneUbiquitinLigaseActivity\"] tp_list=[] fp_list=[] fn_list=[] new_terms=['HistoneH4ModifyingActivity']\n",
      "Other: tp=2 fp=0 fn=0.5 other=[\"subClassOf MoreGeneralThan ['PositiveRegulationOfSignalTransduction'] PositiveRegulationOfPatternRecognitionReceptorSignalingPathway\"] tp_list=[('subClassOf', 'RegulationOfInflammasomeMediatedSignalingPathway'), ('PositivelyRegulates', 'InflammasomeMediatedSignalingPathway')] fp_list=[] fn_list=[] new_terms=['InflammasomeMediatedSignalingPathway', 'RegulationOfInflammasomeMediatedSignalingPathway']\n",
      "Other: tp=0 fp=0 fn=0.5 other=[\"subClassOf MoreGeneralThan ['RNAPolymeraseIICTDHeptapeptideRepeatModifyingActivity'] RNAPolymeraseIICTDHeptapeptideRepeatPhosphataseActivity\"] tp_list=[] fp_list=[] fn_list=[] new_terms=['ProteinSerineThreoninePhosphataseActivity']\n",
      "Other: tp=1 fp=0 fn=1.0 other=[\"subClassOf MoreGeneralThan ['RibosomeBinding'] RibosomalLargeSubunitBinding\", \"subClassOf MoreGeneralThan ['RibosomeBinding'] MitochondrialRibosomeBinding\"] tp_list=[('HasInput', 'MitochondrialLargeRibosomalSubunit')] fp_list=[] fn_list=[] new_terms=[]\n",
      "results/ont_uberon-Pdefinition-Mid.original_id-BGTrue-TrNone-Te40-Mgpt-3.5-turbo-EMopenai.results.yaml\n",
      "results/ont_go-Plogical_definition-Mid.original_id-BGFalse-TrNone-Te50-Mgpt-3.5-turbo-EMopenai.results.yaml\n",
      "results/ont_foodon-Plabel-Mid.original_id-BGFalse-TrNone-Te50-Mgpt-4-EMopenai.results.yaml\n",
      "results/ont_go-Pdefinition-Mid.original_id-BGFalse-TrNone-Te50-Mgpt-4-EMopenai.results.yaml\n",
      "results/ont_oba-Prelationships-Mid.original_id-BGFalse-TrNone-Te50-Mnous-hermes-13b-EMopenai.results.yaml\n",
      "results/ont_oba-Prelationships-Mid.original_id-BGFalse-TrNone-Te50-Mnous-hermes-13b-EMopenai.results.yaml RAG-nous-hermes-13b\n",
      "Other: tp=1 fp=0 fn=1.5 other=[\"subClassOf MoreGeneralThan ['Morphology'] CardiovascularSystemMorphologyTrait\"] tp_list=[('InheresIn', 'VitellineVasculature')] fp_list=[] fn_list=[('subClassOf', 'VitellineVasculatureQuality')] new_terms=[]\n",
      "Other: tp=1 fp=0 fn=1.5 other=[\"subClassOf MoreGeneralThan ['AminoAcidAmount'] BloodAminoAcidAmount\"] tp_list=[('InheresIn', 'Lysine')] fp_list=[] fn_list=[('subClassOf', 'BloodMetaboliteAmount')] new_terms=[]\n",
      "Other: tp=0 fp=0 fn=1.5 other=[\"subClassOf MoreGeneralThan ['Amount'] BloodAlanineTransaminaseAmount\"] tp_list=[] fp_list=[] fn_list=[('subClassOf', 'SerumNonAlbuminProteinAmount')] new_terms=['_:riog00242545']\n",
      "Other: tp=0 fp=0 fn=0 other=[\"subClassOf MoreSpecificThan BloodMetaboliteAmount ['ChemicalInBloodAmount']\"] tp_list=[] fp_list=[] fn_list=[] new_terms=['_:riog00243169']\n",
      "Other: tp=1 fp=0 fn=1.5 other=[\"subClassOf MoreGeneralThan ['Functionality'] MuscleOrganFunctionality\"] tp_list=[('InheresIn', 'FacialMuscle')] fp_list=[] fn_list=[('subClassOf', 'HeadTrait')] new_terms=[]\n",
      "Other: tp=1 fp=0 fn=2.5 other=[\"subClassOf MoreGeneralThan ['ThoraxTrait'] HeartMorphologyTrait\"] tp_list=[('subClassOf', 'Thickness')] fp_list=[] fn_list=[('InheresIn', 'WallOfHeart'), ('subClassOf', 'AnatomicalStructureSize')] new_terms=['WallOfHeartSize']\n",
      "Other: tp=1 fp=0 fn=1.5 other=[\"subClassOf MoreGeneralThan ['Rate'] AggressiveBehaviorRate\"] tp_list=[('inheresIn', 'AggressiveBehaviorTowardsInanimateObjects')] fp_list=[] fn_list=[('InheresIn', 'AggressiveBehaviorTowardsInanimateObjects')] new_terms=[]\n",
      "Other: tp=0 fp=0 fn=1.5 other=[\"subClassOf MoreGeneralThan ['BloodProteinAmount'] AmountOfAlbuminInBlood\"] tp_list=[] fp_list=[] fn_list=[('subClassOf', 'SerumNonAlbuminProteinAmount')] new_terms=['SerumProteinAmount']\n",
      "Other: tp=1 fp=0 fn=1.5 other=[\"subClassOf MoreGeneralThan ['Thickness'] CarotidArteryThickness\"] tp_list=[('inheresIn', 'InternalCarotidArtery')] fp_list=[] fn_list=[('subClassOf', 'InternalCarotidArterySize')] new_terms=[]\n",
      "Other: tp=1 fp=0 fn=1.5 other=[\"subClassOf MoreGeneralThan ['HasNumberOf'] PresacralVertebraQuantity\"] tp_list=[('InheresIn', 'CervicalVertebra')] fp_list=[] fn_list=[('subClassOf', 'OrganismSubdivisionTrait')] new_terms=['VertebralQuantity']\n",
      "MISSING: increasedByRelativeTo\n",
      "Other: tp=1 fp=0 fn=0.5 other=[\"subClassOf MoreGeneralThan ['Morphology'] YolkSacMorphologyTrait\"] tp_list=[('InheresIn', 'VisceralYolkSac')] fp_list=[] fn_list=[] new_terms=[]\n",
      "Other: tp=1 fp=0 fn=1.5 other=[\"subClassOf MoreGeneralThan ['ProcessEfficacy'] MotorCoordinationEfficacy\"] tp_list=[('inheresIn', 'GrossMotorCoordination')] fp_list=[] fn_list=[('InheresIn', 'GrossMotorCoordination')] new_terms=[]\n",
      "Other: tp=1 fp=0 fn=0.5 other=[\"subClassOf MoreGeneralThan ['Amount'] LimbAmount\"] tp_list=[('InheresIn', 'Forelimb')] fp_list=[] fn_list=[] new_terms=[]\n",
      "MISSING: rdfs:subClassOf\n",
      "Other: tp=0 fp=0 fn=1.0 other=[\"subClassOf MoreGeneralThan ['Amount'] NitrogenMolecularEntityAmount\", \"subClassOf MoreGeneralThan ['Amount'] BloodHormoneAmount\"] tp_list=[] fp_list=[] fn_list=[] new_terms=['_:riog00243872']\n",
      "Other: tp=1 fp=0 fn=1.5 other=[\"subClassOf MoreGeneralThan ['SkullMorphologyTrait'] CraniumMorphology\"] tp_list=[('subClassOf', 'Shape')] fp_list=[] fn_list=[('InheresIn', 'Cranium')] new_terms=[]\n",
      "Other: tp=1 fp=0 fn=2 other=[\"subClassOf MoreSpecificThan Curvature ['Shape']\"] tp_list=[('subClassOf', 'ThoracicRibCageShape')] fp_list=[] fn_list=[('InheresIn', 'ThoracicRibCage'), ('subClassOf', 'ThoracicCageMorphologyTrait')] new_terms=[]\n",
      "Other: tp=0 fp=0 fn=1.0 other=[\"subClassOf MoreGeneralThan ['Amount'] SerumImmunoglobulinAmount\", \"subClassOf MoreGeneralThan ['Amount'] BloodImmunoglobulinAAmount\"] tp_list=[] fp_list=[] fn_list=[] new_terms=['_:riog00242773']\n",
      "MISSING: rdfs:subClassOf\n",
      "Other: tp=1 fp=0 fn=1.5 other=[\"subClassOf MoreGeneralThan ['HasNumberOf'] VertebraQuantity\"] tp_list=[('InheresIn', 'SacralVertebra')] fp_list=[] fn_list=[('subClassOf', 'OrganismSubdivisionTrait')] new_terms=[]\n",
      "results/ont_mp-Plabel-Mid.original_id-BGFalse-TrNone-Te50-Mgpt-3.5-turbo-EMopenai.results.yaml\n",
      "results/ont_foodon-Pdefinition-Mid.original_id-BGFalse-TrNone-Te50-Mgpt-4-EMopenai.results.yaml\n",
      "results/ont_envo-Plabel-Mid.original_id-BGFalse-TrNone-Te50-Mgpt-3.5-turbo-EMopenai.results.yaml\n",
      "results/ont_obi-Pdefinition-Mid.original_id-BGFalse-TrNone-Te50-Mgpt-4-EMopenai.results.yaml\n",
      "results/ont_mondo-Prelationships-Mid.original_id-BGFalse-TrNone-Te50-Mgpt-4-EMopenai.results.yaml\n",
      "results/ont_mondo-Prelationships-Mid.original_id-BGFalse-TrNone-Te50-Mgpt-4-EMopenai.results.yaml RAG-gpt-4\n",
      "Other: tp=0 fp=0 fn=0.5 other=[\"subClassOf MoreGeneralThan ['ReproductiveSystemDisorder'] FemaleReproductiveSystemDisorder\"] tp_list=[] fp_list=[] fn_list=[] new_terms=[]\n",
      "Other: tp=1 fp=0 fn=2 other=[\"subClassOf MoreSpecificThan Acrodysostosis ['MandibulofacialDysostosis', 'HereditaryOtorhinolaryngologicDisease']\"] tp_list=[('subClassOf', 'AcrodysostosisWithMultipleHormoneResistance')] fp_list=[] fn_list=[('subClassOf', 'Polyendocrinopathy'), ('subClassOf', 'AcrofacialDysostosis')] new_terms=[]\n",
      "MISSING: HasCause\n",
      "Other: tp=0 fp=0 fn=0.5 other=[\"subClassOf MoreGeneralThan ['DisorderOfSexualDifferentiation'] 46XXDisorderOfSexDevelopmentInducedByAndrogensExcess\"] tp_list=[] fp_list=[] fn_list=[] new_terms=[]\n",
      "MISSING: HasMaterialBasisInMutationIn\n",
      "Other: tp=2 fp=0 fn=0.5 other=[\"subClassOf MoreGeneralThan ['Disease'] CongenitalHeartMalformation\"] tp_list=[('DiseaseHasMajorFeature', 'TranspositionOfTheGreatArteries'), ('DiseaseHasMajorFeature', 'ConotruncalDefect')] fp_list=[] fn_list=[] new_terms=['CardiacConductionDisease', 'VentricularSeptalDefects']\n",
      "Other: tp=1 fp=0 fn=1.5 other=[\"subClassOf MoreGeneralThan ['InbornErrorsOfMetabolism'] InbornCarbohydrateMetabolicDisorder\"] tp_list=[('DiseaseHasBasisInDisruptionOf', 'GlycerolMetabolicProcess')] fp_list=[] fn_list=[('subClassOf', 'GlycerolMetabolismDisease')] new_terms=[]\n",
      "Other: tp=1 fp=0 fn=1.5 other=[\"subClassOf MoreGeneralThan ['Hypothyroidism'] PermanentCongenitalHypothyroidism\"] tp_list=[('HasCharacteristic', 'HasASyndromicPresentation')] fp_list=[] fn_list=[('subClassOf', 'SyndromicDisease')] new_terms=[]\n",
      "Other: tp=0 fp=0 fn=1.5 other=[\"subClassOf MoreGeneralThan ['DisorderOfDevelopmentOrMorphogenesis'] DevelopmentalDefectOfTheEye\"] tp_list=[] fp_list=[] fn_list=[('DiseaseHasBasisInDisruptionOf', 'LensInductionInCameraTypeEye')] new_terms=['DisorderOfEye']\n",
      "Other: tp=1 fp=0 fn=1.5 other=[\"subClassOf MoreGeneralThan ['InflammatoryDisease'] Encephalomyelitis\"] tp_list=[('DiseaseHasInflammationSite', 'Brain')] fp_list=[] fn_list=[('subClassOf', 'BrainDisorder')] new_terms=[]\n",
      "results/ont_foodon-Plabel-Mid.original_id-BGTrue-TrNone-Te50-Mgpt-4-EMopenai.results.yaml\n",
      "results/ont_obi-Prelationships-Mid.original_id-BGFalse-TrNone-Te50-Mnous-hermes-13b-EMopenai.results.yaml\n",
      "results/ont_obi-Prelationships-Mid.original_id-BGFalse-TrNone-Te50-Mnous-hermes-13b-EMopenai.results.yaml RAG-nous-hermes-13b\n",
      "Other: tp=0 fp=0 fn=0.5 other=[\"subClassOf MoreGeneralThan ['PhysicalExaminationOfAnOrganism'] LimbCoordinationAssessment\"] tp_list=[] fp_list=[] fn_list=[] new_terms=[]\n",
      "MISSING: rdfs:subClassOf\n",
      "MISSING: rdfs:subClassOf\n",
      "MISSING: hasLabel\n",
      "Other: tp=0 fp=0 fn=0.5 other=[\"subClassOf MoreGeneralThan ['AnalyteAssay'] MicroarrayAssay\"] tp_list=[] fp_list=[] fn_list=[] new_terms=[]\n",
      "MISSING: rdfs:subClassOf\n",
      "Other: tp=0 fp=0 fn=0.5 other=[\"subClassOf MoreGeneralThan ['ArthropodTrap'] RestingArthropodTrap\"] tp_list=[] fp_list=[] fn_list=[] new_terms=[]\n",
      "MISSING: rdfs:subClassOf\n",
      "results/ont_obi-Prelationships-Mid.original_id-BGFalse-TrNone-Te50-Mgpt-3.5-turbo-EMopenai.results.yaml\n",
      "results/ont_obi-Prelationships-Mid.original_id-BGFalse-TrNone-Te50-Mgpt-3.5-turbo-EMopenai.results.yaml RAG-gpt-3.5-turbo\n",
      "Other: tp=0 fp=0 fn=0.5 other=[\"subClassOf MoreGeneralThan ['PhysicalExaminationOfAnOrganism'] DeepTendonReflexAssessment\"] tp_list=[] fp_list=[] fn_list=[] new_terms=[]\n",
      "Other: tp=0 fp=0 fn=0.5 other=[\"subClassOf MoreGeneralThan ['DataSet'] ImageDataSet\"] tp_list=[] fp_list=[] fn_list=[] new_terms=[]\n",
      "MISSING: hasInput\n",
      "Other: tp=0 fp=0 fn=0.5 other=[\"subClassOf MoreGeneralThan ['AnalyteAssay'] MicroarrayAssay\"] tp_list=[] fp_list=[] fn_list=[] new_terms=[]\n",
      "Other: tp=0 fp=0 fn=1.0 other=[\"subClassOf MoreGeneralThan ['ImageDataSet'] MagneticResonanceImageDataSet\", \"subClassOf MoreGeneralThan ['ImageDataSet'] ComputedImageDataSet\"] tp_list=[] fp_list=[] fn_list=[] new_terms=[]\n",
      "MISSING: HasProxy\n",
      "MISSING: ManufacturedBy\n",
      "MISSING: EquipmentForAnalyzingMolecules\n",
      "results/ont_cl-Pdefinition-Mid.original_id-BGFalse-TrNone-Te50-Mgpt-4-EMopenai-ACgh_cl.results.yaml\n",
      "results/ont_foodon-Plabel-Mid.original_id-BGFalse-TrNone-Te50-Mgpt-3.5-turbo-EMopenai.results.yaml\n",
      "results/ont_obi-Pdefinition-Mid.original_id-BGTrue-TrNone-Te50-Mgpt-4-EMopenai.results.yaml\n",
      "results/ont_mondo-Pdefinition-Mid.original_id-BGFalse-TrNone-Te50-Mgpt-3.5-turbo-EMopenai.results.yaml\n",
      "results/ont_obi-Prelationships-Mid.original_id-BGTrue-TrNone-Te50-Mgpt-4-EMopenai.results.yaml\n",
      "results/ont_obi-Prelationships-Mid.original_id-BGTrue-TrNone-Te50-Mgpt-4-EMopenai.results.yaml RAG+background-gpt-4\n",
      "Other: tp=0 fp=0 fn=0.5 other=[\"subClassOf MoreGeneralThan ['ArthropodTrap'] RestingArthropodTrap\"] tp_list=[] fp_list=[] fn_list=[] new_terms=[]\n",
      "MISSING: designedToDetect\n",
      "MISSING: utilizes\n",
      "MISSING: rdf:type\n",
      "MISSING: manufacturedBy\n",
      "MISSING: usesTechnology\n",
      "results/ont_uberon-Pdefinition-Mid.original_id-BGFalse-TrNone-Te40-Mnous-hermes-13b-EMopenai.results.yaml\n",
      "results/ont_go-Plabel-Mid.original_id-BGFalse-TrNone-Te50-Mnous-hermes-13b-EMopenai.results.yaml\n",
      "results/ont_cl-Plabel-Mid.original_id-BGFalse-TrNone-Te50-Mgpt-4-EMopenai.results.yaml\n",
      "results/ont_hp-Plabel-Mid.original_id-BGFalse-TrNone-Te50-Mnous-hermes-13b-EMopenai.results.yaml\n",
      "results/ont_cl-Pdefinition-Mid.original_id-BGFalse-TrNone-Te50-Mgpt-4-EMopenai.results.yaml\n",
      "results/ont_uberon-Pdefinition-Mid.original_id-BGFalse-TrNone-Te44-Mgpt-4-EMopenai.results.yaml\n",
      "results/ont_mp-Pdefinition-Mid.original_id-BGFalse-TrNone-Te50-Mnous-hermes-13b-EMopenai.results.yaml\n",
      "results/ont_mondo-Prelationships-Mid.original_id-BGFalse-TrNone-Te50-Mnous-hermes-13b-EMopenai.results.yaml\n",
      "results/ont_mondo-Prelationships-Mid.original_id-BGFalse-TrNone-Te50-Mnous-hermes-13b-EMopenai.results.yaml RAG-nous-hermes-13b\n",
      "Other: tp=0 fp=1 fn=0 other=[\"subClassOf MoreSpecificThan FamilialHypertrophicCardiomyopathy ['HypertrophicCardiomyopathy']\"] tp_list=[] fp_list=[('DiseaseHasBasisInDysfunctionOf', 'MitochondrialRespiratoryChainComplexI')] fn_list=[] new_terms=[]\n",
      "Other: tp=0 fp=0 fn=0 other=[\"subClassOf MoreSpecificThan CongenitalMyasthenicSyndromesWithGlycosylationDefect ['CongenitalMyasthenicSyndrome']\"] tp_list=[] fp_list=[] fn_list=[] new_terms=['DNAH10']\n",
      "BAD REL: {'predicate': 'relationships', 'target': ['46,XX disorder of sex development induced by maternal-derived androgen']} in [{'predicate': 'subClassOf', 'target': 'DisorderOfSexualDifferentiation'}, {'predicate': 'HasMaterialBasisInGermlineMutationIn', 'target': 'CYP21A2'}, {'predicate': 'relationships', 'target': ['46,XX disorder of sex development induced by maternal-derived androgen']}]\n",
      "Other: tp=0 fp=1 fn=0.5 other=[\"subClassOf MoreGeneralThan ['DisorderOfSexualDifferentiation'] 46XXDisorderOfSexDevelopmentInducedByAndrogensExcess\"] tp_list=[] fp_list=[('HasMaterialBasisInGermlineMutationIn', 'CYP21A2')] fn_list=[] new_terms=[]\n",
      "Other: tp=1 fp=0 fn=1 other=[\"subClassOf MoreSpecificThan FetalAnticonvulsantSyndrome ['DisorderOfDevelopmentOrMorphogenesis']\"] tp_list=[('subClassOf', 'TeratogenicPierreRobinSyndrome')] fp_list=[] fn_list=[('subClassOf', 'OtorhinolaryngologicDisease')] new_terms=[]\n",
      "Other: tp=0 fp=1 fn=1 other=[\"subClassOf MoreSpecificThan AstrocyticTumor ['NeuroepithelialNeoplasm']\"] tp_list=[] fp_list=[('subClassOf', 'CentralNervousSystemOrganBenignNeoplasm')] fn_list=[('HasCharacteristic', 'Rare')] new_terms=[]\n",
      "MISSING: rdfs:subClassOf\n",
      "Other: tp=0 fp=1 fn=0.5 other=[\"subClassOf MoreGeneralThan ['DisorderOfSexualDifferentiation'] 46XXDisorderOfSexDevelopment\"] tp_list=[] fp_list=[('HasMaterialBasisInGermlineMutationIn', 'AR')] fn_list=[] new_terms=['AndrogenExcess_Human_']\n",
      "Other: tp=2 fp=0 fn=0.5 other=[\"subClassOf MoreGeneralThan ['Disease'] CongenitalHeartMalformation\"] tp_list=[('DiseaseHasMajorFeature', 'TranspositionOfTheGreatArteries'), ('DiseaseHasMajorFeature', 'ConotruncalDefect')] fp_list=[] fn_list=[] new_terms=[]\n",
      "MISSING: rdfs:subClassOf\n",
      "Other: tp=1 fp=0 fn=0.5 other=[\"subClassOf MoreGeneralThan ['DevelopmentalDefectDuringEmbryogenesis'] DevelopmentalDefectOfTheEye\"] tp_list=[('DiseaseHasBasisInDisruptionOf', 'LensInductionInCameraTypeEye')] fp_list=[] fn_list=[] new_terms=['LensInductionInCameraTypeEye']\n",
      "Other: tp=1 fp=0 fn=1.0 other=[\"subClassOf MoreGeneralThan ['CentralNervousSystemDisorder', 'InflammatoryDisease'] Encephalomyelitis\", \"subClassOf MoreGeneralThan ['CentralNervousSystemDisorder'] BrainDisorder\"] tp_list=[('DiseaseHasInflammationSite', 'Brain')] fp_list=[] fn_list=[] new_terms=[]\n",
      "results/ont_uberon-Prelationships-Mid.original_id-BGFalse-TrNone-Te40-Mgpt-4-EMopenai.results.yaml\n",
      "results/ont_uberon-Prelationships-Mid.original_id-BGFalse-TrNone-Te40-Mgpt-4-EMopenai.results.yaml RAG-gpt-4\n",
      "Other: tp=1 fp=0 fn=6 other=[\"PartOf MoreSpecificThan SegmentalBronchus ['System', 'LobeOfLung']\"] tp_list=[('subClassOf', 'IntrapulmonaryBronchus')] fp_list=[] fn_list=[('PartOf', 'BronchopulmonarySegment'), ('HasPart', 'CartilageOfBronchus'), ('HasPart', 'BronchusSmoothMuscle'), ('HasPart', 'LungMesenchyme'), ('HasPart', 'BronchusSubmucosalGland'), ('ProximallyConnectedTo', 'SegmentalBronchus')] new_terms=['PreterminalBronchiole']\n",
      "Other: tp=0 fp=0 fn=0.5 other=[\"subClassOf MoreGeneralThan ['LymphNode'] ParietalPelvicLymphNode\"] tp_list=[] fp_list=[] fn_list=[] new_terms=[]\n",
      "Other: tp=0 fp=2 fn=0.5 other=[\"subClassOf MoreGeneralThan ['OrganismSubdivision'] SubdivisionOfTrunk\"] tp_list=[] fp_list=[('AdjacentTo', 'Pericardium'), ('AdjacentTo', 'Heart')] fn_list=[] new_terms=[]\n",
      "Other: tp=1 fp=0 fn=0.5 other=[\"subClassOf MoreGeneralThan ['Mucosa'] MucosaOfBronchiole\"] tp_list=[('PartOf', 'LobularBronchiole')] fp_list=[] fn_list=[] new_terms=[]\n",
      "Other: tp=0 fp=1 fn=1.5 other=[\"PartOf MoreGeneralThan ['Leg'] HindlimbZeugopod\"] tp_list=[] fp_list=[('subClassOf', 'LowerLimbSegment')] fn_list=[('subClassOf', 'AnatomicalStructure_UBERON:0000061')] new_terms=['LowerExtremity']\n",
      "Other: tp=0 fp=0 fn=1 other=[\"PartOf MoreSpecificThan Umbilicus ['Abdomen']\"] tp_list=[] fp_list=[] fn_list=[('subClassOf', 'SkinOfAbdomen')] new_terms=['PeriumbilicalRegion', 'AbdominalSkin']\n",
      "MISSING: AssociatedWith\n",
      "Other: tp=1 fp=0 fn=0.5 other=[\"subClassOf MoreGeneralThan ['ZoneOfSkin'] SkinOfBack\"] tp_list=[('PartOf', 'ThoracolumbarJunction')] fp_list=[] fn_list=[] new_terms=[]\n",
      "Other: tp=1 fp=1 fn=0.5 other=[\"subClassOf MoreGeneralThan ['GlandularAcinus'] MucousAcinus\"] tp_list=[('PartOf', 'SubmucosalGland')] fp_list=[('Produces', 'Mucus')] fn_list=[] new_terms=[]\n",
      "Other: tp=1 fp=0 fn=0.5 other=[\"subClassOf MoreGeneralThan ['Epithelium'] EpitheliumOfBronchiole\"] tp_list=[('PartOf', 'LobularBronchiole')] fp_list=[] fn_list=[] new_terms=[]\n",
      "Other: tp=0 fp=0 fn=0.5 other=[\"subClassOf MoreGeneralThan ['LymphNode'] AbdominalLymphNode\"] tp_list=[] fp_list=[] fn_list=[] new_terms=['PerigastricRegion']\n",
      "Other: tp=1 fp=1 fn=3 other=[\"PartOf MoreSpecificThan MolecularLayerCorpusCerebelli ['Cerebellum']\", \"PartOf MoreSpecificThan MolecularLayerValvulaCerebelli ['Cerebellum']\"] tp_list=[('subClassOf', 'ParallelFiber')] fp_list=[('subClassOf', 'Tissue')] fn_list=[('Overlaps', 'CerebellarGranuleCell'), ('subClassOf', 'NerveFiber'), ('subClassOf', 'CentralNervousSystemCellPartCluster')] new_terms=[]\n",
      "Other: tp=0 fp=2 fn=0.5 other=[\"subClassOf MoreGeneralThan ['ThoracicLymphNode'] SuperiorMediastinalLymphNode\"] tp_list=[] fp_list=[('LocatedIn', 'SuperiorMediastinum'), ('AdjacentTo', 'CarinaOfTrachea')] fn_list=[] new_terms=['LowerLobeBronchus', 'IntermediateBronchus']\n",
      "Other: tp=1 fp=0 fn=0.5 other=[\"subClassOf MoreGeneralThan ['SmoothMuscleTissue'] SmoothMuscleTissueOfBronchiole\"] tp_list=[('PartOf', 'LobularBronchiole')] fp_list=[] fn_list=[] new_terms=[]\n",
      "MISSING: ComposedOf\n",
      "Other: tp=0 fp=1 fn=3.0 other=[\"PartOf MoreGeneralThan ['Lung'] LobeOfLung\", \"subClassOf MoreGeneralThan ['AnatomicalEntity'] OrganSubunit\"] tp_list=[] fp_list=[('HasPart', 'SegmentalBronchus')] fn_list=[('subClassOf', 'EndodermDerivedStructure'), ('ContributesToMorphologyOf', 'LobeOfLung')] new_terms=[]\n",
      "MISSING: BranchesInto\n",
      "MISSING: DrainsTo\n",
      "Other: tp=0 fp=0 fn=1.5 other=[\"subClassOf MoreGeneralThan ['SkinOfLeg'] LowerLegSkin\"] tp_list=[] fp_list=[] fn_list=[('PartOf', 'Calf')] new_terms=['SkinOfLowerLeg']\n",
      "MISSING: AssociatedWith\n",
      "results/ont_uberon-Plabel-Mid.original_id-BGFalse-TrNone-Te40-Mnous-hermes-13b-EMopenai.results.yaml\n",
      "results/ont_envo-Prelationships-Mid.original_id-BGFalse-TrNone-Te50-Mgpt-3.5-turbo-EMopenai.results.yaml\n",
      "results/ont_envo-Prelationships-Mid.original_id-BGFalse-TrNone-Te50-Mgpt-3.5-turbo-EMopenai.results.yaml RAG-gpt-3.5-turbo\n",
      "MISSING: CanBeUsedFor\n",
      "MISSING: FloatsIn\n",
      "MISSING: ProvidesService\n",
      "Other: tp=0 fp=0 fn=0 other=[\"subClassOf MoreSpecificThan GroceryStore ['FoodShop']\"] tp_list=[] fp_list=[] fn_list=[] new_terms=[]\n",
      "Other: tp=0 fp=0 fn=0 other=[\"subClassOf MoreSpecificThan Device ['ManufacturedProduct']\"] tp_list=[] fp_list=[] fn_list=[] new_terms=[]\n",
      "Other: tp=0 fp=0 fn=0.5 other=[\"subClassOf MoreGeneralThan ['ConcentrationOf'] ConcentrationOfAmmoniumInLiquidWater\"] tp_list=[] fp_list=[] fn_list=[] new_terms=[]\n",
      "Other: tp=0 fp=0 fn=0.5 other=[\"subClassOf MoreGeneralThan ['EnvironmentalSystemProcess'] RecyclingProcess\"] tp_list=[] fp_list=[] fn_list=[] new_terms=[]\n",
      "MISSING: HasUsage\n",
      "Other: tp=0 fp=0 fn=0 other=[\"subClassOf MoreSpecificThan Device ['ManufacturedProduct']\"] tp_list=[] fp_list=[] fn_list=[] new_terms=[]\n",
      "MISSING: OwnedBy\n",
      "MISSING: InheresIn\n",
      "Other: tp=0 fp=0 fn=0.5 other=[\"subClassOf MoreGeneralThan ['Albedo'] SoilAlbedo\"] tp_list=[] fp_list=[] fn_list=[] new_terms=[]\n",
      "Other: tp=0 fp=0 fn=0.5 other=[\"subClassOf MoreGeneralThan ['HospitalUnitFacility'] IntensiveCareUnitFacility\"] tp_list=[] fp_list=[] fn_list=[] new_terms=[]\n",
      "results/ont_hp-Pdefinition-Mid.original_id-BGFalse-TrNone-Te50-Mnous-hermes-13b-EMopenai.results.yaml\n",
      "results/ont_mondo-Plogical_definition-Mid.original_id-BGFalse-TrNone-Te50-Mgpt-4-EMopenai.results.yaml\n",
      "results/ont_obi-Pdefinition-Mid.original_id-BGFalse-TrNone-Te50-Mgpt-3.5-turbo-EMopenai-ACgh_obi.results.yaml\n",
      "results/ont_foodon-Pdefinition-Mid.original_id-BGTrue-TrNone-Te50-Mgpt-4-EMopenai-ACgh_foodon.results.yaml\n",
      "results/ont_envo-Plabel-Mid.original_id-BGFalse-TrNone-Te50-Mnous-hermes-13b-EMopenai.results.yaml\n",
      "results/ont_uberon-Pdefinition-Mid.original_id-BGFalse-TrNone-Te40-Mgpt-3.5-turbo-EMopenai-ACgh_uberon.results.yaml\n",
      "results/ont_obi-Plabel-Mid.original_id-BGTrue-TrNone-Te50-Mgpt-4-EMopenai.results.yaml\n",
      "results/ont_go-Prelationships-Mid.original_id-BGFalse-TrNone-Te50-Mgpt-3.5-turbo-EMopenai.results.yaml\n",
      "results/ont_go-Prelationships-Mid.original_id-BGFalse-TrNone-Te50-Mgpt-3.5-turbo-EMopenai.results.yaml RAG-gpt-3.5-turbo\n",
      "Other: tp=0 fp=0 fn=0 other=[\"subClassOf MoreSpecificThan DisruptionOfCellularAnatomicalStructureInAnotherOrganism ['DisruptionOfAnatomicalStructureInAnotherOrganism']\"] tp_list=[] fp_list=[] fn_list=[] new_terms=[]\n",
      "Other: tp=0 fp=0 fn=1.5 other=[\"subClassOf MoreGeneralThan ['RetrotransposonSilencing'] RetrotransposonSilencingByHeterochromatinFormation\"] tp_list=[] fp_list=[] fn_list=[('subClassOf', 'GeneSilencingByRNADirectedDNAMethylation')] new_terms=[]\n",
      "Other: tp=0 fp=0 fn=2.5 other=[\"subClassOf MoreGeneralThan ['OxidoreductaseActivity'] DisulfideOxidoreductaseActivity\"] tp_list=[] fp_list=[] fn_list=[('subClassOf', 'OxidoreductaseActivity_actingOnASulfurGroupOfDonors_disulfideAsAcceptor'), ('subClassOf', 'CatalyticActivity_actingOnAProtein')] new_terms=['ProteinSulfenicAcidResidue', 'NADPNADHBinding', 'ProteinCysteineResidue', 'GlutathioneDisulfide2_', 'ProteinGlutathioneReductaseActivity']\n",
      "Other: tp=1 fp=0 fn=0.5 other=[\"subClassOf MoreGeneralThan ['CellularProcessInvolvedInReproductionInMulticellularOrganism', 'EpigeneticRegulationOfGeneExpression'] GenomicImprinting\"] tp_list=[('PartOf', 'GermCellDevelopment')] fp_list=[] fn_list=[] new_terms=[]\n",
      "Other: tp=1 fp=0 fn=0 other=[\"subClassOf MoreSpecificThan IntracellularNucleotideHomeostasis ['IntracellularChemicalHomeostasis']\"] tp_list=[('RegulatesLevelsOf', 'Nucleoside')] fp_list=[] fn_list=[] new_terms=[]\n",
      "Other: tp=2 fp=0 fn=0.5 other=[\"subClassOf MoreGeneralThan ['BoundingMembraneOfOrganelle'] EndosomeMembrane\"] tp_list=[('PartOf', 'Macropinosome'), ('BoundingLayerOf', 'Macropinosome')] fp_list=[] fn_list=[] new_terms=[]\n",
      "Other: tp=0 fp=0 fn=0.5 other=[\"subClassOf MoreGeneralThan ['UbiquitinProteinLigaseActivity', 'HistoneModifyingActivity'] HistoneUbiquitinLigaseActivity\"] tp_list=[] fp_list=[] fn_list=[] new_terms=[]\n",
      "Other: tp=2 fp=0 fn=0.5 other=[\"subClassOf MoreGeneralThan ['PositiveRegulationOfInnateImmuneResponse'] PositiveRegulationOfPatternRecognitionReceptorSignalingPathway\"] tp_list=[('subClassOf', 'RegulationOfInflammasomeMediatedSignalingPathway'), ('PositivelyRegulates', 'InflammasomeMediatedSignalingPathway')] fp_list=[] fn_list=[] new_terms=['InflammasomeMediatedSignalingPathway', 'RegulationOfInflammasomeMediatedSignalingPathway']\n",
      "Other: tp=0 fp=0 fn=0.5 other=[\"subClassOf MoreGeneralThan ['RNAPolymeraseIICTDHeptapeptideRepeatModifyingActivity'] RNAPolymeraseIICTDHeptapeptideRepeatPhosphataseActivity\"] tp_list=[] fp_list=[] fn_list=[] new_terms=['ProteinSerineThreoninePhosphataseActivity']\n",
      "Other: tp=0 fp=1 fn=0.5 other=[\"subClassOf MoreGeneralThan ['ReproductiveProcess'] MulticellularOrganismalReproductiveProcess\"] tp_list=[] fp_list=[('subClassOf', 'CellularProcessInvolvedInReproductionInMulticellularOrganism')] fn_list=[] new_terms=['Organism']\n",
      "results/ont_oba-Plogical_definition-Mid.original_id-BGFalse-TrNone-Te50-Mgpt-3.5-turbo-EMopenai.results.yaml\n",
      "results/ont_mondo-Prelationships-Mid.original_id-BGTrue-TrNone-Te50-Mgpt-4-EMopenai.results.yaml\n",
      "results/ont_mondo-Prelationships-Mid.original_id-BGTrue-TrNone-Te50-Mgpt-4-EMopenai.results.yaml RAG+background-gpt-4\n",
      "MISSING: AssociatedWith\n",
      "Other: tp=0 fp=2 fn=0 other=[\"subClassOf MoreSpecificThan FamilialHypertrophicCardiomyopathy ['HypertrophicCardiomyopathy']\"] tp_list=[] fp_list=[('subClassOf', 'MitochondrialComplexDeficiency'), ('DiseaseHasBasisInDysfunctionOf', 'MitochondrialRespiratoryChainComplexI')] fn_list=[] new_terms=['MitochondrialGeneticDisease']\n",
      "MISSING: HasEffectOnQualityOfLife\n",
      "MISSING: HasPotentialComplication\n",
      "Other: tp=0 fp=0 fn=0.5 other=[\"subClassOf MoreGeneralThan ['ReproductiveSystemDisorder'] FemaleReproductiveSystemDisorder\"] tp_list=[] fp_list=[] fn_list=[] new_terms=[]\n",
      "Other: tp=0 fp=3 fn=2 other=[\"subClassOf MoreSpecificThan Acrodysostosis ['MandibulofacialDysostosis', 'HereditaryOtorhinolaryngologicDisease']\"] tp_list=[] fp_list=[('HasMaterialBasisInGermlineMutationIn', 'PDE4D'), ('HasMaterialBasisInGermlineMutationIn', 'PRKAR1A'), ('DiseaseHasFeature', 'HormoneResistance')] fn_list=[('subClassOf', 'Polyendocrinopathy'), ('subClassOf', 'AcrofacialDysostosis')] new_terms=[]\n",
      "MISSING: HasMaterialBasisIn\n",
      "MISSING: HasSymptom\n",
      "Other: tp=0 fp=1 fn=0.5 other=[\"subClassOf MoreGeneralThan ['HereditarySpasticParaplegia'] AutosomalRecessiveComplexSpasticParaplegia\"] tp_list=[] fp_list=[('HasMaterialBasisInGermlineMutationIn', 'AP5Z1')] fn_list=[] new_terms=[]\n",
      "MISSING: associatedWith\n",
      "MISSING: HasCause\n",
      "Other: tp=0 fp=0 fn=0.5 other=[\"subClassOf MoreGeneralThan ['DisorderOfSexualDifferentiation'] 46XXDisorderOfSexDevelopment\"] tp_list=[] fp_list=[] fn_list=[] new_terms=[]\n",
      "MISSING: HasMaterialBasisInMutationIn\n",
      "MISSING: AssociatedWith\n",
      "MISSING: HasMaterialBasisInMutationIn\n",
      "Other: tp=2 fp=0 fn=0.5 other=[\"subClassOf MoreGeneralThan ['Disease'] CongenitalHeartMalformation\"] tp_list=[('DiseaseHasMajorFeature', 'TranspositionOfTheGreatArteries'), ('DiseaseHasMajorFeature', 'ConotruncalDefect')] fp_list=[] fn_list=[] new_terms=[]\n",
      "Other: tp=1 fp=0 fn=1.5 other=[\"subClassOf MoreGeneralThan ['InbornErrorsOfMetabolism'] InbornCarbohydrateMetabolicDisorder\"] tp_list=[('DiseaseHasBasisInDisruptionOf', 'GlycerolMetabolicProcess')] fp_list=[] fn_list=[('subClassOf', 'GlycerolMetabolismDisease')] new_terms=[]\n",
      "Other: tp=1 fp=0 fn=1.5 other=[\"subClassOf MoreGeneralThan ['Hypothyroidism'] PermanentCongenitalHypothyroidism\"] tp_list=[('HasCharacteristic', 'HasASyndromicPresentation')] fp_list=[] fn_list=[('subClassOf', 'SyndromicDisease')] new_terms=[]\n",
      "Other: tp=1 fp=0 fn=0.5 other=[\"subClassOf MoreGeneralThan ['DisorderOfDevelopmentOrMorphogenesis'] DevelopmentalDefectOfTheEye\"] tp_list=[('DiseaseHasBasisInDisruptionOf', 'LensInductionInCameraTypeEye')] fp_list=[] fn_list=[] new_terms=['LensInductionInCameraTypeEye']\n",
      "Other: tp=0 fp=2 fn=0.5 other=[\"subClassOf MoreGeneralThan ['NervousSystemDisorder'] AcquiredPeripheralNeuropathy\"] tp_list=[] fp_list=[('DiseaseHasBasisInDisruptionOf', 'PeripheralNervousSystem'), ('DiseaseHasMajorFeature', 'AbnormalityOfMovement')] fn_list=[] new_terms=[]\n",
      "Other: tp=0 fp=1 fn=2.5 other=[\"subClassOf MoreGeneralThan ['IntellectualDisability'] SyndromicIntellectualDisability\"] tp_list=[] fp_list=[('HasMaterialBasisInGermlineMutationIn', 'AP4B1')] fn_list=[('HasCharacteristic', 'Rare'), ('subClassOf', 'AutosomalRecessiveComplexSpasticParaplegia')] new_terms=['SpasticParaplegia']\n",
      "Other: tp=1 fp=0 fn=1.5 other=[\"subClassOf MoreGeneralThan ['InflammatoryDisease'] Encephalomyelitis\"] tp_list=[('DiseaseHasInflammationSite', 'Brain')] fp_list=[] fn_list=[('subClassOf', 'BrainDisorder')] new_terms=[]\n",
      "results/ont_hp-Prelationships-Mid.original_id-BGFalse-TrNone-Te50-Mnous-hermes-13b-EMopenai.results.yaml\n",
      "results/ont_hp-Prelationships-Mid.original_id-BGFalse-TrNone-Te50-Mnous-hermes-13b-EMopenai.results.yaml RAG-nous-hermes-13b\n",
      "Other: tp=0 fp=1 fn=0.5 other=[\"subClassOf MoreGeneralThan ['AbnormalEpidermalMorphology'] AbnormalEpidermalProteinExpression\"] tp_list=[] fp_list=[('subClassOf', 'ReducedCellSurfaceMarkerLevel')] fn_list=[] new_terms=[]\n",
      "Other: tp=0 fp=1 fn=1 other=[\"subClassOf MoreSpecificThan PainInHeadAndNeckRegion ['Pain']\"] tp_list=[] fp_list=[('subClassOf', 'AbnormalEyePhysiology')] fn_list=[('subClassOf', 'AbnormalEyelidPhysiology')] new_terms=[]\n",
      "Other: tp=0 fp=0 fn=0.5 other=[\"subClassOf MoreGeneralThan ['AbnormalStoolComposition'] PositiveStoolInfectiousAgentTest\"] tp_list=[] fp_list=[] fn_list=[] new_terms=[]\n",
      "Other: tp=0 fp=0 fn=0.5 other=[\"subClassOf MoreGeneralThan ['AmelioratedBy'] AmelioratedByExposureToMedication\"] tp_list=[] fp_list=[] fn_list=[] new_terms=[]\n",
      "Other: tp=0 fp=0 fn=0.5 other=[\"subClassOf MoreGeneralThan ['AbnormalSpermMorphology'] AbnormalSpermNeckMorphology\"] tp_list=[] fp_list=[] fn_list=[] new_terms=[]\n",
      "Other: tp=0 fp=0 fn=0.5 other=[\"subClassOf MoreGeneralThan ['AbnormalLymphNodeMorphology'] AbnormalLymphNodeCellComposition\"] tp_list=[] fp_list=[] fn_list=[] new_terms=[]\n",
      "results/ont_mondo-Plabel-Mid.original_id-BGFalse-TrNone-Te50-Mgpt-4-EMopenai.results.yaml\n",
      "results/ont_go-Prelationships-Mid.original_id-BGFalse-TrNone-Te50-Mnous-hermes-13b-EMopenai.results.yaml\n",
      "results/ont_go-Prelationships-Mid.original_id-BGFalse-TrNone-Te50-Mnous-hermes-13b-EMopenai.results.yaml RAG-nous-hermes-13b\n",
      "Other: tp=1 fp=0 fn=0.5 other=[\"subClassOf MoreGeneralThan ['Detoxification'] DetoxificationOfInorganicCompound\"] tp_list=[('HasPrimaryInput', 'AluminiumCation')] fp_list=[] fn_list=[] new_terms=[]\n",
      "Other: tp=0 fp=0 fn=0 other=[\"subClassOf MoreSpecificThan DisruptionOfCellularAnatomicalStructureInAnotherOrganism ['DisruptionOfAnatomicalStructureInAnotherOrganism']\"] tp_list=[] fp_list=[] fn_list=[] new_terms=[]\n",
      "Other: tp=0 fp=1 fn=1.5 other=[\"subClassOf MoreGeneralThan ['BiologicalProcessInvolvedInInteractionWithHost'] PerturbationOfHostMAPKSignalTransductionPathway\"] tp_list=[] fp_list=[('subClassOf', 'KillingOfCellsOfAnotherOrganism')] fn_list=[('subClassOf', 'SymbiontMediatedSuppressionOfHostSignalTransductionPathway')] new_terms=[]\n",
      "Other: tp=1 fp=0 fn=0 other=[\"subClassOf MoreSpecificThan IntracellularAminoAcidHomeostasis ['IntracellularChemicalHomeostasis']\"] tp_list=[('RegulatesLevelsOf', 'Nucleoside')] fp_list=[] fn_list=[] new_terms=[]\n",
      "MISSING: capable of activating\n",
      "Other: tp=1 fp=0 fn=0 other=[\"subClassOf MoreSpecificThan IntracellularAminoAcidHomeostasis ['IntracellularChemicalHomeostasis']\"] tp_list=[('RegulatesLevelsOf', 'NitrogenAtom')] fp_list=[] fn_list=[] new_terms=[]\n",
      "Other: tp=0 fp=0 fn=0.5 other=[\"subClassOf MoreGeneralThan ['UbiquitinProteinLigaseActivity', 'HistoneModifyingActivity'] HistoneUbiquitinLigaseActivity\"] tp_list=[] fp_list=[] fn_list=[] new_terms=[]\n",
      "Other: tp=1 fp=0 fn=1.0 other=[\"subClassOf MoreGeneralThan ['RibosomeBinding'] RibosomalLargeSubunitBinding\", \"subClassOf MoreGeneralThan ['RibosomeBinding'] MitochondrialRibosomeBinding\"] tp_list=[('HasInput', 'MitochondrialLargeRibosomalSubunit')] fp_list=[] fn_list=[] new_terms=[]\n",
      "Other: tp=0 fp=1 fn=0.5 other=[\"subClassOf MoreGeneralThan ['DisruptionBySymbiontOfHostCellularComponent'] PerturbationBySymbiontOfHostActinCytoskeleton\"] tp_list=[] fp_list=[('subClassOf', 'ActinCytoskeletonOrganization')] fn_list=[] new_terms=['FilamentousActinDepolymerizationProcess']\n",
      "results/ont_mp-Prelationships-Mid.original_id-BGFalse-TrNone-Te50-Mnous-hermes-13b-EMopenai.results.yaml\n",
      "results/ont_mp-Prelationships-Mid.original_id-BGFalse-TrNone-Te50-Mnous-hermes-13b-EMopenai.results.yaml RAG-nous-hermes-13b\n",
      "Other: tp=1 fp=1 fn=0.5 other=[\"subClassOf MoreGeneralThan ['AbnormalSpleenWhitePulpMorphology'] AbnormalSpleenBCellFollicleMorphology\"] tp_list=[('subClassOf', 'AbnormalSpleenBCellFollicleNumber')] fp_list=[('HasPlasmaMembranePart', 'IgDImmunoglobulinComplex')] fn_list=[] new_terms=['BCellImmunoglobulinReceptorBCR']\n",
      "Other: tp=0 fp=0 fn=1.5 other=[\"subClassOf MoreGeneralThan ['AbnormalBoneMarrowCavityMorphology'] AbnormalLongBoneInternalDiameter\"] tp_list=[] fp_list=[] fn_list=[('subClassOf', 'AbnormalTibiaMorphology')] new_terms=['DecreasedInternalDiameterOfLongBones']\n",
      "Other: tp=0 fp=0 fn=0.5 other=[\"subClassOf MoreGeneralThan ['AbnormalRespiratorySystemPhysiology'] AbnormalRespiration\"] tp_list=[] fp_list=[] fn_list=[] new_terms=[]\n",
      "Other: tp=0 fp=0 fn=0.5 other=[\"subClassOf MoreGeneralThan ['AbnormalRetinaNeuronalLayerMorphology'] AbnormalRetinaNerveFiberLayerMorphology\"] tp_list=[] fp_list=[] fn_list=[] new_terms=[]\n",
      "Other: tp=0 fp=0 fn=0.5 other=[\"subClassOf MoreGeneralThan ['AbnormalSexGlandPhysiology'] AbnormalSexGlandSecretion\"] tp_list=[] fp_list=[] fn_list=[] new_terms=[]\n",
      "Other: tp=0 fp=0 fn=0.5 other=[\"subClassOf MoreGeneralThan ['AbnormalSexGlandPhysiology'] AbnormalSexGlandSecretion\"] tp_list=[] fp_list=[] fn_list=[] new_terms=[]\n",
      "Other: tp=0 fp=1 fn=0.5 other=[\"subClassOf MoreGeneralThan ['AbnormalAdrenalGlandMorphology'] AbnormalAdrenalGlandZonaFasciculataMorphology\"] tp_list=[] fp_list=[('subClassOf', 'AbnormalSkinSebaceousGlandMorphology')] fn_list=[] new_terms=[]\n",
      "Other: tp=0 fp=0 fn=0.5 other=[\"subClassOf MoreGeneralThan ['AbnormalRetinaNeuronalLayerMorphology'] AbnormalRetinaNerveFiberLayerMorphology\"] tp_list=[] fp_list=[] fn_list=[] new_terms=[]\n",
      "Other: tp=0 fp=0 fn=0.5 other=[\"subClassOf MoreGeneralThan ['AbnormalFacialMorphology'] AbnormalMouthMorphology\"] tp_list=[] fp_list=[] fn_list=[] new_terms=[]\n",
      "Other: tp=0 fp=0 fn=1.0 other=[\"subClassOf MoreGeneralThan ['AbnormalSexGlandSecretion', 'AbnormalOvaryPhysiology'] AbnormalOvarySecretion\", \"subClassOf MoreGeneralThan ['AbnormalSexGlandSecretion'] IncreasedSexGlandSecretion\"] tp_list=[] fp_list=[] fn_list=[] new_terms=[]\n",
      "Other: tp=0 fp=0 fn=0.5 other=[\"subClassOf MoreGeneralThan ['AbnormalIntestineMorphology'] AbnormalIntestinePlacement\"] tp_list=[] fp_list=[] fn_list=[] new_terms=[]\n",
      "Other: tp=0 fp=0 fn=0.5 other=[\"subClassOf MoreGeneralThan ['EmbryonicLethality'] EmbryonicLethalityPriorToToothBudStage\"] tp_list=[] fp_list=[] fn_list=[] new_terms=[]\n",
      "Other: tp=0 fp=0 fn=0.5 other=[\"subClassOf MoreGeneralThan ['EmbryonicLethality'] EmbryonicLethalityPriorToOrganogenesis\"] tp_list=[] fp_list=[] fn_list=[] new_terms=[]\n",
      "Other: tp=0 fp=0 fn=1.5 other=[\"subClassOf MoreGeneralThan ['AbnormalCardiovascularSystemMorphology'] AbnormalBloodVesselMorphology\", \"subClassOf MoreSpecificThan AbnormalVasculogenesis ['AbnormalBloodVesselMorphology']\"] tp_list=[] fp_list=[] fn_list=[('subClassOf', 'AbnormalSkinMorphology')] new_terms=[]\n",
      "Other: tp=0 fp=1 fn=0.5 other=[\"subClassOf MoreGeneralThan ['AbnormalDigitMorphology'] Syndactyly\"] tp_list=[] fp_list=[('subClassOf', 'AbnormalHindlimbMorphology')] fn_list=[] new_terms=[]\n",
      "Other: tp=0 fp=0 fn=0.5 other=[\"subClassOf MoreGeneralThan ['AbnormalBrainDevelopment'] Holoprosencephaly\"] tp_list=[] fp_list=[] fn_list=[] new_terms=[]\n",
      "MISSING: PartiallyFused\n",
      "Other: tp=0 fp=0 fn=0.5 other=[\"subClassOf MoreGeneralThan ['AbnormalBrainDevelopment'] Holoprosencephaly\"] tp_list=[] fp_list=[] fn_list=[] new_terms=[]\n",
      "Other: tp=0 fp=0 fn=0.5 other=[\"subClassOf MoreGeneralThan ['AbnormalEndocytosis'] AbnormalPinocytosis\"] tp_list=[] fp_list=[] fn_list=[] new_terms=[]\n",
      "results/ont_go-Pdefinition-Mid.original_id-BGTrue-TrNone-Te50-Mgpt-3.5-turbo-EMopenai.results.yaml\n",
      "results/ont_oba-Prelationships-Mid.original_id-BGFalse-TrNone-Te50-Mgpt-3.5-turbo-EMopenai.results.yaml\n",
      "results/ont_oba-Prelationships-Mid.original_id-BGFalse-TrNone-Te50-Mgpt-3.5-turbo-EMopenai.results.yaml RAG-gpt-3.5-turbo\n",
      "Other: tp=2 fp=0 fn=1.0 other=[\"subClassOf MoreGeneralThan ['AnatomicalEntityAttribute'] SynovialJointQuality\", \"subClassOf MoreGeneralThan ['AnatomicalEntityAttribute'] HindlimbJointQuality\"] tp_list=[('InheresIn', 'KneeJoint'), ('subClassOf', 'Functionality')] fp_list=[] fn_list=[] new_terms=[]\n",
      "Other: tp=0 fp=0 fn=1.0 other=[\"subClassOf MoreGeneralThan ['ChemicalInBloodAmount'] BloodMetaboliteAmount\", \"subClassOf MoreGeneralThan ['AminoAcidAmount', 'ChemicalInBloodAmount'] BloodAminoAcidAmount\"] tp_list=[] fp_list=[] fn_list=[] new_terms=[]\n",
      "Other: tp=0 fp=0 fn=0 other=[\"subClassOf MoreSpecificThan BloodMetaboliteAmount ['ChemicalInBloodAmount']\"] tp_list=[] fp_list=[] fn_list=[] new_terms=['_:riog00243169']\n",
      "Other: tp=1 fp=0 fn=1.0 other=[\"subClassOf MoreGeneralThan ['AnatomicalEntityAttribute', 'Functionality'] MuscleOrganFunctionality\", \"subClassOf MoreGeneralThan ['AnatomicalEntityAttribute'] HeadTrait\"] tp_list=[('InheresIn', 'FacialMuscle')] fp_list=[] fn_list=[] new_terms=[]\n",
      "Other: tp=0 fp=0 fn=1.5 other=[\"subClassOf MoreGeneralThan ['BloodProteinAmount'] AmountOfAlbuminInBlood\"] tp_list=[] fp_list=[] fn_list=[('subClassOf', 'SerumNonAlbuminProteinAmount')] new_terms=[]\n",
      "Other: tp=1 fp=0 fn=1.0 other=[\"subClassOf MoreGeneralThan ['ArteryMorphologyTrait'] InternalCarotidArterySize\", \"subClassOf MoreGeneralThan ['ArteryMorphologyTrait', 'Thickness'] CarotidArteryThickness\"] tp_list=[('InheresIn', 'InternalCarotidArtery')] fp_list=[] fn_list=[] new_terms=['VesselWallThickness']\n",
      "Other: tp=1 fp=0 fn=1.5 other=[\"subClassOf MoreGeneralThan ['HasNumberOf'] PresacralVertebraQuantity\"] tp_list=[('InheresIn', 'CervicalVertebra')] fp_list=[] fn_list=[('subClassOf', 'OrganismSubdivisionTrait')] new_terms=['VertebraHasNumberOf']\n",
      "Other: tp=1 fp=0 fn=0 other=[\"subClassOf MoreSpecificThan SleepingBehaviorQuality ['BiologicalProcessAttribute']\"] tp_list=[('InheresIn', 'Sleep')] fp_list=[] fn_list=[] new_terms=[]\n",
      "Other: tp=1 fp=0 fn=1 other=[\"subClassOf MoreSpecificThan ReflexAmount ['Amount']\"] tp_list=[('InheresIn', 'StartleReflex')] fp_list=[] fn_list=[('subClassOf', 'StartleReflexQuality')] new_terms=[]\n",
      "Other: tp=1 fp=0 fn=0.5 other=[\"subClassOf MoreGeneralThan ['OrganismTrait'] MulticellularOrganismStructure\"] tp_list=[('subClassOf', 'Stability')] fp_list=[] fn_list=[] new_terms=[]\n",
      "Other: tp=1 fp=0 fn=0.5 other=[\"subClassOf MoreGeneralThan ['ProcessEfficacy'] MotorCoordinationEfficacy\"] tp_list=[('InheresIn', 'GrossMotorCoordination')] fp_list=[] fn_list=[] new_terms=[]\n",
      "Other: tp=1 fp=0 fn=0.5 other=[\"subClassOf MoreGeneralThan ['Amount'] LimbAmount\"] tp_list=[('InheresIn', 'Forelimb')] fp_list=[] fn_list=[] new_terms=[]\n",
      "Other: tp=2 fp=0 fn=0.5 other=[\"subClassOf MoreGeneralThan ['SkullMorphologyTrait'] CraniumMorphology\"] tp_list=[('InheresIn', 'Cranium'), ('subClassOf', 'Shape')] fp_list=[] fn_list=[] new_terms=[]\n",
      "Other: tp=1 fp=0 fn=1.5 other=[\"subClassOf MoreGeneralThan ['HasNumberOf'] VertebraQuantity\"] tp_list=[('InheresIn', 'SacralVertebra')] fp_list=[] fn_list=[('subClassOf', 'OrganismSubdivisionTrait')] new_terms=['VertebraHasNumberOf']\n",
      "results/ont_cl-Plogical_definition-Mid.original_id-BGFalse-TrNone-Te50-Mgpt-3.5-turbo-EMopenai.results.yaml\n",
      "results/ont_mp-Plabel-Mid.original_id-BGFalse-TrNone-Te50-Mgpt-4-EMopenai.results.yaml\n",
      "results/ont_go-Plabel-Mid.original_id-BGTrue-TrNone-Te50-Mgpt-3.5-turbo-EMopenai.results.yaml\n",
      "results/ont_go-Plogical_definition-Mid.original_id-BGFalse-TrNone-Te50-Mgpt-4-EMopenai.results.yaml\n",
      "results/ont_oba-Plabel-Mid.original_id-BGFalse-TrNone-Te50-Mgpt-4-EMopenai.results.yaml\n",
      "results/ont_envo-Prelationships-Mid.original_id-BGTrue-TrNone-Te50-Mgpt-3.5-turbo-EMopenai.results.yaml\n",
      "results/ont_envo-Prelationships-Mid.original_id-BGTrue-TrNone-Te50-Mgpt-3.5-turbo-EMopenai.results.yaml RAG+background-gpt-3.5-turbo\n",
      "MISSING: InheritsQualityFrom\n",
      "Other: tp=0 fp=0 fn=1.5 other=[\"subClassOf MoreGeneralThan ['HealthcareFacility'] HospitalUnitFacility\"] tp_list=[] fp_list=[] fn_list=[('HasPart', 'Pharmacy')] new_terms=[]\n",
      "MISSING: providesService\n",
      "MISSING: UsedFor\n",
      "MISSING: MadeFromMaterial\n",
      "MISSING: usedFor\n",
      "MISSING: UsedFor\n",
      "MISSING: HasIssue\n",
      "MISSING: HasProperty\n",
      "Other: tp=0 fp=0 fn=0.5 other=[\"subClassOf MoreGeneralThan ['HealthcareFacility'] HospitalUnitFacility\"] tp_list=[] fp_list=[] fn_list=[] new_terms=[]\n",
      "Other: tp=0 fp=0 fn=0.5 other=[\"subClassOf MoreGeneralThan ['ConcentrationOf'] ConcentrationOfAmmoniumInLiquidWater\"] tp_list=[] fp_list=[] fn_list=[] new_terms=[]\n",
      "Other: tp=0 fp=0 fn=0.5 other=[\"subClassOf MoreGeneralThan ['HealthcareFacility'] HospitalUnitFacility\"] tp_list=[] fp_list=[] fn_list=[] new_terms=[]\n",
      "Other: tp=0 fp=0 fn=0 other=[\"subClassOf MoreSpecificThan Device ['ManufacturedProduct']\"] tp_list=[] fp_list=[] fn_list=[] new_terms=[]\n",
      "MISSING: HasComposition\n",
      "Other: tp=0 fp=1 fn=0.5 other=[\"subClassOf MoreGeneralThan ['Albedo'] SoilAlbedo\"] tp_list=[] fp_list=[('HasQuality', 'DrySoil')] fn_list=[] new_terms=[]\n",
      "Other: tp=0 fp=0 fn=0.5 other=[\"subClassOf MoreGeneralThan ['HospitalUnitFacility'] IntensiveCareUnitFacility\"] tp_list=[] fp_list=[] fn_list=[] new_terms=[]\n",
      "Other: tp=0 fp=0 fn=0.5 other=[\"subClassOf MoreGeneralThan ['ConcentrationOfCarbonAtomInEnvironmentalMaterial'] ConcentrationOfCarbonAtomInSeaWater\"] tp_list=[] fp_list=[] fn_list=[] new_terms=[]\n",
      "results/ont_oba-Pdefinition-Mid.original_id-BGFalse-TrNone-Te50-Mnous-hermes-13b-EMopenai.results.yaml\n",
      "results/ont_uberon-Prelationships-Mid.original_id-BGFalse-TrNone-Te40-Mnous-hermes-13b-EMopenai.results.yaml\n",
      "results/ont_uberon-Prelationships-Mid.original_id-BGFalse-TrNone-Te40-Mnous-hermes-13b-EMopenai.results.yaml RAG-nous-hermes-13b\n",
      "MISSING: RelatesTo\n",
      "Other: tp=1 fp=1 fn=0.5 other=[\"subClassOf MoreGeneralThan ['Mucosa'] MucosaOfBronchiole\"] tp_list=[('PartOf', 'LobularBronchiole')] fp_list=[('subClassOf', 'RespiratorySystemEpithelium')] fn_list=[] new_terms=[]\n",
      "Other: tp=0 fp=1 fn=1 other=[\"PartOf MoreSpecificThan Umbilicus ['Abdomen']\"] tp_list=[] fp_list=[('subClassOf', 'SkinOfPelvis')] fn_list=[('subClassOf', 'SkinOfAbdomen')] new_terms=['MesodermDerivedStructure']\n",
      "Other: tp=0 fp=1 fn=1.5 other=[\"subClassOf MoreGeneralThan ['ZoneOfSkin'] SkinOfBack\"] tp_list=[] fp_list=[('PartOf', 'ThoracicSegmentOfTrunk')] fn_list=[('PartOf', 'ThoracolumbarJunction')] new_terms=[]\n",
      "Other: tp=1 fp=0 fn=0.5 other=[\"subClassOf MoreGeneralThan ['Epithelium'] EpitheliumOfBronchiole\"] tp_list=[('PartOf', 'LobularBronchiole')] fp_list=[] fn_list=[] new_terms=[]\n",
      "Other: tp=0 fp=0 fn=0.5 other=[\"subClassOf MoreGeneralThan ['LymphNode'] AbdominalLymphNode\"] tp_list=[] fp_list=[] fn_list=[] new_terms=[]\n",
      "Other: tp=1 fp=0 fn=0.5 other=[\"subClassOf MoreGeneralThan ['ThoracicCavityElement'] SuperiorMediastinalLymphNode\"] tp_list=[('LocatedIn', 'Mediastinum')] fp_list=[] fn_list=[] new_terms=[]\n",
      "BAD REL: {'predictive': 'subClassOf', 'target': 'Iris'} in [{'predicate': 'PartOf', 'target': 'CameraTypeEye'}, {'predictive': 'subClassOf', 'target': 'Iris'}]\n",
      "Other: tp=1 fp=0 fn=0.5 other=[\"subClassOf MoreGeneralThan ['SmoothMuscleTissue'] SmoothMuscleTissueOfBronchiole\"] tp_list=[('PartOf', 'LobularBronchiole')] fp_list=[] fn_list=[] new_terms=[]\n",
      "Other: tp=1 fp=0 fn=2.0 other=[\"PartOf MoreGeneralThan ['Lung'] LobeOfLung\", \"subClassOf MoreGeneralThan ['MulticellularAnatomicalStructure'] OrganSubunit\"] tp_list=[('subClassOf', 'EndodermDerivedStructure')] fp_list=[] fn_list=[('ContributesToMorphologyOf', 'LobeOfLung')] new_terms=['EndodermDerivedStructure']\n",
      "Other: tp=0 fp=0 fn=0.5 other=[\"subClassOf MoreGeneralThan ['VisceralAbdominalLymphNode'] MesentericLymphNode\"] tp_list=[] fp_list=[] fn_list=[] new_terms=['IleumMucosa']\n",
      "results/ont_go-Pdefinition-Mid.original_id-BGFalse-TrNone-Te50-Mgpt-3.5-turbo-EMopenai.results.yaml\n",
      "results/ont_obi-Pdefinition-Mid.original_id-BGFalse-TrNone-Te50-Mgpt-4-EMopenai-ACgh_obi.results.yaml\n",
      "results/ont_envo-Prelationships-Mid.original_id-BGTrue-TrNone-Te50-Mgpt-4-EMopenai.results.yaml\n",
      "results/ont_envo-Prelationships-Mid.original_id-BGTrue-TrNone-Te50-Mgpt-4-EMopenai.results.yaml RAG+background-gpt-4\n",
      "MISSING: UsedFor\n",
      "Other: tp=0 fp=0 fn=0.5 other=[\"subClassOf MoreGeneralThan ['HealthcareFacility'] MedicalClinic\"] tp_list=[] fp_list=[] fn_list=[] new_terms=[]\n",
      "Other: tp=0 fp=0 fn=1.5 other=[\"subClassOf MoreGeneralThan ['Construction'] HumanConstruction\"] tp_list=[] fp_list=[] fn_list=[('ParticipatesIn', 'UsageOfAnEnvironmentForCommunityAndSocialServices')] new_terms=['JusticeSystem', 'HumanDirectedConstructionProcess']\n",
      "MISSING: dependentOn\n",
      "MISSING: UsedFor\n",
      "MISSING: UsedFor\n",
      "Other: tp=0 fp=0 fn=0.5 other=[\"subClassOf MoreGeneralThan ['ConcentrationOf'] ConcentrationOfAmmoniumInLiquidWater\"] tp_list=[] fp_list=[] fn_list=[] new_terms=[]\n",
      "MISSING: MoreFormalThan\n",
      "MISSING: LessFormalThan\n",
      "MISSING: ownedBy\n",
      "Other: tp=0 fp=0 fn=0.5 other=[\"subClassOf MoreGeneralThan ['ProcessQuality'] PhysicalQualityOfAProcess\"] tp_list=[] fp_list=[] fn_list=[] new_terms=[]\n",
      "MISSING: InheresIn\n",
      "Other: tp=0 fp=0 fn=0.5 other=[\"subClassOf MoreGeneralThan ['HospitalUnitFacility'] IntensiveCareUnitFacility\"] tp_list=[] fp_list=[] fn_list=[] new_terms=[]\n",
      "MISSING: MadeBy\n",
      "Other: tp=0 fp=0 fn=0.5 other=[\"subClassOf MoreGeneralThan ['ConcentrationOf'] ConcentrationOfCarbonAtomInSeaWater\"] tp_list=[] fp_list=[] fn_list=[] new_terms=[]\n",
      "results/ont_mondo-Pdefinition-Mid.original_id-BGTrue-TrNone-Te50-Mgpt-3.5-turbo-EMopenai.results.yaml\n",
      "results/ont_mp-Pdefinition-Mid.original_id-BGFalse-TrNone-Te50-Mgpt-4-EMopenai.results.yaml\n",
      "results/ont_mondo-Prelationships-Mid.original_id-BGTrue-TrNone-Te50-Mgpt-3.5-turbo-EMopenai.results.yaml\n",
      "results/ont_mondo-Prelationships-Mid.original_id-BGTrue-TrNone-Te50-Mgpt-3.5-turbo-EMopenai.results.yaml RAG+background-gpt-3.5-turbo\n",
      "MISSING: RequiresSurgicalIntervention\n",
      "MISSING: HasManifestation\n",
      "MISSING: HasAlternativeTreatment\n",
      "MISSING: HasAssociatedSyndrome\n",
      "MISSING: RequiresLongTermManagement\n",
      "MISSING: MayDevelopInto\n",
      "MISSING: RequiresCareBy\n",
      "Other: tp=1 fp=1 fn=2 other=[\"subClassOf MoreSpecificThan Acrodysostosis ['MandibulofacialDysostosis', 'HereditaryOtorhinolaryngologicDisease']\"] tp_list=[('subClassOf', 'AcrodysostosisWithMultipleHormoneResistance')] fp_list=[('HasMaterialBasisInGermlineMutationIn', 'PRKAR1A')] fn_list=[('subClassOf', 'Polyendocrinopathy'), ('subClassOf', 'AcrofacialDysostosis')] new_terms=[]\n",
      "Other: tp=0 fp=0 fn=0.5 other=[\"subClassOf MoreGeneralThan ['DisorderOfSexualDifferentiation'] 46XXDisorderOfSexDevelopmentInducedByAndrogensExcess\"] tp_list=[] fp_list=[] fn_list=[] new_terms=[]\n",
      "MISSING: HasAssociatedFinding\n",
      "MISSING: HasMaterialBasisIn\n",
      "MISSING: DiseaseHasCharacteristic\n",
      "Other: tp=0 fp=0 fn=0.5 other=[\"subClassOf MoreGeneralThan ['DisorderOfSexualDifferentiation'] 46XXDisorderOfSexDevelopment\"] tp_list=[] fp_list=[] fn_list=[] new_terms=[]\n",
      "Other: tp=1 fp=0 fn=1.5 other=[\"subClassOf MoreGeneralThan ['InbornErrorsOfMetabolism'] InbornCarbohydrateMetabolicDisorder\"] tp_list=[('DiseaseHasBasisInDisruptionOf', 'GlycerolMetabolicProcess')] fp_list=[] fn_list=[('subClassOf', 'GlycerolMetabolismDisease')] new_terms=[]\n",
      "Other: tp=1 fp=0 fn=1.5 other=[\"subClassOf MoreGeneralThan ['Hypothyroidism'] PermanentCongenitalHypothyroidism\"] tp_list=[('HasCharacteristic', 'HasASyndromicPresentation')] fp_list=[] fn_list=[('subClassOf', 'SyndromicDisease')] new_terms=[]\n",
      "Other: tp=0 fp=0 fn=1 other=[\"subClassOf MoreSpecificThan ExcretoryApparatusOfTheLacrimalSystemAnomaly ['LacrimalApparatusDisorder']\", \"subClassOf MoreSpecificThan SecretoryApparatusOfTheLacrimalSystemAnomaly ['LacrimalApparatusDisorder']\"] tp_list=[] fp_list=[] fn_list=[('HasCharacteristic', 'Rare')] new_terms=[]\n",
      "Other: tp=1 fp=0 fn=0.5 other=[\"subClassOf MoreGeneralThan ['DisorderOfDevelopmentOrMorphogenesis'] DevelopmentalDefectOfTheEye\"] tp_list=[('DiseaseHasBasisInDisruptionOf', 'LensInductionInCameraTypeEye')] fp_list=[] fn_list=[] new_terms=['LensInductionInCameraTypeEye']\n",
      "Other: tp=1 fp=0 fn=1.5 other=[\"subClassOf MoreGeneralThan ['InflammatoryDisease'] Encephalomyelitis\"] tp_list=[('DiseaseHasInflammationSite', 'Brain')] fp_list=[] fn_list=[('subClassOf', 'BrainDisorder')] new_terms=[]\n",
      "results/ont_hp-Plogical_definition-Mid.original_id-BGFalse-TrNone-Te50-Mgpt-3.5-turbo-EMopenai.results.yaml\n",
      "results/ont_obi-Plabel-Mid.original_id-BGFalse-TrNone-Te50-Mgpt-3.5-turbo-EMopenai.results.yaml\n",
      "results/ont_uberon-Pdefinition-Mid.original_id-BGFalse-TrNone-Te40-Mnous-hermes-13b-EMopenai-ACgh_uberon.results.yaml\n",
      "results/ont_envo-Pdefinition-Mid.original_id-BGTrue-TrNone-Te50-Mgpt-4-EMopenai.results.yaml\n",
      "results/ont_mp-Prelationships-Mid.original_id-BGFalse-TrNone-Te50-Mgpt-3.5-turbo-EMopenai.results.yaml\n",
      "results/ont_mp-Prelationships-Mid.original_id-BGFalse-TrNone-Te50-Mgpt-3.5-turbo-EMopenai.results.yaml RAG-gpt-3.5-turbo\n",
      "Other: tp=0 fp=0 fn=0.5 other=[\"subClassOf MoreGeneralThan ['AbnormalSpleenWhitePulpMorphology'] AbnormalSpleenBCellFollicleMorphology\"] tp_list=[] fp_list=[] fn_list=[] new_terms=['AbnormalSpleenWhitePulpNumber']\n",
      "Other: tp=0 fp=0 fn=1.5 other=[\"subClassOf MoreGeneralThan ['AbnormalBoneMarrowCavityMorphology'] AbnormalLongBoneInternalDiameter\"] tp_list=[] fp_list=[] fn_list=[('subClassOf', 'AbnormalTibiaMorphology')] new_terms=['DecreasedInternalDiameterOfLongBones']\n",
      "Other: tp=0 fp=0 fn=0.5 other=[\"subClassOf MoreGeneralThan ['AbnormalRespiratorySystemPhysiology'] AbnormalRespiration\"] tp_list=[] fp_list=[] fn_list=[] new_terms=[]\n",
      "Other: tp=0 fp=0 fn=0.5 other=[\"subClassOf MoreGeneralThan ['AbnormalRetinaNeuronalLayerMorphology'] AbnormalRetinaNerveFiberLayerMorphology\"] tp_list=[] fp_list=[] fn_list=[] new_terms=[]\n",
      "Other: tp=0 fp=0 fn=0.5 other=[\"subClassOf MoreGeneralThan ['AbnormalSexGlandPhysiology'] AbnormalSexGlandSecretion\"] tp_list=[] fp_list=[] fn_list=[] new_terms=[]\n",
      "Other: tp=0 fp=0 fn=0.5 other=[\"subClassOf MoreGeneralThan ['AbnormalMouthMorphology'] AbnormalMouthShape\"] tp_list=[] fp_list=[] fn_list=[] new_terms=[]\n",
      "Other: tp=0 fp=0 fn=0.5 other=[\"subClassOf MoreGeneralThan ['AbnormalAdrenalCortexMorphology'] AbnormalAdrenalGlandZonaFasciculataMorphology\"] tp_list=[] fp_list=[] fn_list=[] new_terms=[]\n",
      "Other: tp=0 fp=0 fn=0.5 other=[\"subClassOf MoreGeneralThan ['AbnormalRetinaNeuronalLayerMorphology'] AbnormalRetinaNerveFiberLayerMorphology\"] tp_list=[] fp_list=[] fn_list=[] new_terms=[]\n",
      "Other: tp=0 fp=0 fn=1.0 other=[\"subClassOf MoreGeneralThan ['AbnormalSexGlandSecretion', 'AbnormalOvaryPhysiology'] AbnormalOvarySecretion\", \"subClassOf MoreGeneralThan ['AbnormalSexGlandSecretion'] IncreasedSexGlandSecretion\"] tp_list=[] fp_list=[] fn_list=[] new_terms=[]\n",
      "Other: tp=0 fp=0 fn=0.5 other=[\"subClassOf MoreGeneralThan ['EmbryonicLethality'] EmbryonicLethalityPriorToToothBudStage\"] tp_list=[] fp_list=[] fn_list=[] new_terms=[]\n",
      "Other: tp=0 fp=0 fn=0.5 other=[\"subClassOf MoreGeneralThan ['EmbryonicLethality'] EmbryonicLethalityPriorToOrganogenesis\"] tp_list=[] fp_list=[] fn_list=[] new_terms=[]\n",
      "Other: tp=0 fp=0 fn=0.5 other=[\"subClassOf MoreGeneralThan ['AbnormalDigitMorphology'] Syndactyly\"] tp_list=[] fp_list=[] fn_list=[] new_terms=[]\n",
      "Other: tp=0 fp=0 fn=0.5 other=[\"subClassOf MoreGeneralThan ['AbnormalEndocytosis'] AbnormalPinocytosis\"] tp_list=[] fp_list=[] fn_list=[] new_terms=[]\n",
      "results/ont_envo-Pdefinition-Mid.original_id-BGFalse-TrNone-Te50-Mgpt-4-EMopenai-ACgh_envo.results.yaml\n",
      "results/ont_go-Prelationships-Mid.original_id-BGTrue-TrNone-Te50-Mgpt-3.5-turbo-EMopenai.results.yaml\n",
      "results/ont_go-Prelationships-Mid.original_id-BGTrue-TrNone-Te50-Mgpt-3.5-turbo-EMopenai.results.yaml RAG+background-gpt-3.5-turbo\n",
      "Other: tp=0 fp=0 fn=2.5 other=[\"subClassOf MoreGeneralThan ['OxidoreductaseActivity'] DisulfideOxidoreductaseActivity\"] tp_list=[] fp_list=[] fn_list=[('subClassOf', 'OxidoreductaseActivity_actingOnASulfurGroupOfDonors_disulfideAsAcceptor'), ('subClassOf', 'CatalyticActivity_actingOnAProtein')] new_terms=['Protein-thiolGroup', 'Protein-glutathioneMixedDisulfideGroup', 'Protein-thiolReductaseActivity', 'Glutathione1_', 'GlutathioneDisulfide2_']\n",
      "Other: tp=1 fp=1 fn=0.5 other=[\"subClassOf MoreGeneralThan ['EpigeneticRegulationOfGeneExpression'] GenomicImprinting\"] tp_list=[('PartOf', 'AutosomeGenomicImprinting')] fp_list=[('subClassOf', 'GermCellDevelopment')] fn_list=[] new_terms=[]\n",
      "MISSING: Activates\n",
      "Other: tp=1 fp=0 fn=0.5 other=[\"subClassOf MoreGeneralThan ['CellularHomeostasis'] IntracellularChemicalHomeostasis\"] tp_list=[('RegulatesLevelsOf', 'NitrogenAtom')] fp_list=[] fn_list=[] new_terms=[]\n",
      "Other: tp=2 fp=0 fn=3.5 other=[\"subClassOf MoreGeneralThan ['MetalIonTransmembraneTransporterActivity'] ManganeseIonTransmembraneTransporterActivity\"] tp_list=[('HasPrimaryInput', 'ManganeseCation'), ('subClassOf', 'AntiporterActivity')] fp_list=[] fn_list=[('subClassOf', 'CalciumMonoatomicCationAntiporterActivity'), ('HasParticipant', 'Manganese2_'), ('HasParticipant', 'Calcium2_')] new_terms=['CalciumManganeseAntiporterActivity', 'Calcium2_']\n",
      "Other: tp=0 fp=0 fn=0.5 other=[\"subClassOf MoreGeneralThan ['UbiquitinProteinLigaseActivity', 'HistoneModifyingActivity'] HistoneUbiquitinLigaseActivity\"] tp_list=[] fp_list=[] fn_list=[] new_terms=[]\n",
      "Other: tp=0 fp=0 fn=0.5 other=[\"subClassOf MoreGeneralThan ['RNAPolymeraseIICTDHeptapeptideRepeatModifyingActivity'] RNAPolymeraseIICTDHeptapeptideRepeatPhosphataseActivity\"] tp_list=[] fp_list=[] fn_list=[] new_terms=['ProteinSerineThreoninePhosphataseActivity']\n",
      "Other: tp=1 fp=0 fn=1.0 other=[\"subClassOf MoreGeneralThan ['RibosomeBinding'] RibosomalLargeSubunitBinding\", \"subClassOf MoreGeneralThan ['RibosomeBinding'] MitochondrialRibosomeBinding\"] tp_list=[('HasInput', 'MitochondrialLargeRibosomalSubunit')] fp_list=[] fn_list=[] new_terms=[]\n",
      "MISSING: Modulates\n",
      "Other: tp=3 fp=0 fn=0.5 other=[\"subClassOf MoreGeneralThan ['NucleosideTransport'] NucleosideTransmembraneTransport\"] tp_list=[('HasPrimaryInput', 'Nucleoside'), ('subClassOf', 'ImportIntoCell'), ('subClassOf', 'ImportAcrossPlasmaMembrane')] fp_list=[] fn_list=[] new_terms=[]\n",
      "Other: tp=0 fp=0 fn=0.5 other=[\"subClassOf MoreGeneralThan ['DisruptionBySymbiontOfHostCellularComponent'] PerturbationBySymbiontOfHostActinCytoskeleton\"] tp_list=[] fp_list=[] fn_list=[] new_terms=[]\n",
      "results/ont_go-Plabel-Mid.original_id-BGFalse-TrNone-Te50-Mgpt-3.5-turbo-EMopenai.results.yaml\n",
      "results/ont_obi-Pdefinition-Mid.original_id-BGFalse-TrNone-Te50-Mnous-hermes-13b-EMopenai.results.yaml\n",
      "results/ont_foodon-Pdefinition-Mid.original_id-BGTrue-TrNone-Te50-Mgpt-4-EMopenai.results.yaml\n",
      "results/ont_obi-Pdefinition-Mid.original_id-BGFalse-TrNone-Te50-Mgpt-3.5-turbo-EMopenai.results.yaml\n",
      "results/ont_mp-Prelationships-Mid.original_id-BGFalse-TrNone-Te50-Mgpt-4-EMopenai.results.yaml\n",
      "results/ont_mp-Prelationships-Mid.original_id-BGFalse-TrNone-Te50-Mgpt-4-EMopenai.results.yaml RAG-gpt-4\n",
      "Other: tp=0 fp=0 fn=0.5 other=[\"subClassOf MoreGeneralThan ['AbnormalSpleenWhitePulpMorphology'] AbnormalSpleenBCellFollicleMorphology\"] tp_list=[] fp_list=[] fn_list=[] new_terms=[]\n",
      "Other: tp=0 fp=0 fn=0.5 other=[\"subClassOf MoreGeneralThan ['AbnormalSexGlandPhysiology'] AbnormalSexGlandSecretion\"] tp_list=[] fp_list=[] fn_list=[] new_terms=[]\n",
      "Other: tp=0 fp=0 fn=0.5 other=[\"subClassOf MoreGeneralThan ['AbnormalMouthMorphology'] AbnormalMouthShape\"] tp_list=[] fp_list=[] fn_list=[] new_terms=[]\n",
      "Other: tp=0 fp=0 fn=0.5 other=[\"subClassOf MoreGeneralThan ['AbnormalRetinaNeuronalLayerMorphology'] AbnormalRetinaNerveFiberLayerMorphology\"] tp_list=[] fp_list=[] fn_list=[] new_terms=[]\n",
      "Other: tp=0 fp=0 fn=0 other=[\"subClassOf MoreSpecificThan AbnormalOralCavityMorphology ['AbnormalMouthMorphology']\"] tp_list=[] fp_list=[] fn_list=[] new_terms=[]\n",
      "Other: tp=0 fp=0 fn=0.5 other=[\"subClassOf MoreGeneralThan ['EmbryonicLethality'] EmbryonicLethalityPriorToToothBudStage\"] tp_list=[] fp_list=[] fn_list=[] new_terms=[]\n",
      "Other: tp=0 fp=0 fn=0.5 other=[\"subClassOf MoreGeneralThan ['EmbryonicLethality'] EmbryonicLethalityPriorToOrganogenesis\"] tp_list=[] fp_list=[] fn_list=[] new_terms=[]\n",
      "Other: tp=0 fp=0 fn=0.5 other=[\"subClassOf MoreGeneralThan ['AbnormalEndocytosis'] AbnormalPinocytosis\"] tp_list=[] fp_list=[] fn_list=[] new_terms=[]\n",
      "results/ont_mondo-Pdefinition-Mid.original_id-BGFalse-TrNone-Te50-Mgpt-4-EMopenai.results.yaml\n",
      "results/ont_uberon-Pdefinition-Mid.original_id-BGFalse-TrNone-Te40-Mgpt-3.5-turbo-EMopenai.results.yaml\n",
      "results/ont_cl-Plabel-Mid.original_id-BGFalse-TrNone-Te50-Mnous-hermes-13b-EMopenai.results.yaml\n",
      "results/ont_obi-Pdefinition-Mid.original_id-BGTrue-TrNone-Te50-Mgpt-3.5-turbo-EMopenai.results.yaml\n",
      "results/ont_uberon-Pdefinition-Mid.original_id-BGFalse-TrNone-Te40-Mgpt-4-EMopenai-ACgh_uberon.results.yaml\n",
      "results/ont_mondo-Plabel-Mid.original_id-BGFalse-TrNone-Te50-Mgpt-3.5-turbo-EMopenai.results.yaml\n",
      "results/ont_envo-Prelationships-Mid.original_id-BGFalse-TrNone-Te50-Mgpt-4-EMopenai.results.yaml\n",
      "results/ont_envo-Prelationships-Mid.original_id-BGFalse-TrNone-Te50-Mgpt-4-EMopenai.results.yaml RAG-gpt-4\n",
      "MISSING: UsedToProvide\n",
      "Other: tp=0 fp=0 fn=0 other=[\"subClassOf MoreSpecificThan Device ['ManufacturedProduct']\"] tp_list=[] fp_list=[] fn_list=[] new_terms=[]\n",
      "Other: tp=0 fp=0 fn=0.5 other=[\"subClassOf MoreGeneralThan ['ConcentrationOf'] ConcentrationOfAmmoniumInLiquidWater\"] tp_list=[] fp_list=[] fn_list=[] new_terms=[]\n",
      "MISSING: InheresIn\n",
      "Other: tp=0 fp=0 fn=0.5 other=[\"subClassOf MoreGeneralThan ['HospitalUnitFacility'] IntensiveCareUnitFacility\"] tp_list=[] fp_list=[] fn_list=[] new_terms=[]\n",
      "Other: tp=0 fp=0 fn=0.5 other=[\"subClassOf MoreGeneralThan ['ConcentrationOf'] ConcentrationOfCarbonAtomInSeaWater\"] tp_list=[] fp_list=[] fn_list=[] new_terms=[]\n",
      "results/ont_hp-Pdefinition-Mid.original_id-BGFalse-TrNone-Te50-Mgpt-4-EMopenai.results.yaml\n",
      "results/ont_foodon-Pdefinition-Mid.original_id-BGFalse-TrNone-Te50-Mnous-hermes-13b-EMopenai.results.yaml\n",
      "results/ont_foodon-Plabel-Mid.original_id-BGTrue-TrNone-Te50-Mgpt-3.5-turbo-EMopenai.results.yaml\n",
      "results/ont_go-Pdefinition-Mid.original_id-BGTrue-TrNone-Te50-Mgpt-4-EMopenai.results.yaml\n",
      "results/ont_cl-Plabel-Mid.original_id-BGTrue-TrNone-Te50-Mgpt-3.5-turbo-EMopenai.results.yaml\n",
      "results/ont_oba-Prelationships-Mid.original_id-BGFalse-TrNone-Te50-Mgpt-4-EMopenai.results.yaml\n",
      "results/ont_oba-Prelationships-Mid.original_id-BGFalse-TrNone-Te50-Mgpt-4-EMopenai.results.yaml RAG-gpt-4\n",
      "Other: tp=0 fp=0 fn=1.0 other=[\"subClassOf MoreGeneralThan ['ChemicalInBloodAmount'] BloodMetaboliteAmount\", \"subClassOf MoreGeneralThan ['ChemicalInBloodAmount'] BloodAminoAcidAmount\"] tp_list=[] fp_list=[] fn_list=[] new_terms=['BiomoleculeAmount']\n",
      "Other: tp=1 fp=0 fn=1.0 other=[\"subClassOf MoreGeneralThan ['HeadMorphologyTrait'] MandibleMorphologyTrait\", \"subClassOf MoreGeneralThan ['HeadMorphologyTrait'] FacialMorphologyTrait\"] tp_list=[('InheresIn', 'Chin')] fp_list=[] fn_list=[] new_terms=[]\n",
      "Other: tp=1 fp=0 fn=0.5 other=[\"subClassOf MoreGeneralThan ['Rate'] LocomotoryBehaviorRate\"] tp_list=[('InheresIn', 'Thigmotaxis')] fp_list=[] fn_list=[] new_terms=['BehavioralResponseToTouch']\n",
      "Other: tp=0 fp=0 fn=0 other=[\"subClassOf MoreSpecificThan BloodMetaboliteAmount ['ChemicalInBloodAmount']\"] tp_list=[] fp_list=[] fn_list=[] new_terms=[]\n",
      "Other: tp=1 fp=1 fn=0.5 other=[\"subClassOf MoreGeneralThan ['Rate'] AggressiveBehaviorRate\"] tp_list=[('InheresIn', 'AggressiveBehaviorTowardsInanimateObjects')] fp_list=[('subClassOf', 'AggressiveBehaviorTowardsObjects')] fn_list=[] new_terms=[]\n",
      "Other: tp=1 fp=0 fn=1.5 other=[\"subClassOf MoreGeneralThan ['Thickness'] CarotidArteryThickness\"] tp_list=[('InheresIn', 'InternalCarotidArtery')] fp_list=[] fn_list=[('subClassOf', 'InternalCarotidArterySize')] new_terms=[]\n",
      "Other: tp=1 fp=0 fn=0.5 other=[\"subClassOf MoreGeneralThan ['HasNumberOf'] PresacralVertebraQuantity\", \"subClassOf MoreSpecificThan CervicalVertebraMorphology ['OrganismSubdivisionTrait']\"] tp_list=[('InheresIn', 'CervicalVertebra')] fp_list=[] fn_list=[] new_terms=[]\n",
      "Other: tp=1 fp=0 fn=0 other=[\"subClassOf MoreSpecificThan BehaviorProcessQuality ['BiologicalProcessAttribute']\"] tp_list=[('InheresIn', 'Sleep')] fp_list=[] fn_list=[] new_terms=[]\n",
      "Other: tp=2 fp=0 fn=0 other=[\"subClassOf MoreSpecificThan ReflexAmount ['Amount']\"] tp_list=[('InheresIn', 'StartleReflex'), ('subClassOf', 'StartleReflexQuality')] fp_list=[] fn_list=[] new_terms=[]\n",
      "Other: tp=1 fp=0 fn=0.5 other=[\"subClassOf MoreGeneralThan ['OrganismTrait'] MulticellularOrganismStructure\"] tp_list=[('subClassOf', 'Stability')] fp_list=[] fn_list=[] new_terms=[]\n",
      "Other: tp=1 fp=0 fn=0.5 other=[\"subClassOf MoreGeneralThan ['ProcessEfficacy'] MotorCoordinationEfficacy\"] tp_list=[('InheresIn', 'GrossMotorCoordination')] fp_list=[] fn_list=[] new_terms=[]\n",
      "Other: tp=0 fp=0 fn=1 other=[\"subClassOf MoreSpecificThan BloodProteinAmount ['NitrogenMolecularEntityAmount']\"] tp_list=[] fp_list=[] fn_list=[('subClassOf', 'BloodHormoneAmount')] new_terms=[]\n",
      "Other: tp=2 fp=0 fn=1.5 other=[\"subClassOf MoreGeneralThan ['HasNumberOf'] VertebraQuantity\"] tp_list=[('InheresIn', 'SacralVertebra'), ('subClassOf', 'SacralVertebraHasNumberOf')] fp_list=[] fn_list=[('subClassOf', 'OrganismSubdivisionTrait')] new_terms=[]\n",
      "results/ont_mondo-Plogical_definition-Mid.original_id-BGFalse-TrNone-Te50-Mgpt-3.5-turbo-EMopenai.results.yaml\n",
      "results/ont_mp-Pdefinition-Mid.original_id-BGFalse-TrNone-Te50-Mgpt-3.5-turbo-EMopenai.results.yaml\n",
      "results/ont_uberon-Plabel-Mid.original_id-BGFalse-TrNone-Te40-Mgpt-3.5-turbo-EMopenai.results.yaml\n",
      "results/ont_cl-Prelationships-Mid.original_id-BGFalse-TrNone-Te50-Mgpt-3.5-turbo-EMopenai.results.yaml\n",
      "results/ont_cl-Prelationships-Mid.original_id-BGFalse-TrNone-Te50-Mgpt-3.5-turbo-EMopenai.results.yaml RAG-gpt-3.5-turbo\n",
      "MISSING: HasExpressionOf\n",
      "MISSING: ConnectsTo\n",
      "MISSING: ContributesTo\n",
      "Other: tp=1 fp=1 fn=2.5 other=[\"subClassOf MoreGeneralThan ['Macrophage'] LungMacrophage\"] tp_list=[('PartOf', 'LungConnectiveTissue')] fp_list=[('CapableOf', 'TissueRemodeling')] fn_list=[('subClassOf', 'TissueResidentMacrophage'), ('subClassOf', 'ConnectiveTissueCell')] new_terms=['AntigenPresentation']\n",
      "Other: tp=1 fp=0 fn=1.5 other=[\"subClassOf MoreGeneralThan ['MucusSecretingCell'] MucusSecretingCellOfTracheobronchialTreeSubmucosalGland\"] tp_list=[('PartOf', 'BronchusSubmucosalGland')] fp_list=[] fn_list=[('subClassOf', 'BronchialEpithelialCell')] new_terms=[]\n",
      "MISSING: ConnectsTo\n",
      "Other: tp=0 fp=0 fn=1.5 other=[\"subClassOf MoreGeneralThan ['CiliatedEpithelialCell'] EndometrialCiliatedEpithelialCell\"] tp_list=[] fp_list=[] fn_list=[('PartOf', 'EndometriumGlandularEpithelium')] new_terms=['EndometrialGlandularEpithelium']\n",
      "Other: tp=1 fp=1 fn=0.5 other=[\"subClassOf MoreGeneralThan ['EpithelialCell'] RespiratoryEpithelialCell\"] tp_list=[('PartOf', 'RespiratoryTractEpithelium')] fp_list=[('subClassOf', 'PrecursorCell')] fn_list=[] new_terms=['CentrioleAmplification']\n",
      "Other: tp=0 fp=0 fn=0.5 other=[\"subClassOf MoreGeneralThan ['MediumSpinyNeuron'] IndirectPathwayMediumSpinyNeuron\"] tp_list=[] fp_list=[] fn_list=[] new_terms=['MatrixCompartmentOfDorsalStriatum', 'DRD2']\n",
      "Other: tp=0 fp=2 fn=2.5 other=[\"subClassOf MoreGeneralThan ['Cell'] MyofibroblastCell\"] tp_list=[] fp_list=[('PartOf', 'Alveolus'), ('subClassOf', 'MesenchymalCell')] fn_list=[('PartOf', 'LungConnectiveTissue'), ('ParticipatesIn', 'LungAlveolusDevelopment')] new_terms=['Elastin', 'Tenascin', 'MetalloproteinaseSecretingCell', 'Myofibroblast', 'ApoptoticCell']\n",
      "Other: tp=1 fp=0 fn=0.5 other=[\"subClassOf MoreGeneralThan ['CiliatedCell', 'EpithelialCell'] CiliatedEpithelialCell\"] tp_list=[('PartOf', 'EndometriumEpithelium')] fp_list=[] fn_list=[] new_terms=[]\n",
      "MISSING: HasCellPart\n",
      "Other: tp=0 fp=2 fn=0.5 other=[\"subClassOf MoreGeneralThan ['MediumSpinyNeuron'] DirectPathwayMediumSpinyNeuron\"] tp_list=[] fp_list=[('LocatedIn', 'DorsalStriatum'), ('PartOf', 'MatrixCompartment')] fn_list=[] new_terms=['DRD1']\n",
      "Other: tp=1 fp=0 fn=1.5 other=[\"PartOf MoreGeneralThan ['Bronchiole'] SmoothMuscleTissueOfBronchiole\"] tp_list=[('subClassOf', 'BronchiolarSmoothMuscleCell')] fp_list=[] fn_list=[('subClassOf', 'TracheobronchialSmoothMuscleCell')] new_terms=[]\n",
      "Other: tp=0 fp=2 fn=0.5 other=[\"subClassOf MoreGeneralThan ['MediumSpinyNeuron'] IndirectPathwayMediumSpinyNeuron\"] tp_list=[] fp_list=[('PartOf', 'DorsalStriatum'), ('PartOf', 'Striosome')] fn_list=[] new_terms=['DRD2Human']\n",
      "MISSING: HasMinimalContactWith\n",
      "MISSING: HasSynapticIOWith\n",
      "MISSING: InvasiveCellType\n",
      "MISSING: LacksMorphologicalFeature\n",
      "Other: tp=1 fp=0 fn=2.5 other=[\"DevelopsFrom MoreGeneralThan ['Spermatid'] EarlySpermatid\"] tp_list=[('subClassOf', 'Spermatid')] fp_list=[] fn_list=[('PartOf', 'MaleReproductiveSystem'), ('CapableOf', 'SpermatidDevelopment')] new_terms=[]\n",
      "results/ont_hp-Plogical_definition-Mid.original_id-BGFalse-TrNone-Te50-Mgpt-4-EMopenai.results.yaml\n",
      "results/ont_cl-Prelationships-Mid.original_id-BGFalse-TrNone-Te50-Mgpt-4-EMopenai.results.yaml\n",
      "results/ont_cl-Prelationships-Mid.original_id-BGFalse-TrNone-Te50-Mgpt-4-EMopenai.results.yaml RAG-gpt-4\n",
      "MISSING: ReceivesConnectivityInputFrom\n",
      "MISSING: AxonIn\n",
      "Other: tp=1 fp=1 fn=2.5 other=[\"subClassOf MoreGeneralThan ['Macrophage'] LungMacrophage\"] tp_list=[('PartOf', 'LungConnectiveTissue')] fp_list=[('CapableOf', 'TissueRemodeling')] fn_list=[('subClassOf', 'TissueResidentMacrophage'), ('subClassOf', 'ConnectiveTissueCell')] new_terms=['AntigenPresentation']\n",
      "Other: tp=1 fp=0 fn=1.5 other=[\"subClassOf MoreGeneralThan ['SeromucusSecretingCell'] MucusSecretingCellOfTracheobronchialTreeSubmucosalGland\"] tp_list=[('PartOf', 'BronchusSubmucosalGland')] fp_list=[] fn_list=[('subClassOf', 'BronchialEpithelialCell')] new_terms=[]\n",
      "MISSING: ConnectsTo\n",
      "Other: tp=0 fp=0 fn=1.5 other=[\"subClassOf MoreGeneralThan ['CiliatedEpithelialCell'] EndometrialCiliatedEpithelialCell\"] tp_list=[] fp_list=[] fn_list=[('PartOf', 'EndometriumGlandularEpithelium')] new_terms=['EndometrialGlandularEpithelium']\n",
      "Other: tp=0 fp=0 fn=0.5 other=[\"subClassOf MoreGeneralThan ['MediumSpinyNeuron'] IndirectPathwayMediumSpinyNeuron\"] tp_list=[] fp_list=[] fn_list=[] new_terms=['MatrixCompartmentOfStriatum', 'DRD2']\n",
      "MISSING: HasSynapticConvergenceOf\n",
      "MISSING: HasSynapticDivergentTo\n",
      "Other: tp=1 fp=0 fn=1.5 other=[\"subClassOf MoreGeneralThan ['NeuronAssociatedCell'] GlialCell\"] tp_list=[('PartOf', 'EntericNervousSystem')] fp_list=[] fn_list=[('Expresses', 'GlialFibrillaryAcidicProtein')] new_terms=[]\n",
      "MISSING: HasCytosolPart\n",
      "Other: tp=1 fp=0 fn=0.5 other=[\"subClassOf MoreGeneralThan ['CiliatedCell', 'EpithelialCell'] CiliatedEpithelialCell\"] tp_list=[('PartOf', 'EndometriumEpithelium')] fp_list=[] fn_list=[] new_terms=[]\n",
      "Other: tp=0 fp=0 fn=0.5 other=[\"subClassOf MoreGeneralThan ['MediumSpinyNeuron'] DirectPathwayMediumSpinyNeuron\"] tp_list=[] fp_list=[] fn_list=[] new_terms=['MatrixCompartmentOfDorsalStriatum', 'DRD1']\n",
      "Other: tp=0 fp=0 fn=1.0 other=[\"subClassOf MoreGeneralThan ['SmoothMuscleCell'] TracheobronchialSmoothMuscleCell\", \"PartOf MoreGeneralThan ['Bronchiole'] SmoothMuscleTissueOfBronchiole\"] tp_list=[] fp_list=[] fn_list=[] new_terms=[]\n",
      "Other: tp=0 fp=0 fn=0.5 other=[\"subClassOf MoreGeneralThan ['MediumSpinyNeuron'] IndirectPathwayMediumSpinyNeuron\"] tp_list=[] fp_list=[] fn_list=[] new_terms=['StriosomeOfDorsalStriatum', 'DRD2']\n",
      "MISSING: isPartOf\n",
      "MISSING: minimalContactWith\n",
      "MISSING: SynapsesWith\n",
      "Other: tp=0 fp=0 fn=0.5 other=[\"subClassOf MoreGeneralThan ['TrophoblastCell'] ChorionicTrophoblastCell\"] tp_list=[] fp_list=[] fn_list=[] new_terms=['FormationOfEndometrialCup', 'EquusCaballus']\n",
      "MISSING: LacksIntracellularComponent\n",
      "Other: tp=0 fp=1 fn=0.5 other=[\"subClassOf MoreGeneralThan ['EpithelialCellOfLung'] Pneumocyte\"] tp_list=[] fp_list=[('DevelopsInto', 'TypeIIPneumocyte')] fn_list=[] new_terms=['FetalProepithelialCell']\n",
      "results/ont_hp-Plabel-Mid.original_id-BGFalse-TrNone-Te50-Mgpt-3.5-turbo-EMopenai.results.yaml\n",
      "results/ont_cl-Pdefinition-Mid.original_id-BGFalse-TrNone-Te50-Mnous-hermes-13b-EMopenai.results.yaml\n",
      "results/ont_foodon-Plabel-Mid.original_id-BGFalse-TrNone-Te50-Mnous-hermes-13b-EMopenai.results.yaml\n",
      "results/ont_uberon-Plabel-Mid.original_id-BGFalse-TrNone-Te44-Mgpt-4-EMopenai.results.yaml\n",
      "results/ont_foodon-Pdefinition-Mid.original_id-BGTrue-TrNone-Te50-Mgpt-3.5-turbo-EMopenai-ACgh_foodon.results.yaml\n",
      "results/ont_hp-Pdefinition-Mid.original_id-BGFalse-TrNone-Te50-Mgpt-3.5-turbo-EMopenai.results.yaml\n",
      "results/ont_mp-Plogical_definition-Mid.original_id-BGFalse-TrNone-Te50-Mgpt-4-EMopenai.results.yaml\n",
      "results/ont_oba-Plabel-Mid.original_id-BGFalse-TrNone-Te50-Mnous-hermes-13b-EMopenai.results.yaml\n",
      "results/ont_envo-Pdefinition-Mid.original_id-BGFalse-TrNone-Te50-Mgpt-3.5-turbo-EMopenai-ACgh_envo.results.yaml\n",
      "results/ont_cl-Pdefinition-Mid.original_id-BGFalse-TrNone-Te50-Mgpt-3.5-turbo-EMopenai-ACdevdocs_cl.results.yaml\n",
      "results/ont_cl-Pdefinition-Mid.original_id-BGFalse-TrNone-Te50-Mgpt-3.5-turbo-EMopenai-ACgh_cl.results.yaml\n",
      "results/ont_cl-Prelationships-Mid.original_id-BGTrue-TrNone-Te50-Mgpt-4-EMopenai.results.yaml\n",
      "results/ont_cl-Prelationships-Mid.original_id-BGTrue-TrNone-Te50-Mgpt-4-EMopenai.results.yaml RAG+background-gpt-4\n",
      "MISSING: Contacts\n",
      "MISSING: StratifiesInRegion\n",
      "MISSING: HasDistribution\n",
      "MISSING: IsPartOf\n",
      "MISSING: PredominantlyConnectsTo\n",
      "MISSING: ContributesTo\n",
      "Other: tp=0 fp=0 fn=3.5 other=[\"subClassOf MoreGeneralThan ['Macrophage'] LungMacrophage\"] tp_list=[] fp_list=[] fn_list=[('PartOf', 'LungConnectiveTissue'), ('subClassOf', 'TissueResidentMacrophage'), ('subClassOf', 'ConnectiveTissueCell')] new_terms=['PulmonaryInterstitium', 'AntigenPresentation', 'LungConnectiveTissueCell']\n",
      "Other: tp=1 fp=0 fn=1.5 other=[\"subClassOf MoreGeneralThan ['ExocrineCell'] MucusSecretingCellOfTracheobronchialTreeSubmucosalGland\"] tp_list=[('PartOf', 'BronchusSubmucosalGland')] fp_list=[] fn_list=[('subClassOf', 'BronchialEpithelialCell')] new_terms=['RespiratorySystemCell']\n",
      "MISSING: ConnectsTo\n",
      "Other: tp=0 fp=0 fn=1.5 other=[\"subClassOf MoreGeneralThan ['CiliatedEpithelialCell'] EndometrialCiliatedEpithelialCell\"] tp_list=[] fp_list=[] fn_list=[('PartOf', 'EndometriumGlandularEpithelium')] new_terms=['EndometrialGlandularEpithelium']\n",
      "MISSING: ContributesTo\n",
      "Other: tp=1 fp=0 fn=0.5 other=[\"subClassOf MoreGeneralThan ['EpithelialCell'] RespiratoryEpithelialCell\"] tp_list=[('PartOf', 'RespiratoryTractEpithelium')] fp_list=[] fn_list=[] new_terms=[]\n",
      "Other: tp=0 fp=0 fn=0.5 other=[\"subClassOf MoreGeneralThan ['MediumSpinyNeuron'] IndirectPathwayMediumSpinyNeuron\"] tp_list=[] fp_list=[] fn_list=[] new_terms=['MatrixCompartmentOfDorsalStriatum', 'DRD2']\n",
      "MISSING: Secretes\n",
      "MISSING: CooperatesWith\n",
      "MISSING: ContributesTo\n",
      "MISSING: Undergoes\n",
      "MISSING: connectsTo\n",
      "MISSING: HasCytosolPart\n",
      "MISSING: AxonCharacterizedBy\n",
      "MISSING: MostContactsAre\n",
      "Other: tp=0 fp=0 fn=1.0 other=[\"subClassOf MoreGeneralThan ['CiliatedCell', 'EpithelialCell'] CiliatedEpithelialCell\", \"PartOf MoreGeneralThan ['Endometrium'] EndometriumEpithelium\"] tp_list=[] fp_list=[] fn_list=[] new_terms=[]\n",
      "MISSING: AssociatedWith\n",
      "MISSING: HasProperty\n",
      "Other: tp=0 fp=0 fn=0.5 other=[\"subClassOf MoreGeneralThan ['MediumSpinyNeuron'] DirectPathwayMediumSpinyNeuron\"] tp_list=[] fp_list=[] fn_list=[] new_terms=['MatrixCompartmentOfDorsalStriatum', 'DRD1']\n",
      "Other: tp=0 fp=0 fn=1.0 other=[\"subClassOf MoreGeneralThan ['SmoothMuscleCell'] TracheobronchialSmoothMuscleCell\", \"PartOf MoreGeneralThan ['Bronchiole'] SmoothMuscleTissueOfBronchiole\"] tp_list=[] fp_list=[] fn_list=[] new_terms=[]\n",
      "Other: tp=0 fp=0 fn=0.5 other=[\"subClassOf MoreGeneralThan ['MediumSpinyNeuron'] IndirectPathwayMediumSpinyNeuron\"] tp_list=[] fp_list=[] fn_list=[] new_terms=['D2_dopamineReceptor', 'StriosomeOfDorsalStriatum']\n",
      "MISSING: HasSynapticContactWith\n",
      "MISSING: HasMinimalContactWith\n",
      "MISSING: FoundInTaxon\n",
      "Other: tp=1 fp=0 fn=0.5 other=[\"subClassOf MoreGeneralThan ['TrophoblastCell'] ChorionicTrophoblastCell\"] tp_list=[('PartOf', 'ChorionMembrane')] fp_list=[] fn_list=[] new_terms=[]\n",
      "MISSING: LacksIntracellularPart\n",
      "Other: tp=0 fp=1 fn=3.5 other=[\"DevelopsFrom MoreGeneralThan ['Spermatid'] EarlySpermatid\"] tp_list=[] fp_list=[('subClassOf', 'AnimalCell')] fn_list=[('subClassOf', 'Spermatid'), ('CapableOf', 'SpermatidDevelopment'), ('PartOf', 'MaleReproductiveSystem')] new_terms=['TranscriptionallyInert', 'FullyDevelopedAcrosome', 'ElongatedMorphology']\n",
      "results/ont_cl-Pdefinition-Mid.original_id-BGFalse-TrNone-Te50-Mgpt-3.5-turbo-EMopenai.results.yaml\n",
      "results/ont_obi-Plabel-Mid.original_id-BGFalse-TrNone-Te50-Mgpt-4-EMopenai.results.yaml\n",
      "results/ont_cl-Prelationships-Mid.original_id-BGTrue-TrNone-Te50-Mgpt-3.5-turbo-EMopenai.results.yaml\n",
      "results/ont_cl-Prelationships-Mid.original_id-BGTrue-TrNone-Te50-Mgpt-3.5-turbo-EMopenai.results.yaml RAG+background-gpt-3.5-turbo\n",
      "Other: tp=6 fp=0 fn=0.5 other=[\"subClassOf MoreGeneralThan ['ProfessionalAntigenPresentingCell', 'MononuclearCell'] DendriticCell\"] tp_list=[('HasPart', 'MHCClassIIProteinComplex'), ('LacksPlasmaMembranePart', 'CD3Epsilon'), ('LacksPlasmaMembranePart', 'CD19Molecule'), ('LacksPlasmaMembranePart', 'CD34Molecule'), ('CapableOf', 'CytokineProduction'), ('CapableOf', 'RegulationOfTCellDifferentiation')] fp_list=[] fn_list=[] new_terms=['ProteinContainingMaterialEntity']\n",
      "MISSING: ConnectsWith\n",
      "MISSING: EnrichedIn\n",
      "MISSING: ConnectsTo\n",
      "Other: tp=1 fp=0 fn=1.5 other=[\"subClassOf MoreGeneralThan ['ExocrineCell', 'MucusSecretingCell'] MucusSecretingCellOfTracheobronchialTreeSubmucosalGland\"] tp_list=[('PartOf', 'BronchusSubmucosalGland')] fp_list=[] fn_list=[('subClassOf', 'BronchialEpithelialCell')] new_terms=[]\n",
      "MISSING: HasSynapticIOWith\n",
      "Other: tp=0 fp=0 fn=1.5 other=[\"subClassOf MoreGeneralThan ['CiliatedEpithelialCell'] EndometrialCiliatedEpithelialCell\"] tp_list=[] fp_list=[] fn_list=[('PartOf', 'EndometriumGlandularEpithelium')] new_terms=['EndometrialGlandularEpithelium']\n",
      "MISSING: Amplifies\n",
      "Other: tp=0 fp=1 fn=0.5 other=[\"subClassOf MoreGeneralThan ['MediumSpinyNeuron'] IndirectPathwayMediumSpinyNeuron\"] tp_list=[] fp_list=[('PartOf', 'MatrixCompartment')] fn_list=[] new_terms=['DRD2']\n",
      "MISSING: ExpressesGene\n",
      "MISSING: LocalizedIn\n",
      "BAD REL: {'predicate': 'Produces', 'target': ['FrameworkOfElastin', 'Tenascin']} in [{'predicate': 'subClassOf', 'target': 'Myofibroblast'}, {'predicate': 'PartOf', 'target': 'Alveoli'}, {'predicate': 'Function', 'target': 'ElongateSecondaryCrest'}, {'predicate': 'Produces', 'target': ['FrameworkOfElastin', 'Tenascin']}, {'predicate': 'WorksWith', 'target': 'MatrixFibroblast'}, {'predicate': 'Secrete', 'target': 'Metalloproteinases'}, {'predicate': 'ContinuesProducing', 'target': 'Elastin'}, {'predicate': 'Undergoes', 'target': 'Apoptosis'}, {'predicate': 'subClassOf', 'target': 'LungDevelopmentCell'}]\n",
      "MISSING: Secrete\n",
      "MISSING: ContinuesProducing\n",
      "MISSING: WorksWith\n",
      "MISSING: Undergoes\n",
      "MISSING: HasSynapticIOWith\n",
      "MISSING: UndergoesChangeInShape\n",
      "MISSING: FormsBarrierAgainst\n",
      "MISSING: HasShape\n",
      "MISSING: LacksCytoplasmicPart\n",
      "MISSING: HasCytoplasmicPart\n",
      "Other: tp=0 fp=0 fn=4.5 other=[\"subClassOf MoreGeneralThan ['EpithelialCell'] EpithelialCellOfProximalTubule\"] tp_list=[] fp_list=[] fn_list=[('Expresses', 'Prominin1'), ('Expresses', 'SignalTransducerCD24'), ('Expresses', 'Vimentin'), ('PartOf', 'ProximalTubularEpithelium')] new_terms=['RenalProximalTubule', 'TubularRegeneration', 'CD133Antigen', 'BrushBorder', 'CD24Molecule']\n",
      "MISSING: IsAssociatedWith\n",
      "MISSING: HasMorphology\n",
      "Other: tp=1 fp=0 fn=0.5 other=[\"subClassOf MoreGeneralThan ['CiliatedCell', 'EpithelialCell'] CiliatedEpithelialCell\"] tp_list=[('PartOf', 'EndometriumEpithelium')] fp_list=[] fn_list=[] new_terms=[]\n",
      "Other: tp=0 fp=1 fn=0.5 other=[\"subClassOf MoreGeneralThan ['MediumSpinyNeuron'] DirectPathwayMediumSpinyNeuron\"] tp_list=[] fp_list=[('PartOf', 'MatrixCompartment')] fn_list=[] new_terms=['DRD1_receptor']\n",
      "Other: tp=0 fp=0 fn=1.0 other=[\"subClassOf MoreGeneralThan ['SmoothMuscleCell'] TracheobronchialSmoothMuscleCell\", \"PartOf MoreGeneralThan ['Bronchiole'] SmoothMuscleTissueOfBronchiole\"] tp_list=[] fp_list=[] fn_list=[] new_terms=[]\n",
      "Other: tp=0 fp=2 fn=0.5 other=[\"subClassOf MoreGeneralThan ['MediumSpinyNeuron'] IndirectPathwayMediumSpinyNeuron\"] tp_list=[] fp_list=[('PartOf', 'DorsalStriatum'), ('PartOf', 'Striosome')] fn_list=[] new_terms=['DRD2']\n",
      "MISSING: Resembles\n",
      "Other: tp=1 fp=0 fn=0.5 other=[\"subClassOf MoreGeneralThan ['TransitionalEpithelialCell'] UrothelialCell\"] tp_list=[('PartOf', 'Urothelium')] fp_list=[] fn_list=[] new_terms=[]\n",
      "MISSING: HasSynapticContactWith\n",
      "MISSING: HasMinimalSynapticContactWith\n",
      "Other: tp=0 fp=0 fn=0.5 other=[\"subClassOf MoreGeneralThan ['TrophoblastCell'] ChorionicTrophoblastCell\"] tp_list=[] fp_list=[] fn_list=[] new_terms=[]\n",
      "MISSING: LacksOrganelle\n",
      "Other: tp=3 fp=1 fn=3.0 other=[\"DevelopsFrom MoreGeneralThan ['SecondarySpermatocyte'] EarlySpermatid\", \"subClassOf MoreGeneralThan ['MaleGermCell', 'HaploidCell'] Spermatid\"] tp_list=[('CapableOf', 'AcrosomeAssembly'), ('CapableOf', 'SpermAxonemeAssembly'), ('CapableOf', 'SpermatidNucleusDifferentiation')] fp_list=[('subClassOf', 'AnimalCell')] fn_list=[('PartOf', 'MaleReproductiveSystem'), ('CapableOf', 'SpermatidDevelopment')] new_terms=[]\n",
      "Other: tp=2 fp=0 fn=0.5 other=[\"subClassOf MoreGeneralThan ['ConnectiveTissueCell'] DentalPulpCell\"] tp_list=[('subClassOf', 'StemCell'), ('PartOf', 'DentalPulp')] fp_list=[] fn_list=[] new_terms=[]\n",
      "results/ont_oba-Plogical_definition-Mid.original_id-BGFalse-TrNone-Te50-Mgpt-4-EMopenai.results.yaml\n",
      "results/ont_uberon-Prelationships-Mid.original_id-BGFalse-TrNone-Te40-Mgpt-3.5-turbo-EMopenai.results.yaml\n",
      "results/ont_uberon-Prelationships-Mid.original_id-BGFalse-TrNone-Te40-Mgpt-3.5-turbo-EMopenai.results.yaml RAG-gpt-3.5-turbo\n",
      "Other: tp=1 fp=0 fn=1.5 other=[\"subClassOf MoreGeneralThan ['AnatomicalStructure'] SubdivisionOfDigestiveTract\"] tp_list=[('PartOf', 'DigestiveSystem')] fp_list=[] fn_list=[('OnlyInTaxon', 'Bilateria')] new_terms=[]\n",
      "Other: tp=0 fp=0 fn=7 other=[\"PartOf MoreSpecificThan SegmentalBronchus ['System', 'LobeOfLung']\"] tp_list=[] fp_list=[] fn_list=[('PartOf', 'BronchopulmonarySegment'), ('HasPart', 'CartilageOfBronchus'), ('HasPart', 'BronchusSmoothMuscle'), ('HasPart', 'LungMesenchyme'), ('HasPart', 'BronchusSubmucosalGland'), ('ProximallyConnectedTo', 'SegmentalBronchus'), ('subClassOf', 'IntrapulmonaryBronchus')] new_terms=['ConductingAirway', 'PreterminalBronchiole']\n",
      "Other: tp=0 fp=0 fn=0.5 other=[\"subClassOf MoreGeneralThan ['LymphNode'] ParietalPelvicLymphNode\"] tp_list=[] fp_list=[] fn_list=[] new_terms=[]\n",
      "Other: tp=2 fp=0 fn=0.5 other=[\"subClassOf MoreGeneralThan ['SkeletalElement'] CartilageElement\"] tp_list=[('ComposedPrimarilyOf', 'CartilageTissue'), ('PartOf', 'LongBone')] fp_list=[] fn_list=[] new_terms=[]\n",
      "MISSING: SubareaOf\n",
      "Other: tp=0 fp=0 fn=1 other=[\"PartOf MoreSpecificThan Umbilicus ['Abdomen']\"] tp_list=[] fp_list=[] fn_list=[('subClassOf', 'SkinOfAbdomen')] new_terms=['PeriumbilicalRegion', 'Skin']\n",
      "MISSING: DrainsInto\n",
      "Other: tp=0 fp=0 fn=1.5 other=[\"subClassOf MoreGeneralThan ['ZoneOfSkin'] SkinOfBack\"] tp_list=[] fp_list=[] fn_list=[('PartOf', 'ThoracolumbarJunction')] new_terms=['ThoracolumbarSegmentOfTrunk']\n",
      "Other: tp=1 fp=1 fn=0.5 other=[\"subClassOf MoreGeneralThan ['AcinusOfExocrineGland'] MucousAcinus\"] tp_list=[('PartOf', 'SubmucosalGland')] fp_list=[('Produces', 'Mucus')] fn_list=[] new_terms=[]\n",
      "Other: tp=1 fp=0 fn=0.5 other=[\"subClassOf MoreGeneralThan ['Epithelium'] EpitheliumOfBronchiole\"] tp_list=[('PartOf', 'LobularBronchiole')] fp_list=[] fn_list=[] new_terms=[]\n",
      "Other: tp=0 fp=1 fn=0 other=[\"subClassOf MoreSpecificThan VisceralAbdominalLymphNode ['AbdominalLymphNode']\"] tp_list=[] fp_list=[('PartOf', 'Stomach')] fn_list=[] new_terms=[]\n",
      "Other: tp=1 fp=1 fn=3 other=[\"PartOf MoreSpecificThan MolecularLayerCorpusCerebelli ['Cerebellum']\", \"PartOf MoreSpecificThan MolecularLayerValvulaCerebelli ['Cerebellum']\"] tp_list=[('subClassOf', 'ParallelFiber')] fp_list=[('subClassOf', 'Tissue')] fn_list=[('Overlaps', 'CerebellarGranuleCell'), ('subClassOf', 'NerveFiber'), ('subClassOf', 'CentralNervousSystemCellPartCluster')] new_terms=['NCBITaxon:70862']\n",
      "MISSING: BorderedBy\n",
      "Other: tp=1 fp=0 fn=0.5 other=[\"subClassOf MoreGeneralThan ['MediastinalLymphNode'] SuperiorMediastinalLymphNode\"] tp_list=[('LocatedIn', 'ThoracicCavity')] fp_list=[] fn_list=[] new_terms=[]\n",
      "Other: tp=1 fp=1 fn=2.5 other=[\"subClassOf MoreGeneralThan ['AnatomicalStructure'] OrganPart\"] tp_list=[('PartOf', 'Iris')] fp_list=[('OnlyInTaxon', 'Caudata')] fn_list=[('Overlaps', 'IrisEpithelium'), ('subClassOf', 'EctodermDerivedStructure')] new_terms=[]\n",
      "Other: tp=0 fp=0 fn=4.5 other=[\"PartOf MoreGeneralThan ['Femur'] HeadOfFemur\"] tp_list=[] fp_list=[] fn_list=[('subClassOf', 'UpperLegConnectiveTissue'), ('subClassOf', 'PelvicAppendageCartilageTissue'), ('subClassOf', 'ArticularCartilageOfJoint'), ('subClassOf', 'LongBoneCartilageElement')] new_terms=['ArticularCartilage']\n",
      "Other: tp=1 fp=1 fn=0.5 other=[\"subClassOf MoreGeneralThan ['Mucosa'] MucosaOfStomach\"] tp_list=[('PartOf', 'Rumen')] fp_list=[('ComposedPrimarilyOf', 'KeratinizedStratifiedSquamousEpithelium')] fn_list=[] new_terms=['Parakeratotis']\n",
      "Other: tp=1 fp=1 fn=2.0 other=[\"PartOf MoreGeneralThan ['Lung'] LobeOfLung\", \"subClassOf MoreGeneralThan ['MulticellularAnatomicalStructure'] OrganSubunit\"] tp_list=[('subClassOf', 'EndodermDerivedStructure')] fp_list=[('HasPart', 'SegmentalBronchus')] fn_list=[('ContributesToMorphologyOf', 'LobeOfLung')] new_terms=['EndodermDerivedStructure']\n",
      "Other: tp=0 fp=0 fn=1 other=[\"PartOf MoreSpecificThan Ear ['Head']\"] tp_list=[] fp_list=[] fn_list=[('subClassOf', 'AnatomicalStructure_UBERON:0000061')] new_terms=['AnatomicalRegion']\n",
      "MISSING: LocatedOn\n",
      "MISSING: Secrete\n",
      "MISSING: Maintain\n",
      "MISSING: Promote\n",
      "Other: tp=1 fp=0 fn=0.5 other=[\"subClassOf MoreGeneralThan ['VisceralAbdominalLymphNode'] MesentericLymphNode\"] tp_list=[('PartOf', 'Mesentery')] fp_list=[] fn_list=[] new_terms=['MesodermDerivedStructure']\n",
      "Other: tp=0 fp=0 fn=1.5 other=[\"PartOf MoreGeneralThan ['Hindlimb'] HindlimbZeugopod\"] tp_list=[] fp_list=[] fn_list=[('subClassOf', 'AnatomicalStructure_UBERON:0000061')] new_terms=['ZeugopodSegment']\n",
      "results/ont_envo-Pdefinition-Mid.original_id-BGFalse-TrNone-Te50-Mgpt-3.5-turbo-EMopenai.results.yaml\n",
      "results/ont_obi-Plabel-Mid.original_id-BGFalse-TrNone-Te50-Mnous-hermes-13b-EMopenai.results.yaml\n",
      "results/ont_envo-Pdefinition-Mid.original_id-BGFalse-TrNone-Te50-Mgpt-4-EMopenai.results.yaml\n",
      "results/ont_oba-Pdefinition-Mid.original_id-BGTrue-TrNone-Te50-Mgpt-3.5-turbo-EMopenai.results.yaml\n",
      "results/ont_hp-Prelationships-Mid.original_id-BGFalse-TrNone-Te50-Mgpt-3.5-turbo-EMopenai.results.yaml\n",
      "results/ont_hp-Prelationships-Mid.original_id-BGFalse-TrNone-Te50-Mgpt-3.5-turbo-EMopenai.results.yaml RAG-gpt-3.5-turbo\n",
      "Other: tp=0 fp=0 fn=0 other=[\"subClassOf MoreSpecificThan AbnormalDermisMorphology ['AbnormalityOfSkinMorphology']\"] tp_list=[] fp_list=[] fn_list=[] new_terms=[]\n",
      "Other: tp=0 fp=0 fn=0 other=[\"subClassOf MoreSpecificThan AbnormalSpermPrincipalPieceMorphology ['AbnormalSpermTailMorphology']\"] tp_list=[] fp_list=[] fn_list=[] new_terms=[]\n",
      "Other: tp=0 fp=0 fn=0.5 other=[\"subClassOf MoreGeneralThan ['AmelioratedBy'] AmelioratedByExposureToMedication\"] tp_list=[] fp_list=[] fn_list=[] new_terms=[]\n",
      "Other: tp=0 fp=0 fn=0.5 other=[\"subClassOf MoreGeneralThan ['AbnormalEpidermalProteinExpression'] ReducedEpidermalKeratinProteinExpression\"] tp_list=[] fp_list=[] fn_list=[] new_terms=[]\n",
      "Other: tp=0 fp=0 fn=0.5 other=[\"subClassOf MoreGeneralThan ['AbnormalSpermMorphology'] AbnormalSpermNeckMorphology\"] tp_list=[] fp_list=[] fn_list=[] new_terms=[]\n",
      "Other: tp=0 fp=0 fn=0.5 other=[\"subClassOf MoreGeneralThan ['AbnormalLymphNodeMorphology'] AbnormalLymphNodeCellComposition\"] tp_list=[] fp_list=[] fn_list=[] new_terms=[]\n",
      "Other: tp=0 fp=0 fn=0.5 other=[\"subClassOf MoreGeneralThan ['AbnormalJointMorphology'] AbnormalityOfTheKnee\"] tp_list=[] fp_list=[] fn_list=[] new_terms=[]\n",
      "Other: tp=0 fp=0 fn=0 other=[\"subClassOf MoreSpecificThan AbnormalCirculatingEnzymeConcentrationOrActivity ['AbnormalEnzymeConcentrationOrActivity']\"] tp_list=[] fp_list=[] fn_list=[] new_terms=[]\n",
      "results/ont_mondo-Plabel-Mid.original_id-BGTrue-TrNone-Te50-Mgpt-4-EMopenai.results.yaml\n",
      "results/ont_oba-Pdefinition-Mid.original_id-BGFalse-TrNone-Te50-Mgpt-3.5-turbo-EMopenai.results.yaml\n",
      "results/ont_envo-Pdefinition-Mid.original_id-BGTrue-TrNone-Te50-Mgpt-3.5-turbo-EMopenai.results.yaml\n",
      "results/ont_uberon-Pdefinition-Mid.original_id-BGTrue-TrNone-Te40-Mgpt-4-EMopenai.results.yaml\n",
      "results/ont_mondo-Prelationships-Mid.original_id-BGFalse-TrNone-Te50-Mgpt-3.5-turbo-EMopenai.results.yaml\n",
      "results/ont_mondo-Prelationships-Mid.original_id-BGFalse-TrNone-Te50-Mgpt-3.5-turbo-EMopenai.results.yaml RAG-gpt-3.5-turbo\n",
      "Other: tp=1 fp=0 fn=2 other=[\"subClassOf MoreSpecificThan Acrodysostosis ['MandibulofacialDysostosis', 'HereditaryOtorhinolaryngologicDisease']\"] tp_list=[('subClassOf', 'AcrodysostosisWithMultipleHormoneResistance')] fp_list=[] fn_list=[('subClassOf', 'Polyendocrinopathy'), ('subClassOf', 'AcrofacialDysostosis')] new_terms=[]\n",
      "MISSING: HasMaterialBasisInMaternalDerivedAndrogen\n",
      "Other: tp=0 fp=0 fn=0.5 other=[\"subClassOf MoreGeneralThan ['HereditarySpasticParaplegia'] AutosomalRecessiveComplexSpasticParaplegia\"] tp_list=[] fp_list=[] fn_list=[] new_terms=[]\n",
      "Other: tp=2 fp=0 fn=0.5 other=[\"subClassOf MoreGeneralThan ['Disease'] CongenitalHeartMalformation\"] tp_list=[('DiseaseHasMajorFeature', 'TranspositionOfTheGreatArteries'), ('DiseaseHasMajorFeature', 'ConotruncalDefect')] fp_list=[] fn_list=[] new_terms=['CardiacAnomaly']\n",
      "Other: tp=1 fp=0 fn=1.5 other=[\"subClassOf MoreGeneralThan ['Hypothyroidism'] PermanentCongenitalHypothyroidism\"] tp_list=[('HasCharacteristic', 'HasASyndromicPresentation')] fp_list=[] fn_list=[('subClassOf', 'SyndromicDisease')] new_terms=[]\n",
      "Other: tp=0 fp=0 fn=1 other=[\"subClassOf MoreSpecificThan ExcretoryApparatusOfTheLacrimalSystemAnomaly ['LacrimalApparatusDisorder']\"] tp_list=[] fp_list=[] fn_list=[('HasCharacteristic', 'Rare')] new_terms=[]\n",
      "Other: tp=1 fp=0 fn=0.5 other=[\"subClassOf MoreGeneralThan ['DisorderOfDevelopmentOrMorphogenesis'] DevelopmentalDefectOfTheEye\"] tp_list=[('DiseaseHasBasisInDisruptionOf', 'LensInductionInCameraTypeEye')] fp_list=[] fn_list=[] new_terms=['LensInductionInCameraTypeEye']\n",
      "Other: tp=1 fp=0 fn=0.5 other=[\"subClassOf MoreGeneralThan ['InflammatoryDisease'] Encephalomyelitis\", \"subClassOf MoreSpecificThan BrainCancer ['BrainDisorder']\"] tp_list=[('DiseaseHasInflammationSite', 'Brain')] fp_list=[] fn_list=[] new_terms=[]\n",
      "results/ont_cl-Plogical_definition-Mid.original_id-BGFalse-TrNone-Te50-Mgpt-4-EMopenai.results.yaml\n",
      "results/ont_uberon-Prelationships-Mid.original_id-BGFalse-TrNone-Te44-Mgpt-4-EMopenai.results.yaml\n",
      "results/ont_uberon-Prelationships-Mid.original_id-BGFalse-TrNone-Te44-Mgpt-4-EMopenai.results.yaml RAG-gpt-4\n",
      "Other: tp=1 fp=0 fn=6 other=[\"PartOf MoreSpecificThan SegmentalBronchus ['System', 'LobeOfLung']\"] tp_list=[('subClassOf', 'IntrapulmonaryBronchus')] fp_list=[] fn_list=[('PartOf', 'BronchopulmonarySegment'), ('HasPart', 'CartilageOfBronchus'), ('HasPart', 'BronchusSmoothMuscle'), ('HasPart', 'LungMesenchyme'), ('HasPart', 'BronchusSubmucosalGland'), ('ProximallyConnectedTo', 'SegmentalBronchus')] new_terms=[]\n",
      "Other: tp=0 fp=0 fn=0.5 other=[\"subClassOf MoreGeneralThan ['LymphNode'] ParietalPelvicLymphNode\"] tp_list=[] fp_list=[] fn_list=[] new_terms=[]\n",
      "Other: tp=1 fp=0 fn=0.5 other=[\"subClassOf MoreGeneralThan ['Mucosa'] MucosaOfBronchiole\"] tp_list=[('PartOf', 'LobularBronchiole')] fp_list=[] fn_list=[] new_terms=[]\n",
      "Other: tp=0 fp=0 fn=1.5 other=[\"subClassOf MoreGeneralThan ['AnatomicalStructure'] OrganPart\"] tp_list=[] fp_list=[] fn_list=[('PartOf', 'TrunkRegionOfVertebralColumn')] new_terms=['Spine']\n",
      "Other: tp=0 fp=0 fn=0.5 other=[\"subClassOf MoreGeneralThan ['AbdominalSegmentSkin'] SkinOfAbdomen\", \"PartOf MoreSpecificThan Umbilicus ['Abdomen']\"] tp_list=[] fp_list=[] fn_list=[] new_terms=['PeriumbilicalRegion']\n",
      "MISSING: AssociatedWith\n",
      "Other: tp=1 fp=0 fn=0.5 other=[\"subClassOf MoreGeneralThan ['ZoneOfSkin'] SkinOfBack\"] tp_list=[('PartOf', 'ThoracolumbarJunction')] fp_list=[] fn_list=[] new_terms=[]\n",
      "Other: tp=1 fp=0 fn=0.5 other=[\"subClassOf MoreGeneralThan ['GlandularAcinus'] MucousAcinus\"] tp_list=[('PartOf', 'SubmucosalGland')] fp_list=[] fn_list=[] new_terms=[]\n",
      "Other: tp=1 fp=0 fn=0.5 other=[\"subClassOf MoreGeneralThan ['Epithelium'] EpitheliumOfBronchiole\"] tp_list=[('PartOf', 'LobularBronchiole')] fp_list=[] fn_list=[] new_terms=[]\n",
      "Other: tp=1 fp=1 fn=1.5 other=[\"HasPart MoreGeneralThan ['Cilium'] CiliatedEpithelialCell\"] tp_list=[('PartOf', 'SubmucosalGland')] fp_list=[('ConnectedTo', 'SubmucosalGlandCollectingDuct')] fn_list=[('subClassOf', 'Duct')] new_terms=['GlandularDuct', 'SurfaceEpithelium']\n",
      "Other: tp=1 fp=1 fn=3 other=[\"PartOf MoreSpecificThan MolecularLayerCorpusCerebelli ['Cerebellum']\", \"PartOf MoreSpecificThan MolecularLayerValvulaCerebelli ['Cerebellum']\"] tp_list=[('subClassOf', 'ParallelFiber')] fp_list=[('subClassOf', 'Tissue')] fn_list=[('Overlaps', 'CerebellarGranuleCell'), ('subClassOf', 'NerveFiber'), ('subClassOf', 'CentralNervousSystemCellPartCluster')] new_terms=[]\n",
      "MISSING: MadeByDevelopmentalProcess\n",
      "Other: tp=0 fp=0 fn=0.5 other=[\"subClassOf MoreGeneralThan ['LymphNode', 'SupraclavicularLymphNode'] LeftSupraclavicularLymphNode\"] tp_list=[] fp_list=[] fn_list=[] new_terms=[]\n",
      "Other: tp=1 fp=0 fn=0.5 other=[\"subClassOf MoreGeneralThan ['SmoothMuscleTissue'] SmoothMuscleTissueOfBronchiole\"] tp_list=[('PartOf', 'LobularBronchiole')] fp_list=[] fn_list=[] new_terms=[]\n",
      "MISSING: ComposedOf\n",
      "MISSING: CharacterizedBy\n",
      "Other: tp=0 fp=1 fn=3.0 other=[\"PartOf MoreGeneralThan ['Lung'] LobeOfLung\", \"subClassOf MoreGeneralThan ['AnatomicalStructure'] OrganSubunit\"] tp_list=[] fp_list=[('HasPart', 'SegmentalBronchus')] fn_list=[('subClassOf', 'EndodermDerivedStructure'), ('ContributesToMorphologyOf', 'LobeOfLung')] new_terms=[]\n",
      "MISSING: LocatedBehind\n",
      "MISSING: AssociatedWith\n",
      "Other: tp=0 fp=0 fn=0.5 other=[\"subClassOf MoreGeneralThan ['VisceralAbdominalLymphNode'] MesentericLymphNode\"] tp_list=[] fp_list=[] fn_list=[] new_terms=['IleocecalFold', 'TerminalIleum']\n",
      "Other: tp=0 fp=0 fn=1.5 other=[\"PartOf MoreGeneralThan ['Hindlimb'] HindlimbZeugopod\"] tp_list=[] fp_list=[] fn_list=[('subClassOf', 'AnatomicalStructure_UBERON:0000061')] new_terms=['LowerExtremity']\n",
      "results/ont_foodon-Prelationships-Mid.original_id-BGFalse-TrNone-Te50-Mgpt-3.5-turbo-EMopenai.results.yaml\n",
      "results/ont_foodon-Prelationships-Mid.original_id-BGFalse-TrNone-Te50-Mgpt-3.5-turbo-EMopenai.results.yaml RAG-gpt-3.5-turbo\n",
      "Other: tp=0 fp=0 fn=0.5 other=[\"subClassOf MoreGeneralThan ['YogurtFoodProduct'] StrainedYogurt\"] tp_list=[] fp_list=[] fn_list=[] new_terms=[]\n",
      "Other: tp=0 fp=0 fn=0.5 other=[\"subClassOf MoreGeneralThan ['FoodProduct'] WheatFoodProduct\"] tp_list=[] fp_list=[] fn_list=[] new_terms=['SpeltWheat']\n",
      "MISSING: DerivedFrom\n",
      "MISSING: HasPreparation\n",
      "Other: tp=0 fp=0 fn=0.5 other=[\"subClassOf MoreGeneralThan ['CommonOatCerealFoodProduct'] RolledOats\"] tp_list=[] fp_list=[] fn_list=[] new_terms=[]\n",
      "Other: tp=0 fp=0 fn=0.5 other=[\"subClassOf MoreGeneralThan ['AsparagusBeanFoodProduct'] AsparagusBean\"] tp_list=[] fp_list=[] fn_list=[] new_terms=['Seed_raw_', 'VignaUnguiculataSubsp_sesquipedalis']\n",
      "Other: tp=1 fp=0 fn=0.5 other=[\"subClassOf MoreGeneralThan ['BerryFruit'] PitayaFruit\"] tp_list=[('InTaxon', 'SelenicereusUndatus')] fp_list=[] fn_list=[] new_terms=['CactusFruit']\n",
      "MISSING: HasQuality_RO:0000086\n",
      "Other: tp=1 fp=0 fn=1.5 other=[\"subClassOf MoreGeneralThan ['AvianEggFoodProduct'] DuckEggFoodProduct\"] tp_list=[('subClassOf', 'ShelledEgg')] fp_list=[] fn_list=[('InTaxon', 'Duck')] new_terms=[]\n",
      "MISSING: HasProperty\n",
      "Other: tp=2 fp=0 fn=1.5 other=[\"subClassOf MoreGeneralThan ['PlantLeafFoodProduct', 'VegetableLeaf'] BeanLeaf\"] tp_list=[('subClassOf', 'RosetteLeaf'), ('InTaxon', 'PsophocarpusTetragonolobus')] fp_list=[] fn_list=[('subClassOf', 'WingedBeanFoodProduct')] new_terms=[]\n",
      "MISSING: HasQuality_RO:0000086\n",
      "Other: tp=0 fp=0 fn=0 other=[\"subClassOf MoreSpecificThan Potato ['PotatoFoodProduct']\"] tp_list=[] fp_list=[] fn_list=[] new_terms=[]\n",
      "Other: tp=0 fp=1 fn=0.5 other=[\"subClassOf MoreGeneralThan ['AnimalFoodProduct'] MammalianMeatFoodProduct\"] tp_list=[] fp_list=[('DerivesFrom', 'Goat')] fn_list=[] new_terms=[]\n",
      "Other: tp=1 fp=1 fn=0.5 other=[\"subClassOf MoreGeneralThan ['NutFoodProduct'] HickoryNutFoodProduct\"] tp_list=[('subClassOf', 'PecanNutFoodProduct')] fp_list=[('DerivesFrom', 'CaryaIllinoinensis')] fn_list=[] new_terms=[]\n",
      "MISSING: HasQuality_RO:0000086\n",
      "Other: tp=0 fp=0 fn=0 other=[\"subClassOf MoreSpecificThan HempSeed ['HempFoodProduct']\"] tp_list=[] fp_list=[] fn_list=[] new_terms=['HempPlant', 'Seed_shellRemoved_', 'Seed_usCfr_']\n",
      "Other: tp=0 fp=0 fn=0.5 other=[\"subClassOf MoreGeneralThan ['MaterialEntity'] OrganismMaterial\"] tp_list=[] fp_list=[] fn_list=[] new_terms=[]\n",
      "MISSING: HasQuality_RO:0000086\n",
      "Other: tp=1 fp=0 fn=0.5 other=[\"subClassOf MoreGeneralThan ['ObjectAggregate', 'ArugulaFoodProduct'] ArugulaGreensBunch\"] tp_list=[('HasMember', 'ArugulaLeaf')] fp_list=[] fn_list=[] new_terms=['SaladGreens_']\n",
      "results/ont_uberon-Pdefinition-Mid.original_id-BGTrue-TrNone-Te40-Mnous-hermes-13b-EMopenai.results.yaml\n",
      "results/ont_foodon-Prelationships-Mid.original_id-BGFalse-TrNone-Te50-Mgpt-4-EMopenai.results.yaml\n",
      "results/ont_foodon-Prelationships-Mid.original_id-BGFalse-TrNone-Te50-Mgpt-4-EMopenai.results.yaml RAG-gpt-4\n",
      "Other: tp=0 fp=0 fn=0.5 other=[\"subClassOf MoreGeneralThan ['YogurtFoodProduct'] StrainedYogurt\"] tp_list=[] fp_list=[] fn_list=[] new_terms=[]\n",
      "Other: tp=0 fp=0 fn=0.5 other=[\"subClassOf MoreGeneralThan ['Squash'] SummerSquash\"] tp_list=[] fp_list=[] fn_list=[] new_terms=[]\n",
      "MISSING: HasProcessing\n",
      "Other: tp=1 fp=0 fn=0.5 other=[\"subClassOf MoreGeneralThan ['SumacFoodProduct', 'CaryopsisFruit'] RyeKernel\"] tp_list=[('InTaxon', 'SecaleCereale')] fp_list=[] fn_list=[] new_terms=['GrainOrStarchProduct_usCfr_']\n",
      "Other: tp=1 fp=0 fn=0.5 other=[\"subClassOf MoreGeneralThan ['BerryFruit'] PitayaFruit\"] tp_list=[('InTaxon', 'SelenicereusUndatus')] fp_list=[] fn_list=[] new_terms=[]\n",
      "MISSING: HasQuality_RO:0000086\n",
      "MISSING: HasQuality_RO:0000086\n",
      "Other: tp=0 fp=0 fn=0.5 other=[\"subClassOf MoreGeneralThan ['AcornSquash'] GreenAcornSquash\"] tp_list=[] fp_list=[] fn_list=[] new_terms=[]\n",
      "Other: tp=2 fp=0 fn=1.5 other=[\"subClassOf MoreGeneralThan ['VegetableLeaf'] BeanLeaf\"] tp_list=[('subClassOf', 'RosetteLeaf'), ('InTaxon', 'PsophocarpusTetragonolobus')] fp_list=[] fn_list=[('subClassOf', 'WingedBeanFoodProduct')] new_terms=[]\n",
      "MISSING: HasQuality_RO:0000086\n",
      "Other: tp=0 fp=0 fn=0 other=[\"subClassOf MoreSpecificThan Potato ['PotatoFoodProduct']\"] tp_list=[] fp_list=[] fn_list=[] new_terms=[]\n",
      "MISSING: HasQuality_RO:0000086\n",
      "MISSING: HasQuality_RO:0000086\n",
      "Other: tp=0 fp=0 fn=0.5 other=[\"subClassOf MoreGeneralThan ['MaterialEntity'] OrganismMaterial\"] tp_list=[] fp_list=[] fn_list=[] new_terms=[]\n",
      "MISSING: HasStage\n",
      "Other: tp=0 fp=0 fn=0 other=[\"subClassOf MoreSpecificThan RiceKernelFoodProduct ['RiceFoodProduct']\"] tp_list=[] fp_list=[] fn_list=[] new_terms=[]\n",
      "Other: tp=0 fp=0 fn=0.5 other=[\"subClassOf MoreGeneralThan ['SweetPotatoFoodProduct'] SweetPotato\"] tp_list=[] fp_list=[] fn_list=[] new_terms=[]\n",
      "results/ont_oba-Plabel-Mid.original_id-BGTrue-TrNone-Te50-Mgpt-3.5-turbo-EMopenai.results.yaml\n",
      "results/ont_go-Pdefinition-Mid.original_id-BGFalse-TrNone-Te50-Mnous-hermes-13b-EMopenai.results.yaml\n",
      "results/ont_envo-Plabel-Mid.original_id-BGFalse-TrNone-Te50-Mgpt-4-EMopenai.results.yaml\n",
      "results/ont_obi-Prelationships-Mid.original_id-BGTrue-TrNone-Te50-Mgpt-3.5-turbo-EMopenai.results.yaml\n",
      "results/ont_obi-Prelationships-Mid.original_id-BGTrue-TrNone-Te50-Mgpt-3.5-turbo-EMopenai.results.yaml RAG+background-gpt-3.5-turbo\n",
      "MISSING: assesses\n",
      "MISSING: Detects\n",
      "Other: tp=0 fp=0 fn=0.5 other=[\"subClassOf MoreGeneralThan ['ArthropodTrap'] RestingArthropodTrap\"] tp_list=[] fp_list=[] fn_list=[] new_terms=[]\n",
      "MISSING: HasManufacturer\n",
      "MISSING: IsUsedForDetectionOf\n",
      "results/ont_uberon-Pdefinition-Mid.original_id-BGFalse-TrNone-Te40-Mgpt-4-EMopenai.results.yaml\n",
      "results/ont_foodon-Prelationships-Mid.original_id-BGTrue-TrNone-Te50-Mgpt-3.5-turbo-EMopenai.results.yaml\n",
      "results/ont_foodon-Prelationships-Mid.original_id-BGTrue-TrNone-Te50-Mgpt-3.5-turbo-EMopenai.results.yaml RAG+background-gpt-3.5-turbo\n",
      "Other: tp=0 fp=0 fn=0.5 other=[\"subClassOf MoreGeneralThan ['YogurtFoodProduct'] StrainedYogurt\"] tp_list=[] fp_list=[] fn_list=[] new_terms=[]\n",
      "MISSING: hasProcess\n",
      "Other: tp=0 fp=0 fn=0.5 other=[\"subClassOf MoreGeneralThan ['FoodProduct'] WheatFoodProduct\"] tp_list=[] fp_list=[] fn_list=[] new_terms=[]\n",
      "Other: tp=0 fp=0 fn=0.5 other=[\"subClassOf MoreGeneralThan ['CommonOatCerealFoodProduct'] RolledOats\"] tp_list=[] fp_list=[] fn_list=[] new_terms=[]\n",
      "Other: tp=1 fp=0 fn=0.5 other=[\"subClassOf MoreGeneralThan ['SumacFoodProduct', 'CaryopsisFruit'] RyeKernel\"] tp_list=[('InTaxon', 'SecaleCereale')] fp_list=[] fn_list=[] new_terms=['GrainOrStarchProduct_usCfr_']\n",
      "Other: tp=0 fp=0 fn=0.5 other=[\"subClassOf MoreGeneralThan ['AsparagusBeanFoodProduct', 'Cowpea'] AsparagusBean\"] tp_list=[] fp_list=[] fn_list=[] new_terms=['VignaUnguiculataSubsp_sesquipedalis']\n",
      "Other: tp=0 fp=1 fn=0.5 other=[\"subClassOf MoreGeneralThan ['FoodProduct'] NutFoodProduct\"] tp_list=[] fp_list=[('DerivesFrom', 'Carya')] fn_list=[] new_terms=[]\n",
      "Other: tp=1 fp=1 fn=0.5 other=[\"subClassOf MoreGeneralThan ['BerryFruit'] PitayaFruit\"] tp_list=[('InTaxon', 'SelenicereusUndatus')] fp_list=[('subClassOf', 'TropicalFruit')] fn_list=[] new_terms=['DragonFruitCactus']\n",
      "MISSING: HasQuality_RO:0000086\n",
      "Other: tp=0 fp=0 fn=0.5 other=[\"subClassOf MoreGeneralThan ['WinterSquash'] AcornSquash\"] tp_list=[] fp_list=[] fn_list=[] new_terms=['CucurbitaPepoVar_ovifera']\n",
      "MISSING: HasQuality_RO:0000086\n",
      "Other: tp=0 fp=0 fn=0 other=[\"subClassOf MoreSpecificThan Potato ['PotatoFoodProduct']\"] tp_list=[] fp_list=[] fn_list=[] new_terms=[]\n",
      "MISSING: HasQuality_RO:0000086\n",
      "Other: tp=0 fp=0 fn=0.5 other=[\"subClassOf MoreGeneralThan ['MaterialEntity'] OrganismMaterial\"] tp_list=[] fp_list=[] fn_list=[] new_terms=[]\n",
      "MISSING: HasQuality_RO:0000086\n",
      "Other: tp=1 fp=0 fn=0.5 other=[\"subClassOf MoreGeneralThan ['ObjectAggregate', 'ArugulaFoodProduct'] ArugulaGreensBunch\"] tp_list=[('HasMember', 'ArugulaLeaf')] fp_list=[] fn_list=[] new_terms=['SaladGreens_raw_']\n",
      "Other: tp=0 fp=1 fn=0 other=[\"subClassOf MoreSpecificThan CardamomSeed ['CardamomFoodProduct']\"] tp_list=[] fp_list=[('DerivesFrom', 'GreenCardamomPod')] fn_list=[] new_terms=[]\n",
      "results/ont_foodon-Pdefinition-Mid.original_id-BGTrue-TrNone-Te50-Mgpt-3.5-turbo-EMopenai.results.yaml\n",
      "results/ont_foodon-Prelationships-Mid.original_id-BGTrue-TrNone-Te50-Mgpt-4-EMopenai.results.yaml\n",
      "results/ont_foodon-Prelationships-Mid.original_id-BGTrue-TrNone-Te50-Mgpt-4-EMopenai.results.yaml RAG+background-gpt-4\n",
      "Other: tp=0 fp=0 fn=0.5 other=[\"subClassOf MoreGeneralThan ['YogurtFoodProduct'] StrainedYogurt\"] tp_list=[] fp_list=[] fn_list=[] new_terms=[]\n",
      "Other: tp=0 fp=0 fn=0.5 other=[\"subClassOf MoreGeneralThan ['Characteristic'] FoodObjectQuality\"] tp_list=[] fp_list=[] fn_list=[] new_terms=[]\n",
      "MISSING: stateOfMatter\n",
      "MISSING: HasQuality_RO:0000086\n",
      "Other: tp=0 fp=0 fn=0.5 other=[\"subClassOf MoreGeneralThan ['AsparagusBeanFoodProduct'] AsparagusBean\"] tp_list=[] fp_list=[] fn_list=[] new_terms=['VignaUnguiculataSubsp_sesquipedalis']\n",
      "Other: tp=1 fp=0 fn=0.5 other=[\"subClassOf MoreGeneralThan ['BerryFruit'] PitayaFruit\"] tp_list=[('InTaxon', 'SelenicereusUndatus')] fp_list=[] fn_list=[] new_terms=[]\n",
      "MISSING: HasQuality_RO:0000086\n",
      "MISSING: HasQuality_RO:0000086\n",
      "MISSING: hasColor\n",
      "Other: tp=2 fp=0 fn=1.5 other=[\"subClassOf MoreGeneralThan ['PlantLeafFoodProduct', 'VegetableLeaf'] BeanLeaf\"] tp_list=[('subClassOf', 'RosetteLeaf'), ('InTaxon', 'PsophocarpusTetragonolobus')] fp_list=[] fn_list=[('subClassOf', 'WingedBeanFoodProduct')] new_terms=[]\n",
      "MISSING: HasQuality_RO:0000086\n",
      "MISSING: HasQuality_RO:0000086\n",
      "Other: tp=0 fp=2 fn=0.5 other=[\"subClassOf MoreGeneralThan ['NutFoodProduct'] HickoryNutFoodProduct\"] tp_list=[] fp_list=[('subClassOf', 'PlantSeedFoodProduct'), ('DerivesFrom', 'CaryaIllinoinensis')] fn_list=[] new_terms=[]\n",
      "MISSING: HasQuality_RO:0000086\n",
      "MISSING: HasProperty\n",
      "Other: tp=0 fp=0 fn=0.5 other=[\"subClassOf MoreGeneralThan ['MaterialEntity'] OrganismMaterial\"] tp_list=[] fp_list=[] fn_list=[] new_terms=[]\n",
      "MISSING: HasQuality_RO:0000086\n",
      "Other: tp=1 fp=0 fn=0.5 other=[\"subClassOf MoreGeneralThan ['ObjectAggregate', 'ArugulaFoodProduct'] ArugulaGreensBunch\"] tp_list=[('HasMember', 'ArugulaLeaf')] fp_list=[] fn_list=[] new_terms=['SaladGreens']\n",
      "Other: tp=0 fp=0 fn=0.5 other=[\"subClassOf MoreGeneralThan ['SweetPotatoFoodProduct'] SweetPotato\"] tp_list=[] fp_list=[] fn_list=[] new_terms=[]\n",
      "Other: tp=0 fp=0 fn=0.5 other=[\"subClassOf MoreGeneralThan ['Squash'] MexicanGreySquash\"] tp_list=[] fp_list=[] fn_list=[] new_terms=[]\n",
      "MISSING: HasQuality_RO:0000086\n"
     ]
    }
   ],
   "source": [
    "df = load_all_results()"
   ],
   "metadata": {
    "collapsed": false,
    "ExecuteTime": {
     "end_time": "2023-10-23T01:38:38.383415Z",
     "start_time": "2023-10-23T01:19:45.154427Z"
    }
   },
   "id": "237c56d149944ef5"
  },
  {
   "cell_type": "code",
   "execution_count": 363,
   "outputs": [],
   "source": [
    "df.to_csv(\"results/relationship-analysis.tsv\", sep=\"\\t\", index=False)"
   ],
   "metadata": {
    "collapsed": false,
    "ExecuteTime": {
     "end_time": "2023-10-22T19:49:17.315801Z",
     "start_time": "2023-10-22T19:49:17.259738Z"
    }
   },
   "id": "91636c18c481ec2b"
  },
  {
   "cell_type": "code",
   "execution_count": 364,
   "outputs": [
    {
     "name": "stdout",
     "output_type": "stream",
     "text": [
      "results/ont_oba-Plabel-Mid.original_id-BGFalse-TrNone-Te50-Mgpt-3.5-turbo-EMopenai.results.yaml\n",
      "results/ont_cl-Pdefinition-Mid.original_id-BGTrue-TrNone-Te50-Mgpt-4-EMopenai.results.yaml\n",
      "results/ont_go-Plabel-Mid.original_id-BGTrue-TrNone-Te50-Mgpt-4-EMopenai.results.yaml\n",
      "results/ont_uberon-Plabel-Mid.original_id-BGFalse-TrNone-Te40-Mgpt-4-EMopenai.results.yaml\n",
      "results/ont_mondo-Plabel-Mid.original_id-BGTrue-TrNone-Te50-Mgpt-3.5-turbo-EMopenai.results.yaml\n",
      "results/ont_go-Prelationships-Mid.original_id-BGTrue-TrNone-Te50-Mgpt-4-EMopenai.results.yaml\n",
      "results/ont_go-Prelationships-Mid.original_id-BGTrue-TrNone-Te50-Mgpt-4-EMopenai.results.yaml RAG+background-gpt-4\n",
      "Other: tp=0 fp=0 fn=0.5 other=[\"subClassOf MoreGeneralThan ['Detoxification'] DetoxificationOfInorganicCompound\"] tp_list=[] fp_list=[] fn_list=[] new_terms=[]\n",
      "Other: tp=0 fp=0 fn=0.5 other=[\"subClassOf MoreGeneralThan ['RetrotransposonSilencing'] RetrotransposonSilencingByMRNADestabilization\"] tp_list=[] fp_list=[] fn_list=[] new_terms=['mRNADestabilization']\n",
      "Other: tp=0 fp=0 fn=0 other=[\"subClassOf MoreSpecificThan DisruptionOfCellularAnatomicalStructureInAnotherOrganism ['DisruptionOfAnatomicalStructureInAnotherOrganism']\"] tp_list=[] fp_list=[] fn_list=[] new_terms=[]\n",
      "Other: tp=0 fp=0 fn=2.5 other=[\"subClassOf MoreGeneralThan ['OxidoreductaseActivity'] DisulfideOxidoreductaseActivity\"] tp_list=[] fp_list=[] fn_list=[('subClassOf', 'OxidoreductaseActivity_actingOnASulfurGroupOfDonors_disulfideAsAcceptor'), ('subClassOf', 'CatalyticActivity_actingOnAProtein')] new_terms=[]\n",
      "Other: tp=0 fp=0 fn=0.5 other=[\"subClassOf MoreGeneralThan ['CellularProcessInvolvedInReproductionInMulticellularOrganism', 'EpigeneticRegulationOfGeneExpression'] GenomicImprinting\"] tp_list=[] fp_list=[] fn_list=[] new_terms=[]\n",
      "Other: tp=0 fp=0 fn=0 other=[\"subClassOf MoreSpecificThan ProteinTagActivity ['MolecularTagActivity']\"] tp_list=[] fp_list=[] fn_list=[] new_terms=[]\n",
      "Other: tp=0 fp=0 fn=0.5 other=[\"subClassOf MoreGeneralThan ['CellularHomeostasis'] IntracellularChemicalHomeostasis\"] tp_list=[] fp_list=[] fn_list=[] new_terms=[]\n",
      "Other: tp=0 fp=0 fn=0.5 other=[\"subClassOf MoreGeneralThan ['CellularHomeostasis'] IntracellularChemicalHomeostasis\"] tp_list=[] fp_list=[] fn_list=[] new_terms=[]\n",
      "Other: tp=0 fp=0 fn=0.5 other=[\"subClassOf MoreGeneralThan ['Membrane'] EndosomeMembrane\"] tp_list=[] fp_list=[] fn_list=[] new_terms=[]\n",
      "Other: tp=0 fp=0 fn=0.5 other=[\"subClassOf MoreGeneralThan ['UbiquitinProteinLigaseActivity', 'HistoneModifyingActivity'] HistoneUbiquitinLigaseActivity\"] tp_list=[] fp_list=[] fn_list=[] new_terms=[]\n",
      "Other: tp=1 fp=0 fn=0.5 other=[\"subClassOf MoreGeneralThan ['PositiveRegulationOfSignalTransduction'] PositiveRegulationOfPatternRecognitionReceptorSignalingPathway\"] tp_list=[('subClassOf', 'RegulationOfInflammasomeMediatedSignalingPathway')] fp_list=[] fn_list=[] new_terms=['RegulationOfInflammasomeMediatedSignalingPathway']\n",
      "Other: tp=0 fp=0 fn=0.5 other=[\"subClassOf MoreGeneralThan ['PhosphataseActivity'] RNAPolymeraseIICTDHeptapeptideRepeatPhosphataseActivity\"] tp_list=[] fp_list=[] fn_list=[] new_terms=['CatalyticActivity_actingOnAProtein']\n",
      "Other: tp=0 fp=0 fn=1.0 other=[\"subClassOf MoreGeneralThan ['Binding'] RibosomalLargeSubunitBinding\", \"subClassOf MoreGeneralThan ['Binding'] MitochondrialRibosomeBinding\"] tp_list=[] fp_list=[] fn_list=[] new_terms=[]\n",
      "Other: tp=1 fp=0 fn=1.5 other=[\"subClassOf MoreGeneralThan ['NucleosideTransport'] NucleosideTransmembraneTransport\"] tp_list=[('subClassOf', 'ImportAcrossPlasmaMembrane')] fp_list=[] fn_list=[('subClassOf', 'ImportIntoCell')] new_terms=[]\n",
      "Other: tp=0 fp=0 fn=0.5 other=[\"subClassOf MoreGeneralThan ['PerturbationBySymbiontOfHostCytoskeleton'] PerturbationBySymbiontOfHostActinCytoskeleton\"] tp_list=[] fp_list=[] fn_list=[] new_terms=[]\n",
      "results/ont_envo-Plabel-Mid.original_id-BGTrue-TrNone-Te50-Mgpt-4-EMopenai.results.yaml\n",
      "results/ont_mondo-Plabel-Mid.original_id-BGFalse-TrNone-Te50-Mnous-hermes-13b-EMopenai.results.yaml\n",
      "results/ont_hp-Prelationships-Mid.original_id-BGFalse-TrNone-Te50-Mgpt-4-EMopenai.results.yaml\n",
      "results/ont_hp-Prelationships-Mid.original_id-BGFalse-TrNone-Te50-Mgpt-4-EMopenai.results.yaml RAG-gpt-4\n",
      "Other: tp=1 fp=0 fn=0 other=[\"subClassOf MoreSpecificThan PainInHeadAndNeckRegion ['Pain']\"] tp_list=[('subClassOf', 'AbnormalEyelidPhysiology')] fp_list=[] fn_list=[] new_terms=[]\n",
      "Other: tp=0 fp=0 fn=0.5 other=[\"subClassOf MoreGeneralThan ['AmelioratedBy'] AmelioratedByExposureToMedication\"] tp_list=[] fp_list=[] fn_list=[] new_terms=[]\n",
      "Other: tp=0 fp=0 fn=0.5 other=[\"subClassOf MoreGeneralThan ['AbnormalSpermMorphology'] AbnormalSpermNeckMorphology\"] tp_list=[] fp_list=[] fn_list=[] new_terms=[]\n",
      "Other: tp=0 fp=0 fn=0.5 other=[\"subClassOf MoreGeneralThan ['AbnormalCirculatingApolipoproteinConcentration'] IncreasedCirculatingApolipoproteinCirculation\"] tp_list=[] fp_list=[] fn_list=[] new_terms=[]\n",
      "Other: tp=0 fp=0 fn=0.5 other=[\"subClassOf MoreGeneralThan ['AbnormalityOfLowerLimbJoint'] AbnormalityOfTheKnee\"] tp_list=[] fp_list=[] fn_list=[] new_terms=[]\n",
      "Other: tp=0 fp=0 fn=0.5 other=[\"subClassOf MoreGeneralThan ['ElevatedUrinaryCarboxylicAcid'] DicarboxylicAciduria\"] tp_list=[] fp_list=[] fn_list=[] new_terms=[]\n",
      "Other: tp=0 fp=0 fn=0 other=[\"subClassOf MoreSpecificThan AbnormalOvarianMorphology ['AbnormalityOfTheOvary']\"] tp_list=[] fp_list=[] fn_list=[] new_terms=[]\n",
      "results/ont_cl-Plabel-Mid.original_id-BGFalse-TrNone-Te50-Mgpt-3.5-turbo-EMopenai.results.yaml\n",
      "results/ont_cl-Pdefinition-Mid.original_id-BGTrue-TrNone-Te50-Mgpt-3.5-turbo-EMopenai.results.yaml\n",
      "results/ont_oba-Pdefinition-Mid.original_id-BGFalse-TrNone-Te50-Mgpt-4-EMopenai.results.yaml\n",
      "results/ont_mp-Plogical_definition-Mid.original_id-BGFalse-TrNone-Te50-Mgpt-3.5-turbo-EMopenai.results.yaml\n",
      "results/ont_envo-Plabel-Mid.original_id-BGTrue-TrNone-Te50-Mgpt-3.5-turbo-EMopenai.results.yaml\n",
      "results/ont_mondo-Pdefinition-Mid.original_id-BGFalse-TrNone-Te50-Mnous-hermes-13b-EMopenai.results.yaml\n",
      "results/ont_cl-Prelationships-Mid.original_id-BGFalse-TrNone-Te50-Mnous-hermes-13b-EMopenai.results.yaml\n",
      "results/ont_cl-Prelationships-Mid.original_id-BGFalse-TrNone-Te50-Mnous-hermes-13b-EMopenai.results.yaml RAG-nous-hermes-13b\n",
      "Other: tp=0 fp=0 fn=1.5 other=[\"subClassOf MoreGeneralThan ['MucusSecretingCell'] MucusSecretingCellOfTracheobronchialTreeSubmucosalGland\"] tp_list=[] fp_list=[] fn_list=[('subClassOf', 'BronchialEpithelialCell')] new_terms=[]\n",
      "Other: tp=0 fp=0 fn=0.5 other=[\"subClassOf MoreGeneralThan ['CiliatedEpithelialCell'] EndometrialCiliatedEpithelialCell\"] tp_list=[] fp_list=[] fn_list=[] new_terms=[]\n",
      "Other: tp=0 fp=0 fn=0.5 other=[\"subClassOf MoreGeneralThan ['MediumSpinyNeuron'] IndirectPathwayMediumSpinyNeuron\"] tp_list=[] fp_list=[] fn_list=[] new_terms=[]\n",
      "Other: tp=0 fp=0 fn=0.5 other=[\"subClassOf MoreGeneralThan ['ConnectiveTissueCell'] MyofibroblastCell\"] tp_list=[] fp_list=[] fn_list=[] new_terms=['Myofibroblast']\n",
      "Other: tp=0 fp=0 fn=0.5 other=[\"subClassOf MoreGeneralThan ['CiliatedCell', 'EpithelialCell'] CiliatedEpithelialCell\"] tp_list=[] fp_list=[] fn_list=[] new_terms=[]\n",
      "Other: tp=0 fp=0 fn=0.5 other=[\"subClassOf MoreGeneralThan ['MediumSpinyNeuron'] DirectPathwayMediumSpinyNeuron\"] tp_list=[] fp_list=[] fn_list=[] new_terms=[]\n",
      "Other: tp=0 fp=0 fn=0.5 other=[\"subClassOf MoreGeneralThan ['SmoothMuscleCell'] TracheobronchialSmoothMuscleCell\"] tp_list=[] fp_list=[] fn_list=[] new_terms=[]\n",
      "Other: tp=0 fp=0 fn=0.5 other=[\"subClassOf MoreGeneralThan ['MediumSpinyNeuron'] IndirectPathwayMediumSpinyNeuron\"] tp_list=[] fp_list=[] fn_list=[] new_terms=[]\n",
      "BAD REL: {'predictive': 'subClassOf', 'target': 'TransitionalEpithelialCell'} in [{'predicate': 'PartOf', 'target': 'Urothelium'}, {'predictive': 'subClassOf', 'target': 'TransitionalEpithelialCell'}]\n",
      "Other: tp=0 fp=0 fn=0.5 other=[\"subClassOf MoreGeneralThan ['TrophoblastCell'] ChorionicTrophoblastCell\"] tp_list=[] fp_list=[] fn_list=[] new_terms=[]\n",
      "Other: tp=0 fp=0 fn=0.5 other=[\"subClassOf MoreGeneralThan ['MaleGermCell', 'HaploidCell'] Spermatid\"] tp_list=[] fp_list=[] fn_list=[] new_terms=[]\n",
      "results/ont_envo-Pdefinition-Mid.original_id-BGFalse-TrNone-Te50-Mnous-hermes-13b-EMopenai.results.yaml\n",
      "results/ont_cl-Plabel-Mid.original_id-BGTrue-TrNone-Te50-Mgpt-4-EMopenai.results.yaml\n",
      "results/ont_oba-Prelationships-Mid.original_id-BGTrue-TrNone-Te50-Mgpt-3.5-turbo-EMopenai.results.yaml\n",
      "results/ont_oba-Prelationships-Mid.original_id-BGTrue-TrNone-Te50-Mgpt-3.5-turbo-EMopenai.results.yaml RAG+background-gpt-3.5-turbo\n",
      "Other: tp=1 fp=0 fn=1.0 other=[\"subClassOf MoreGeneralThan ['AnatomicalEntityAttribute'] SynovialJointQuality\", \"subClassOf MoreGeneralThan ['AnatomicalEntityAttribute'] HindlimbJointQuality\"] tp_list=[('subClassOf', 'Functionality')] fp_list=[] fn_list=[] new_terms=[]\n",
      "Other: tp=0 fp=0 fn=1.0 other=[\"subClassOf MoreGeneralThan ['ChemicalInBloodAmount'] BloodMetaboliteAmount\", \"subClassOf MoreGeneralThan ['AminoAcidAmount', 'ChemicalInBloodAmount'] BloodAminoAcidAmount\"] tp_list=[] fp_list=[] fn_list=[] new_terms=[]\n",
      "Other: tp=1 fp=0 fn=1.0 other=[\"subClassOf MoreGeneralThan ['Morphology'] MandibleMorphologyTrait\", \"subClassOf MoreGeneralThan ['Morphology'] FacialMorphologyTrait\"] tp_list=[('subClassOf', 'ChinMorphologyTrait')] fp_list=[] fn_list=[] new_terms=[]\n",
      "Other: tp=0 fp=0 fn=0.5 other=[\"subClassOf MoreGeneralThan ['Rate'] LocomotoryBehaviorRate\"] tp_list=[] fp_list=[] fn_list=[] new_terms=[]\n",
      "Other: tp=0 fp=0 fn=0 other=[\"subClassOf MoreSpecificThan BloodMetaboliteAmount ['ChemicalInBloodAmount']\"] tp_list=[] fp_list=[] fn_list=[] new_terms=[]\n",
      "Other: tp=0 fp=0 fn=1.0 other=[\"subClassOf MoreGeneralThan ['AnatomicalEntityAttribute', 'Functionality'] MuscleOrganFunctionality\", \"subClassOf MoreGeneralThan ['AnatomicalEntityAttribute'] HeadTrait\"] tp_list=[] fp_list=[] fn_list=[] new_terms=[]\n",
      "Other: tp=0 fp=0 fn=0.5 other=[\"subClassOf MoreGeneralThan ['Rate'] AggressiveBehaviorRate\"] tp_list=[] fp_list=[] fn_list=[] new_terms=[]\n",
      "Other: tp=0 fp=0 fn=1.5 other=[\"subClassOf MoreGeneralThan ['BloodProteinAmount'] AmountOfAlbuminInBlood\"] tp_list=[] fp_list=[] fn_list=[('subClassOf', 'SerumNonAlbuminProteinAmount')] new_terms=[]\n",
      "Other: tp=0 fp=0 fn=1.5 other=[\"subClassOf MoreGeneralThan ['Thickness'] CarotidArteryThickness\"] tp_list=[] fp_list=[] fn_list=[('subClassOf', 'InternalCarotidArterySize')] new_terms=[]\n",
      "Other: tp=1 fp=0 fn=1.5 other=[\"subClassOf MoreGeneralThan ['HasNumberOf'] PresacralVertebraQuantity\"] tp_list=[('subClassOf', 'CervicalVertebraHasNumberOf')] fp_list=[] fn_list=[('subClassOf', 'OrganismSubdivisionTrait')] new_terms=[]\n",
      "Other: tp=0 fp=0 fn=0.5 other=[\"subClassOf MoreGeneralThan ['Quality'] BiologicalProcessAttribute\"] tp_list=[] fp_list=[] fn_list=[] new_terms=[]\n",
      "Other: tp=1 fp=0 fn=0.5 other=[\"subClassOf MoreGeneralThan ['BiologicalProcessAttribute'] StartleReflexQuality\"] tp_list=[('subClassOf', 'Amount')] fp_list=[] fn_list=[] new_terms=[]\n",
      "Other: tp=0 fp=0 fn=1.5 other=[\"subClassOf MoreGeneralThan ['Functionality'] MuscleOrganFunctionality\"] tp_list=[] fp_list=[] fn_list=[('subClassOf', 'AppendageTrait')] new_terms=[]\n",
      "Other: tp=1 fp=0 fn=0.5 other=[\"subClassOf MoreGeneralThan ['OrganismTrait'] MulticellularOrganismStructure\"] tp_list=[('subClassOf', 'Stability')] fp_list=[] fn_list=[] new_terms=[]\n",
      "Other: tp=0 fp=0 fn=0.5 other=[\"subClassOf MoreGeneralThan ['ProcessEfficacy'] MotorCoordinationEfficacy\"] tp_list=[] fp_list=[] fn_list=[] new_terms=[]\n",
      "Other: tp=0 fp=0 fn=0.5 other=[\"subClassOf MoreGeneralThan ['Amount'] LimbAmount\"] tp_list=[] fp_list=[] fn_list=[] new_terms=[]\n",
      "Other: tp=0 fp=0 fn=0 other=[\"subClassOf MoreSpecificThan BloodInsulinAmount ['NitrogenMolecularEntityAmount', 'BloodHormoneAmount']\"] tp_list=[] fp_list=[] fn_list=[] new_terms=[]\n",
      "Other: tp=0 fp=0 fn=2.5 other=[\"subClassOf MoreGeneralThan ['Size'] AnatomicalStructureSize\"] tp_list=[] fp_list=[] fn_list=[('subClassOf', 'FornicateGyrusMorphologyTrait'), ('subClassOf', 'NeocortexMorphologyTrait')] new_terms=[]\n",
      "Other: tp=0 fp=0 fn=1.0 other=[\"subClassOf MoreGeneralThan ['BloodImmunoglobulinAmount', 'Amount'] SerumImmunoglobulinAmount\", \"subClassOf MoreGeneralThan ['BloodImmunoglobulinAmount', 'Amount'] BloodImmunoglobulinAAmount\"] tp_list=[] fp_list=[] fn_list=[] new_terms=[]\n",
      "Other: tp=0 fp=0 fn=1.5 other=[\"subClassOf MoreGeneralThan ['HasNumberOf'] VertebraQuantity\"] tp_list=[] fp_list=[] fn_list=[('subClassOf', 'OrganismSubdivisionTrait')] new_terms=[]\n",
      "results/ont_envo-Prelationships-Mid.original_id-BGFalse-TrNone-Te50-Mnous-hermes-13b-EMopenai.results.yaml\n",
      "results/ont_envo-Prelationships-Mid.original_id-BGFalse-TrNone-Te50-Mnous-hermes-13b-EMopenai.results.yaml RAG-nous-hermes-13b\n",
      "BAD REL: {'predictor': 'hasCausalAgent', 'effect': 'increased hunger, malnutrition and consequent mortality'} in [{'predicate': 'subClassOf', 'target': 'AnthropogenicEnvironmentalProcess'}, {'predictor': 'hasCausalAgent', 'effect': 'increased hunger, malnutrition and consequent mortality'}]\n",
      "Other: tp=0 fp=0 fn=0 other=[\"subClassOf MoreSpecificThan AnthropogenicEnvironmentalProcess ['EnvironmentalSystemProcess']\"] tp_list=[] fp_list=[] fn_list=[] new_terms=[]\n",
      "Other: tp=0 fp=0 fn=0.5 other=[\"subClassOf MoreGeneralThan ['TransportFeature'] Bridge\"] tp_list=[] fp_list=[] fn_list=[] new_terms=[]\n",
      "Other: tp=0 fp=0 fn=0.5 other=[\"subClassOf MoreGeneralThan ['ConcentrationOf'] ConcentrationOfAmmoniumInLiquidWater\"] tp_list=[] fp_list=[] fn_list=[] new_terms=[]\n",
      "Other: tp=0 fp=0 fn=0 other=[\"subClassOf MoreSpecificThan CleaningAgent ['ManufacturedProduct']\"] tp_list=[] fp_list=[] fn_list=[] new_terms=[]\n",
      "Other: tp=0 fp=0 fn=0.5 other=[\"subClassOf MoreGeneralThan ['EnvironmentalSystemProcess'] RecyclingProcess\"] tp_list=[] fp_list=[] fn_list=[] new_terms=[]\n",
      "Other: tp=0 fp=0 fn=0.5 other=[\"subClassOf MoreGeneralThan ['PrecipitationProcess'] HydrologicalPrecipitationProcess\"] tp_list=[] fp_list=[] fn_list=[] new_terms=[]\n",
      "Other: tp=0 fp=0 fn=0.5 other=[\"subClassOf MoreGeneralThan ['HospitalUnitFacility'] IntensiveCareUnitFacility\"] tp_list=[] fp_list=[] fn_list=[] new_terms=[]\n",
      "Other: tp=0 fp=0 fn=0.5 other=[\"subClassOf MoreGeneralThan ['ConcentrationOf'] ConcentrationOfCarbonAtomInSeaWater\"] tp_list=[] fp_list=[] fn_list=[] new_terms=[]\n",
      "results/ont_foodon-Pdefinition-Mid.original_id-BGFalse-TrNone-Te50-Mgpt-3.5-turbo-EMopenai.results.yaml\n",
      "results/ont_hp-Plabel-Mid.original_id-BGFalse-TrNone-Te50-Mgpt-4-EMopenai.results.yaml\n",
      "results/ont_mp-Plabel-Mid.original_id-BGFalse-TrNone-Te50-Mnous-hermes-13b-EMopenai.results.yaml\n",
      "results/ont_mondo-Pdefinition-Mid.original_id-BGTrue-TrNone-Te50-Mgpt-4-EMopenai.results.yaml\n",
      "results/ont_go-Plabel-Mid.original_id-BGFalse-TrNone-Te50-Mgpt-4-EMopenai.results.yaml\n",
      "results/ont_foodon-Prelationships-Mid.original_id-BGFalse-TrNone-Te50-Mnous-hermes-13b-EMopenai.results.yaml\n",
      "results/ont_foodon-Prelationships-Mid.original_id-BGFalse-TrNone-Te50-Mnous-hermes-13b-EMopenai.results.yaml RAG-nous-hermes-13b\n",
      "Other: tp=0 fp=0 fn=0.5 other=[\"subClassOf MoreGeneralThan ['YogurtFoodProduct'] StrainedYogurt\"] tp_list=[] fp_list=[] fn_list=[] new_terms=[]\n",
      "BAD REL: {'predicate': 'hasProcess', 'object': 'saute'} in [{'predicate': 'subClassOf', 'target': 'TurkeyMeatFoodProduct'}, {'predicate': 'hasProcess', 'object': 'saute'}]\n",
      "Other: tp=0 fp=0 fn=0.5 other=[\"subClassOf MoreGeneralThan ['SumacFoodProduct', 'CaryopsisFruit'] RyeKernel\"] tp_list=[] fp_list=[] fn_list=[] new_terms=[]\n",
      "Other: tp=0 fp=0 fn=0.5 other=[\"subClassOf MoreGeneralThan ['AsparagusBeanFoodProduct'] AsparagusBean\"] tp_list=[] fp_list=[] fn_list=[] new_terms=[]\n",
      "Other: tp=0 fp=0 fn=0.5 other=[\"subClassOf MoreGeneralThan ['BerryFruit'] PitayaFruit\"] tp_list=[] fp_list=[] fn_list=[] new_terms=[]\n",
      "Other: tp=0 fp=0 fn=0.5 other=[\"subClassOf MoreGeneralThan ['AnimalFoodProduct'] MammalianMeatFoodProduct\"] tp_list=[] fp_list=[] fn_list=[] new_terms=['MeatFoodProduct']\n",
      "Other: tp=0 fp=0 fn=0 other=[\"subClassOf MoreSpecificThan HempSeed ['HempFoodProduct']\"] tp_list=[] fp_list=[] fn_list=[] new_terms=[]\n",
      "Other: tp=0 fp=0 fn=0.5 other=[\"subClassOf MoreGeneralThan ['MaterialEntity'] OrganismMaterial\"] tp_list=[] fp_list=[] fn_list=[] new_terms=[]\n",
      "Other: tp=0 fp=0 fn=0.5 other=[\"subClassOf MoreGeneralThan ['AnimalMaterial'] AnimalPiece\"] tp_list=[] fp_list=[] fn_list=[] new_terms=[]\n",
      "Other: tp=0 fp=0 fn=0.5 other=[\"subClassOf MoreGeneralThan ['ArugulaFoodProduct'] ArugulaGreensBunch\"] tp_list=[] fp_list=[] fn_list=[] new_terms=[]\n",
      "Other: tp=0 fp=0 fn=0 other=[\"subClassOf MoreSpecificThan RiceKernelFoodProduct ['RiceFoodProduct']\"] tp_list=[] fp_list=[] fn_list=[] new_terms=[]\n",
      "Other: tp=0 fp=0 fn=0.5 other=[\"subClassOf MoreGeneralThan ['SweetPotatoFoodProduct'] SweetPotato\"] tp_list=[] fp_list=[] fn_list=[] new_terms=[]\n",
      "Other: tp=0 fp=0 fn=0.5 other=[\"subClassOf MoreGeneralThan ['SquashFoodProduct'] MexicanGreySquash\"] tp_list=[] fp_list=[] fn_list=[] new_terms=['RawVegetable']\n",
      "results/ont_obi-Prelationships-Mid.original_id-BGFalse-TrNone-Te50-Mgpt-4-EMopenai.results.yaml\n",
      "results/ont_obi-Prelationships-Mid.original_id-BGFalse-TrNone-Te50-Mgpt-4-EMopenai.results.yaml RAG-gpt-4\n",
      "Other: tp=1 fp=0 fn=0.5 other=[\"subClassOf MoreGeneralThan ['Assay'] CarboxyfluoresceinSuccinimidylEsterStainingAssay\"] tp_list=[('subClassOf', 'CellProliferationAssay')] fp_list=[] fn_list=[] new_terms=[]\n",
      "results/ont_obi-Plabel-Mid.original_id-BGTrue-TrNone-Te50-Mgpt-3.5-turbo-EMopenai.results.yaml\n",
      "results/ont_go-Prelationships-Mid.original_id-BGFalse-TrNone-Te50-Mgpt-4-EMopenai.results.yaml\n",
      "results/ont_go-Prelationships-Mid.original_id-BGFalse-TrNone-Te50-Mgpt-4-EMopenai.results.yaml RAG-gpt-4\n",
      "Other: tp=0 fp=0 fn=0.5 other=[\"subClassOf MoreGeneralThan ['Detoxification'] DetoxificationOfInorganicCompound\"] tp_list=[] fp_list=[] fn_list=[] new_terms=[]\n",
      "Other: tp=0 fp=0 fn=0 other=[\"subClassOf MoreSpecificThan DisruptionOfCellularAnatomicalStructureInAnotherOrganism ['DisruptionOfAnatomicalStructureInAnotherOrganism']\"] tp_list=[] fp_list=[] fn_list=[] new_terms=[]\n",
      "Other: tp=0 fp=0 fn=1.5 other=[\"subClassOf MoreGeneralThan ['RetrotransposonSilencing'] RetrotransposonSilencingByHeterochromatinFormation\"] tp_list=[] fp_list=[] fn_list=[('subClassOf', 'GeneSilencingByRNADirectedDNAMethylation')] new_terms=['GeneSilencingByRnaDirectedDnaMethylation']\n",
      "Other: tp=0 fp=0 fn=0.5 other=[\"subClassOf MoreGeneralThan ['CellularProcessInvolvedInReproductionInMulticellularOrganism', 'EpigeneticRegulationOfGeneExpression'] GenomicImprinting\"] tp_list=[] fp_list=[] fn_list=[] new_terms=[]\n",
      "Other: tp=0 fp=0 fn=0.5 other=[\"subClassOf MoreGeneralThan ['CellularHomeostasis'] IntracellularChemicalHomeostasis\"] tp_list=[] fp_list=[] fn_list=[] new_terms=[]\n",
      "Other: tp=0 fp=0 fn=0.5 other=[\"subClassOf MoreGeneralThan ['CellularHomeostasis'] IntracellularChemicalHomeostasis\"] tp_list=[] fp_list=[] fn_list=[] new_terms=[]\n",
      "Other: tp=0 fp=0 fn=0.5 other=[\"subClassOf MoreGeneralThan ['UbiquitinProteinLigaseActivity'] HistoneUbiquitinLigaseActivity\"] tp_list=[] fp_list=[] fn_list=[] new_terms=['HistoneH4ModifyingActivity']\n",
      "Other: tp=1 fp=0 fn=0.5 other=[\"subClassOf MoreGeneralThan ['PositiveRegulationOfSignalTransduction'] PositiveRegulationOfPatternRecognitionReceptorSignalingPathway\"] tp_list=[('subClassOf', 'RegulationOfInflammasomeMediatedSignalingPathway')] fp_list=[] fn_list=[] new_terms=['RegulationOfInflammasomeMediatedSignalingPathway']\n",
      "Other: tp=0 fp=0 fn=0.5 other=[\"subClassOf MoreGeneralThan ['RNAPolymeraseIICTDHeptapeptideRepeatModifyingActivity'] RNAPolymeraseIICTDHeptapeptideRepeatPhosphataseActivity\"] tp_list=[] fp_list=[] fn_list=[] new_terms=['ProteinSerineThreoninePhosphataseActivity']\n",
      "Other: tp=0 fp=0 fn=1.0 other=[\"subClassOf MoreGeneralThan ['RibosomeBinding'] RibosomalLargeSubunitBinding\", \"subClassOf MoreGeneralThan ['RibosomeBinding'] MitochondrialRibosomeBinding\"] tp_list=[] fp_list=[] fn_list=[] new_terms=[]\n",
      "results/ont_uberon-Pdefinition-Mid.original_id-BGTrue-TrNone-Te40-Mgpt-3.5-turbo-EMopenai.results.yaml\n",
      "results/ont_go-Plogical_definition-Mid.original_id-BGFalse-TrNone-Te50-Mgpt-3.5-turbo-EMopenai.results.yaml\n",
      "results/ont_foodon-Plabel-Mid.original_id-BGFalse-TrNone-Te50-Mgpt-4-EMopenai.results.yaml\n",
      "results/ont_go-Pdefinition-Mid.original_id-BGFalse-TrNone-Te50-Mgpt-4-EMopenai.results.yaml\n",
      "results/ont_oba-Prelationships-Mid.original_id-BGFalse-TrNone-Te50-Mnous-hermes-13b-EMopenai.results.yaml\n",
      "results/ont_oba-Prelationships-Mid.original_id-BGFalse-TrNone-Te50-Mnous-hermes-13b-EMopenai.results.yaml RAG-nous-hermes-13b\n",
      "Other: tp=0 fp=0 fn=1.5 other=[\"subClassOf MoreGeneralThan ['Morphology'] CardiovascularSystemMorphologyTrait\"] tp_list=[] fp_list=[] fn_list=[('subClassOf', 'VitellineVasculatureQuality')] new_terms=[]\n",
      "Other: tp=0 fp=0 fn=1.5 other=[\"subClassOf MoreGeneralThan ['AminoAcidAmount'] BloodAminoAcidAmount\"] tp_list=[] fp_list=[] fn_list=[('subClassOf', 'BloodMetaboliteAmount')] new_terms=[]\n",
      "Other: tp=0 fp=0 fn=1.5 other=[\"subClassOf MoreGeneralThan ['Amount'] BloodAlanineTransaminaseAmount\"] tp_list=[] fp_list=[] fn_list=[('subClassOf', 'SerumNonAlbuminProteinAmount')] new_terms=[]\n",
      "Other: tp=0 fp=0 fn=0 other=[\"subClassOf MoreSpecificThan BloodMetaboliteAmount ['ChemicalInBloodAmount']\"] tp_list=[] fp_list=[] fn_list=[] new_terms=[]\n",
      "Other: tp=0 fp=0 fn=1.5 other=[\"subClassOf MoreGeneralThan ['Functionality'] MuscleOrganFunctionality\"] tp_list=[] fp_list=[] fn_list=[('subClassOf', 'HeadTrait')] new_terms=[]\n",
      "Other: tp=1 fp=0 fn=1.5 other=[\"subClassOf MoreGeneralThan ['ThoraxTrait'] HeartMorphologyTrait\"] tp_list=[('subClassOf', 'Thickness')] fp_list=[] fn_list=[('subClassOf', 'AnatomicalStructureSize')] new_terms=['WallOfHeartSize']\n",
      "Other: tp=0 fp=0 fn=0.5 other=[\"subClassOf MoreGeneralThan ['Rate'] AggressiveBehaviorRate\"] tp_list=[] fp_list=[] fn_list=[] new_terms=[]\n",
      "Other: tp=0 fp=0 fn=1.5 other=[\"subClassOf MoreGeneralThan ['BloodProteinAmount'] AmountOfAlbuminInBlood\"] tp_list=[] fp_list=[] fn_list=[('subClassOf', 'SerumNonAlbuminProteinAmount')] new_terms=['SerumProteinAmount']\n",
      "Other: tp=0 fp=0 fn=1.5 other=[\"subClassOf MoreGeneralThan ['Thickness'] CarotidArteryThickness\"] tp_list=[] fp_list=[] fn_list=[('subClassOf', 'InternalCarotidArterySize')] new_terms=[]\n",
      "Other: tp=0 fp=0 fn=1.5 other=[\"subClassOf MoreGeneralThan ['HasNumberOf'] PresacralVertebraQuantity\"] tp_list=[] fp_list=[] fn_list=[('subClassOf', 'OrganismSubdivisionTrait')] new_terms=['VertebralQuantity']\n",
      "Other: tp=0 fp=0 fn=0.5 other=[\"subClassOf MoreGeneralThan ['Morphology'] YolkSacMorphologyTrait\"] tp_list=[] fp_list=[] fn_list=[] new_terms=[]\n",
      "Other: tp=0 fp=0 fn=0.5 other=[\"subClassOf MoreGeneralThan ['ProcessEfficacy'] MotorCoordinationEfficacy\"] tp_list=[] fp_list=[] fn_list=[] new_terms=[]\n",
      "Other: tp=0 fp=0 fn=0.5 other=[\"subClassOf MoreGeneralThan ['Amount'] LimbAmount\"] tp_list=[] fp_list=[] fn_list=[] new_terms=[]\n",
      "Other: tp=0 fp=0 fn=1.0 other=[\"subClassOf MoreGeneralThan ['Amount'] NitrogenMolecularEntityAmount\", \"subClassOf MoreGeneralThan ['Amount'] BloodHormoneAmount\"] tp_list=[] fp_list=[] fn_list=[] new_terms=[]\n",
      "Other: tp=1 fp=0 fn=0.5 other=[\"subClassOf MoreGeneralThan ['SkullMorphologyTrait'] CraniumMorphology\"] tp_list=[('subClassOf', 'Shape')] fp_list=[] fn_list=[] new_terms=[]\n",
      "Other: tp=1 fp=0 fn=1 other=[\"subClassOf MoreSpecificThan Curvature ['Shape']\"] tp_list=[('subClassOf', 'ThoracicRibCageShape')] fp_list=[] fn_list=[('subClassOf', 'ThoracicCageMorphologyTrait')] new_terms=[]\n",
      "Other: tp=0 fp=0 fn=1.0 other=[\"subClassOf MoreGeneralThan ['Amount'] SerumImmunoglobulinAmount\", \"subClassOf MoreGeneralThan ['Amount'] BloodImmunoglobulinAAmount\"] tp_list=[] fp_list=[] fn_list=[] new_terms=[]\n",
      "Other: tp=0 fp=0 fn=1.5 other=[\"subClassOf MoreGeneralThan ['HasNumberOf'] VertebraQuantity\"] tp_list=[] fp_list=[] fn_list=[('subClassOf', 'OrganismSubdivisionTrait')] new_terms=[]\n",
      "results/ont_mp-Plabel-Mid.original_id-BGFalse-TrNone-Te50-Mgpt-3.5-turbo-EMopenai.results.yaml\n",
      "results/ont_foodon-Pdefinition-Mid.original_id-BGFalse-TrNone-Te50-Mgpt-4-EMopenai.results.yaml\n",
      "results/ont_envo-Plabel-Mid.original_id-BGFalse-TrNone-Te50-Mgpt-3.5-turbo-EMopenai.results.yaml\n",
      "results/ont_obi-Pdefinition-Mid.original_id-BGFalse-TrNone-Te50-Mgpt-4-EMopenai.results.yaml\n",
      "results/ont_mondo-Prelationships-Mid.original_id-BGFalse-TrNone-Te50-Mgpt-4-EMopenai.results.yaml\n",
      "results/ont_mondo-Prelationships-Mid.original_id-BGFalse-TrNone-Te50-Mgpt-4-EMopenai.results.yaml RAG-gpt-4\n",
      "Other: tp=0 fp=0 fn=0.5 other=[\"subClassOf MoreGeneralThan ['ReproductiveSystemDisorder'] FemaleReproductiveSystemDisorder\"] tp_list=[] fp_list=[] fn_list=[] new_terms=[]\n",
      "Other: tp=1 fp=0 fn=2 other=[\"subClassOf MoreSpecificThan Acrodysostosis ['MandibulofacialDysostosis', 'HereditaryOtorhinolaryngologicDisease']\"] tp_list=[('subClassOf', 'AcrodysostosisWithMultipleHormoneResistance')] fp_list=[] fn_list=[('subClassOf', 'Polyendocrinopathy'), ('subClassOf', 'AcrofacialDysostosis')] new_terms=[]\n",
      "Other: tp=0 fp=0 fn=0.5 other=[\"subClassOf MoreGeneralThan ['DisorderOfSexualDifferentiation'] 46XXDisorderOfSexDevelopmentInducedByAndrogensExcess\"] tp_list=[] fp_list=[] fn_list=[] new_terms=[]\n",
      "Other: tp=0 fp=0 fn=0.5 other=[\"subClassOf MoreGeneralThan ['Disease'] CongenitalHeartMalformation\"] tp_list=[] fp_list=[] fn_list=[] new_terms=['CardiacConductionDisease', 'VentricularSeptalDefects']\n",
      "Other: tp=0 fp=0 fn=1.5 other=[\"subClassOf MoreGeneralThan ['InbornErrorsOfMetabolism'] InbornCarbohydrateMetabolicDisorder\"] tp_list=[] fp_list=[] fn_list=[('subClassOf', 'GlycerolMetabolismDisease')] new_terms=[]\n",
      "Other: tp=0 fp=0 fn=1.5 other=[\"subClassOf MoreGeneralThan ['Hypothyroidism'] PermanentCongenitalHypothyroidism\"] tp_list=[] fp_list=[] fn_list=[('subClassOf', 'SyndromicDisease')] new_terms=[]\n",
      "Other: tp=0 fp=0 fn=0.5 other=[\"subClassOf MoreGeneralThan ['DisorderOfDevelopmentOrMorphogenesis'] DevelopmentalDefectOfTheEye\"] tp_list=[] fp_list=[] fn_list=[] new_terms=['DisorderOfEye']\n",
      "Other: tp=0 fp=0 fn=1.5 other=[\"subClassOf MoreGeneralThan ['InflammatoryDisease'] Encephalomyelitis\"] tp_list=[] fp_list=[] fn_list=[('subClassOf', 'BrainDisorder')] new_terms=[]\n",
      "results/ont_foodon-Plabel-Mid.original_id-BGTrue-TrNone-Te50-Mgpt-4-EMopenai.results.yaml\n",
      "results/ont_obi-Prelationships-Mid.original_id-BGFalse-TrNone-Te50-Mnous-hermes-13b-EMopenai.results.yaml\n",
      "results/ont_obi-Prelationships-Mid.original_id-BGFalse-TrNone-Te50-Mnous-hermes-13b-EMopenai.results.yaml RAG-nous-hermes-13b\n",
      "Other: tp=0 fp=0 fn=0.5 other=[\"subClassOf MoreGeneralThan ['PhysicalExaminationOfAnOrganism'] LimbCoordinationAssessment\"] tp_list=[] fp_list=[] fn_list=[] new_terms=[]\n",
      "Other: tp=0 fp=0 fn=0.5 other=[\"subClassOf MoreGeneralThan ['AnalyteAssay'] MicroarrayAssay\"] tp_list=[] fp_list=[] fn_list=[] new_terms=[]\n",
      "Other: tp=0 fp=0 fn=0.5 other=[\"subClassOf MoreGeneralThan ['ArthropodTrap'] RestingArthropodTrap\"] tp_list=[] fp_list=[] fn_list=[] new_terms=[]\n",
      "results/ont_obi-Prelationships-Mid.original_id-BGFalse-TrNone-Te50-Mgpt-3.5-turbo-EMopenai.results.yaml\n",
      "results/ont_obi-Prelationships-Mid.original_id-BGFalse-TrNone-Te50-Mgpt-3.5-turbo-EMopenai.results.yaml RAG-gpt-3.5-turbo\n",
      "Other: tp=0 fp=0 fn=0.5 other=[\"subClassOf MoreGeneralThan ['PhysicalExaminationOfAnOrganism'] DeepTendonReflexAssessment\"] tp_list=[] fp_list=[] fn_list=[] new_terms=[]\n",
      "Other: tp=0 fp=0 fn=0.5 other=[\"subClassOf MoreGeneralThan ['DataSet'] ImageDataSet\"] tp_list=[] fp_list=[] fn_list=[] new_terms=[]\n",
      "Other: tp=0 fp=0 fn=0.5 other=[\"subClassOf MoreGeneralThan ['AnalyteAssay'] MicroarrayAssay\"] tp_list=[] fp_list=[] fn_list=[] new_terms=[]\n",
      "Other: tp=0 fp=0 fn=1.0 other=[\"subClassOf MoreGeneralThan ['ImageDataSet'] MagneticResonanceImageDataSet\", \"subClassOf MoreGeneralThan ['ImageDataSet'] ComputedImageDataSet\"] tp_list=[] fp_list=[] fn_list=[] new_terms=[]\n",
      "results/ont_cl-Pdefinition-Mid.original_id-BGFalse-TrNone-Te50-Mgpt-4-EMopenai-ACgh_cl.results.yaml\n",
      "results/ont_foodon-Plabel-Mid.original_id-BGFalse-TrNone-Te50-Mgpt-3.5-turbo-EMopenai.results.yaml\n",
      "results/ont_obi-Pdefinition-Mid.original_id-BGTrue-TrNone-Te50-Mgpt-4-EMopenai.results.yaml\n",
      "results/ont_mondo-Pdefinition-Mid.original_id-BGFalse-TrNone-Te50-Mgpt-3.5-turbo-EMopenai.results.yaml\n",
      "results/ont_obi-Prelationships-Mid.original_id-BGTrue-TrNone-Te50-Mgpt-4-EMopenai.results.yaml\n",
      "results/ont_obi-Prelationships-Mid.original_id-BGTrue-TrNone-Te50-Mgpt-4-EMopenai.results.yaml RAG+background-gpt-4\n",
      "Other: tp=0 fp=0 fn=0.5 other=[\"subClassOf MoreGeneralThan ['ArthropodTrap'] RestingArthropodTrap\"] tp_list=[] fp_list=[] fn_list=[] new_terms=[]\n",
      "results/ont_uberon-Pdefinition-Mid.original_id-BGFalse-TrNone-Te40-Mnous-hermes-13b-EMopenai.results.yaml\n",
      "results/ont_go-Plabel-Mid.original_id-BGFalse-TrNone-Te50-Mnous-hermes-13b-EMopenai.results.yaml\n",
      "results/ont_cl-Plabel-Mid.original_id-BGFalse-TrNone-Te50-Mgpt-4-EMopenai.results.yaml\n",
      "results/ont_hp-Plabel-Mid.original_id-BGFalse-TrNone-Te50-Mnous-hermes-13b-EMopenai.results.yaml\n",
      "results/ont_cl-Pdefinition-Mid.original_id-BGFalse-TrNone-Te50-Mgpt-4-EMopenai.results.yaml\n",
      "results/ont_uberon-Pdefinition-Mid.original_id-BGFalse-TrNone-Te44-Mgpt-4-EMopenai.results.yaml\n",
      "results/ont_mp-Pdefinition-Mid.original_id-BGFalse-TrNone-Te50-Mnous-hermes-13b-EMopenai.results.yaml\n",
      "results/ont_mondo-Prelationships-Mid.original_id-BGFalse-TrNone-Te50-Mnous-hermes-13b-EMopenai.results.yaml\n",
      "results/ont_mondo-Prelationships-Mid.original_id-BGFalse-TrNone-Te50-Mnous-hermes-13b-EMopenai.results.yaml RAG-nous-hermes-13b\n",
      "Other: tp=0 fp=0 fn=0 other=[\"subClassOf MoreSpecificThan FamilialHypertrophicCardiomyopathy ['HypertrophicCardiomyopathy']\"] tp_list=[] fp_list=[] fn_list=[] new_terms=[]\n",
      "Other: tp=0 fp=0 fn=0 other=[\"subClassOf MoreSpecificThan CongenitalMyasthenicSyndromesWithGlycosylationDefect ['CongenitalMyasthenicSyndrome']\"] tp_list=[] fp_list=[] fn_list=[] new_terms=[]\n",
      "BAD REL: {'predicate': 'relationships', 'target': ['46,XX disorder of sex development induced by maternal-derived androgen']} in [{'predicate': 'subClassOf', 'target': 'DisorderOfSexualDifferentiation'}, {'predicate': 'HasMaterialBasisInGermlineMutationIn', 'target': 'CYP21A2'}, {'predicate': 'relationships', 'target': ['46,XX disorder of sex development induced by maternal-derived androgen']}]\n",
      "Other: tp=0 fp=0 fn=0.5 other=[\"subClassOf MoreGeneralThan ['DisorderOfSexualDifferentiation'] 46XXDisorderOfSexDevelopmentInducedByAndrogensExcess\"] tp_list=[] fp_list=[] fn_list=[] new_terms=[]\n",
      "Other: tp=1 fp=0 fn=1 other=[\"subClassOf MoreSpecificThan FetalAnticonvulsantSyndrome ['DisorderOfDevelopmentOrMorphogenesis']\"] tp_list=[('subClassOf', 'TeratogenicPierreRobinSyndrome')] fp_list=[] fn_list=[('subClassOf', 'OtorhinolaryngologicDisease')] new_terms=[]\n",
      "Other: tp=0 fp=1 fn=0 other=[\"subClassOf MoreSpecificThan AstrocyticTumor ['NeuroepithelialNeoplasm']\"] tp_list=[] fp_list=[('subClassOf', 'CentralNervousSystemOrganBenignNeoplasm')] fn_list=[] new_terms=[]\n",
      "Other: tp=0 fp=0 fn=0.5 other=[\"subClassOf MoreGeneralThan ['DisorderOfSexualDifferentiation'] 46XXDisorderOfSexDevelopment\"] tp_list=[] fp_list=[] fn_list=[] new_terms=[]\n",
      "Other: tp=0 fp=0 fn=0.5 other=[\"subClassOf MoreGeneralThan ['Disease'] CongenitalHeartMalformation\"] tp_list=[] fp_list=[] fn_list=[] new_terms=[]\n",
      "Other: tp=0 fp=0 fn=0.5 other=[\"subClassOf MoreGeneralThan ['DevelopmentalDefectDuringEmbryogenesis'] DevelopmentalDefectOfTheEye\"] tp_list=[] fp_list=[] fn_list=[] new_terms=[]\n",
      "Other: tp=0 fp=0 fn=1.0 other=[\"subClassOf MoreGeneralThan ['CentralNervousSystemDisorder', 'InflammatoryDisease'] Encephalomyelitis\", \"subClassOf MoreGeneralThan ['CentralNervousSystemDisorder'] BrainDisorder\"] tp_list=[] fp_list=[] fn_list=[] new_terms=[]\n",
      "results/ont_uberon-Prelationships-Mid.original_id-BGFalse-TrNone-Te40-Mgpt-4-EMopenai.results.yaml\n",
      "results/ont_uberon-Prelationships-Mid.original_id-BGFalse-TrNone-Te40-Mgpt-4-EMopenai.results.yaml RAG-gpt-4\n",
      "Other: tp=0 fp=0 fn=0.5 other=[\"subClassOf MoreGeneralThan ['LymphNode'] ParietalPelvicLymphNode\"] tp_list=[] fp_list=[] fn_list=[] new_terms=[]\n",
      "Other: tp=0 fp=0 fn=0.5 other=[\"subClassOf MoreGeneralThan ['OrganismSubdivision'] SubdivisionOfTrunk\"] tp_list=[] fp_list=[] fn_list=[] new_terms=[]\n",
      "Other: tp=0 fp=0 fn=0.5 other=[\"subClassOf MoreGeneralThan ['Mucosa'] MucosaOfBronchiole\"] tp_list=[] fp_list=[] fn_list=[] new_terms=[]\n",
      "Other: tp=0 fp=0 fn=0.5 other=[\"subClassOf MoreGeneralThan ['ZoneOfSkin'] SkinOfBack\"] tp_list=[] fp_list=[] fn_list=[] new_terms=[]\n",
      "Other: tp=0 fp=0 fn=0.5 other=[\"subClassOf MoreGeneralThan ['GlandularAcinus'] MucousAcinus\"] tp_list=[] fp_list=[] fn_list=[] new_terms=[]\n",
      "Other: tp=0 fp=0 fn=0.5 other=[\"subClassOf MoreGeneralThan ['Epithelium'] EpitheliumOfBronchiole\"] tp_list=[] fp_list=[] fn_list=[] new_terms=[]\n",
      "Other: tp=0 fp=0 fn=0.5 other=[\"subClassOf MoreGeneralThan ['LymphNode'] AbdominalLymphNode\"] tp_list=[] fp_list=[] fn_list=[] new_terms=[]\n",
      "Other: tp=0 fp=0 fn=0.5 other=[\"subClassOf MoreGeneralThan ['ThoracicLymphNode'] SuperiorMediastinalLymphNode\"] tp_list=[] fp_list=[] fn_list=[] new_terms=[]\n",
      "Other: tp=0 fp=0 fn=0.5 other=[\"subClassOf MoreGeneralThan ['SmoothMuscleTissue'] SmoothMuscleTissueOfBronchiole\"] tp_list=[] fp_list=[] fn_list=[] new_terms=[]\n",
      "Other: tp=0 fp=0 fn=1.5 other=[\"subClassOf MoreGeneralThan ['AnatomicalEntity'] OrganSubunit\"] tp_list=[] fp_list=[] fn_list=[('subClassOf', 'EndodermDerivedStructure')] new_terms=[]\n",
      "Other: tp=0 fp=0 fn=0.5 other=[\"subClassOf MoreGeneralThan ['SkinOfLeg'] LowerLegSkin\"] tp_list=[] fp_list=[] fn_list=[] new_terms=[]\n",
      "results/ont_uberon-Plabel-Mid.original_id-BGFalse-TrNone-Te40-Mnous-hermes-13b-EMopenai.results.yaml\n",
      "results/ont_envo-Prelationships-Mid.original_id-BGFalse-TrNone-Te50-Mgpt-3.5-turbo-EMopenai.results.yaml\n",
      "results/ont_envo-Prelationships-Mid.original_id-BGFalse-TrNone-Te50-Mgpt-3.5-turbo-EMopenai.results.yaml RAG-gpt-3.5-turbo\n",
      "Other: tp=0 fp=0 fn=0 other=[\"subClassOf MoreSpecificThan GroceryStore ['FoodShop']\"] tp_list=[] fp_list=[] fn_list=[] new_terms=[]\n",
      "Other: tp=0 fp=0 fn=0 other=[\"subClassOf MoreSpecificThan Device ['ManufacturedProduct']\"] tp_list=[] fp_list=[] fn_list=[] new_terms=[]\n",
      "Other: tp=0 fp=0 fn=0.5 other=[\"subClassOf MoreGeneralThan ['ConcentrationOf'] ConcentrationOfAmmoniumInLiquidWater\"] tp_list=[] fp_list=[] fn_list=[] new_terms=[]\n",
      "Other: tp=0 fp=0 fn=0.5 other=[\"subClassOf MoreGeneralThan ['EnvironmentalSystemProcess'] RecyclingProcess\"] tp_list=[] fp_list=[] fn_list=[] new_terms=[]\n",
      "Other: tp=0 fp=0 fn=0 other=[\"subClassOf MoreSpecificThan Device ['ManufacturedProduct']\"] tp_list=[] fp_list=[] fn_list=[] new_terms=[]\n",
      "Other: tp=0 fp=0 fn=0.5 other=[\"subClassOf MoreGeneralThan ['Albedo'] SoilAlbedo\"] tp_list=[] fp_list=[] fn_list=[] new_terms=[]\n",
      "Other: tp=0 fp=0 fn=0.5 other=[\"subClassOf MoreGeneralThan ['HospitalUnitFacility'] IntensiveCareUnitFacility\"] tp_list=[] fp_list=[] fn_list=[] new_terms=[]\n",
      "results/ont_hp-Pdefinition-Mid.original_id-BGFalse-TrNone-Te50-Mnous-hermes-13b-EMopenai.results.yaml\n",
      "results/ont_mondo-Plogical_definition-Mid.original_id-BGFalse-TrNone-Te50-Mgpt-4-EMopenai.results.yaml\n",
      "results/ont_obi-Pdefinition-Mid.original_id-BGFalse-TrNone-Te50-Mgpt-3.5-turbo-EMopenai-ACgh_obi.results.yaml\n",
      "results/ont_foodon-Pdefinition-Mid.original_id-BGTrue-TrNone-Te50-Mgpt-4-EMopenai-ACgh_foodon.results.yaml\n",
      "results/ont_envo-Plabel-Mid.original_id-BGFalse-TrNone-Te50-Mnous-hermes-13b-EMopenai.results.yaml\n",
      "results/ont_uberon-Pdefinition-Mid.original_id-BGFalse-TrNone-Te40-Mgpt-3.5-turbo-EMopenai-ACgh_uberon.results.yaml\n",
      "results/ont_obi-Plabel-Mid.original_id-BGTrue-TrNone-Te50-Mgpt-4-EMopenai.results.yaml\n",
      "results/ont_go-Prelationships-Mid.original_id-BGFalse-TrNone-Te50-Mgpt-3.5-turbo-EMopenai.results.yaml\n",
      "results/ont_go-Prelationships-Mid.original_id-BGFalse-TrNone-Te50-Mgpt-3.5-turbo-EMopenai.results.yaml RAG-gpt-3.5-turbo\n",
      "Other: tp=0 fp=0 fn=0 other=[\"subClassOf MoreSpecificThan DisruptionOfCellularAnatomicalStructureInAnotherOrganism ['DisruptionOfAnatomicalStructureInAnotherOrganism']\"] tp_list=[] fp_list=[] fn_list=[] new_terms=[]\n",
      "Other: tp=0 fp=0 fn=1.5 other=[\"subClassOf MoreGeneralThan ['RetrotransposonSilencing'] RetrotransposonSilencingByHeterochromatinFormation\"] tp_list=[] fp_list=[] fn_list=[('subClassOf', 'GeneSilencingByRNADirectedDNAMethylation')] new_terms=[]\n",
      "Other: tp=0 fp=0 fn=2.5 other=[\"subClassOf MoreGeneralThan ['OxidoreductaseActivity'] DisulfideOxidoreductaseActivity\"] tp_list=[] fp_list=[] fn_list=[('subClassOf', 'OxidoreductaseActivity_actingOnASulfurGroupOfDonors_disulfideAsAcceptor'), ('subClassOf', 'CatalyticActivity_actingOnAProtein')] new_terms=['NADPNADHBinding', 'ProteinGlutathioneReductaseActivity']\n",
      "Other: tp=0 fp=0 fn=0.5 other=[\"subClassOf MoreGeneralThan ['CellularProcessInvolvedInReproductionInMulticellularOrganism', 'EpigeneticRegulationOfGeneExpression'] GenomicImprinting\"] tp_list=[] fp_list=[] fn_list=[] new_terms=[]\n",
      "Other: tp=0 fp=0 fn=0 other=[\"subClassOf MoreSpecificThan IntracellularNucleotideHomeostasis ['IntracellularChemicalHomeostasis']\"] tp_list=[] fp_list=[] fn_list=[] new_terms=[]\n",
      "Other: tp=0 fp=0 fn=0.5 other=[\"subClassOf MoreGeneralThan ['BoundingMembraneOfOrganelle'] EndosomeMembrane\"] tp_list=[] fp_list=[] fn_list=[] new_terms=[]\n",
      "Other: tp=0 fp=0 fn=0.5 other=[\"subClassOf MoreGeneralThan ['UbiquitinProteinLigaseActivity', 'HistoneModifyingActivity'] HistoneUbiquitinLigaseActivity\"] tp_list=[] fp_list=[] fn_list=[] new_terms=[]\n",
      "Other: tp=1 fp=0 fn=0.5 other=[\"subClassOf MoreGeneralThan ['PositiveRegulationOfInnateImmuneResponse'] PositiveRegulationOfPatternRecognitionReceptorSignalingPathway\"] tp_list=[('subClassOf', 'RegulationOfInflammasomeMediatedSignalingPathway')] fp_list=[] fn_list=[] new_terms=['RegulationOfInflammasomeMediatedSignalingPathway']\n",
      "Other: tp=0 fp=0 fn=0.5 other=[\"subClassOf MoreGeneralThan ['RNAPolymeraseIICTDHeptapeptideRepeatModifyingActivity'] RNAPolymeraseIICTDHeptapeptideRepeatPhosphataseActivity\"] tp_list=[] fp_list=[] fn_list=[] new_terms=['ProteinSerineThreoninePhosphataseActivity']\n",
      "Other: tp=0 fp=1 fn=0.5 other=[\"subClassOf MoreGeneralThan ['ReproductiveProcess'] MulticellularOrganismalReproductiveProcess\"] tp_list=[] fp_list=[('subClassOf', 'CellularProcessInvolvedInReproductionInMulticellularOrganism')] fn_list=[] new_terms=[]\n",
      "results/ont_oba-Plogical_definition-Mid.original_id-BGFalse-TrNone-Te50-Mgpt-3.5-turbo-EMopenai.results.yaml\n",
      "results/ont_mondo-Prelationships-Mid.original_id-BGTrue-TrNone-Te50-Mgpt-4-EMopenai.results.yaml\n",
      "results/ont_mondo-Prelationships-Mid.original_id-BGTrue-TrNone-Te50-Mgpt-4-EMopenai.results.yaml RAG+background-gpt-4\n",
      "Other: tp=0 fp=1 fn=0 other=[\"subClassOf MoreSpecificThan FamilialHypertrophicCardiomyopathy ['HypertrophicCardiomyopathy']\"] tp_list=[] fp_list=[('subClassOf', 'MitochondrialComplexDeficiency')] fn_list=[] new_terms=['MitochondrialGeneticDisease']\n",
      "Other: tp=0 fp=0 fn=0.5 other=[\"subClassOf MoreGeneralThan ['ReproductiveSystemDisorder'] FemaleReproductiveSystemDisorder\"] tp_list=[] fp_list=[] fn_list=[] new_terms=[]\n",
      "Other: tp=0 fp=0 fn=2 other=[\"subClassOf MoreSpecificThan Acrodysostosis ['MandibulofacialDysostosis', 'HereditaryOtorhinolaryngologicDisease']\"] tp_list=[] fp_list=[] fn_list=[('subClassOf', 'Polyendocrinopathy'), ('subClassOf', 'AcrofacialDysostosis')] new_terms=[]\n",
      "Other: tp=0 fp=0 fn=0.5 other=[\"subClassOf MoreGeneralThan ['HereditarySpasticParaplegia'] AutosomalRecessiveComplexSpasticParaplegia\"] tp_list=[] fp_list=[] fn_list=[] new_terms=[]\n",
      "Other: tp=0 fp=0 fn=0.5 other=[\"subClassOf MoreGeneralThan ['DisorderOfSexualDifferentiation'] 46XXDisorderOfSexDevelopment\"] tp_list=[] fp_list=[] fn_list=[] new_terms=[]\n",
      "Other: tp=0 fp=0 fn=0.5 other=[\"subClassOf MoreGeneralThan ['Disease'] CongenitalHeartMalformation\"] tp_list=[] fp_list=[] fn_list=[] new_terms=[]\n",
      "Other: tp=0 fp=0 fn=1.5 other=[\"subClassOf MoreGeneralThan ['InbornErrorsOfMetabolism'] InbornCarbohydrateMetabolicDisorder\"] tp_list=[] fp_list=[] fn_list=[('subClassOf', 'GlycerolMetabolismDisease')] new_terms=[]\n",
      "Other: tp=0 fp=0 fn=1.5 other=[\"subClassOf MoreGeneralThan ['Hypothyroidism'] PermanentCongenitalHypothyroidism\"] tp_list=[] fp_list=[] fn_list=[('subClassOf', 'SyndromicDisease')] new_terms=[]\n",
      "Other: tp=0 fp=0 fn=0.5 other=[\"subClassOf MoreGeneralThan ['DisorderOfDevelopmentOrMorphogenesis'] DevelopmentalDefectOfTheEye\"] tp_list=[] fp_list=[] fn_list=[] new_terms=[]\n",
      "Other: tp=0 fp=0 fn=0.5 other=[\"subClassOf MoreGeneralThan ['NervousSystemDisorder'] AcquiredPeripheralNeuropathy\"] tp_list=[] fp_list=[] fn_list=[] new_terms=[]\n",
      "Other: tp=0 fp=0 fn=1.5 other=[\"subClassOf MoreGeneralThan ['IntellectualDisability'] SyndromicIntellectualDisability\"] tp_list=[] fp_list=[] fn_list=[('subClassOf', 'AutosomalRecessiveComplexSpasticParaplegia')] new_terms=['SpasticParaplegia']\n",
      "Other: tp=0 fp=0 fn=1.5 other=[\"subClassOf MoreGeneralThan ['InflammatoryDisease'] Encephalomyelitis\"] tp_list=[] fp_list=[] fn_list=[('subClassOf', 'BrainDisorder')] new_terms=[]\n",
      "results/ont_hp-Prelationships-Mid.original_id-BGFalse-TrNone-Te50-Mnous-hermes-13b-EMopenai.results.yaml\n",
      "results/ont_hp-Prelationships-Mid.original_id-BGFalse-TrNone-Te50-Mnous-hermes-13b-EMopenai.results.yaml RAG-nous-hermes-13b\n",
      "Other: tp=0 fp=1 fn=0.5 other=[\"subClassOf MoreGeneralThan ['AbnormalEpidermalMorphology'] AbnormalEpidermalProteinExpression\"] tp_list=[] fp_list=[('subClassOf', 'ReducedCellSurfaceMarkerLevel')] fn_list=[] new_terms=[]\n",
      "Other: tp=0 fp=1 fn=1 other=[\"subClassOf MoreSpecificThan PainInHeadAndNeckRegion ['Pain']\"] tp_list=[] fp_list=[('subClassOf', 'AbnormalEyePhysiology')] fn_list=[('subClassOf', 'AbnormalEyelidPhysiology')] new_terms=[]\n",
      "Other: tp=0 fp=0 fn=0.5 other=[\"subClassOf MoreGeneralThan ['AbnormalStoolComposition'] PositiveStoolInfectiousAgentTest\"] tp_list=[] fp_list=[] fn_list=[] new_terms=[]\n",
      "Other: tp=0 fp=0 fn=0.5 other=[\"subClassOf MoreGeneralThan ['AmelioratedBy'] AmelioratedByExposureToMedication\"] tp_list=[] fp_list=[] fn_list=[] new_terms=[]\n",
      "Other: tp=0 fp=0 fn=0.5 other=[\"subClassOf MoreGeneralThan ['AbnormalSpermMorphology'] AbnormalSpermNeckMorphology\"] tp_list=[] fp_list=[] fn_list=[] new_terms=[]\n",
      "Other: tp=0 fp=0 fn=0.5 other=[\"subClassOf MoreGeneralThan ['AbnormalLymphNodeMorphology'] AbnormalLymphNodeCellComposition\"] tp_list=[] fp_list=[] fn_list=[] new_terms=[]\n",
      "results/ont_mondo-Plabel-Mid.original_id-BGFalse-TrNone-Te50-Mgpt-4-EMopenai.results.yaml\n",
      "results/ont_go-Prelationships-Mid.original_id-BGFalse-TrNone-Te50-Mnous-hermes-13b-EMopenai.results.yaml\n",
      "results/ont_go-Prelationships-Mid.original_id-BGFalse-TrNone-Te50-Mnous-hermes-13b-EMopenai.results.yaml RAG-nous-hermes-13b\n",
      "Other: tp=0 fp=0 fn=0.5 other=[\"subClassOf MoreGeneralThan ['Detoxification'] DetoxificationOfInorganicCompound\"] tp_list=[] fp_list=[] fn_list=[] new_terms=[]\n",
      "Other: tp=0 fp=0 fn=0 other=[\"subClassOf MoreSpecificThan DisruptionOfCellularAnatomicalStructureInAnotherOrganism ['DisruptionOfAnatomicalStructureInAnotherOrganism']\"] tp_list=[] fp_list=[] fn_list=[] new_terms=[]\n",
      "Other: tp=0 fp=1 fn=1.5 other=[\"subClassOf MoreGeneralThan ['BiologicalProcessInvolvedInInteractionWithHost'] PerturbationOfHostMAPKSignalTransductionPathway\"] tp_list=[] fp_list=[('subClassOf', 'KillingOfCellsOfAnotherOrganism')] fn_list=[('subClassOf', 'SymbiontMediatedSuppressionOfHostSignalTransductionPathway')] new_terms=[]\n",
      "Other: tp=0 fp=0 fn=0 other=[\"subClassOf MoreSpecificThan IntracellularAminoAcidHomeostasis ['IntracellularChemicalHomeostasis']\"] tp_list=[] fp_list=[] fn_list=[] new_terms=[]\n",
      "Other: tp=0 fp=0 fn=0 other=[\"subClassOf MoreSpecificThan IntracellularAminoAcidHomeostasis ['IntracellularChemicalHomeostasis']\"] tp_list=[] fp_list=[] fn_list=[] new_terms=[]\n",
      "Other: tp=0 fp=0 fn=0.5 other=[\"subClassOf MoreGeneralThan ['UbiquitinProteinLigaseActivity', 'HistoneModifyingActivity'] HistoneUbiquitinLigaseActivity\"] tp_list=[] fp_list=[] fn_list=[] new_terms=[]\n",
      "Other: tp=0 fp=0 fn=1.0 other=[\"subClassOf MoreGeneralThan ['RibosomeBinding'] RibosomalLargeSubunitBinding\", \"subClassOf MoreGeneralThan ['RibosomeBinding'] MitochondrialRibosomeBinding\"] tp_list=[] fp_list=[] fn_list=[] new_terms=[]\n",
      "Other: tp=0 fp=1 fn=0.5 other=[\"subClassOf MoreGeneralThan ['DisruptionBySymbiontOfHostCellularComponent'] PerturbationBySymbiontOfHostActinCytoskeleton\"] tp_list=[] fp_list=[('subClassOf', 'ActinCytoskeletonOrganization')] fn_list=[] new_terms=['FilamentousActinDepolymerizationProcess']\n",
      "results/ont_mp-Prelationships-Mid.original_id-BGFalse-TrNone-Te50-Mnous-hermes-13b-EMopenai.results.yaml\n",
      "results/ont_mp-Prelationships-Mid.original_id-BGFalse-TrNone-Te50-Mnous-hermes-13b-EMopenai.results.yaml RAG-nous-hermes-13b\n",
      "Other: tp=1 fp=0 fn=0.5 other=[\"subClassOf MoreGeneralThan ['AbnormalSpleenWhitePulpMorphology'] AbnormalSpleenBCellFollicleMorphology\"] tp_list=[('subClassOf', 'AbnormalSpleenBCellFollicleNumber')] fp_list=[] fn_list=[] new_terms=[]\n",
      "Other: tp=0 fp=0 fn=1.5 other=[\"subClassOf MoreGeneralThan ['AbnormalBoneMarrowCavityMorphology'] AbnormalLongBoneInternalDiameter\"] tp_list=[] fp_list=[] fn_list=[('subClassOf', 'AbnormalTibiaMorphology')] new_terms=['DecreasedInternalDiameterOfLongBones']\n",
      "Other: tp=0 fp=0 fn=0.5 other=[\"subClassOf MoreGeneralThan ['AbnormalRespiratorySystemPhysiology'] AbnormalRespiration\"] tp_list=[] fp_list=[] fn_list=[] new_terms=[]\n",
      "Other: tp=0 fp=0 fn=0.5 other=[\"subClassOf MoreGeneralThan ['AbnormalRetinaNeuronalLayerMorphology'] AbnormalRetinaNerveFiberLayerMorphology\"] tp_list=[] fp_list=[] fn_list=[] new_terms=[]\n",
      "Other: tp=0 fp=0 fn=0.5 other=[\"subClassOf MoreGeneralThan ['AbnormalSexGlandPhysiology'] AbnormalSexGlandSecretion\"] tp_list=[] fp_list=[] fn_list=[] new_terms=[]\n",
      "Other: tp=0 fp=0 fn=0.5 other=[\"subClassOf MoreGeneralThan ['AbnormalSexGlandPhysiology'] AbnormalSexGlandSecretion\"] tp_list=[] fp_list=[] fn_list=[] new_terms=[]\n",
      "Other: tp=0 fp=1 fn=0.5 other=[\"subClassOf MoreGeneralThan ['AbnormalAdrenalGlandMorphology'] AbnormalAdrenalGlandZonaFasciculataMorphology\"] tp_list=[] fp_list=[('subClassOf', 'AbnormalSkinSebaceousGlandMorphology')] fn_list=[] new_terms=[]\n",
      "Other: tp=0 fp=0 fn=0.5 other=[\"subClassOf MoreGeneralThan ['AbnormalRetinaNeuronalLayerMorphology'] AbnormalRetinaNerveFiberLayerMorphology\"] tp_list=[] fp_list=[] fn_list=[] new_terms=[]\n",
      "Other: tp=0 fp=0 fn=0.5 other=[\"subClassOf MoreGeneralThan ['AbnormalFacialMorphology'] AbnormalMouthMorphology\"] tp_list=[] fp_list=[] fn_list=[] new_terms=[]\n",
      "Other: tp=0 fp=0 fn=1.0 other=[\"subClassOf MoreGeneralThan ['AbnormalSexGlandSecretion', 'AbnormalOvaryPhysiology'] AbnormalOvarySecretion\", \"subClassOf MoreGeneralThan ['AbnormalSexGlandSecretion'] IncreasedSexGlandSecretion\"] tp_list=[] fp_list=[] fn_list=[] new_terms=[]\n",
      "Other: tp=0 fp=0 fn=0.5 other=[\"subClassOf MoreGeneralThan ['AbnormalIntestineMorphology'] AbnormalIntestinePlacement\"] tp_list=[] fp_list=[] fn_list=[] new_terms=[]\n",
      "Other: tp=0 fp=0 fn=0.5 other=[\"subClassOf MoreGeneralThan ['EmbryonicLethality'] EmbryonicLethalityPriorToToothBudStage\"] tp_list=[] fp_list=[] fn_list=[] new_terms=[]\n",
      "Other: tp=0 fp=0 fn=0.5 other=[\"subClassOf MoreGeneralThan ['EmbryonicLethality'] EmbryonicLethalityPriorToOrganogenesis\"] tp_list=[] fp_list=[] fn_list=[] new_terms=[]\n",
      "Other: tp=0 fp=0 fn=1.5 other=[\"subClassOf MoreGeneralThan ['AbnormalCardiovascularSystemMorphology'] AbnormalBloodVesselMorphology\", \"subClassOf MoreSpecificThan AbnormalVasculogenesis ['AbnormalBloodVesselMorphology']\"] tp_list=[] fp_list=[] fn_list=[('subClassOf', 'AbnormalSkinMorphology')] new_terms=[]\n",
      "Other: tp=0 fp=1 fn=0.5 other=[\"subClassOf MoreGeneralThan ['AbnormalDigitMorphology'] Syndactyly\"] tp_list=[] fp_list=[('subClassOf', 'AbnormalHindlimbMorphology')] fn_list=[] new_terms=[]\n",
      "Other: tp=0 fp=0 fn=0.5 other=[\"subClassOf MoreGeneralThan ['AbnormalBrainDevelopment'] Holoprosencephaly\"] tp_list=[] fp_list=[] fn_list=[] new_terms=[]\n",
      "Other: tp=0 fp=0 fn=0.5 other=[\"subClassOf MoreGeneralThan ['AbnormalBrainDevelopment'] Holoprosencephaly\"] tp_list=[] fp_list=[] fn_list=[] new_terms=[]\n",
      "Other: tp=0 fp=0 fn=0.5 other=[\"subClassOf MoreGeneralThan ['AbnormalEndocytosis'] AbnormalPinocytosis\"] tp_list=[] fp_list=[] fn_list=[] new_terms=[]\n",
      "results/ont_go-Pdefinition-Mid.original_id-BGTrue-TrNone-Te50-Mgpt-3.5-turbo-EMopenai.results.yaml\n",
      "results/ont_oba-Prelationships-Mid.original_id-BGFalse-TrNone-Te50-Mgpt-3.5-turbo-EMopenai.results.yaml\n",
      "results/ont_oba-Prelationships-Mid.original_id-BGFalse-TrNone-Te50-Mgpt-3.5-turbo-EMopenai.results.yaml RAG-gpt-3.5-turbo\n",
      "Other: tp=1 fp=0 fn=1.0 other=[\"subClassOf MoreGeneralThan ['AnatomicalEntityAttribute'] SynovialJointQuality\", \"subClassOf MoreGeneralThan ['AnatomicalEntityAttribute'] HindlimbJointQuality\"] tp_list=[('subClassOf', 'Functionality')] fp_list=[] fn_list=[] new_terms=[]\n",
      "Other: tp=0 fp=0 fn=1.0 other=[\"subClassOf MoreGeneralThan ['ChemicalInBloodAmount'] BloodMetaboliteAmount\", \"subClassOf MoreGeneralThan ['AminoAcidAmount', 'ChemicalInBloodAmount'] BloodAminoAcidAmount\"] tp_list=[] fp_list=[] fn_list=[] new_terms=[]\n",
      "Other: tp=0 fp=0 fn=0 other=[\"subClassOf MoreSpecificThan BloodMetaboliteAmount ['ChemicalInBloodAmount']\"] tp_list=[] fp_list=[] fn_list=[] new_terms=[]\n",
      "Other: tp=0 fp=0 fn=1.0 other=[\"subClassOf MoreGeneralThan ['AnatomicalEntityAttribute', 'Functionality'] MuscleOrganFunctionality\", \"subClassOf MoreGeneralThan ['AnatomicalEntityAttribute'] HeadTrait\"] tp_list=[] fp_list=[] fn_list=[] new_terms=[]\n",
      "Other: tp=0 fp=0 fn=1.5 other=[\"subClassOf MoreGeneralThan ['BloodProteinAmount'] AmountOfAlbuminInBlood\"] tp_list=[] fp_list=[] fn_list=[('subClassOf', 'SerumNonAlbuminProteinAmount')] new_terms=[]\n",
      "Other: tp=0 fp=0 fn=1.0 other=[\"subClassOf MoreGeneralThan ['ArteryMorphologyTrait'] InternalCarotidArterySize\", \"subClassOf MoreGeneralThan ['ArteryMorphologyTrait', 'Thickness'] CarotidArteryThickness\"] tp_list=[] fp_list=[] fn_list=[] new_terms=['VesselWallThickness']\n",
      "Other: tp=0 fp=0 fn=1.5 other=[\"subClassOf MoreGeneralThan ['HasNumberOf'] PresacralVertebraQuantity\"] tp_list=[] fp_list=[] fn_list=[('subClassOf', 'OrganismSubdivisionTrait')] new_terms=['VertebraHasNumberOf']\n",
      "Other: tp=0 fp=0 fn=0 other=[\"subClassOf MoreSpecificThan SleepingBehaviorQuality ['BiologicalProcessAttribute']\"] tp_list=[] fp_list=[] fn_list=[] new_terms=[]\n",
      "Other: tp=0 fp=0 fn=1 other=[\"subClassOf MoreSpecificThan ReflexAmount ['Amount']\"] tp_list=[] fp_list=[] fn_list=[('subClassOf', 'StartleReflexQuality')] new_terms=[]\n",
      "Other: tp=1 fp=0 fn=0.5 other=[\"subClassOf MoreGeneralThan ['OrganismTrait'] MulticellularOrganismStructure\"] tp_list=[('subClassOf', 'Stability')] fp_list=[] fn_list=[] new_terms=[]\n",
      "Other: tp=0 fp=0 fn=0.5 other=[\"subClassOf MoreGeneralThan ['ProcessEfficacy'] MotorCoordinationEfficacy\"] tp_list=[] fp_list=[] fn_list=[] new_terms=[]\n",
      "Other: tp=0 fp=0 fn=0.5 other=[\"subClassOf MoreGeneralThan ['Amount'] LimbAmount\"] tp_list=[] fp_list=[] fn_list=[] new_terms=[]\n",
      "Other: tp=1 fp=0 fn=0.5 other=[\"subClassOf MoreGeneralThan ['SkullMorphologyTrait'] CraniumMorphology\"] tp_list=[('subClassOf', 'Shape')] fp_list=[] fn_list=[] new_terms=[]\n",
      "Other: tp=0 fp=0 fn=1.5 other=[\"subClassOf MoreGeneralThan ['HasNumberOf'] VertebraQuantity\"] tp_list=[] fp_list=[] fn_list=[('subClassOf', 'OrganismSubdivisionTrait')] new_terms=['VertebraHasNumberOf']\n",
      "results/ont_cl-Plogical_definition-Mid.original_id-BGFalse-TrNone-Te50-Mgpt-3.5-turbo-EMopenai.results.yaml\n",
      "results/ont_mp-Plabel-Mid.original_id-BGFalse-TrNone-Te50-Mgpt-4-EMopenai.results.yaml\n",
      "results/ont_go-Plabel-Mid.original_id-BGTrue-TrNone-Te50-Mgpt-3.5-turbo-EMopenai.results.yaml\n",
      "results/ont_go-Plogical_definition-Mid.original_id-BGFalse-TrNone-Te50-Mgpt-4-EMopenai.results.yaml\n",
      "results/ont_oba-Plabel-Mid.original_id-BGFalse-TrNone-Te50-Mgpt-4-EMopenai.results.yaml\n",
      "results/ont_envo-Prelationships-Mid.original_id-BGTrue-TrNone-Te50-Mgpt-3.5-turbo-EMopenai.results.yaml\n",
      "results/ont_envo-Prelationships-Mid.original_id-BGTrue-TrNone-Te50-Mgpt-3.5-turbo-EMopenai.results.yaml RAG+background-gpt-3.5-turbo\n",
      "Other: tp=0 fp=0 fn=0.5 other=[\"subClassOf MoreGeneralThan ['HealthcareFacility'] HospitalUnitFacility\"] tp_list=[] fp_list=[] fn_list=[] new_terms=[]\n",
      "Other: tp=0 fp=0 fn=0.5 other=[\"subClassOf MoreGeneralThan ['HealthcareFacility'] HospitalUnitFacility\"] tp_list=[] fp_list=[] fn_list=[] new_terms=[]\n",
      "Other: tp=0 fp=0 fn=0.5 other=[\"subClassOf MoreGeneralThan ['ConcentrationOf'] ConcentrationOfAmmoniumInLiquidWater\"] tp_list=[] fp_list=[] fn_list=[] new_terms=[]\n",
      "Other: tp=0 fp=0 fn=0.5 other=[\"subClassOf MoreGeneralThan ['HealthcareFacility'] HospitalUnitFacility\"] tp_list=[] fp_list=[] fn_list=[] new_terms=[]\n",
      "Other: tp=0 fp=0 fn=0 other=[\"subClassOf MoreSpecificThan Device ['ManufacturedProduct']\"] tp_list=[] fp_list=[] fn_list=[] new_terms=[]\n",
      "Other: tp=0 fp=0 fn=0.5 other=[\"subClassOf MoreGeneralThan ['Albedo'] SoilAlbedo\"] tp_list=[] fp_list=[] fn_list=[] new_terms=[]\n",
      "Other: tp=0 fp=0 fn=0.5 other=[\"subClassOf MoreGeneralThan ['HospitalUnitFacility'] IntensiveCareUnitFacility\"] tp_list=[] fp_list=[] fn_list=[] new_terms=[]\n",
      "Other: tp=0 fp=0 fn=0.5 other=[\"subClassOf MoreGeneralThan ['ConcentrationOfCarbonAtomInEnvironmentalMaterial'] ConcentrationOfCarbonAtomInSeaWater\"] tp_list=[] fp_list=[] fn_list=[] new_terms=[]\n",
      "results/ont_oba-Pdefinition-Mid.original_id-BGFalse-TrNone-Te50-Mnous-hermes-13b-EMopenai.results.yaml\n",
      "results/ont_uberon-Prelationships-Mid.original_id-BGFalse-TrNone-Te40-Mnous-hermes-13b-EMopenai.results.yaml\n",
      "results/ont_uberon-Prelationships-Mid.original_id-BGFalse-TrNone-Te40-Mnous-hermes-13b-EMopenai.results.yaml RAG-nous-hermes-13b\n",
      "Other: tp=0 fp=1 fn=0.5 other=[\"subClassOf MoreGeneralThan ['Mucosa'] MucosaOfBronchiole\"] tp_list=[] fp_list=[('subClassOf', 'RespiratorySystemEpithelium')] fn_list=[] new_terms=[]\n",
      "Other: tp=0 fp=0 fn=0.5 other=[\"subClassOf MoreGeneralThan ['ZoneOfSkin'] SkinOfBack\"] tp_list=[] fp_list=[] fn_list=[] new_terms=[]\n",
      "Other: tp=0 fp=0 fn=0.5 other=[\"subClassOf MoreGeneralThan ['Epithelium'] EpitheliumOfBronchiole\"] tp_list=[] fp_list=[] fn_list=[] new_terms=[]\n",
      "Other: tp=0 fp=0 fn=0.5 other=[\"subClassOf MoreGeneralThan ['LymphNode'] AbdominalLymphNode\"] tp_list=[] fp_list=[] fn_list=[] new_terms=[]\n",
      "Other: tp=0 fp=0 fn=0.5 other=[\"subClassOf MoreGeneralThan ['ThoracicCavityElement'] SuperiorMediastinalLymphNode\"] tp_list=[] fp_list=[] fn_list=[] new_terms=[]\n",
      "BAD REL: {'predictive': 'subClassOf', 'target': 'Iris'} in [{'predicate': 'PartOf', 'target': 'CameraTypeEye'}, {'predictive': 'subClassOf', 'target': 'Iris'}]\n",
      "Other: tp=0 fp=0 fn=0.5 other=[\"subClassOf MoreGeneralThan ['SmoothMuscleTissue'] SmoothMuscleTissueOfBronchiole\"] tp_list=[] fp_list=[] fn_list=[] new_terms=[]\n",
      "Other: tp=1 fp=0 fn=0.5 other=[\"subClassOf MoreGeneralThan ['MulticellularAnatomicalStructure'] OrganSubunit\"] tp_list=[('subClassOf', 'EndodermDerivedStructure')] fp_list=[] fn_list=[] new_terms=['EndodermDerivedStructure']\n",
      "Other: tp=0 fp=0 fn=0.5 other=[\"subClassOf MoreGeneralThan ['VisceralAbdominalLymphNode'] MesentericLymphNode\"] tp_list=[] fp_list=[] fn_list=[] new_terms=[]\n",
      "results/ont_go-Pdefinition-Mid.original_id-BGFalse-TrNone-Te50-Mgpt-3.5-turbo-EMopenai.results.yaml\n",
      "results/ont_obi-Pdefinition-Mid.original_id-BGFalse-TrNone-Te50-Mgpt-4-EMopenai-ACgh_obi.results.yaml\n",
      "results/ont_envo-Prelationships-Mid.original_id-BGTrue-TrNone-Te50-Mgpt-4-EMopenai.results.yaml\n",
      "results/ont_envo-Prelationships-Mid.original_id-BGTrue-TrNone-Te50-Mgpt-4-EMopenai.results.yaml RAG+background-gpt-4\n",
      "Other: tp=0 fp=0 fn=0.5 other=[\"subClassOf MoreGeneralThan ['HealthcareFacility'] MedicalClinic\"] tp_list=[] fp_list=[] fn_list=[] new_terms=[]\n",
      "Other: tp=0 fp=0 fn=0.5 other=[\"subClassOf MoreGeneralThan ['Construction'] HumanConstruction\"] tp_list=[] fp_list=[] fn_list=[] new_terms=[]\n",
      "Other: tp=0 fp=0 fn=0.5 other=[\"subClassOf MoreGeneralThan ['ConcentrationOf'] ConcentrationOfAmmoniumInLiquidWater\"] tp_list=[] fp_list=[] fn_list=[] new_terms=[]\n",
      "Other: tp=0 fp=0 fn=0.5 other=[\"subClassOf MoreGeneralThan ['ProcessQuality'] PhysicalQualityOfAProcess\"] tp_list=[] fp_list=[] fn_list=[] new_terms=[]\n",
      "Other: tp=0 fp=0 fn=0.5 other=[\"subClassOf MoreGeneralThan ['HospitalUnitFacility'] IntensiveCareUnitFacility\"] tp_list=[] fp_list=[] fn_list=[] new_terms=[]\n",
      "Other: tp=0 fp=0 fn=0.5 other=[\"subClassOf MoreGeneralThan ['ConcentrationOf'] ConcentrationOfCarbonAtomInSeaWater\"] tp_list=[] fp_list=[] fn_list=[] new_terms=[]\n",
      "results/ont_mondo-Pdefinition-Mid.original_id-BGTrue-TrNone-Te50-Mgpt-3.5-turbo-EMopenai.results.yaml\n",
      "results/ont_mp-Pdefinition-Mid.original_id-BGFalse-TrNone-Te50-Mgpt-4-EMopenai.results.yaml\n",
      "results/ont_mondo-Prelationships-Mid.original_id-BGTrue-TrNone-Te50-Mgpt-3.5-turbo-EMopenai.results.yaml\n",
      "results/ont_mondo-Prelationships-Mid.original_id-BGTrue-TrNone-Te50-Mgpt-3.5-turbo-EMopenai.results.yaml RAG+background-gpt-3.5-turbo\n",
      "Other: tp=1 fp=0 fn=2 other=[\"subClassOf MoreSpecificThan Acrodysostosis ['MandibulofacialDysostosis', 'HereditaryOtorhinolaryngologicDisease']\"] tp_list=[('subClassOf', 'AcrodysostosisWithMultipleHormoneResistance')] fp_list=[] fn_list=[('subClassOf', 'Polyendocrinopathy'), ('subClassOf', 'AcrofacialDysostosis')] new_terms=[]\n",
      "Other: tp=0 fp=0 fn=0.5 other=[\"subClassOf MoreGeneralThan ['DisorderOfSexualDifferentiation'] 46XXDisorderOfSexDevelopmentInducedByAndrogensExcess\"] tp_list=[] fp_list=[] fn_list=[] new_terms=[]\n",
      "Other: tp=0 fp=0 fn=0.5 other=[\"subClassOf MoreGeneralThan ['DisorderOfSexualDifferentiation'] 46XXDisorderOfSexDevelopment\"] tp_list=[] fp_list=[] fn_list=[] new_terms=[]\n",
      "Other: tp=0 fp=0 fn=1.5 other=[\"subClassOf MoreGeneralThan ['InbornErrorsOfMetabolism'] InbornCarbohydrateMetabolicDisorder\"] tp_list=[] fp_list=[] fn_list=[('subClassOf', 'GlycerolMetabolismDisease')] new_terms=[]\n",
      "Other: tp=0 fp=0 fn=1.5 other=[\"subClassOf MoreGeneralThan ['Hypothyroidism'] PermanentCongenitalHypothyroidism\"] tp_list=[] fp_list=[] fn_list=[('subClassOf', 'SyndromicDisease')] new_terms=[]\n",
      "Other: tp=0 fp=0 fn=0 other=[\"subClassOf MoreSpecificThan ExcretoryApparatusOfTheLacrimalSystemAnomaly ['LacrimalApparatusDisorder']\", \"subClassOf MoreSpecificThan SecretoryApparatusOfTheLacrimalSystemAnomaly ['LacrimalApparatusDisorder']\"] tp_list=[] fp_list=[] fn_list=[] new_terms=[]\n",
      "Other: tp=0 fp=0 fn=0.5 other=[\"subClassOf MoreGeneralThan ['DisorderOfDevelopmentOrMorphogenesis'] DevelopmentalDefectOfTheEye\"] tp_list=[] fp_list=[] fn_list=[] new_terms=[]\n",
      "Other: tp=0 fp=0 fn=1.5 other=[\"subClassOf MoreGeneralThan ['InflammatoryDisease'] Encephalomyelitis\"] tp_list=[] fp_list=[] fn_list=[('subClassOf', 'BrainDisorder')] new_terms=[]\n",
      "results/ont_hp-Plogical_definition-Mid.original_id-BGFalse-TrNone-Te50-Mgpt-3.5-turbo-EMopenai.results.yaml\n",
      "results/ont_obi-Plabel-Mid.original_id-BGFalse-TrNone-Te50-Mgpt-3.5-turbo-EMopenai.results.yaml\n",
      "results/ont_uberon-Pdefinition-Mid.original_id-BGFalse-TrNone-Te40-Mnous-hermes-13b-EMopenai-ACgh_uberon.results.yaml\n",
      "results/ont_envo-Pdefinition-Mid.original_id-BGTrue-TrNone-Te50-Mgpt-4-EMopenai.results.yaml\n",
      "results/ont_mp-Prelationships-Mid.original_id-BGFalse-TrNone-Te50-Mgpt-3.5-turbo-EMopenai.results.yaml\n",
      "results/ont_mp-Prelationships-Mid.original_id-BGFalse-TrNone-Te50-Mgpt-3.5-turbo-EMopenai.results.yaml RAG-gpt-3.5-turbo\n",
      "Other: tp=0 fp=0 fn=0.5 other=[\"subClassOf MoreGeneralThan ['AbnormalSpleenWhitePulpMorphology'] AbnormalSpleenBCellFollicleMorphology\"] tp_list=[] fp_list=[] fn_list=[] new_terms=['AbnormalSpleenWhitePulpNumber']\n",
      "Other: tp=0 fp=0 fn=1.5 other=[\"subClassOf MoreGeneralThan ['AbnormalBoneMarrowCavityMorphology'] AbnormalLongBoneInternalDiameter\"] tp_list=[] fp_list=[] fn_list=[('subClassOf', 'AbnormalTibiaMorphology')] new_terms=['DecreasedInternalDiameterOfLongBones']\n",
      "Other: tp=0 fp=0 fn=0.5 other=[\"subClassOf MoreGeneralThan ['AbnormalRespiratorySystemPhysiology'] AbnormalRespiration\"] tp_list=[] fp_list=[] fn_list=[] new_terms=[]\n",
      "Other: tp=0 fp=0 fn=0.5 other=[\"subClassOf MoreGeneralThan ['AbnormalRetinaNeuronalLayerMorphology'] AbnormalRetinaNerveFiberLayerMorphology\"] tp_list=[] fp_list=[] fn_list=[] new_terms=[]\n",
      "Other: tp=0 fp=0 fn=0.5 other=[\"subClassOf MoreGeneralThan ['AbnormalSexGlandPhysiology'] AbnormalSexGlandSecretion\"] tp_list=[] fp_list=[] fn_list=[] new_terms=[]\n",
      "Other: tp=0 fp=0 fn=0.5 other=[\"subClassOf MoreGeneralThan ['AbnormalMouthMorphology'] AbnormalMouthShape\"] tp_list=[] fp_list=[] fn_list=[] new_terms=[]\n",
      "Other: tp=0 fp=0 fn=0.5 other=[\"subClassOf MoreGeneralThan ['AbnormalAdrenalCortexMorphology'] AbnormalAdrenalGlandZonaFasciculataMorphology\"] tp_list=[] fp_list=[] fn_list=[] new_terms=[]\n",
      "Other: tp=0 fp=0 fn=0.5 other=[\"subClassOf MoreGeneralThan ['AbnormalRetinaNeuronalLayerMorphology'] AbnormalRetinaNerveFiberLayerMorphology\"] tp_list=[] fp_list=[] fn_list=[] new_terms=[]\n",
      "Other: tp=0 fp=0 fn=1.0 other=[\"subClassOf MoreGeneralThan ['AbnormalSexGlandSecretion', 'AbnormalOvaryPhysiology'] AbnormalOvarySecretion\", \"subClassOf MoreGeneralThan ['AbnormalSexGlandSecretion'] IncreasedSexGlandSecretion\"] tp_list=[] fp_list=[] fn_list=[] new_terms=[]\n",
      "Other: tp=0 fp=0 fn=0.5 other=[\"subClassOf MoreGeneralThan ['EmbryonicLethality'] EmbryonicLethalityPriorToToothBudStage\"] tp_list=[] fp_list=[] fn_list=[] new_terms=[]\n",
      "Other: tp=0 fp=0 fn=0.5 other=[\"subClassOf MoreGeneralThan ['EmbryonicLethality'] EmbryonicLethalityPriorToOrganogenesis\"] tp_list=[] fp_list=[] fn_list=[] new_terms=[]\n",
      "Other: tp=0 fp=0 fn=0.5 other=[\"subClassOf MoreGeneralThan ['AbnormalDigitMorphology'] Syndactyly\"] tp_list=[] fp_list=[] fn_list=[] new_terms=[]\n",
      "Other: tp=0 fp=0 fn=0.5 other=[\"subClassOf MoreGeneralThan ['AbnormalEndocytosis'] AbnormalPinocytosis\"] tp_list=[] fp_list=[] fn_list=[] new_terms=[]\n",
      "results/ont_envo-Pdefinition-Mid.original_id-BGFalse-TrNone-Te50-Mgpt-4-EMopenai-ACgh_envo.results.yaml\n",
      "results/ont_go-Prelationships-Mid.original_id-BGTrue-TrNone-Te50-Mgpt-3.5-turbo-EMopenai.results.yaml\n",
      "results/ont_go-Prelationships-Mid.original_id-BGTrue-TrNone-Te50-Mgpt-3.5-turbo-EMopenai.results.yaml RAG+background-gpt-3.5-turbo\n",
      "Other: tp=0 fp=0 fn=2.5 other=[\"subClassOf MoreGeneralThan ['OxidoreductaseActivity'] DisulfideOxidoreductaseActivity\"] tp_list=[] fp_list=[] fn_list=[('subClassOf', 'OxidoreductaseActivity_actingOnASulfurGroupOfDonors_disulfideAsAcceptor'), ('subClassOf', 'CatalyticActivity_actingOnAProtein')] new_terms=['Protein-thiolReductaseActivity']\n",
      "Other: tp=0 fp=1 fn=0.5 other=[\"subClassOf MoreGeneralThan ['EpigeneticRegulationOfGeneExpression'] GenomicImprinting\"] tp_list=[] fp_list=[('subClassOf', 'GermCellDevelopment')] fn_list=[] new_terms=[]\n",
      "Other: tp=0 fp=0 fn=0.5 other=[\"subClassOf MoreGeneralThan ['CellularHomeostasis'] IntracellularChemicalHomeostasis\"] tp_list=[] fp_list=[] fn_list=[] new_terms=[]\n",
      "Other: tp=1 fp=0 fn=1.5 other=[\"subClassOf MoreGeneralThan ['MetalIonTransmembraneTransporterActivity'] ManganeseIonTransmembraneTransporterActivity\"] tp_list=[('subClassOf', 'AntiporterActivity')] fp_list=[] fn_list=[('subClassOf', 'CalciumMonoatomicCationAntiporterActivity')] new_terms=['CalciumManganeseAntiporterActivity']\n",
      "Other: tp=0 fp=0 fn=0.5 other=[\"subClassOf MoreGeneralThan ['UbiquitinProteinLigaseActivity', 'HistoneModifyingActivity'] HistoneUbiquitinLigaseActivity\"] tp_list=[] fp_list=[] fn_list=[] new_terms=[]\n",
      "Other: tp=0 fp=0 fn=0.5 other=[\"subClassOf MoreGeneralThan ['RNAPolymeraseIICTDHeptapeptideRepeatModifyingActivity'] RNAPolymeraseIICTDHeptapeptideRepeatPhosphataseActivity\"] tp_list=[] fp_list=[] fn_list=[] new_terms=['ProteinSerineThreoninePhosphataseActivity']\n",
      "Other: tp=0 fp=0 fn=1.0 other=[\"subClassOf MoreGeneralThan ['RibosomeBinding'] RibosomalLargeSubunitBinding\", \"subClassOf MoreGeneralThan ['RibosomeBinding'] MitochondrialRibosomeBinding\"] tp_list=[] fp_list=[] fn_list=[] new_terms=[]\n",
      "Other: tp=2 fp=0 fn=0.5 other=[\"subClassOf MoreGeneralThan ['NucleosideTransport'] NucleosideTransmembraneTransport\"] tp_list=[('subClassOf', 'ImportIntoCell'), ('subClassOf', 'ImportAcrossPlasmaMembrane')] fp_list=[] fn_list=[] new_terms=[]\n",
      "Other: tp=0 fp=0 fn=0.5 other=[\"subClassOf MoreGeneralThan ['DisruptionBySymbiontOfHostCellularComponent'] PerturbationBySymbiontOfHostActinCytoskeleton\"] tp_list=[] fp_list=[] fn_list=[] new_terms=[]\n",
      "results/ont_go-Plabel-Mid.original_id-BGFalse-TrNone-Te50-Mgpt-3.5-turbo-EMopenai.results.yaml\n",
      "results/ont_obi-Pdefinition-Mid.original_id-BGFalse-TrNone-Te50-Mnous-hermes-13b-EMopenai.results.yaml\n",
      "results/ont_foodon-Pdefinition-Mid.original_id-BGTrue-TrNone-Te50-Mgpt-4-EMopenai.results.yaml\n",
      "results/ont_obi-Pdefinition-Mid.original_id-BGFalse-TrNone-Te50-Mgpt-3.5-turbo-EMopenai.results.yaml\n",
      "results/ont_mp-Prelationships-Mid.original_id-BGFalse-TrNone-Te50-Mgpt-4-EMopenai.results.yaml\n",
      "results/ont_mp-Prelationships-Mid.original_id-BGFalse-TrNone-Te50-Mgpt-4-EMopenai.results.yaml RAG-gpt-4\n",
      "Other: tp=0 fp=0 fn=0.5 other=[\"subClassOf MoreGeneralThan ['AbnormalSpleenWhitePulpMorphology'] AbnormalSpleenBCellFollicleMorphology\"] tp_list=[] fp_list=[] fn_list=[] new_terms=[]\n",
      "Other: tp=0 fp=0 fn=0.5 other=[\"subClassOf MoreGeneralThan ['AbnormalSexGlandPhysiology'] AbnormalSexGlandSecretion\"] tp_list=[] fp_list=[] fn_list=[] new_terms=[]\n",
      "Other: tp=0 fp=0 fn=0.5 other=[\"subClassOf MoreGeneralThan ['AbnormalMouthMorphology'] AbnormalMouthShape\"] tp_list=[] fp_list=[] fn_list=[] new_terms=[]\n",
      "Other: tp=0 fp=0 fn=0.5 other=[\"subClassOf MoreGeneralThan ['AbnormalRetinaNeuronalLayerMorphology'] AbnormalRetinaNerveFiberLayerMorphology\"] tp_list=[] fp_list=[] fn_list=[] new_terms=[]\n",
      "Other: tp=0 fp=0 fn=0 other=[\"subClassOf MoreSpecificThan AbnormalOralCavityMorphology ['AbnormalMouthMorphology']\"] tp_list=[] fp_list=[] fn_list=[] new_terms=[]\n",
      "Other: tp=0 fp=0 fn=0.5 other=[\"subClassOf MoreGeneralThan ['EmbryonicLethality'] EmbryonicLethalityPriorToToothBudStage\"] tp_list=[] fp_list=[] fn_list=[] new_terms=[]\n",
      "Other: tp=0 fp=0 fn=0.5 other=[\"subClassOf MoreGeneralThan ['EmbryonicLethality'] EmbryonicLethalityPriorToOrganogenesis\"] tp_list=[] fp_list=[] fn_list=[] new_terms=[]\n",
      "Other: tp=0 fp=0 fn=0.5 other=[\"subClassOf MoreGeneralThan ['AbnormalEndocytosis'] AbnormalPinocytosis\"] tp_list=[] fp_list=[] fn_list=[] new_terms=[]\n",
      "results/ont_mondo-Pdefinition-Mid.original_id-BGFalse-TrNone-Te50-Mgpt-4-EMopenai.results.yaml\n",
      "results/ont_uberon-Pdefinition-Mid.original_id-BGFalse-TrNone-Te40-Mgpt-3.5-turbo-EMopenai.results.yaml\n",
      "results/ont_cl-Plabel-Mid.original_id-BGFalse-TrNone-Te50-Mnous-hermes-13b-EMopenai.results.yaml\n",
      "results/ont_obi-Pdefinition-Mid.original_id-BGTrue-TrNone-Te50-Mgpt-3.5-turbo-EMopenai.results.yaml\n",
      "results/ont_uberon-Pdefinition-Mid.original_id-BGFalse-TrNone-Te40-Mgpt-4-EMopenai-ACgh_uberon.results.yaml\n",
      "results/ont_mondo-Plabel-Mid.original_id-BGFalse-TrNone-Te50-Mgpt-3.5-turbo-EMopenai.results.yaml\n",
      "results/ont_envo-Prelationships-Mid.original_id-BGFalse-TrNone-Te50-Mgpt-4-EMopenai.results.yaml\n",
      "results/ont_envo-Prelationships-Mid.original_id-BGFalse-TrNone-Te50-Mgpt-4-EMopenai.results.yaml RAG-gpt-4\n",
      "Other: tp=0 fp=0 fn=0 other=[\"subClassOf MoreSpecificThan Device ['ManufacturedProduct']\"] tp_list=[] fp_list=[] fn_list=[] new_terms=[]\n",
      "Other: tp=0 fp=0 fn=0.5 other=[\"subClassOf MoreGeneralThan ['ConcentrationOf'] ConcentrationOfAmmoniumInLiquidWater\"] tp_list=[] fp_list=[] fn_list=[] new_terms=[]\n",
      "Other: tp=0 fp=0 fn=0.5 other=[\"subClassOf MoreGeneralThan ['HospitalUnitFacility'] IntensiveCareUnitFacility\"] tp_list=[] fp_list=[] fn_list=[] new_terms=[]\n",
      "Other: tp=0 fp=0 fn=0.5 other=[\"subClassOf MoreGeneralThan ['ConcentrationOf'] ConcentrationOfCarbonAtomInSeaWater\"] tp_list=[] fp_list=[] fn_list=[] new_terms=[]\n",
      "results/ont_hp-Pdefinition-Mid.original_id-BGFalse-TrNone-Te50-Mgpt-4-EMopenai.results.yaml\n",
      "results/ont_foodon-Pdefinition-Mid.original_id-BGFalse-TrNone-Te50-Mnous-hermes-13b-EMopenai.results.yaml\n",
      "results/ont_foodon-Plabel-Mid.original_id-BGTrue-TrNone-Te50-Mgpt-3.5-turbo-EMopenai.results.yaml\n",
      "results/ont_go-Pdefinition-Mid.original_id-BGTrue-TrNone-Te50-Mgpt-4-EMopenai.results.yaml\n",
      "results/ont_cl-Plabel-Mid.original_id-BGTrue-TrNone-Te50-Mgpt-3.5-turbo-EMopenai.results.yaml\n",
      "results/ont_oba-Prelationships-Mid.original_id-BGFalse-TrNone-Te50-Mgpt-4-EMopenai.results.yaml\n",
      "results/ont_oba-Prelationships-Mid.original_id-BGFalse-TrNone-Te50-Mgpt-4-EMopenai.results.yaml RAG-gpt-4\n",
      "Other: tp=0 fp=0 fn=1.0 other=[\"subClassOf MoreGeneralThan ['ChemicalInBloodAmount'] BloodMetaboliteAmount\", \"subClassOf MoreGeneralThan ['ChemicalInBloodAmount'] BloodAminoAcidAmount\"] tp_list=[] fp_list=[] fn_list=[] new_terms=['BiomoleculeAmount']\n",
      "Other: tp=0 fp=0 fn=1.0 other=[\"subClassOf MoreGeneralThan ['HeadMorphologyTrait'] MandibleMorphologyTrait\", \"subClassOf MoreGeneralThan ['HeadMorphologyTrait'] FacialMorphologyTrait\"] tp_list=[] fp_list=[] fn_list=[] new_terms=[]\n",
      "Other: tp=0 fp=0 fn=0.5 other=[\"subClassOf MoreGeneralThan ['Rate'] LocomotoryBehaviorRate\"] tp_list=[] fp_list=[] fn_list=[] new_terms=['BehavioralResponseToTouch']\n",
      "Other: tp=0 fp=0 fn=0 other=[\"subClassOf MoreSpecificThan BloodMetaboliteAmount ['ChemicalInBloodAmount']\"] tp_list=[] fp_list=[] fn_list=[] new_terms=[]\n",
      "Other: tp=0 fp=1 fn=0.5 other=[\"subClassOf MoreGeneralThan ['Rate'] AggressiveBehaviorRate\"] tp_list=[] fp_list=[('subClassOf', 'AggressiveBehaviorTowardsObjects')] fn_list=[] new_terms=[]\n",
      "Other: tp=0 fp=0 fn=1.5 other=[\"subClassOf MoreGeneralThan ['Thickness'] CarotidArteryThickness\"] tp_list=[] fp_list=[] fn_list=[('subClassOf', 'InternalCarotidArterySize')] new_terms=[]\n",
      "Other: tp=0 fp=0 fn=0.5 other=[\"subClassOf MoreGeneralThan ['HasNumberOf'] PresacralVertebraQuantity\", \"subClassOf MoreSpecificThan CervicalVertebraMorphology ['OrganismSubdivisionTrait']\"] tp_list=[] fp_list=[] fn_list=[] new_terms=[]\n",
      "Other: tp=0 fp=0 fn=0 other=[\"subClassOf MoreSpecificThan BehaviorProcessQuality ['BiologicalProcessAttribute']\"] tp_list=[] fp_list=[] fn_list=[] new_terms=[]\n",
      "Other: tp=1 fp=0 fn=0 other=[\"subClassOf MoreSpecificThan ReflexAmount ['Amount']\"] tp_list=[('subClassOf', 'StartleReflexQuality')] fp_list=[] fn_list=[] new_terms=[]\n",
      "Other: tp=1 fp=0 fn=0.5 other=[\"subClassOf MoreGeneralThan ['OrganismTrait'] MulticellularOrganismStructure\"] tp_list=[('subClassOf', 'Stability')] fp_list=[] fn_list=[] new_terms=[]\n",
      "Other: tp=0 fp=0 fn=0.5 other=[\"subClassOf MoreGeneralThan ['ProcessEfficacy'] MotorCoordinationEfficacy\"] tp_list=[] fp_list=[] fn_list=[] new_terms=[]\n",
      "Other: tp=0 fp=0 fn=1 other=[\"subClassOf MoreSpecificThan BloodProteinAmount ['NitrogenMolecularEntityAmount']\"] tp_list=[] fp_list=[] fn_list=[('subClassOf', 'BloodHormoneAmount')] new_terms=[]\n",
      "Other: tp=1 fp=0 fn=1.5 other=[\"subClassOf MoreGeneralThan ['HasNumberOf'] VertebraQuantity\"] tp_list=[('subClassOf', 'SacralVertebraHasNumberOf')] fp_list=[] fn_list=[('subClassOf', 'OrganismSubdivisionTrait')] new_terms=[]\n",
      "results/ont_mondo-Plogical_definition-Mid.original_id-BGFalse-TrNone-Te50-Mgpt-3.5-turbo-EMopenai.results.yaml\n",
      "results/ont_mp-Pdefinition-Mid.original_id-BGFalse-TrNone-Te50-Mgpt-3.5-turbo-EMopenai.results.yaml\n",
      "results/ont_uberon-Plabel-Mid.original_id-BGFalse-TrNone-Te40-Mgpt-3.5-turbo-EMopenai.results.yaml\n",
      "results/ont_cl-Prelationships-Mid.original_id-BGFalse-TrNone-Te50-Mgpt-3.5-turbo-EMopenai.results.yaml\n",
      "results/ont_cl-Prelationships-Mid.original_id-BGFalse-TrNone-Te50-Mgpt-3.5-turbo-EMopenai.results.yaml RAG-gpt-3.5-turbo\n",
      "Other: tp=0 fp=0 fn=2.5 other=[\"subClassOf MoreGeneralThan ['Macrophage'] LungMacrophage\"] tp_list=[] fp_list=[] fn_list=[('subClassOf', 'TissueResidentMacrophage'), ('subClassOf', 'ConnectiveTissueCell')] new_terms=[]\n",
      "Other: tp=0 fp=0 fn=1.5 other=[\"subClassOf MoreGeneralThan ['MucusSecretingCell'] MucusSecretingCellOfTracheobronchialTreeSubmucosalGland\"] tp_list=[] fp_list=[] fn_list=[('subClassOf', 'BronchialEpithelialCell')] new_terms=[]\n",
      "Other: tp=0 fp=0 fn=0.5 other=[\"subClassOf MoreGeneralThan ['CiliatedEpithelialCell'] EndometrialCiliatedEpithelialCell\"] tp_list=[] fp_list=[] fn_list=[] new_terms=[]\n",
      "Other: tp=0 fp=1 fn=0.5 other=[\"subClassOf MoreGeneralThan ['EpithelialCell'] RespiratoryEpithelialCell\"] tp_list=[] fp_list=[('subClassOf', 'PrecursorCell')] fn_list=[] new_terms=[]\n",
      "Other: tp=0 fp=0 fn=0.5 other=[\"subClassOf MoreGeneralThan ['MediumSpinyNeuron'] IndirectPathwayMediumSpinyNeuron\"] tp_list=[] fp_list=[] fn_list=[] new_terms=[]\n",
      "Other: tp=0 fp=1 fn=0.5 other=[\"subClassOf MoreGeneralThan ['Cell'] MyofibroblastCell\"] tp_list=[] fp_list=[('subClassOf', 'MesenchymalCell')] fn_list=[] new_terms=['MetalloproteinaseSecretingCell', 'Myofibroblast', 'ApoptoticCell']\n",
      "Other: tp=0 fp=0 fn=0.5 other=[\"subClassOf MoreGeneralThan ['CiliatedCell', 'EpithelialCell'] CiliatedEpithelialCell\"] tp_list=[] fp_list=[] fn_list=[] new_terms=[]\n",
      "Other: tp=0 fp=0 fn=0.5 other=[\"subClassOf MoreGeneralThan ['MediumSpinyNeuron'] DirectPathwayMediumSpinyNeuron\"] tp_list=[] fp_list=[] fn_list=[] new_terms=[]\n",
      "Other: tp=0 fp=0 fn=0.5 other=[\"subClassOf MoreGeneralThan ['MediumSpinyNeuron'] IndirectPathwayMediumSpinyNeuron\"] tp_list=[] fp_list=[] fn_list=[] new_terms=[]\n",
      "results/ont_hp-Plogical_definition-Mid.original_id-BGFalse-TrNone-Te50-Mgpt-4-EMopenai.results.yaml\n",
      "results/ont_cl-Prelationships-Mid.original_id-BGFalse-TrNone-Te50-Mgpt-4-EMopenai.results.yaml\n",
      "results/ont_cl-Prelationships-Mid.original_id-BGFalse-TrNone-Te50-Mgpt-4-EMopenai.results.yaml RAG-gpt-4\n",
      "Other: tp=0 fp=0 fn=2.5 other=[\"subClassOf MoreGeneralThan ['Macrophage'] LungMacrophage\"] tp_list=[] fp_list=[] fn_list=[('subClassOf', 'TissueResidentMacrophage'), ('subClassOf', 'ConnectiveTissueCell')] new_terms=[]\n",
      "Other: tp=0 fp=0 fn=1.5 other=[\"subClassOf MoreGeneralThan ['SeromucusSecretingCell'] MucusSecretingCellOfTracheobronchialTreeSubmucosalGland\"] tp_list=[] fp_list=[] fn_list=[('subClassOf', 'BronchialEpithelialCell')] new_terms=[]\n",
      "Other: tp=0 fp=0 fn=0.5 other=[\"subClassOf MoreGeneralThan ['CiliatedEpithelialCell'] EndometrialCiliatedEpithelialCell\"] tp_list=[] fp_list=[] fn_list=[] new_terms=[]\n",
      "Other: tp=0 fp=0 fn=0.5 other=[\"subClassOf MoreGeneralThan ['MediumSpinyNeuron'] IndirectPathwayMediumSpinyNeuron\"] tp_list=[] fp_list=[] fn_list=[] new_terms=['MatrixCompartmentOfStriatum']\n",
      "Other: tp=0 fp=0 fn=0.5 other=[\"subClassOf MoreGeneralThan ['NeuronAssociatedCell'] GlialCell\"] tp_list=[] fp_list=[] fn_list=[] new_terms=[]\n",
      "Other: tp=0 fp=0 fn=0.5 other=[\"subClassOf MoreGeneralThan ['CiliatedCell', 'EpithelialCell'] CiliatedEpithelialCell\"] tp_list=[] fp_list=[] fn_list=[] new_terms=[]\n",
      "Other: tp=0 fp=0 fn=0.5 other=[\"subClassOf MoreGeneralThan ['MediumSpinyNeuron'] DirectPathwayMediumSpinyNeuron\"] tp_list=[] fp_list=[] fn_list=[] new_terms=[]\n",
      "Other: tp=0 fp=0 fn=0.5 other=[\"subClassOf MoreGeneralThan ['SmoothMuscleCell'] TracheobronchialSmoothMuscleCell\"] tp_list=[] fp_list=[] fn_list=[] new_terms=[]\n",
      "Other: tp=0 fp=0 fn=0.5 other=[\"subClassOf MoreGeneralThan ['MediumSpinyNeuron'] IndirectPathwayMediumSpinyNeuron\"] tp_list=[] fp_list=[] fn_list=[] new_terms=[]\n",
      "Other: tp=0 fp=0 fn=0.5 other=[\"subClassOf MoreGeneralThan ['TrophoblastCell'] ChorionicTrophoblastCell\"] tp_list=[] fp_list=[] fn_list=[] new_terms=[]\n",
      "Other: tp=0 fp=0 fn=0.5 other=[\"subClassOf MoreGeneralThan ['EpithelialCellOfLung'] Pneumocyte\"] tp_list=[] fp_list=[] fn_list=[] new_terms=[]\n",
      "results/ont_hp-Plabel-Mid.original_id-BGFalse-TrNone-Te50-Mgpt-3.5-turbo-EMopenai.results.yaml\n",
      "results/ont_cl-Pdefinition-Mid.original_id-BGFalse-TrNone-Te50-Mnous-hermes-13b-EMopenai.results.yaml\n",
      "results/ont_foodon-Plabel-Mid.original_id-BGFalse-TrNone-Te50-Mnous-hermes-13b-EMopenai.results.yaml\n",
      "results/ont_uberon-Plabel-Mid.original_id-BGFalse-TrNone-Te44-Mgpt-4-EMopenai.results.yaml\n",
      "results/ont_foodon-Pdefinition-Mid.original_id-BGTrue-TrNone-Te50-Mgpt-3.5-turbo-EMopenai-ACgh_foodon.results.yaml\n",
      "results/ont_hp-Pdefinition-Mid.original_id-BGFalse-TrNone-Te50-Mgpt-3.5-turbo-EMopenai.results.yaml\n",
      "results/ont_mp-Plogical_definition-Mid.original_id-BGFalse-TrNone-Te50-Mgpt-4-EMopenai.results.yaml\n",
      "results/ont_oba-Plabel-Mid.original_id-BGFalse-TrNone-Te50-Mnous-hermes-13b-EMopenai.results.yaml\n",
      "results/ont_envo-Pdefinition-Mid.original_id-BGFalse-TrNone-Te50-Mgpt-3.5-turbo-EMopenai-ACgh_envo.results.yaml\n",
      "results/ont_cl-Pdefinition-Mid.original_id-BGFalse-TrNone-Te50-Mgpt-3.5-turbo-EMopenai-ACdevdocs_cl.results.yaml\n",
      "results/ont_cl-Pdefinition-Mid.original_id-BGFalse-TrNone-Te50-Mgpt-3.5-turbo-EMopenai-ACgh_cl.results.yaml\n",
      "results/ont_cl-Prelationships-Mid.original_id-BGTrue-TrNone-Te50-Mgpt-4-EMopenai.results.yaml\n",
      "results/ont_cl-Prelationships-Mid.original_id-BGTrue-TrNone-Te50-Mgpt-4-EMopenai.results.yaml RAG+background-gpt-4\n",
      "Other: tp=0 fp=0 fn=2.5 other=[\"subClassOf MoreGeneralThan ['Macrophage'] LungMacrophage\"] tp_list=[] fp_list=[] fn_list=[('subClassOf', 'TissueResidentMacrophage'), ('subClassOf', 'ConnectiveTissueCell')] new_terms=['LungConnectiveTissueCell']\n",
      "Other: tp=0 fp=0 fn=1.5 other=[\"subClassOf MoreGeneralThan ['ExocrineCell'] MucusSecretingCellOfTracheobronchialTreeSubmucosalGland\"] tp_list=[] fp_list=[] fn_list=[('subClassOf', 'BronchialEpithelialCell')] new_terms=['RespiratorySystemCell']\n",
      "Other: tp=0 fp=0 fn=0.5 other=[\"subClassOf MoreGeneralThan ['CiliatedEpithelialCell'] EndometrialCiliatedEpithelialCell\"] tp_list=[] fp_list=[] fn_list=[] new_terms=[]\n",
      "Other: tp=0 fp=0 fn=0.5 other=[\"subClassOf MoreGeneralThan ['EpithelialCell'] RespiratoryEpithelialCell\"] tp_list=[] fp_list=[] fn_list=[] new_terms=[]\n",
      "Other: tp=0 fp=0 fn=0.5 other=[\"subClassOf MoreGeneralThan ['MediumSpinyNeuron'] IndirectPathwayMediumSpinyNeuron\"] tp_list=[] fp_list=[] fn_list=[] new_terms=[]\n",
      "Other: tp=0 fp=0 fn=0.5 other=[\"subClassOf MoreGeneralThan ['CiliatedCell', 'EpithelialCell'] CiliatedEpithelialCell\"] tp_list=[] fp_list=[] fn_list=[] new_terms=[]\n",
      "Other: tp=0 fp=0 fn=0.5 other=[\"subClassOf MoreGeneralThan ['MediumSpinyNeuron'] DirectPathwayMediumSpinyNeuron\"] tp_list=[] fp_list=[] fn_list=[] new_terms=[]\n",
      "Other: tp=0 fp=0 fn=0.5 other=[\"subClassOf MoreGeneralThan ['SmoothMuscleCell'] TracheobronchialSmoothMuscleCell\"] tp_list=[] fp_list=[] fn_list=[] new_terms=[]\n",
      "Other: tp=0 fp=0 fn=0.5 other=[\"subClassOf MoreGeneralThan ['MediumSpinyNeuron'] IndirectPathwayMediumSpinyNeuron\"] tp_list=[] fp_list=[] fn_list=[] new_terms=[]\n",
      "Other: tp=0 fp=0 fn=0.5 other=[\"subClassOf MoreGeneralThan ['TrophoblastCell'] ChorionicTrophoblastCell\"] tp_list=[] fp_list=[] fn_list=[] new_terms=[]\n",
      "results/ont_cl-Pdefinition-Mid.original_id-BGFalse-TrNone-Te50-Mgpt-3.5-turbo-EMopenai.results.yaml\n",
      "results/ont_obi-Plabel-Mid.original_id-BGFalse-TrNone-Te50-Mgpt-4-EMopenai.results.yaml\n",
      "results/ont_cl-Prelationships-Mid.original_id-BGTrue-TrNone-Te50-Mgpt-3.5-turbo-EMopenai.results.yaml\n",
      "results/ont_cl-Prelationships-Mid.original_id-BGTrue-TrNone-Te50-Mgpt-3.5-turbo-EMopenai.results.yaml RAG+background-gpt-3.5-turbo\n",
      "Other: tp=0 fp=0 fn=0.5 other=[\"subClassOf MoreGeneralThan ['ProfessionalAntigenPresentingCell', 'MononuclearCell'] DendriticCell\"] tp_list=[] fp_list=[] fn_list=[] new_terms=[]\n",
      "Other: tp=0 fp=0 fn=1.5 other=[\"subClassOf MoreGeneralThan ['ExocrineCell', 'MucusSecretingCell'] MucusSecretingCellOfTracheobronchialTreeSubmucosalGland\"] tp_list=[] fp_list=[] fn_list=[('subClassOf', 'BronchialEpithelialCell')] new_terms=[]\n",
      "Other: tp=0 fp=0 fn=0.5 other=[\"subClassOf MoreGeneralThan ['CiliatedEpithelialCell'] EndometrialCiliatedEpithelialCell\"] tp_list=[] fp_list=[] fn_list=[] new_terms=[]\n",
      "Other: tp=0 fp=0 fn=0.5 other=[\"subClassOf MoreGeneralThan ['MediumSpinyNeuron'] IndirectPathwayMediumSpinyNeuron\"] tp_list=[] fp_list=[] fn_list=[] new_terms=[]\n",
      "BAD REL: {'predicate': 'Produces', 'target': ['FrameworkOfElastin', 'Tenascin']} in [{'predicate': 'subClassOf', 'target': 'Myofibroblast'}, {'predicate': 'PartOf', 'target': 'Alveoli'}, {'predicate': 'Function', 'target': 'ElongateSecondaryCrest'}, {'predicate': 'Produces', 'target': ['FrameworkOfElastin', 'Tenascin']}, {'predicate': 'WorksWith', 'target': 'MatrixFibroblast'}, {'predicate': 'Secrete', 'target': 'Metalloproteinases'}, {'predicate': 'ContinuesProducing', 'target': 'Elastin'}, {'predicate': 'Undergoes', 'target': 'Apoptosis'}, {'predicate': 'subClassOf', 'target': 'LungDevelopmentCell'}]\n",
      "Other: tp=0 fp=0 fn=0.5 other=[\"subClassOf MoreGeneralThan ['EpithelialCell'] EpithelialCellOfProximalTubule\"] tp_list=[] fp_list=[] fn_list=[] new_terms=[]\n",
      "Other: tp=0 fp=0 fn=0.5 other=[\"subClassOf MoreGeneralThan ['CiliatedCell', 'EpithelialCell'] CiliatedEpithelialCell\"] tp_list=[] fp_list=[] fn_list=[] new_terms=[]\n",
      "Other: tp=0 fp=0 fn=0.5 other=[\"subClassOf MoreGeneralThan ['MediumSpinyNeuron'] DirectPathwayMediumSpinyNeuron\"] tp_list=[] fp_list=[] fn_list=[] new_terms=[]\n",
      "Other: tp=0 fp=0 fn=0.5 other=[\"subClassOf MoreGeneralThan ['SmoothMuscleCell'] TracheobronchialSmoothMuscleCell\"] tp_list=[] fp_list=[] fn_list=[] new_terms=[]\n",
      "Other: tp=0 fp=0 fn=0.5 other=[\"subClassOf MoreGeneralThan ['MediumSpinyNeuron'] IndirectPathwayMediumSpinyNeuron\"] tp_list=[] fp_list=[] fn_list=[] new_terms=[]\n",
      "Other: tp=0 fp=0 fn=0.5 other=[\"subClassOf MoreGeneralThan ['TransitionalEpithelialCell'] UrothelialCell\"] tp_list=[] fp_list=[] fn_list=[] new_terms=[]\n",
      "Other: tp=0 fp=0 fn=0.5 other=[\"subClassOf MoreGeneralThan ['TrophoblastCell'] ChorionicTrophoblastCell\"] tp_list=[] fp_list=[] fn_list=[] new_terms=[]\n",
      "Other: tp=0 fp=1 fn=0.5 other=[\"subClassOf MoreGeneralThan ['MaleGermCell', 'HaploidCell'] Spermatid\"] tp_list=[] fp_list=[('subClassOf', 'AnimalCell')] fn_list=[] new_terms=[]\n",
      "Other: tp=1 fp=0 fn=0.5 other=[\"subClassOf MoreGeneralThan ['ConnectiveTissueCell'] DentalPulpCell\"] tp_list=[('subClassOf', 'StemCell')] fp_list=[] fn_list=[] new_terms=[]\n",
      "results/ont_oba-Plogical_definition-Mid.original_id-BGFalse-TrNone-Te50-Mgpt-4-EMopenai.results.yaml\n",
      "results/ont_uberon-Prelationships-Mid.original_id-BGFalse-TrNone-Te40-Mgpt-3.5-turbo-EMopenai.results.yaml\n",
      "results/ont_uberon-Prelationships-Mid.original_id-BGFalse-TrNone-Te40-Mgpt-3.5-turbo-EMopenai.results.yaml RAG-gpt-3.5-turbo\n",
      "Other: tp=0 fp=0 fn=0.5 other=[\"subClassOf MoreGeneralThan ['AnatomicalStructure'] SubdivisionOfDigestiveTract\"] tp_list=[] fp_list=[] fn_list=[] new_terms=[]\n",
      "Other: tp=0 fp=0 fn=0.5 other=[\"subClassOf MoreGeneralThan ['LymphNode'] ParietalPelvicLymphNode\"] tp_list=[] fp_list=[] fn_list=[] new_terms=[]\n",
      "Other: tp=0 fp=0 fn=0.5 other=[\"subClassOf MoreGeneralThan ['SkeletalElement'] CartilageElement\"] tp_list=[] fp_list=[] fn_list=[] new_terms=[]\n",
      "Other: tp=0 fp=0 fn=0.5 other=[\"subClassOf MoreGeneralThan ['ZoneOfSkin'] SkinOfBack\"] tp_list=[] fp_list=[] fn_list=[] new_terms=[]\n",
      "Other: tp=0 fp=0 fn=0.5 other=[\"subClassOf MoreGeneralThan ['AcinusOfExocrineGland'] MucousAcinus\"] tp_list=[] fp_list=[] fn_list=[] new_terms=[]\n",
      "Other: tp=0 fp=0 fn=0.5 other=[\"subClassOf MoreGeneralThan ['Epithelium'] EpitheliumOfBronchiole\"] tp_list=[] fp_list=[] fn_list=[] new_terms=[]\n",
      "Other: tp=0 fp=0 fn=0 other=[\"subClassOf MoreSpecificThan VisceralAbdominalLymphNode ['AbdominalLymphNode']\"] tp_list=[] fp_list=[] fn_list=[] new_terms=[]\n",
      "Other: tp=0 fp=0 fn=0.5 other=[\"subClassOf MoreGeneralThan ['MediastinalLymphNode'] SuperiorMediastinalLymphNode\"] tp_list=[] fp_list=[] fn_list=[] new_terms=[]\n",
      "Other: tp=0 fp=0 fn=1.5 other=[\"subClassOf MoreGeneralThan ['AnatomicalStructure'] OrganPart\"] tp_list=[] fp_list=[] fn_list=[('subClassOf', 'EctodermDerivedStructure')] new_terms=[]\n",
      "Other: tp=0 fp=0 fn=0.5 other=[\"subClassOf MoreGeneralThan ['Mucosa'] MucosaOfStomach\"] tp_list=[] fp_list=[] fn_list=[] new_terms=[]\n",
      "Other: tp=1 fp=0 fn=0.5 other=[\"subClassOf MoreGeneralThan ['MulticellularAnatomicalStructure'] OrganSubunit\"] tp_list=[('subClassOf', 'EndodermDerivedStructure')] fp_list=[] fn_list=[] new_terms=['EndodermDerivedStructure']\n",
      "Other: tp=0 fp=0 fn=0.5 other=[\"subClassOf MoreGeneralThan ['VisceralAbdominalLymphNode'] MesentericLymphNode\"] tp_list=[] fp_list=[] fn_list=[] new_terms=['MesodermDerivedStructure']\n",
      "results/ont_envo-Pdefinition-Mid.original_id-BGFalse-TrNone-Te50-Mgpt-3.5-turbo-EMopenai.results.yaml\n",
      "results/ont_obi-Plabel-Mid.original_id-BGFalse-TrNone-Te50-Mnous-hermes-13b-EMopenai.results.yaml\n",
      "results/ont_envo-Pdefinition-Mid.original_id-BGFalse-TrNone-Te50-Mgpt-4-EMopenai.results.yaml\n",
      "results/ont_oba-Pdefinition-Mid.original_id-BGTrue-TrNone-Te50-Mgpt-3.5-turbo-EMopenai.results.yaml\n",
      "results/ont_hp-Prelationships-Mid.original_id-BGFalse-TrNone-Te50-Mgpt-3.5-turbo-EMopenai.results.yaml\n",
      "results/ont_hp-Prelationships-Mid.original_id-BGFalse-TrNone-Te50-Mgpt-3.5-turbo-EMopenai.results.yaml RAG-gpt-3.5-turbo\n",
      "Other: tp=0 fp=0 fn=0 other=[\"subClassOf MoreSpecificThan AbnormalDermisMorphology ['AbnormalityOfSkinMorphology']\"] tp_list=[] fp_list=[] fn_list=[] new_terms=[]\n",
      "Other: tp=0 fp=0 fn=0 other=[\"subClassOf MoreSpecificThan AbnormalSpermPrincipalPieceMorphology ['AbnormalSpermTailMorphology']\"] tp_list=[] fp_list=[] fn_list=[] new_terms=[]\n",
      "Other: tp=0 fp=0 fn=0.5 other=[\"subClassOf MoreGeneralThan ['AmelioratedBy'] AmelioratedByExposureToMedication\"] tp_list=[] fp_list=[] fn_list=[] new_terms=[]\n",
      "Other: tp=0 fp=0 fn=0.5 other=[\"subClassOf MoreGeneralThan ['AbnormalEpidermalProteinExpression'] ReducedEpidermalKeratinProteinExpression\"] tp_list=[] fp_list=[] fn_list=[] new_terms=[]\n",
      "Other: tp=0 fp=0 fn=0.5 other=[\"subClassOf MoreGeneralThan ['AbnormalSpermMorphology'] AbnormalSpermNeckMorphology\"] tp_list=[] fp_list=[] fn_list=[] new_terms=[]\n",
      "Other: tp=0 fp=0 fn=0.5 other=[\"subClassOf MoreGeneralThan ['AbnormalLymphNodeMorphology'] AbnormalLymphNodeCellComposition\"] tp_list=[] fp_list=[] fn_list=[] new_terms=[]\n",
      "Other: tp=0 fp=0 fn=0.5 other=[\"subClassOf MoreGeneralThan ['AbnormalJointMorphology'] AbnormalityOfTheKnee\"] tp_list=[] fp_list=[] fn_list=[] new_terms=[]\n",
      "Other: tp=0 fp=0 fn=0 other=[\"subClassOf MoreSpecificThan AbnormalCirculatingEnzymeConcentrationOrActivity ['AbnormalEnzymeConcentrationOrActivity']\"] tp_list=[] fp_list=[] fn_list=[] new_terms=[]\n",
      "results/ont_mondo-Plabel-Mid.original_id-BGTrue-TrNone-Te50-Mgpt-4-EMopenai.results.yaml\n",
      "results/ont_oba-Pdefinition-Mid.original_id-BGFalse-TrNone-Te50-Mgpt-3.5-turbo-EMopenai.results.yaml\n",
      "results/ont_envo-Pdefinition-Mid.original_id-BGTrue-TrNone-Te50-Mgpt-3.5-turbo-EMopenai.results.yaml\n",
      "results/ont_uberon-Pdefinition-Mid.original_id-BGTrue-TrNone-Te40-Mgpt-4-EMopenai.results.yaml\n",
      "results/ont_mondo-Prelationships-Mid.original_id-BGFalse-TrNone-Te50-Mgpt-3.5-turbo-EMopenai.results.yaml\n",
      "results/ont_mondo-Prelationships-Mid.original_id-BGFalse-TrNone-Te50-Mgpt-3.5-turbo-EMopenai.results.yaml RAG-gpt-3.5-turbo\n",
      "Other: tp=1 fp=0 fn=2 other=[\"subClassOf MoreSpecificThan Acrodysostosis ['MandibulofacialDysostosis', 'HereditaryOtorhinolaryngologicDisease']\"] tp_list=[('subClassOf', 'AcrodysostosisWithMultipleHormoneResistance')] fp_list=[] fn_list=[('subClassOf', 'Polyendocrinopathy'), ('subClassOf', 'AcrofacialDysostosis')] new_terms=[]\n",
      "Other: tp=0 fp=0 fn=0.5 other=[\"subClassOf MoreGeneralThan ['HereditarySpasticParaplegia'] AutosomalRecessiveComplexSpasticParaplegia\"] tp_list=[] fp_list=[] fn_list=[] new_terms=[]\n",
      "Other: tp=0 fp=0 fn=0.5 other=[\"subClassOf MoreGeneralThan ['Disease'] CongenitalHeartMalformation\"] tp_list=[] fp_list=[] fn_list=[] new_terms=['CardiacAnomaly']\n",
      "Other: tp=0 fp=0 fn=1.5 other=[\"subClassOf MoreGeneralThan ['Hypothyroidism'] PermanentCongenitalHypothyroidism\"] tp_list=[] fp_list=[] fn_list=[('subClassOf', 'SyndromicDisease')] new_terms=[]\n",
      "Other: tp=0 fp=0 fn=0 other=[\"subClassOf MoreSpecificThan ExcretoryApparatusOfTheLacrimalSystemAnomaly ['LacrimalApparatusDisorder']\"] tp_list=[] fp_list=[] fn_list=[] new_terms=[]\n",
      "Other: tp=0 fp=0 fn=0.5 other=[\"subClassOf MoreGeneralThan ['DisorderOfDevelopmentOrMorphogenesis'] DevelopmentalDefectOfTheEye\"] tp_list=[] fp_list=[] fn_list=[] new_terms=[]\n",
      "Other: tp=0 fp=0 fn=0.5 other=[\"subClassOf MoreGeneralThan ['InflammatoryDisease'] Encephalomyelitis\", \"subClassOf MoreSpecificThan BrainCancer ['BrainDisorder']\"] tp_list=[] fp_list=[] fn_list=[] new_terms=[]\n",
      "results/ont_cl-Plogical_definition-Mid.original_id-BGFalse-TrNone-Te50-Mgpt-4-EMopenai.results.yaml\n",
      "results/ont_uberon-Prelationships-Mid.original_id-BGFalse-TrNone-Te44-Mgpt-4-EMopenai.results.yaml\n",
      "results/ont_uberon-Prelationships-Mid.original_id-BGFalse-TrNone-Te44-Mgpt-4-EMopenai.results.yaml RAG-gpt-4\n",
      "Other: tp=0 fp=0 fn=0.5 other=[\"subClassOf MoreGeneralThan ['LymphNode'] ParietalPelvicLymphNode\"] tp_list=[] fp_list=[] fn_list=[] new_terms=[]\n",
      "Other: tp=0 fp=0 fn=0.5 other=[\"subClassOf MoreGeneralThan ['Mucosa'] MucosaOfBronchiole\"] tp_list=[] fp_list=[] fn_list=[] new_terms=[]\n",
      "Other: tp=0 fp=0 fn=0.5 other=[\"subClassOf MoreGeneralThan ['AnatomicalStructure'] OrganPart\"] tp_list=[] fp_list=[] fn_list=[] new_terms=[]\n",
      "Other: tp=0 fp=0 fn=0.5 other=[\"subClassOf MoreGeneralThan ['AbdominalSegmentSkin'] SkinOfAbdomen\"] tp_list=[] fp_list=[] fn_list=[] new_terms=[]\n",
      "Other: tp=0 fp=0 fn=0.5 other=[\"subClassOf MoreGeneralThan ['ZoneOfSkin'] SkinOfBack\"] tp_list=[] fp_list=[] fn_list=[] new_terms=[]\n",
      "Other: tp=0 fp=0 fn=0.5 other=[\"subClassOf MoreGeneralThan ['GlandularAcinus'] MucousAcinus\"] tp_list=[] fp_list=[] fn_list=[] new_terms=[]\n",
      "Other: tp=0 fp=0 fn=0.5 other=[\"subClassOf MoreGeneralThan ['Epithelium'] EpitheliumOfBronchiole\"] tp_list=[] fp_list=[] fn_list=[] new_terms=[]\n",
      "Other: tp=0 fp=0 fn=0.5 other=[\"subClassOf MoreGeneralThan ['LymphNode', 'SupraclavicularLymphNode'] LeftSupraclavicularLymphNode\"] tp_list=[] fp_list=[] fn_list=[] new_terms=[]\n",
      "Other: tp=0 fp=0 fn=0.5 other=[\"subClassOf MoreGeneralThan ['SmoothMuscleTissue'] SmoothMuscleTissueOfBronchiole\"] tp_list=[] fp_list=[] fn_list=[] new_terms=[]\n",
      "Other: tp=0 fp=0 fn=1.5 other=[\"subClassOf MoreGeneralThan ['AnatomicalStructure'] OrganSubunit\"] tp_list=[] fp_list=[] fn_list=[('subClassOf', 'EndodermDerivedStructure')] new_terms=[]\n",
      "Other: tp=0 fp=0 fn=0.5 other=[\"subClassOf MoreGeneralThan ['VisceralAbdominalLymphNode'] MesentericLymphNode\"] tp_list=[] fp_list=[] fn_list=[] new_terms=[]\n",
      "results/ont_foodon-Prelationships-Mid.original_id-BGFalse-TrNone-Te50-Mgpt-3.5-turbo-EMopenai.results.yaml\n",
      "results/ont_foodon-Prelationships-Mid.original_id-BGFalse-TrNone-Te50-Mgpt-3.5-turbo-EMopenai.results.yaml RAG-gpt-3.5-turbo\n",
      "Other: tp=0 fp=0 fn=0.5 other=[\"subClassOf MoreGeneralThan ['YogurtFoodProduct'] StrainedYogurt\"] tp_list=[] fp_list=[] fn_list=[] new_terms=[]\n",
      "Other: tp=0 fp=0 fn=0.5 other=[\"subClassOf MoreGeneralThan ['FoodProduct'] WheatFoodProduct\"] tp_list=[] fp_list=[] fn_list=[] new_terms=[]\n",
      "Other: tp=0 fp=0 fn=0.5 other=[\"subClassOf MoreGeneralThan ['CommonOatCerealFoodProduct'] RolledOats\"] tp_list=[] fp_list=[] fn_list=[] new_terms=[]\n",
      "Other: tp=0 fp=0 fn=0.5 other=[\"subClassOf MoreGeneralThan ['AsparagusBeanFoodProduct'] AsparagusBean\"] tp_list=[] fp_list=[] fn_list=[] new_terms=['Seed_raw_']\n",
      "Other: tp=0 fp=0 fn=0.5 other=[\"subClassOf MoreGeneralThan ['BerryFruit'] PitayaFruit\"] tp_list=[] fp_list=[] fn_list=[] new_terms=['CactusFruit']\n",
      "Other: tp=1 fp=0 fn=0.5 other=[\"subClassOf MoreGeneralThan ['AvianEggFoodProduct'] DuckEggFoodProduct\"] tp_list=[('subClassOf', 'ShelledEgg')] fp_list=[] fn_list=[] new_terms=[]\n",
      "Other: tp=1 fp=0 fn=1.5 other=[\"subClassOf MoreGeneralThan ['PlantLeafFoodProduct', 'VegetableLeaf'] BeanLeaf\"] tp_list=[('subClassOf', 'RosetteLeaf')] fp_list=[] fn_list=[('subClassOf', 'WingedBeanFoodProduct')] new_terms=[]\n",
      "Other: tp=0 fp=0 fn=0 other=[\"subClassOf MoreSpecificThan Potato ['PotatoFoodProduct']\"] tp_list=[] fp_list=[] fn_list=[] new_terms=[]\n",
      "Other: tp=0 fp=0 fn=0.5 other=[\"subClassOf MoreGeneralThan ['AnimalFoodProduct'] MammalianMeatFoodProduct\"] tp_list=[] fp_list=[] fn_list=[] new_terms=[]\n",
      "Other: tp=1 fp=0 fn=0.5 other=[\"subClassOf MoreGeneralThan ['NutFoodProduct'] HickoryNutFoodProduct\"] tp_list=[('subClassOf', 'PecanNutFoodProduct')] fp_list=[] fn_list=[] new_terms=[]\n",
      "Other: tp=0 fp=0 fn=0 other=[\"subClassOf MoreSpecificThan HempSeed ['HempFoodProduct']\"] tp_list=[] fp_list=[] fn_list=[] new_terms=['Seed_shellRemoved_']\n",
      "Other: tp=0 fp=0 fn=0.5 other=[\"subClassOf MoreGeneralThan ['MaterialEntity'] OrganismMaterial\"] tp_list=[] fp_list=[] fn_list=[] new_terms=[]\n",
      "Other: tp=0 fp=0 fn=0.5 other=[\"subClassOf MoreGeneralThan ['ObjectAggregate', 'ArugulaFoodProduct'] ArugulaGreensBunch\"] tp_list=[] fp_list=[] fn_list=[] new_terms=['SaladGreens_']\n",
      "results/ont_uberon-Pdefinition-Mid.original_id-BGTrue-TrNone-Te40-Mnous-hermes-13b-EMopenai.results.yaml\n",
      "results/ont_foodon-Prelationships-Mid.original_id-BGFalse-TrNone-Te50-Mgpt-4-EMopenai.results.yaml\n",
      "results/ont_foodon-Prelationships-Mid.original_id-BGFalse-TrNone-Te50-Mgpt-4-EMopenai.results.yaml RAG-gpt-4\n",
      "Other: tp=0 fp=0 fn=0.5 other=[\"subClassOf MoreGeneralThan ['YogurtFoodProduct'] StrainedYogurt\"] tp_list=[] fp_list=[] fn_list=[] new_terms=[]\n",
      "Other: tp=0 fp=0 fn=0.5 other=[\"subClassOf MoreGeneralThan ['Squash'] SummerSquash\"] tp_list=[] fp_list=[] fn_list=[] new_terms=[]\n",
      "Other: tp=0 fp=0 fn=0.5 other=[\"subClassOf MoreGeneralThan ['SumacFoodProduct', 'CaryopsisFruit'] RyeKernel\"] tp_list=[] fp_list=[] fn_list=[] new_terms=[]\n",
      "Other: tp=0 fp=0 fn=0.5 other=[\"subClassOf MoreGeneralThan ['BerryFruit'] PitayaFruit\"] tp_list=[] fp_list=[] fn_list=[] new_terms=[]\n",
      "Other: tp=0 fp=0 fn=0.5 other=[\"subClassOf MoreGeneralThan ['AcornSquash'] GreenAcornSquash\"] tp_list=[] fp_list=[] fn_list=[] new_terms=[]\n",
      "Other: tp=1 fp=0 fn=1.5 other=[\"subClassOf MoreGeneralThan ['VegetableLeaf'] BeanLeaf\"] tp_list=[('subClassOf', 'RosetteLeaf')] fp_list=[] fn_list=[('subClassOf', 'WingedBeanFoodProduct')] new_terms=[]\n",
      "Other: tp=0 fp=0 fn=0 other=[\"subClassOf MoreSpecificThan Potato ['PotatoFoodProduct']\"] tp_list=[] fp_list=[] fn_list=[] new_terms=[]\n",
      "Other: tp=0 fp=0 fn=0.5 other=[\"subClassOf MoreGeneralThan ['MaterialEntity'] OrganismMaterial\"] tp_list=[] fp_list=[] fn_list=[] new_terms=[]\n",
      "Other: tp=0 fp=0 fn=0 other=[\"subClassOf MoreSpecificThan RiceKernelFoodProduct ['RiceFoodProduct']\"] tp_list=[] fp_list=[] fn_list=[] new_terms=[]\n",
      "Other: tp=0 fp=0 fn=0.5 other=[\"subClassOf MoreGeneralThan ['SweetPotatoFoodProduct'] SweetPotato\"] tp_list=[] fp_list=[] fn_list=[] new_terms=[]\n",
      "results/ont_oba-Plabel-Mid.original_id-BGTrue-TrNone-Te50-Mgpt-3.5-turbo-EMopenai.results.yaml\n",
      "results/ont_go-Pdefinition-Mid.original_id-BGFalse-TrNone-Te50-Mnous-hermes-13b-EMopenai.results.yaml\n",
      "results/ont_envo-Plabel-Mid.original_id-BGFalse-TrNone-Te50-Mgpt-4-EMopenai.results.yaml\n",
      "results/ont_obi-Prelationships-Mid.original_id-BGTrue-TrNone-Te50-Mgpt-3.5-turbo-EMopenai.results.yaml\n",
      "results/ont_obi-Prelationships-Mid.original_id-BGTrue-TrNone-Te50-Mgpt-3.5-turbo-EMopenai.results.yaml RAG+background-gpt-3.5-turbo\n",
      "Other: tp=0 fp=0 fn=0.5 other=[\"subClassOf MoreGeneralThan ['ArthropodTrap'] RestingArthropodTrap\"] tp_list=[] fp_list=[] fn_list=[] new_terms=[]\n",
      "results/ont_uberon-Pdefinition-Mid.original_id-BGFalse-TrNone-Te40-Mgpt-4-EMopenai.results.yaml\n",
      "results/ont_foodon-Prelationships-Mid.original_id-BGTrue-TrNone-Te50-Mgpt-3.5-turbo-EMopenai.results.yaml\n",
      "results/ont_foodon-Prelationships-Mid.original_id-BGTrue-TrNone-Te50-Mgpt-3.5-turbo-EMopenai.results.yaml RAG+background-gpt-3.5-turbo\n",
      "Other: tp=0 fp=0 fn=0.5 other=[\"subClassOf MoreGeneralThan ['YogurtFoodProduct'] StrainedYogurt\"] tp_list=[] fp_list=[] fn_list=[] new_terms=[]\n",
      "Other: tp=0 fp=0 fn=0.5 other=[\"subClassOf MoreGeneralThan ['FoodProduct'] WheatFoodProduct\"] tp_list=[] fp_list=[] fn_list=[] new_terms=[]\n",
      "Other: tp=0 fp=0 fn=0.5 other=[\"subClassOf MoreGeneralThan ['CommonOatCerealFoodProduct'] RolledOats\"] tp_list=[] fp_list=[] fn_list=[] new_terms=[]\n",
      "Other: tp=0 fp=0 fn=0.5 other=[\"subClassOf MoreGeneralThan ['SumacFoodProduct', 'CaryopsisFruit'] RyeKernel\"] tp_list=[] fp_list=[] fn_list=[] new_terms=[]\n",
      "Other: tp=0 fp=0 fn=0.5 other=[\"subClassOf MoreGeneralThan ['AsparagusBeanFoodProduct', 'Cowpea'] AsparagusBean\"] tp_list=[] fp_list=[] fn_list=[] new_terms=[]\n",
      "Other: tp=0 fp=0 fn=0.5 other=[\"subClassOf MoreGeneralThan ['FoodProduct'] NutFoodProduct\"] tp_list=[] fp_list=[] fn_list=[] new_terms=[]\n",
      "Other: tp=0 fp=1 fn=0.5 other=[\"subClassOf MoreGeneralThan ['BerryFruit'] PitayaFruit\"] tp_list=[] fp_list=[('subClassOf', 'TropicalFruit')] fn_list=[] new_terms=['DragonFruitCactus']\n",
      "Other: tp=0 fp=0 fn=0.5 other=[\"subClassOf MoreGeneralThan ['WinterSquash'] AcornSquash\"] tp_list=[] fp_list=[] fn_list=[] new_terms=[]\n",
      "Other: tp=0 fp=0 fn=0 other=[\"subClassOf MoreSpecificThan Potato ['PotatoFoodProduct']\"] tp_list=[] fp_list=[] fn_list=[] new_terms=[]\n",
      "Other: tp=0 fp=0 fn=0.5 other=[\"subClassOf MoreGeneralThan ['MaterialEntity'] OrganismMaterial\"] tp_list=[] fp_list=[] fn_list=[] new_terms=[]\n",
      "Other: tp=0 fp=0 fn=0.5 other=[\"subClassOf MoreGeneralThan ['ObjectAggregate', 'ArugulaFoodProduct'] ArugulaGreensBunch\"] tp_list=[] fp_list=[] fn_list=[] new_terms=['SaladGreens_raw_']\n",
      "Other: tp=0 fp=0 fn=0 other=[\"subClassOf MoreSpecificThan CardamomSeed ['CardamomFoodProduct']\"] tp_list=[] fp_list=[] fn_list=[] new_terms=[]\n",
      "results/ont_foodon-Pdefinition-Mid.original_id-BGTrue-TrNone-Te50-Mgpt-3.5-turbo-EMopenai.results.yaml\n",
      "results/ont_foodon-Prelationships-Mid.original_id-BGTrue-TrNone-Te50-Mgpt-4-EMopenai.results.yaml\n",
      "results/ont_foodon-Prelationships-Mid.original_id-BGTrue-TrNone-Te50-Mgpt-4-EMopenai.results.yaml RAG+background-gpt-4\n",
      "Other: tp=0 fp=0 fn=0.5 other=[\"subClassOf MoreGeneralThan ['YogurtFoodProduct'] StrainedYogurt\"] tp_list=[] fp_list=[] fn_list=[] new_terms=[]\n",
      "Other: tp=0 fp=0 fn=0.5 other=[\"subClassOf MoreGeneralThan ['Characteristic'] FoodObjectQuality\"] tp_list=[] fp_list=[] fn_list=[] new_terms=[]\n",
      "Other: tp=0 fp=0 fn=0.5 other=[\"subClassOf MoreGeneralThan ['AsparagusBeanFoodProduct'] AsparagusBean\"] tp_list=[] fp_list=[] fn_list=[] new_terms=['VignaUnguiculataSubsp_sesquipedalis']\n",
      "Other: tp=0 fp=0 fn=0.5 other=[\"subClassOf MoreGeneralThan ['BerryFruit'] PitayaFruit\"] tp_list=[] fp_list=[] fn_list=[] new_terms=[]\n",
      "Other: tp=1 fp=0 fn=1.5 other=[\"subClassOf MoreGeneralThan ['PlantLeafFoodProduct', 'VegetableLeaf'] BeanLeaf\"] tp_list=[('subClassOf', 'RosetteLeaf')] fp_list=[] fn_list=[('subClassOf', 'WingedBeanFoodProduct')] new_terms=[]\n",
      "Other: tp=0 fp=1 fn=0.5 other=[\"subClassOf MoreGeneralThan ['NutFoodProduct'] HickoryNutFoodProduct\"] tp_list=[] fp_list=[('subClassOf', 'PlantSeedFoodProduct')] fn_list=[] new_terms=[]\n",
      "Other: tp=0 fp=0 fn=0.5 other=[\"subClassOf MoreGeneralThan ['MaterialEntity'] OrganismMaterial\"] tp_list=[] fp_list=[] fn_list=[] new_terms=[]\n",
      "Other: tp=0 fp=0 fn=0.5 other=[\"subClassOf MoreGeneralThan ['ObjectAggregate', 'ArugulaFoodProduct'] ArugulaGreensBunch\"] tp_list=[] fp_list=[] fn_list=[] new_terms=['SaladGreens']\n",
      "Other: tp=0 fp=0 fn=0.5 other=[\"subClassOf MoreGeneralThan ['SweetPotatoFoodProduct'] SweetPotato\"] tp_list=[] fp_list=[] fn_list=[] new_terms=[]\n",
      "Other: tp=0 fp=0 fn=0.5 other=[\"subClassOf MoreGeneralThan ['Squash'] MexicanGreySquash\"] tp_list=[] fp_list=[] fn_list=[] new_terms=[]\n"
     ]
    }
   ],
   "source": [
    "isa_df = load_all_results([\"subClassOf\"])\n",
    "isa_df.to_csv(\"results/relationship-analysis-isa.tsv\", sep=\"\\t\")"
   ],
   "metadata": {
    "collapsed": false,
    "ExecuteTime": {
     "end_time": "2023-10-22T20:05:26.095898Z",
     "start_time": "2023-10-22T19:49:17.316607Z"
    }
   },
   "id": "c3349554de1fb9e6"
  },
  {
   "cell_type": "markdown",
   "id": "a84de4ee-c273-4457-9bb0-0de8f684d8c3",
   "metadata": {},
   "source": [
    "## Loading YAML result objects\n",
    "\n",
    "Each run generates a single yaml object"
   ]
  },
  {
   "cell_type": "code",
   "execution_count": 365,
   "id": "32a6ec25-7954-4124-9d3b-10df383804b8",
   "metadata": {
    "ExecuteTime": {
     "end_time": "2023-10-22T20:05:27.303456Z",
     "start_time": "2023-10-22T20:05:26.099497Z"
    }
   },
   "outputs": [
    {
     "data": {
      "text/plain": "                         masked_id                 expected_label  \\\ncount                         7782                           2164   \nunique                         494                            494   \ntop     LungMigratoryDendriticCell  lung migratory dendritic cell   \nfreq                            20                              5   \nmean                           NaN                            NaN   \nstd                            NaN                            NaN   \nmin                            NaN                            NaN   \n25%                            NaN                            NaN   \n50%                            NaN                            NaN   \n75%                            NaN                            NaN   \nmax                            NaN                            NaN   \n\n                                       feature_definition  feature_aliases  \\\ncount                                                4272              0.0   \nunique                                                436              NaN   \ntop     A dendritic cell that captures antigens in a l...              NaN   \nfreq                                                   12              NaN   \nmean                                                  NaN              NaN   \nstd                                                   NaN              NaN   \nmin                                                   NaN              NaN   \n25%                                                   NaN              NaN   \n50%                                                   NaN              NaN   \n75%                                                   NaN              NaN   \nmax                                                   NaN              NaN   \n\n                                    feature_relationships  \\\ncount                                                5618   \nunique                                                426   \ntop     [{'predicate': 'subClassOf', 'target': 'Functi...   \nfreq                                                  120   \nmean                                                  NaN   \nstd                                                   NaN   \nmin                                                   NaN   \n25%                                                   NaN   \n50%                                                   NaN   \n75%                                                   NaN   \nmax                                                   NaN   \n\n                               feature_logical_definition masked_original_id  \\\ncount                                                1790               7782   \nunique                                                122                494   \ntop     [{'predicate': 'rdfs:subClassOf', 'target': 'F...         CL:4033045   \nfreq                                                   18                 20   \nmean                                                  NaN                NaN   \nstd                                                   NaN                NaN   \nmin                                                   NaN                NaN   \n25%                                                   NaN                NaN   \n50%                                                   NaN                NaN   \n75%                                                   NaN                NaN   \nmax                                                   NaN                NaN   \n\n       predicted_label  metric_precision  metric_recall  ...  \\\ncount             2154        7782.00000    7782.000000  ...   \nunique            1305               NaN            NaN  ...   \ntop          The Thing               NaN            NaN  ...   \nfreq                 8               NaN            NaN  ...   \nmean               NaN           0.23238       0.237787  ...   \nstd                NaN           0.39995       0.405865  ...   \nmin                NaN           0.00000       0.000000  ...   \n25%                NaN           0.00000       0.000000  ...   \n50%                NaN           0.00000       0.000000  ...   \n75%                NaN           0.50000       0.500000  ...   \nmax                NaN           1.00000       1.000000  ...   \n\n        predicted_definition   id  label  definition  aliases  relationships  \\\ncount                   2559  0.0    0.0         0.0      0.0            0.0   \nunique                  2202  NaN    NaN         NaN      NaN            NaN   \ntop                        .  NaN    NaN         NaN      NaN            NaN   \nfreq                      18  NaN    NaN         NaN      NaN            NaN   \nmean                     NaN  NaN    NaN         NaN      NaN            NaN   \nstd                      NaN  NaN    NaN         NaN      NaN            NaN   \nmin                      NaN  NaN    NaN         NaN      NaN            NaN   \n25%                      NaN  NaN    NaN         NaN      NaN            NaN   \n50%                      NaN  NaN    NaN         NaN      NaN            NaN   \n75%                      NaN  NaN    NaN         NaN      NaN            NaN   \nmax                      NaN  NaN    NaN         NaN      NaN            NaN   \n\n        logical_definition original_id  \\\ncount                  0.0         0.0   \nunique                 NaN         NaN   \ntop                    NaN         NaN   \nfreq                   NaN         NaN   \nmean                   NaN         NaN   \nstd                    NaN         NaN   \nmin                    NaN         NaN   \n25%                    NaN         NaN   \n50%                    NaN         NaN   \n75%                    NaN         NaN   \nmax                    NaN         NaN   \n\n                              expected_logical_definition  \\\ncount                                                 182   \nunique                                                 91   \ntop     [{'predicate': 'rdfs:subClassOf', 'target': 'F...   \nfreq                                                    2   \nmean                                                  NaN   \nstd                                                   NaN   \nmin                                                   NaN   \n25%                                                   NaN   \n50%                                                   NaN   \n75%                                                   NaN   \nmax                                                   NaN   \n\n                             predicted_logical_definition  \ncount                                                 474  \nunique                                                308  \ntop     [{'predicate': 'rdfs:subClassOf', 'target': 'O...  \nfreq                                                    9  \nmean                                                  NaN  \nstd                                                   NaN  \nmin                                                   NaN  \n25%                                                   NaN  \n50%                                                   NaN  \n75%                                                   NaN  \nmax                                                   NaN  \n\n[11 rows x 36 columns]",
      "text/html": "<div>\n<style scoped>\n    .dataframe tbody tr th:only-of-type {\n        vertical-align: middle;\n    }\n\n    .dataframe tbody tr th {\n        vertical-align: top;\n    }\n\n    .dataframe thead th {\n        text-align: right;\n    }\n</style>\n<table border=\"1\" class=\"dataframe\">\n  <thead>\n    <tr style=\"text-align: right;\">\n      <th></th>\n      <th>masked_id</th>\n      <th>expected_label</th>\n      <th>feature_definition</th>\n      <th>feature_aliases</th>\n      <th>feature_relationships</th>\n      <th>feature_logical_definition</th>\n      <th>masked_original_id</th>\n      <th>predicted_label</th>\n      <th>metric_precision</th>\n      <th>metric_recall</th>\n      <th>...</th>\n      <th>predicted_definition</th>\n      <th>id</th>\n      <th>label</th>\n      <th>definition</th>\n      <th>aliases</th>\n      <th>relationships</th>\n      <th>logical_definition</th>\n      <th>original_id</th>\n      <th>expected_logical_definition</th>\n      <th>predicted_logical_definition</th>\n    </tr>\n  </thead>\n  <tbody>\n    <tr>\n      <th>count</th>\n      <td>7782</td>\n      <td>2164</td>\n      <td>4272</td>\n      <td>0.0</td>\n      <td>5618</td>\n      <td>1790</td>\n      <td>7782</td>\n      <td>2154</td>\n      <td>7782.00000</td>\n      <td>7782.000000</td>\n      <td>...</td>\n      <td>2559</td>\n      <td>0.0</td>\n      <td>0.0</td>\n      <td>0.0</td>\n      <td>0.0</td>\n      <td>0.0</td>\n      <td>0.0</td>\n      <td>0.0</td>\n      <td>182</td>\n      <td>474</td>\n    </tr>\n    <tr>\n      <th>unique</th>\n      <td>494</td>\n      <td>494</td>\n      <td>436</td>\n      <td>NaN</td>\n      <td>426</td>\n      <td>122</td>\n      <td>494</td>\n      <td>1305</td>\n      <td>NaN</td>\n      <td>NaN</td>\n      <td>...</td>\n      <td>2202</td>\n      <td>NaN</td>\n      <td>NaN</td>\n      <td>NaN</td>\n      <td>NaN</td>\n      <td>NaN</td>\n      <td>NaN</td>\n      <td>NaN</td>\n      <td>91</td>\n      <td>308</td>\n    </tr>\n    <tr>\n      <th>top</th>\n      <td>LungMigratoryDendriticCell</td>\n      <td>lung migratory dendritic cell</td>\n      <td>A dendritic cell that captures antigens in a l...</td>\n      <td>NaN</td>\n      <td>[{'predicate': 'subClassOf', 'target': 'Functi...</td>\n      <td>[{'predicate': 'rdfs:subClassOf', 'target': 'F...</td>\n      <td>CL:4033045</td>\n      <td>The Thing</td>\n      <td>NaN</td>\n      <td>NaN</td>\n      <td>...</td>\n      <td>.</td>\n      <td>NaN</td>\n      <td>NaN</td>\n      <td>NaN</td>\n      <td>NaN</td>\n      <td>NaN</td>\n      <td>NaN</td>\n      <td>NaN</td>\n      <td>[{'predicate': 'rdfs:subClassOf', 'target': 'F...</td>\n      <td>[{'predicate': 'rdfs:subClassOf', 'target': 'O...</td>\n    </tr>\n    <tr>\n      <th>freq</th>\n      <td>20</td>\n      <td>5</td>\n      <td>12</td>\n      <td>NaN</td>\n      <td>120</td>\n      <td>18</td>\n      <td>20</td>\n      <td>8</td>\n      <td>NaN</td>\n      <td>NaN</td>\n      <td>...</td>\n      <td>18</td>\n      <td>NaN</td>\n      <td>NaN</td>\n      <td>NaN</td>\n      <td>NaN</td>\n      <td>NaN</td>\n      <td>NaN</td>\n      <td>NaN</td>\n      <td>2</td>\n      <td>9</td>\n    </tr>\n    <tr>\n      <th>mean</th>\n      <td>NaN</td>\n      <td>NaN</td>\n      <td>NaN</td>\n      <td>NaN</td>\n      <td>NaN</td>\n      <td>NaN</td>\n      <td>NaN</td>\n      <td>NaN</td>\n      <td>0.23238</td>\n      <td>0.237787</td>\n      <td>...</td>\n      <td>NaN</td>\n      <td>NaN</td>\n      <td>NaN</td>\n      <td>NaN</td>\n      <td>NaN</td>\n      <td>NaN</td>\n      <td>NaN</td>\n      <td>NaN</td>\n      <td>NaN</td>\n      <td>NaN</td>\n    </tr>\n    <tr>\n      <th>std</th>\n      <td>NaN</td>\n      <td>NaN</td>\n      <td>NaN</td>\n      <td>NaN</td>\n      <td>NaN</td>\n      <td>NaN</td>\n      <td>NaN</td>\n      <td>NaN</td>\n      <td>0.39995</td>\n      <td>0.405865</td>\n      <td>...</td>\n      <td>NaN</td>\n      <td>NaN</td>\n      <td>NaN</td>\n      <td>NaN</td>\n      <td>NaN</td>\n      <td>NaN</td>\n      <td>NaN</td>\n      <td>NaN</td>\n      <td>NaN</td>\n      <td>NaN</td>\n    </tr>\n    <tr>\n      <th>min</th>\n      <td>NaN</td>\n      <td>NaN</td>\n      <td>NaN</td>\n      <td>NaN</td>\n      <td>NaN</td>\n      <td>NaN</td>\n      <td>NaN</td>\n      <td>NaN</td>\n      <td>0.00000</td>\n      <td>0.000000</td>\n      <td>...</td>\n      <td>NaN</td>\n      <td>NaN</td>\n      <td>NaN</td>\n      <td>NaN</td>\n      <td>NaN</td>\n      <td>NaN</td>\n      <td>NaN</td>\n      <td>NaN</td>\n      <td>NaN</td>\n      <td>NaN</td>\n    </tr>\n    <tr>\n      <th>25%</th>\n      <td>NaN</td>\n      <td>NaN</td>\n      <td>NaN</td>\n      <td>NaN</td>\n      <td>NaN</td>\n      <td>NaN</td>\n      <td>NaN</td>\n      <td>NaN</td>\n      <td>0.00000</td>\n      <td>0.000000</td>\n      <td>...</td>\n      <td>NaN</td>\n      <td>NaN</td>\n      <td>NaN</td>\n      <td>NaN</td>\n      <td>NaN</td>\n      <td>NaN</td>\n      <td>NaN</td>\n      <td>NaN</td>\n      <td>NaN</td>\n      <td>NaN</td>\n    </tr>\n    <tr>\n      <th>50%</th>\n      <td>NaN</td>\n      <td>NaN</td>\n      <td>NaN</td>\n      <td>NaN</td>\n      <td>NaN</td>\n      <td>NaN</td>\n      <td>NaN</td>\n      <td>NaN</td>\n      <td>0.00000</td>\n      <td>0.000000</td>\n      <td>...</td>\n      <td>NaN</td>\n      <td>NaN</td>\n      <td>NaN</td>\n      <td>NaN</td>\n      <td>NaN</td>\n      <td>NaN</td>\n      <td>NaN</td>\n      <td>NaN</td>\n      <td>NaN</td>\n      <td>NaN</td>\n    </tr>\n    <tr>\n      <th>75%</th>\n      <td>NaN</td>\n      <td>NaN</td>\n      <td>NaN</td>\n      <td>NaN</td>\n      <td>NaN</td>\n      <td>NaN</td>\n      <td>NaN</td>\n      <td>NaN</td>\n      <td>0.50000</td>\n      <td>0.500000</td>\n      <td>...</td>\n      <td>NaN</td>\n      <td>NaN</td>\n      <td>NaN</td>\n      <td>NaN</td>\n      <td>NaN</td>\n      <td>NaN</td>\n      <td>NaN</td>\n      <td>NaN</td>\n      <td>NaN</td>\n      <td>NaN</td>\n    </tr>\n    <tr>\n      <th>max</th>\n      <td>NaN</td>\n      <td>NaN</td>\n      <td>NaN</td>\n      <td>NaN</td>\n      <td>NaN</td>\n      <td>NaN</td>\n      <td>NaN</td>\n      <td>NaN</td>\n      <td>1.00000</td>\n      <td>1.000000</td>\n      <td>...</td>\n      <td>NaN</td>\n      <td>NaN</td>\n      <td>NaN</td>\n      <td>NaN</td>\n      <td>NaN</td>\n      <td>NaN</td>\n      <td>NaN</td>\n      <td>NaN</td>\n      <td>NaN</td>\n      <td>NaN</td>\n    </tr>\n  </tbody>\n</table>\n<p>11 rows × 36 columns</p>\n</div>"
     },
     "execution_count": 365,
     "metadata": {},
     "output_type": "execute_result"
    }
   ],
   "source": [
    "\n",
    "\n",
    "def load_results(f):\n",
    "    \"\"\"Loads main results summaries\"\"\"\n",
    "    obj = yaml.safe_load(open(f))\n",
    "    ont = obj[\"source_collection\"].replace(\"ont_\", \"\")\n",
    "    for k, v in obj[\"results\"].items():\n",
    "        obj[k] = v\n",
    "    del obj[\"results\"]\n",
    "    obj[\"task\"] = \" \".join(obj[\"fields_to_predict\"])\n",
    "    obj[\"ontology\"] = ont\n",
    "    #additional = obj.get(\"additional_collections\", [])\n",
    "    #is_github = any(x for x in additional if x.startswith(\"gh_\")) if additional else []\n",
    "    #obj[\"method\"] = \"background\" if obj.get(\"generate_background\") else (\"github\" if is_github else \"direct\")\n",
    "    obj[\"method\"] = get_method(obj)\n",
    "    return obj\n",
    "\n",
    "from pathlib import Path\n",
    "def load_granular_results():\n",
    "    files = glob.glob(\"results/*.results.tsv\")\n",
    "    dfs = []\n",
    "    for file in files:\n",
    "        yaml_path = file.replace(\".tsv\", \".yaml\")\n",
    "        if not Path(yaml_path).exists():\n",
    "            continue\n",
    "        meta = yaml.safe_load(open(yaml_path))\n",
    "        # print(file)\n",
    "        res = pd.read_csv(file, comment=\"#\", sep=\"\\t\")\n",
    "        #res['task'] = res.apply(lambda row :  \" \".join(row.get(\"fields_to_predict\", [])), axis = 1)\n",
    "        #res['ontology'] = res.apply(lambda row :  row.get(\"source_collection\", \"\").replace(\"ont_\", \"\"), axis = 1)\n",
    "        res['task'] =  \" \".join(meta.get(\"fields_to_predict\"))\n",
    "        res['ontology'] = meta.get(\"source_collection\", \"\").replace(\"ont_\", \"\")\n",
    "        res[\"method\"] = get_method(meta)\n",
    "        res[\"model_name\"] = meta[\"model_name\"]\n",
    "        res[\"accuracy\"] = res[\"metric_accuracy\"]\n",
    "        dfs.append(res)\n",
    "    return pd.concat(dfs)\n",
    "\n",
    "all_df = load_granular_results()\n",
    "all_df.describe(include='all')"
   ]
  },
  {
   "cell_type": "code",
   "execution_count": 366,
   "id": "d9d55163-247f-42ae-a02e-c91a67be9f3e",
   "metadata": {
    "ExecuteTime": {
     "end_time": "2023-10-22T20:05:27.644087Z",
     "start_time": "2023-10-22T20:05:27.302551Z"
    }
   },
   "outputs": [
    {
     "data": {
      "text/plain": "159"
     },
     "execution_count": 366,
     "metadata": {},
     "output_type": "execute_result"
    }
   ],
   "source": [
    "import glob\n",
    "\n",
    "def load_all_results() -> List[dict]:\n",
    "    \"\"\"\n",
    "    load all yaml files\n",
    "    \"\"\"\n",
    "    files = glob.glob(\"results/*.results.yaml\")\n",
    "    objs = [load_results(f) for f in files]\n",
    "    return objs\n",
    "\n",
    "objs = load_all_results()\n",
    "len(objs)\n",
    "    "
   ]
  },
  {
   "cell_type": "code",
   "execution_count": 367,
   "id": "c1f6cdbe-a36b-4ac8-83f3-4cdb22e9a78d",
   "metadata": {
    "ExecuteTime": {
     "end_time": "2023-10-22T20:05:27.645165Z",
     "start_time": "2023-10-22T20:05:27.595165Z"
    }
   },
   "outputs": [
    {
     "data": {
      "text/plain": "           model_name embedding_model_name generate_background  \\\ncount             159                  159                 159   \nunique              3                    1                   2   \ntop     gpt-3.5-turbo              openai:               False   \nfreq               64                  159                 115   \nmean              NaN                  NaN                 NaN   \nstd               NaN                  NaN                 NaN   \nmin               NaN                  NaN                 NaN   \n25%               NaN                  NaN                 NaN   \n50%               NaN                  NaN                 NaN   \n75%               NaN                  NaN                 NaN   \nmax               NaN                  NaN                 NaN   \n\n                      task_started               task_finished  \\\ncount                          159                         159   \nunique                         159                         159   \ntop     2023-09-04 13:31:12.160393  2023-09-04 13:32:28.413164   \nfreq                             1                           1   \nmean                           NaN                         NaN   \nstd                            NaN                         NaN   \nmin                            NaN                         NaN   \n25%                            NaN                         NaN   \n50%                            NaN                         NaN   \n75%                            NaN                         NaN   \nmax                            NaN                         NaN   \n\n                                              executed_on agent  \\\ncount                                                 159   159   \nunique                                                  1     1   \ntop     Darwin-21.6.0-Darwin Kernel Version 21.6.0: Mo...   dae   \nfreq                                                  159   159   \nmean                                                  NaN   NaN   \nstd                                                   NaN   NaN   \nmin                                                   NaN   NaN   \n25%                                                   NaN   NaN   \n50%                                                   NaN   NaN   \n75%                                                   NaN   NaN   \nmax                                                   NaN   NaN   \n\n             extractor method source_db_path  ...      recall    f1_score  \\\ncount              159    159            159  ...  159.000000  159.000000   \nunique               1      4              1  ...         NaN         NaN   \ntop     BasicExtractor    RAG             db  ...         NaN         NaN   \nfreq               159    105            159  ...         NaN         NaN   \nmean               NaN    NaN            NaN  ...    0.236555    0.229404   \nstd                NaN    NaN            NaN  ...    0.198055    0.192455   \nmin                NaN    NaN            NaN  ...    0.000000    0.000000   \n25%                NaN    NaN            NaN  ...    0.060000    0.060000   \n50%                NaN    NaN            NaN  ...    0.207639    0.189159   \n75%                NaN    NaN            NaN  ...    0.380000    0.378095   \nmax                NaN    NaN            NaN  ...    0.810000    0.813333   \n\n          accuracy specificity  true_positives  true_negatives  \\\ncount   159.000000       159.0      159.000000           159.0   \nunique         NaN         NaN             NaN             NaN   \ntop            NaN         NaN             NaN             NaN   \nfreq           NaN         NaN             NaN             NaN   \nmean      0.214694         0.0       15.823899             0.0   \nstd       0.183317         0.0       15.478664             0.0   \nmin       0.000000         0.0        0.000000             0.0   \n25%       0.060000         0.0        3.000000             0.0   \n50%       0.160000         0.0       13.000000             0.0   \n75%       0.349833         0.0       26.000000             0.0   \nmax       0.750000         0.0       81.000000             0.0   \n\n       false_positives false_negatives        task ontology  \ncount       159.000000      159.000000         159      159  \nunique             NaN             NaN           4       10  \ntop                NaN             NaN  definition       cl  \nfreq               NaN             NaN          59       20  \nmean         43.654088       38.553459         NaN      NaN  \nstd          19.602695       17.011034         NaN      NaN  \nmin           0.000000        0.000000         NaN      NaN  \n25%          33.000000       29.000000         NaN      NaN  \n50%          42.000000       39.000000         NaN      NaN  \n75%          47.000000       47.000000         NaN      NaN  \nmax         141.000000       92.000000         NaN      NaN  \n\n[11 rows x 32 columns]",
      "text/html": "<div>\n<style scoped>\n    .dataframe tbody tr th:only-of-type {\n        vertical-align: middle;\n    }\n\n    .dataframe tbody tr th {\n        vertical-align: top;\n    }\n\n    .dataframe thead th {\n        text-align: right;\n    }\n</style>\n<table border=\"1\" class=\"dataframe\">\n  <thead>\n    <tr style=\"text-align: right;\">\n      <th></th>\n      <th>model_name</th>\n      <th>embedding_model_name</th>\n      <th>generate_background</th>\n      <th>task_started</th>\n      <th>task_finished</th>\n      <th>executed_on</th>\n      <th>agent</th>\n      <th>extractor</th>\n      <th>method</th>\n      <th>source_db_path</th>\n      <th>...</th>\n      <th>recall</th>\n      <th>f1_score</th>\n      <th>accuracy</th>\n      <th>specificity</th>\n      <th>true_positives</th>\n      <th>true_negatives</th>\n      <th>false_positives</th>\n      <th>false_negatives</th>\n      <th>task</th>\n      <th>ontology</th>\n    </tr>\n  </thead>\n  <tbody>\n    <tr>\n      <th>count</th>\n      <td>159</td>\n      <td>159</td>\n      <td>159</td>\n      <td>159</td>\n      <td>159</td>\n      <td>159</td>\n      <td>159</td>\n      <td>159</td>\n      <td>159</td>\n      <td>159</td>\n      <td>...</td>\n      <td>159.000000</td>\n      <td>159.000000</td>\n      <td>159.000000</td>\n      <td>159.0</td>\n      <td>159.000000</td>\n      <td>159.0</td>\n      <td>159.000000</td>\n      <td>159.000000</td>\n      <td>159</td>\n      <td>159</td>\n    </tr>\n    <tr>\n      <th>unique</th>\n      <td>3</td>\n      <td>1</td>\n      <td>2</td>\n      <td>159</td>\n      <td>159</td>\n      <td>1</td>\n      <td>1</td>\n      <td>1</td>\n      <td>4</td>\n      <td>1</td>\n      <td>...</td>\n      <td>NaN</td>\n      <td>NaN</td>\n      <td>NaN</td>\n      <td>NaN</td>\n      <td>NaN</td>\n      <td>NaN</td>\n      <td>NaN</td>\n      <td>NaN</td>\n      <td>4</td>\n      <td>10</td>\n    </tr>\n    <tr>\n      <th>top</th>\n      <td>gpt-3.5-turbo</td>\n      <td>openai:</td>\n      <td>False</td>\n      <td>2023-09-04 13:31:12.160393</td>\n      <td>2023-09-04 13:32:28.413164</td>\n      <td>Darwin-21.6.0-Darwin Kernel Version 21.6.0: Mo...</td>\n      <td>dae</td>\n      <td>BasicExtractor</td>\n      <td>RAG</td>\n      <td>db</td>\n      <td>...</td>\n      <td>NaN</td>\n      <td>NaN</td>\n      <td>NaN</td>\n      <td>NaN</td>\n      <td>NaN</td>\n      <td>NaN</td>\n      <td>NaN</td>\n      <td>NaN</td>\n      <td>definition</td>\n      <td>cl</td>\n    </tr>\n    <tr>\n      <th>freq</th>\n      <td>64</td>\n      <td>159</td>\n      <td>115</td>\n      <td>1</td>\n      <td>1</td>\n      <td>159</td>\n      <td>159</td>\n      <td>159</td>\n      <td>105</td>\n      <td>159</td>\n      <td>...</td>\n      <td>NaN</td>\n      <td>NaN</td>\n      <td>NaN</td>\n      <td>NaN</td>\n      <td>NaN</td>\n      <td>NaN</td>\n      <td>NaN</td>\n      <td>NaN</td>\n      <td>59</td>\n      <td>20</td>\n    </tr>\n    <tr>\n      <th>mean</th>\n      <td>NaN</td>\n      <td>NaN</td>\n      <td>NaN</td>\n      <td>NaN</td>\n      <td>NaN</td>\n      <td>NaN</td>\n      <td>NaN</td>\n      <td>NaN</td>\n      <td>NaN</td>\n      <td>NaN</td>\n      <td>...</td>\n      <td>0.236555</td>\n      <td>0.229404</td>\n      <td>0.214694</td>\n      <td>0.0</td>\n      <td>15.823899</td>\n      <td>0.0</td>\n      <td>43.654088</td>\n      <td>38.553459</td>\n      <td>NaN</td>\n      <td>NaN</td>\n    </tr>\n    <tr>\n      <th>std</th>\n      <td>NaN</td>\n      <td>NaN</td>\n      <td>NaN</td>\n      <td>NaN</td>\n      <td>NaN</td>\n      <td>NaN</td>\n      <td>NaN</td>\n      <td>NaN</td>\n      <td>NaN</td>\n      <td>NaN</td>\n      <td>...</td>\n      <td>0.198055</td>\n      <td>0.192455</td>\n      <td>0.183317</td>\n      <td>0.0</td>\n      <td>15.478664</td>\n      <td>0.0</td>\n      <td>19.602695</td>\n      <td>17.011034</td>\n      <td>NaN</td>\n      <td>NaN</td>\n    </tr>\n    <tr>\n      <th>min</th>\n      <td>NaN</td>\n      <td>NaN</td>\n      <td>NaN</td>\n      <td>NaN</td>\n      <td>NaN</td>\n      <td>NaN</td>\n      <td>NaN</td>\n      <td>NaN</td>\n      <td>NaN</td>\n      <td>NaN</td>\n      <td>...</td>\n      <td>0.000000</td>\n      <td>0.000000</td>\n      <td>0.000000</td>\n      <td>0.0</td>\n      <td>0.000000</td>\n      <td>0.0</td>\n      <td>0.000000</td>\n      <td>0.000000</td>\n      <td>NaN</td>\n      <td>NaN</td>\n    </tr>\n    <tr>\n      <th>25%</th>\n      <td>NaN</td>\n      <td>NaN</td>\n      <td>NaN</td>\n      <td>NaN</td>\n      <td>NaN</td>\n      <td>NaN</td>\n      <td>NaN</td>\n      <td>NaN</td>\n      <td>NaN</td>\n      <td>NaN</td>\n      <td>...</td>\n      <td>0.060000</td>\n      <td>0.060000</td>\n      <td>0.060000</td>\n      <td>0.0</td>\n      <td>3.000000</td>\n      <td>0.0</td>\n      <td>33.000000</td>\n      <td>29.000000</td>\n      <td>NaN</td>\n      <td>NaN</td>\n    </tr>\n    <tr>\n      <th>50%</th>\n      <td>NaN</td>\n      <td>NaN</td>\n      <td>NaN</td>\n      <td>NaN</td>\n      <td>NaN</td>\n      <td>NaN</td>\n      <td>NaN</td>\n      <td>NaN</td>\n      <td>NaN</td>\n      <td>NaN</td>\n      <td>...</td>\n      <td>0.207639</td>\n      <td>0.189159</td>\n      <td>0.160000</td>\n      <td>0.0</td>\n      <td>13.000000</td>\n      <td>0.0</td>\n      <td>42.000000</td>\n      <td>39.000000</td>\n      <td>NaN</td>\n      <td>NaN</td>\n    </tr>\n    <tr>\n      <th>75%</th>\n      <td>NaN</td>\n      <td>NaN</td>\n      <td>NaN</td>\n      <td>NaN</td>\n      <td>NaN</td>\n      <td>NaN</td>\n      <td>NaN</td>\n      <td>NaN</td>\n      <td>NaN</td>\n      <td>NaN</td>\n      <td>...</td>\n      <td>0.380000</td>\n      <td>0.378095</td>\n      <td>0.349833</td>\n      <td>0.0</td>\n      <td>26.000000</td>\n      <td>0.0</td>\n      <td>47.000000</td>\n      <td>47.000000</td>\n      <td>NaN</td>\n      <td>NaN</td>\n    </tr>\n    <tr>\n      <th>max</th>\n      <td>NaN</td>\n      <td>NaN</td>\n      <td>NaN</td>\n      <td>NaN</td>\n      <td>NaN</td>\n      <td>NaN</td>\n      <td>NaN</td>\n      <td>NaN</td>\n      <td>NaN</td>\n      <td>NaN</td>\n      <td>...</td>\n      <td>0.810000</td>\n      <td>0.813333</td>\n      <td>0.750000</td>\n      <td>0.0</td>\n      <td>81.000000</td>\n      <td>0.0</td>\n      <td>141.000000</td>\n      <td>92.000000</td>\n      <td>NaN</td>\n      <td>NaN</td>\n    </tr>\n  </tbody>\n</table>\n<p>11 rows × 32 columns</p>\n</div>"
     },
     "execution_count": 367,
     "metadata": {},
     "output_type": "execute_result"
    }
   ],
   "source": [
    "df = pd.DataFrame(objs)\n",
    "df = df.query(\"model_name != 'llama2'\") # incomplete\n",
    "df.describe(include=\"all\")"
   ]
  },
  {
   "cell_type": "code",
   "execution_count": 368,
   "id": "6b3bd552-9ca5-409a-bab7-7f40fda2df92",
   "metadata": {
    "ExecuteTime": {
     "end_time": "2023-10-22T20:05:27.645335Z",
     "start_time": "2023-10-22T20:05:27.617935Z"
    }
   },
   "outputs": [
    {
     "data": {
      "text/plain": "Empty DataFrame\nColumns: [model_name, embedding_model_name, generate_background, task_started, task_finished, executed_on, agent, extractor, method, source_db_path, target_db_path, source_collection, additional_collections, num_training, num_testing, num_validation, stratified_collection, fields_to_mask, fields_to_predict, report_path, working_directory, precision, recall, f1_score, accuracy, specificity, true_positives, true_negatives, false_positives, false_negatives, task, ontology]\nIndex: []\n\n[0 rows x 32 columns]",
      "text/html": "<div>\n<style scoped>\n    .dataframe tbody tr th:only-of-type {\n        vertical-align: middle;\n    }\n\n    .dataframe tbody tr th {\n        vertical-align: top;\n    }\n\n    .dataframe thead th {\n        text-align: right;\n    }\n</style>\n<table border=\"1\" class=\"dataframe\">\n  <thead>\n    <tr style=\"text-align: right;\">\n      <th></th>\n      <th>model_name</th>\n      <th>embedding_model_name</th>\n      <th>generate_background</th>\n      <th>task_started</th>\n      <th>task_finished</th>\n      <th>executed_on</th>\n      <th>agent</th>\n      <th>extractor</th>\n      <th>method</th>\n      <th>source_db_path</th>\n      <th>...</th>\n      <th>recall</th>\n      <th>f1_score</th>\n      <th>accuracy</th>\n      <th>specificity</th>\n      <th>true_positives</th>\n      <th>true_negatives</th>\n      <th>false_positives</th>\n      <th>false_negatives</th>\n      <th>task</th>\n      <th>ontology</th>\n    </tr>\n  </thead>\n  <tbody>\n  </tbody>\n</table>\n<p>0 rows × 32 columns</p>\n</div>"
     },
     "execution_count": 368,
     "metadata": {},
     "output_type": "execute_result"
    }
   ],
   "source": [
    "df.query(f\"task=='relationships' and method=='direct' and model_name=='gpt-4'\")"
   ]
  },
  {
   "cell_type": "code",
   "execution_count": 369,
   "id": "bc2501b5-549f-433d-993c-e9830351c1c0",
   "metadata": {
    "ExecuteTime": {
     "end_time": "2023-10-22T20:05:28.136966Z",
     "start_time": "2023-10-22T20:05:27.622894Z"
    }
   },
   "outputs": [
    {
     "data": {
      "text/plain": "<Figure size 640x480 with 2 Axes>",
      "image/png": "[encoded data removed]"
     },
     "metadata": {},
     "output_type": "display_data"
    },
    {
     "data": {
      "text/plain": "<Figure size 640x480 with 1 Axes>",
      "image/png": "[encoded data removed]"
     },
     "metadata": {},
     "output_type": "display_data"
    },
    {
     "data": {
      "text/plain": "<Figure size 640x480 with 1 Axes>",
      "image/png": "[encoded data removed]"
     },
     "metadata": {},
     "output_type": "display_data"
    },
    {
     "data": {
      "text/plain": "<Figure size 640x480 with 1 Axes>",
      "image/png": "[encoded data removed]"
     },
     "metadata": {},
     "output_type": "display_data"
    }
   ],
   "source": [
    "\n",
    "# Line plot for precision across different models and methods\n",
    "#sns.lineplot(data=df, x='model_name', y='precision', hue='method')\n",
    "#plt.show()\n",
    "\n",
    "# Heatmap for precision\n",
    "heatmap_data = pd.pivot_table(df, values='precision', \n",
    "                              index=['model_name'], \n",
    "                              columns='method')\n",
    "sns.heatmap(heatmap_data, annot=True, cmap=\"YlGnBu\")\n",
    "plt.show()\n",
    "\n",
    "# Boxplot for precision across different methods\n",
    "sns.boxplot(data=df, x='method', y='precision')\n",
    "plt.show()\n",
    "\n",
    "sns.boxplot(data=df, x='method', y='recall')\n",
    "plt.show()\n",
    "\n",
    "sns.boxplot(data=df, x='method', y='accuracy')\n",
    "plt.show()\n",
    "\n"
   ]
  },
  {
   "cell_type": "code",
   "execution_count": 370,
   "id": "d9adcd33-3a12-4d0b-b34e-e2e13715833c",
   "metadata": {
    "ExecuteTime": {
     "end_time": "2023-10-22T20:05:28.196742Z",
     "start_time": "2023-10-22T20:05:28.077901Z"
    }
   },
   "outputs": [],
   "source": [
    "from scipy import stats\n",
    "\n",
    "\n",
    "def hm(task, method, df_x=None, metric=\"accuracy\"):\n",
    "    if df_x is None:\n",
    "        df_x = df\n",
    "    df_x = df_x.query(f\"task=='{task}' and method=='{method}'\")\n",
    "\n",
    "    # Heatmap for precision\n",
    "    heatmap_data = pd.pivot_table(df_x, values=metric, \n",
    "                                  index=['model_name'], \n",
    "                                  columns='ontology')\n",
    "    sns.heatmap(heatmap_data, annot=True, cmap=\"YlGnBu\")\n",
    "    plt.show()\n",
    "\n",
    "def my_ttest(task, method):\n",
    "    all_df_x = all_df.query(f\"task=='{task}' and method=='{method}'\")\n",
    "    models = all_df_x[\"model_name\"].unique()\n",
    "    for m1 in models:\n",
    "        for m2 in models:\n",
    "            if m2 >= m1:\n",
    "                continue\n",
    "            model1_data = all_df_x[(all_df_x['model_name'] == m1)]['accuracy']\n",
    "            model2_data = all_df_x[(all_df_x['model_name'] == m2)]['accuracy']\n",
    "\n",
    "            # Step 2: Conduct the T-Test\n",
    "            # Use ttest_ind to conduct the t-test\n",
    "            t_statistic, p_value = stats.ttest_ind(model1_data, model2_data)\n",
    "\n",
    "            print(f'{m1} v {m2}: len {len(model1_data)} v len {len(model2_data)}')\n",
    "            print(f'{m1} v {m2}: T-statistic: {t_statistic}')\n",
    "            print(f'{m1} v {m2}: P-value: {p_value}')\n",
    "    \n",
    "    \n",
    "\n",
    "def lp(task, df_x=None):\n",
    "    if df_x is None:\n",
    "        df_x = df\n",
    "    df_x = df_x.query(f\"task=='{task}'\")\n",
    "\n",
    "    sns.lineplot(data=df_x, x='model_name', y='accuracy', hue='method')\n",
    "    plt.show()"
   ]
  },
  {
   "cell_type": "markdown",
   "id": "5448b1dd-8687-4546-8cf9-4a5fcd1e0a58",
   "metadata": {},
   "source": [
    "## Relationships Task"
   ]
  },
  {
   "cell_type": "code",
   "execution_count": 371,
   "id": "491f176e-ffc1-4584-a710-686e23a1ad38",
   "metadata": {
    "ExecuteTime": {
     "end_time": "2023-10-22T20:05:28.270285Z",
     "start_time": "2023-10-22T20:05:28.088951Z"
    }
   },
   "outputs": [
    {
     "ename": "ValueError",
     "evalue": "zero-size array to reduction operation fmin which has no identity",
     "output_type": "error",
     "traceback": [
      "\u001B[0;31m---------------------------------------------------------------------------\u001B[0m",
      "\u001B[0;31mValueError\u001B[0m                                Traceback (most recent call last)",
      "Cell \u001B[0;32mIn[371], line 1\u001B[0m\n\u001B[0;32m----> 1\u001B[0m \u001B[43mhm\u001B[49m\u001B[43m(\u001B[49m\u001B[38;5;124;43m\"\u001B[39;49m\u001B[38;5;124;43mrelationships\u001B[39;49m\u001B[38;5;124;43m\"\u001B[39;49m\u001B[43m,\u001B[49m\u001B[43m \u001B[49m\u001B[38;5;124;43m\"\u001B[39;49m\u001B[38;5;124;43mdirect\u001B[39;49m\u001B[38;5;124;43m\"\u001B[39;49m\u001B[43m)\u001B[49m\n",
      "Cell \u001B[0;32mIn[370], line 13\u001B[0m, in \u001B[0;36mhm\u001B[0;34m(task, method, df_x, metric)\u001B[0m\n\u001B[1;32m      9\u001B[0m \u001B[38;5;66;03m# Heatmap for precision\u001B[39;00m\n\u001B[1;32m     10\u001B[0m heatmap_data \u001B[38;5;241m=\u001B[39m pd\u001B[38;5;241m.\u001B[39mpivot_table(df_x, values\u001B[38;5;241m=\u001B[39mmetric, \n\u001B[1;32m     11\u001B[0m                               index\u001B[38;5;241m=\u001B[39m[\u001B[38;5;124m'\u001B[39m\u001B[38;5;124mmodel_name\u001B[39m\u001B[38;5;124m'\u001B[39m], \n\u001B[1;32m     12\u001B[0m                               columns\u001B[38;5;241m=\u001B[39m\u001B[38;5;124m'\u001B[39m\u001B[38;5;124montology\u001B[39m\u001B[38;5;124m'\u001B[39m)\n\u001B[0;32m---> 13\u001B[0m \u001B[43msns\u001B[49m\u001B[38;5;241;43m.\u001B[39;49m\u001B[43mheatmap\u001B[49m\u001B[43m(\u001B[49m\u001B[43mheatmap_data\u001B[49m\u001B[43m,\u001B[49m\u001B[43m \u001B[49m\u001B[43mannot\u001B[49m\u001B[38;5;241;43m=\u001B[39;49m\u001B[38;5;28;43;01mTrue\u001B[39;49;00m\u001B[43m,\u001B[49m\u001B[43m \u001B[49m\u001B[43mcmap\u001B[49m\u001B[38;5;241;43m=\u001B[39;49m\u001B[38;5;124;43m\"\u001B[39;49m\u001B[38;5;124;43mYlGnBu\u001B[39;49m\u001B[38;5;124;43m\"\u001B[39;49m\u001B[43m)\u001B[49m\n\u001B[1;32m     14\u001B[0m plt\u001B[38;5;241m.\u001B[39mshow()\n",
      "File \u001B[0;32m~/Library/Caches/pypoetry/virtualenvs/gpt-ontology-completion-analysis-LiQZhntW-py3.10/lib/python3.10/site-packages/seaborn/matrix.py:446\u001B[0m, in \u001B[0;36mheatmap\u001B[0;34m(data, vmin, vmax, cmap, center, robust, annot, fmt, annot_kws, linewidths, linecolor, cbar, cbar_kws, cbar_ax, square, xticklabels, yticklabels, mask, ax, **kwargs)\u001B[0m\n\u001B[1;32m    365\u001B[0m \u001B[38;5;250m\u001B[39m\u001B[38;5;124;03m\"\"\"Plot rectangular data as a color-encoded matrix.\u001B[39;00m\n\u001B[1;32m    366\u001B[0m \n\u001B[1;32m    367\u001B[0m \u001B[38;5;124;03mThis is an Axes-level function and will draw the heatmap into the\u001B[39;00m\n\u001B[0;32m   (...)\u001B[0m\n\u001B[1;32m    443\u001B[0m \n\u001B[1;32m    444\u001B[0m \u001B[38;5;124;03m\"\"\"\u001B[39;00m\n\u001B[1;32m    445\u001B[0m \u001B[38;5;66;03m# Initialize the plotter object\u001B[39;00m\n\u001B[0;32m--> 446\u001B[0m plotter \u001B[38;5;241m=\u001B[39m \u001B[43m_HeatMapper\u001B[49m\u001B[43m(\u001B[49m\u001B[43mdata\u001B[49m\u001B[43m,\u001B[49m\u001B[43m \u001B[49m\u001B[43mvmin\u001B[49m\u001B[43m,\u001B[49m\u001B[43m \u001B[49m\u001B[43mvmax\u001B[49m\u001B[43m,\u001B[49m\u001B[43m \u001B[49m\u001B[43mcmap\u001B[49m\u001B[43m,\u001B[49m\u001B[43m \u001B[49m\u001B[43mcenter\u001B[49m\u001B[43m,\u001B[49m\u001B[43m \u001B[49m\u001B[43mrobust\u001B[49m\u001B[43m,\u001B[49m\u001B[43m \u001B[49m\u001B[43mannot\u001B[49m\u001B[43m,\u001B[49m\u001B[43m \u001B[49m\u001B[43mfmt\u001B[49m\u001B[43m,\u001B[49m\n\u001B[1;32m    447\u001B[0m \u001B[43m                      \u001B[49m\u001B[43mannot_kws\u001B[49m\u001B[43m,\u001B[49m\u001B[43m \u001B[49m\u001B[43mcbar\u001B[49m\u001B[43m,\u001B[49m\u001B[43m \u001B[49m\u001B[43mcbar_kws\u001B[49m\u001B[43m,\u001B[49m\u001B[43m \u001B[49m\u001B[43mxticklabels\u001B[49m\u001B[43m,\u001B[49m\n\u001B[1;32m    448\u001B[0m \u001B[43m                      \u001B[49m\u001B[43myticklabels\u001B[49m\u001B[43m,\u001B[49m\u001B[43m \u001B[49m\u001B[43mmask\u001B[49m\u001B[43m)\u001B[49m\n\u001B[1;32m    450\u001B[0m \u001B[38;5;66;03m# Add the pcolormesh kwargs here\u001B[39;00m\n\u001B[1;32m    451\u001B[0m kwargs[\u001B[38;5;124m\"\u001B[39m\u001B[38;5;124mlinewidths\u001B[39m\u001B[38;5;124m\"\u001B[39m] \u001B[38;5;241m=\u001B[39m linewidths\n",
      "File \u001B[0;32m~/Library/Caches/pypoetry/virtualenvs/gpt-ontology-completion-analysis-LiQZhntW-py3.10/lib/python3.10/site-packages/seaborn/matrix.py:163\u001B[0m, in \u001B[0;36m_HeatMapper.__init__\u001B[0;34m(self, data, vmin, vmax, cmap, center, robust, annot, fmt, annot_kws, cbar, cbar_kws, xticklabels, yticklabels, mask)\u001B[0m\n\u001B[1;32m    160\u001B[0m \u001B[38;5;28mself\u001B[39m\u001B[38;5;241m.\u001B[39mylabel \u001B[38;5;241m=\u001B[39m ylabel \u001B[38;5;28;01mif\u001B[39;00m ylabel \u001B[38;5;129;01mis\u001B[39;00m \u001B[38;5;129;01mnot\u001B[39;00m \u001B[38;5;28;01mNone\u001B[39;00m \u001B[38;5;28;01melse\u001B[39;00m \u001B[38;5;124m\"\u001B[39m\u001B[38;5;124m\"\u001B[39m\n\u001B[1;32m    162\u001B[0m \u001B[38;5;66;03m# Determine good default values for the colormapping\u001B[39;00m\n\u001B[0;32m--> 163\u001B[0m \u001B[38;5;28;43mself\u001B[39;49m\u001B[38;5;241;43m.\u001B[39;49m\u001B[43m_determine_cmap_params\u001B[49m\u001B[43m(\u001B[49m\u001B[43mplot_data\u001B[49m\u001B[43m,\u001B[49m\u001B[43m \u001B[49m\u001B[43mvmin\u001B[49m\u001B[43m,\u001B[49m\u001B[43m \u001B[49m\u001B[43mvmax\u001B[49m\u001B[43m,\u001B[49m\n\u001B[1;32m    164\u001B[0m \u001B[43m                            \u001B[49m\u001B[43mcmap\u001B[49m\u001B[43m,\u001B[49m\u001B[43m \u001B[49m\u001B[43mcenter\u001B[49m\u001B[43m,\u001B[49m\u001B[43m \u001B[49m\u001B[43mrobust\u001B[49m\u001B[43m)\u001B[49m\n\u001B[1;32m    166\u001B[0m \u001B[38;5;66;03m# Sort out the annotations\u001B[39;00m\n\u001B[1;32m    167\u001B[0m \u001B[38;5;28;01mif\u001B[39;00m annot \u001B[38;5;129;01mis\u001B[39;00m \u001B[38;5;28;01mNone\u001B[39;00m \u001B[38;5;129;01mor\u001B[39;00m annot \u001B[38;5;129;01mis\u001B[39;00m \u001B[38;5;28;01mFalse\u001B[39;00m:\n",
      "File \u001B[0;32m~/Library/Caches/pypoetry/virtualenvs/gpt-ontology-completion-analysis-LiQZhntW-py3.10/lib/python3.10/site-packages/seaborn/matrix.py:202\u001B[0m, in \u001B[0;36m_HeatMapper._determine_cmap_params\u001B[0;34m(self, plot_data, vmin, vmax, cmap, center, robust)\u001B[0m\n\u001B[1;32m    200\u001B[0m         vmin \u001B[38;5;241m=\u001B[39m np\u001B[38;5;241m.\u001B[39mnanpercentile(calc_data, \u001B[38;5;241m2\u001B[39m)\n\u001B[1;32m    201\u001B[0m     \u001B[38;5;28;01melse\u001B[39;00m:\n\u001B[0;32m--> 202\u001B[0m         vmin \u001B[38;5;241m=\u001B[39m \u001B[43mnp\u001B[49m\u001B[38;5;241;43m.\u001B[39;49m\u001B[43mnanmin\u001B[49m\u001B[43m(\u001B[49m\u001B[43mcalc_data\u001B[49m\u001B[43m)\u001B[49m\n\u001B[1;32m    203\u001B[0m \u001B[38;5;28;01mif\u001B[39;00m vmax \u001B[38;5;129;01mis\u001B[39;00m \u001B[38;5;28;01mNone\u001B[39;00m:\n\u001B[1;32m    204\u001B[0m     \u001B[38;5;28;01mif\u001B[39;00m robust:\n",
      "File \u001B[0;32m~/Library/Caches/pypoetry/virtualenvs/gpt-ontology-completion-analysis-LiQZhntW-py3.10/lib/python3.10/site-packages/numpy/lib/nanfunctions.py:343\u001B[0m, in \u001B[0;36mnanmin\u001B[0;34m(a, axis, out, keepdims, initial, where)\u001B[0m\n\u001B[1;32m    338\u001B[0m     kwargs[\u001B[38;5;124m'\u001B[39m\u001B[38;5;124mwhere\u001B[39m\u001B[38;5;124m'\u001B[39m] \u001B[38;5;241m=\u001B[39m where\n\u001B[1;32m    340\u001B[0m \u001B[38;5;28;01mif\u001B[39;00m \u001B[38;5;28mtype\u001B[39m(a) \u001B[38;5;129;01mis\u001B[39;00m np\u001B[38;5;241m.\u001B[39mndarray \u001B[38;5;129;01mand\u001B[39;00m a\u001B[38;5;241m.\u001B[39mdtype \u001B[38;5;241m!=\u001B[39m np\u001B[38;5;241m.\u001B[39mobject_:\n\u001B[1;32m    341\u001B[0m     \u001B[38;5;66;03m# Fast, but not safe for subclasses of ndarray, or object arrays,\u001B[39;00m\n\u001B[1;32m    342\u001B[0m     \u001B[38;5;66;03m# which do not implement isnan (gh-9009), or fmin correctly (gh-8975)\u001B[39;00m\n\u001B[0;32m--> 343\u001B[0m     res \u001B[38;5;241m=\u001B[39m \u001B[43mnp\u001B[49m\u001B[38;5;241;43m.\u001B[39;49m\u001B[43mfmin\u001B[49m\u001B[38;5;241;43m.\u001B[39;49m\u001B[43mreduce\u001B[49m\u001B[43m(\u001B[49m\u001B[43ma\u001B[49m\u001B[43m,\u001B[49m\u001B[43m \u001B[49m\u001B[43maxis\u001B[49m\u001B[38;5;241;43m=\u001B[39;49m\u001B[43maxis\u001B[49m\u001B[43m,\u001B[49m\u001B[43m \u001B[49m\u001B[43mout\u001B[49m\u001B[38;5;241;43m=\u001B[39;49m\u001B[43mout\u001B[49m\u001B[43m,\u001B[49m\u001B[43m \u001B[49m\u001B[38;5;241;43m*\u001B[39;49m\u001B[38;5;241;43m*\u001B[39;49m\u001B[43mkwargs\u001B[49m\u001B[43m)\u001B[49m\n\u001B[1;32m    344\u001B[0m     \u001B[38;5;28;01mif\u001B[39;00m np\u001B[38;5;241m.\u001B[39misnan(res)\u001B[38;5;241m.\u001B[39many():\n\u001B[1;32m    345\u001B[0m         warnings\u001B[38;5;241m.\u001B[39mwarn(\u001B[38;5;124m\"\u001B[39m\u001B[38;5;124mAll-NaN slice encountered\u001B[39m\u001B[38;5;124m\"\u001B[39m, \u001B[38;5;167;01mRuntimeWarning\u001B[39;00m,\n\u001B[1;32m    346\u001B[0m                       stacklevel\u001B[38;5;241m=\u001B[39m\u001B[38;5;241m2\u001B[39m)\n",
      "\u001B[0;31mValueError\u001B[0m: zero-size array to reduction operation fmin which has no identity"
     ]
    }
   ],
   "source": [
    "hm(\"relationships\", \"direct\")"
   ]
  },
  {
   "cell_type": "code",
   "execution_count": null,
   "id": "86188ec0-3490-4f54-9663-df8d66368106",
   "metadata": {
    "ExecuteTime": {
     "start_time": "2023-10-22T20:05:28.129172Z"
    }
   },
   "outputs": [],
   "source": [
    "hm(\"relationships\", \"direct\", metric=\"precision\")"
   ]
  },
  {
   "cell_type": "code",
   "execution_count": null,
   "id": "3e01905e-0bc7-4009-9dd2-c657ddd438cf",
   "metadata": {
    "ExecuteTime": {
     "start_time": "2023-10-22T20:05:28.130443Z"
    }
   },
   "outputs": [],
   "source": [
    "my_ttest(\"relationships\", \"direct\")"
   ]
  },
  {
   "cell_type": "code",
   "execution_count": null,
   "id": "8ba4d1d4-0742-4150-945c-2cb00a472992",
   "metadata": {
    "ExecuteTime": {
     "start_time": "2023-10-22T20:05:28.131751Z"
    }
   },
   "outputs": [],
   "source": [
    "lp(\"relationships\")"
   ]
  },
  {
   "cell_type": "markdown",
   "id": "8635009e-5d37-4c9b-b8fc-a583a8c761d8",
   "metadata": {},
   "source": [
    "## Labels Task"
   ]
  },
  {
   "cell_type": "code",
   "execution_count": null,
   "id": "27eafca0-468d-4c29-9e58-fea99b8c0b0a",
   "metadata": {
    "ExecuteTime": {
     "start_time": "2023-10-22T20:05:28.133249Z"
    }
   },
   "outputs": [],
   "source": [
    "hm(\"label\", \"direct\")"
   ]
  },
  {
   "cell_type": "code",
   "execution_count": null,
   "id": "6450d3bb-d16c-4fe4-8999-ccb38b0bbda9",
   "metadata": {
    "ExecuteTime": {
     "start_time": "2023-10-22T20:05:28.134371Z"
    }
   },
   "outputs": [],
   "source": [
    "my_ttest(\"label\", \"direct\")"
   ]
  },
  {
   "cell_type": "code",
   "execution_count": null,
   "id": "80d6a7fb-ac24-49c4-ae9e-21fe60f41267",
   "metadata": {
    "ExecuteTime": {
     "start_time": "2023-10-22T20:05:28.136420Z"
    }
   },
   "outputs": [],
   "source": [
    "lp(\"label\")"
   ]
  },
  {
   "cell_type": "markdown",
   "id": "5486ceab-f619-484f-a458-d598f528daa6",
   "metadata": {},
   "source": [
    "## Logical Definitions"
   ]
  },
  {
   "cell_type": "code",
   "execution_count": null,
   "id": "5614638d-481c-4857-ae64-fecf780f1e3d",
   "metadata": {
    "ExecuteTime": {
     "start_time": "2023-10-22T20:05:28.138267Z"
    }
   },
   "outputs": [],
   "source": [
    "import numpy as np\n",
    "\n",
    "def load_ldef_results_tsv(f):\n",
    "    res = pd.read_csv(f, comment=\"#\", sep=\"\\t\")\n",
    "    res['expected_logical_definition'].replace('', np.nan, inplace=True)\n",
    "    res = res[res['expected_logical_definition'].notnull()]\n",
    "    # Calculate Accuracy per row: (TP + TN) / (TP + TN + FP + FN)\n",
    "    # Since we can't calculate TN here, we'll omit it from the formula\n",
    "    res['accuracy'] = res['metric_true_positives'] / (res['metric_true_positives'] + res['metric_false_positives'] + res['metric_false_negatives'])\n",
    "    res['precision'] = res['metric_true_positives'] / (res['metric_true_positives'] + res['metric_false_positives'])\n",
    "\n",
    "    return res\n",
    "    \n",
    "\n",
    "res = load_ldef_results_tsv(\"results/ont_go-Plogical_definition-Mid.original_id-BGFalse-TrNone-Te50-Mgpt-4-EMopenai.results.tsv\")\n",
    "res.describe(include=\"all\")"
   ]
  },
  {
   "cell_type": "code",
   "execution_count": null,
   "id": "db0ef1ea-b3e7-4456-928d-c609a134efd3",
   "metadata": {
    "ExecuteTime": {
     "start_time": "2023-10-22T20:05:28.139898Z"
    }
   },
   "outputs": [],
   "source": [
    "def load_all_results_ldefs():\n",
    "    files = glob.glob(\"results/*.results.yaml\")\n",
    "    objs = []\n",
    "    for f in files:\n",
    "        obj = load_results(f)\n",
    "        if obj[\"task\"] != \"logical_definition\":\n",
    "            continue\n",
    "        accuracy = load_ldef_results_tsv(f.replace(\".yaml\", \".tsv\"))[\"accuracy\"].mean()\n",
    "        obj[\"accuracy\"] = accuracy\n",
    "        objs.append(obj)\n",
    "    return objs\n",
    "\n",
    "objs = load_all_results_ldefs()"
   ]
  },
  {
   "cell_type": "code",
   "execution_count": null,
   "id": "b2cc1e88-c004-418b-b961-d516df6c9ffd",
   "metadata": {
    "ExecuteTime": {
     "start_time": "2023-10-22T20:05:28.140786Z"
    }
   },
   "outputs": [],
   "source": [
    "ldefs_df = pd.DataFrame(objs)"
   ]
  },
  {
   "cell_type": "markdown",
   "id": "286db37a-9ddd-4016-8376-539ccb3c535d",
   "metadata": {},
   "source": [
    "### Logical Definitions (Excluding terms with none)"
   ]
  },
  {
   "cell_type": "code",
   "execution_count": null,
   "id": "86436a6e-5c47-4af4-a769-55a1a68da087",
   "metadata": {
    "ExecuteTime": {
     "start_time": "2023-10-22T20:05:28.141982Z"
    }
   },
   "outputs": [],
   "source": [
    "hm(\"logical_definition\", \"direct\", ldefs_df)"
   ]
  },
  {
   "cell_type": "markdown",
   "id": "2c1687ac-1331-4570-b833-311c410beebe",
   "metadata": {},
   "source": [
    "### Logical Definitions (including over-prediction)"
   ]
  },
  {
   "cell_type": "code",
   "execution_count": null,
   "id": "2a31acf4-710b-484a-aaed-3fbd27355704",
   "metadata": {
    "ExecuteTime": {
     "start_time": "2023-10-22T20:05:28.143277Z"
    }
   },
   "outputs": [],
   "source": [
    "hm(\"logical_definition\", \"direct\")"
   ]
  },
  {
   "cell_type": "markdown",
   "id": "139833df-e765-4893-87ac-04c747a8112b",
   "metadata": {},
   "source": [
    "## Definitions Task\n",
    "\n",
    "### Definitions (direct)\n",
    "\n",
    "No additional background knowledge"
   ]
  },
  {
   "cell_type": "code",
   "execution_count": null,
   "id": "56f626f1-de88-4ba0-b570-1a0dab680871",
   "metadata": {
    "ExecuteTime": {
     "start_time": "2023-10-22T20:05:28.144662Z"
    }
   },
   "outputs": [],
   "source": [
    "hm(\"definition\", \"direct\")"
   ]
  },
  {
   "cell_type": "code",
   "execution_count": null,
   "id": "32cf2630-dc85-4369-a892-b9a4a33a490b",
   "metadata": {
    "ExecuteTime": {
     "start_time": "2023-10-22T20:05:28.146091Z"
    }
   },
   "outputs": [],
   "source": [
    "my_ttest(\"definition\", \"direct\")"
   ]
  },
  {
   "cell_type": "markdown",
   "id": "9290362d-be80-4ccd-aa32-8a1d971771f6",
   "metadata": {},
   "source": [
    "### Definitions with github as background method"
   ]
  },
  {
   "cell_type": "code",
   "execution_count": null,
   "id": "0cc37759-e652-47ad-9219-c947e276fdf0",
   "metadata": {
    "ExecuteTime": {
     "start_time": "2023-10-22T20:05:28.147356Z"
    }
   },
   "outputs": [],
   "source": [
    "hm(\"definition\", \"github\")"
   ]
  },
  {
   "cell_type": "markdown",
   "id": "b909d806-8810-4234-89bc-e2ed00e73380",
   "metadata": {},
   "source": [
    "### Definitions with auto-generated background summaries"
   ]
  },
  {
   "cell_type": "code",
   "execution_count": null,
   "id": "9ff5a471-eec0-4760-ba50-4cb2643ee318",
   "metadata": {
    "ExecuteTime": {
     "start_time": "2023-10-22T20:05:28.148531Z"
    }
   },
   "outputs": [],
   "source": [
    "hm(\"definition\", \"background\")"
   ]
  },
  {
   "cell_type": "code",
   "execution_count": null,
   "id": "e3492c99-070f-4708-96d7-e34026e34e97",
   "metadata": {
    "ExecuteTime": {
     "start_time": "2023-10-22T20:05:28.149905Z"
    }
   },
   "outputs": [],
   "source": [
    "lp(\"definition\")"
   ]
  },
  {
   "cell_type": "markdown",
   "id": "f0544b0a-e0c1-45fd-bd39-9d8ab8742a81",
   "metadata": {},
   "source": [
    "### Definitions using developer docs"
   ]
  },
  {
   "cell_type": "code",
   "execution_count": null,
   "id": "cc85fb38-85c4-4f31-8559-62dfe41e5959",
   "metadata": {
    "ExecuteTime": {
     "start_time": "2023-10-22T20:05:28.150999Z"
    }
   },
   "outputs": [],
   "source": [
    "df.query(\"ontology == 'cl' and task == 'definition'\")[\"method\"].unique()"
   ]
  },
  {
   "cell_type": "code",
   "execution_count": null,
   "id": "d5327085-b90d-4292-beb5-3d4782bd3182",
   "metadata": {
    "ExecuteTime": {
     "start_time": "2023-10-22T20:05:28.152472Z"
    }
   },
   "outputs": [],
   "source": [
    "hm(\"definition\", \"devdocs\", df.query(\"ontology == 'cl'\"))"
   ]
  },
  {
   "cell_type": "markdown",
   "id": "c97451a3-75ac-4912-ac0e-13f769e41940",
   "metadata": {},
   "source": [
    "### Significance of different methods"
   ]
  },
  {
   "cell_type": "code",
   "execution_count": null,
   "id": "3a69baeb-4879-439c-80cf-dc5d068b37a9",
   "metadata": {
    "ExecuteTime": {
     "start_time": "2023-10-22T20:05:28.153941Z"
    }
   },
   "outputs": [],
   "source": [
    "methods = all_df[\"method\"].unique()\n",
    "models = all_df[\"model_name\"].unique()\n",
    "for m1 in methods:\n",
    "    for m2 in methods:\n",
    "        if m2 >= m1:\n",
    "            continue\n",
    "        for mn in list(models) + [None]:\n",
    "            if mn is None:\n",
    "                all_df_x = all_df.query(\"task == 'definition'\")\n",
    "            else:\n",
    "                all_df_x = all_df.query(f\"task == 'definition' and model_name == '{mn}'\")\n",
    "            m1_data = all_df_x[(all_df_x['method'] == m1)]['accuracy']\n",
    "            m2_data = all_df_x[(all_df_x['method'] == m2)]['accuracy']\n",
    "\n",
    "            # Step 2: Conduct the T-Test\n",
    "            # Use ttest_ind to conduct the t-test\n",
    "            t_statistic, p_value = stats.ttest_ind(m1_data, m2_data)\n",
    "\n",
    "            print(f'{mn}:: {m1} v {m2}: T-statistic: {t_statistic}')\n",
    "            print(f'{mn}:: {m1} v {m2}: P-value: {p_value}')\n"
   ]
  },
  {
   "cell_type": "markdown",
   "id": "a356a637-9d6a-481a-a6cf-c1272548b954",
   "metadata": {},
   "source": [
    "## Subsumption Analysis\n",
    "\n",
    "Note that the relationships stats above are calculated on predicting *all* relationships.\n",
    "\n",
    "To compare with owl2vec, we filter these for only subsumptions (subClassOf) relationships. See https://arxiv.org/pdf/2009.14654.pdf\n"
   ]
  },
  {
   "cell_type": "code",
   "execution_count": null,
   "id": "929220ec-5bd9-4a4c-a029-d7670c86726d",
   "metadata": {
    "ExecuteTime": {
     "start_time": "2023-10-22T20:05:28.155247Z"
    }
   },
   "outputs": [],
   "source": [
    "import json\n",
    "\n",
    "def subsumptions(rel_str: str):\n",
    "    if pd.isnull(rel_str):\n",
    "        return []\n",
    "    if not isinstance(rel_str, str):\n",
    "        print(f\"BAD: {rel_str}\")\n",
    "        return []\n",
    "    rels = yaml.safe_load(rel_str)\n",
    "    for rel in rels:\n",
    "         if \"predicate\" not in rel:\n",
    "             print(f\"BAD REL: {rel} in {rel_str}\")\n",
    "    return [r[\"target\"] for r in rels if r.get(\"predicate\", \"\") ==\"subClassOf\"]\n",
    "\n",
    "def calculate_metrics(row):\n",
    "    expected_set = set(row['expected_subsumptions'])\n",
    "    predicted_set = set(row['predicted_subsumptions'])\n",
    "    \n",
    "    TP = len(expected_set & predicted_set)\n",
    "    FP = len(predicted_set - expected_set)\n",
    "    FN = len(expected_set - predicted_set)\n",
    "    \n",
    "    # In a classical setting, TN would be calculated here. \n",
    "    # However, if you don't have information about what could have been predicted \n",
    "    # but wasn't (i.e., the universal set), TN can't be calculated.\n",
    "    \n",
    "    return pd.Series({'TP': TP, 'FP': FP, 'FN': FN})\n",
    "    \n",
    "\n",
    "def load_subsumption_results_tsv(f):\n",
    "    res = pd.read_csv(f, comment=\"#\", sep=\"\\t\")\n",
    "    res['expected_subsumptions'] = res.apply(lambda row : subsumptions(row['expected_relationships']), axis = 1)\n",
    "    res['predicted_subsumptions'] = res.apply(lambda row : subsumptions(row['predicted_relationships']), axis = 1)\n",
    "    metrics_df = res.apply(calculate_metrics, axis=1)\n",
    "\n",
    "    # Add the metrics as new columns to the original DataFrame\n",
    "    df_with_metrics = pd.concat([df, metrics_df], axis=1)\n",
    "\n",
    "    # Calculate Accuracy per row: (TP + TN) / (TP + TN + FP + FN)\n",
    "    # Since we can't calculate TN here, we'll omit it from the formula\n",
    "    df_with_metrics['accuracy'] = df_with_metrics['TP'] / (df_with_metrics['TP'] + df_with_metrics['FP'] + df_with_metrics['FN'])\n",
    "    df_with_metrics['precision'] = df_with_metrics['TP'] / (df_with_metrics['TP'] + df_with_metrics['FP'])\n",
    "\n",
    "    return df_with_metrics\n",
    "    \n",
    "\n",
    "res = load_subsumption_results_tsv(\"results/ont_uberon-Prelationships-Mid.original_id-BGFalse-TrNone-Te40-Mgpt-4-EMopenai.results.tsv\")\n",
    "res.describe(include=\"all\")"
   ]
  },
  {
   "cell_type": "code",
   "execution_count": null,
   "id": "b7e7ec3b-e1b2-41ea-a04d-5e23ee4a8b90",
   "metadata": {
    "ExecuteTime": {
     "start_time": "2023-10-22T20:05:28.156130Z"
    }
   },
   "outputs": [],
   "source": [
    "import json\n",
    "\n",
    "def subsumptions(rel_str: str):\n",
    "    if pd.isnull(rel_str):\n",
    "        return []\n",
    "    if not isinstance(rel_str, str):\n",
    "        print(f\"BAD: {rel_str}\")\n",
    "        return []\n",
    "    rels = yaml.safe_load(rel_str)\n",
    "    for rel in rels:\n",
    "         if \"predicate\" not in rel:\n",
    "             print(f\"BAD REL: {rel} in {rel_str}\")\n",
    "    return [r[\"target\"] for r in rels if r.get(\"predicate\", \"\") ==\"subClassOf\"]\n",
    "\n",
    "def calculate_metrics(row):\n",
    "    expected_set = set(row['expected_subsumptions'])\n",
    "    predicted_set = set(row['predicted_subsumptions'])\n",
    "    \n",
    "    TP = len(expected_set & predicted_set)\n",
    "    FP = len(predicted_set - expected_set)\n",
    "    FN = len(expected_set - predicted_set)\n",
    "    \n",
    "    # In a classical setting, TN would be calculated here. \n",
    "    # However, if you don't have information about what could have been predicted \n",
    "    # but wasn't (i.e., the universal set), TN can't be calculated.\n",
    "    \n",
    "    return pd.Series({'TP': TP, 'FP': FP, 'FN': FN})\n",
    "    \n",
    "\n",
    "def load_subsumption_results_tsv(f):\n",
    "    res = pd.read_csv(f, comment=\"#\", sep=\"\\t\")\n",
    "    res['expected_subsumptions'] = res.apply(lambda row : subsumptions(row['expected_relationships']), axis = 1)\n",
    "    res['predicted_subsumptions'] = res.apply(lambda row : subsumptions(row['predicted_relationships']), axis = 1)\n",
    "    metrics_df = res.apply(calculate_metrics, axis=1)\n",
    "\n",
    "    # Add the metrics as new columns to the original DataFrame\n",
    "    df_with_metrics = pd.concat([df, metrics_df], axis=1)\n",
    "\n",
    "    # Calculate Accuracy per row: (TP + TN) / (TP + TN + FP + FN)\n",
    "    # Since we can't calculate TN here, we'll omit it from the formula\n",
    "    df_with_metrics['accuracy'] = df_with_metrics['TP'] / (df_with_metrics['TP'] + df_with_metrics['FP'] + df_with_metrics['FN'])\n",
    "    df_with_metrics['precision'] = df_with_metrics['TP'] / (df_with_metrics['TP'] + df_with_metrics['FP'])\n",
    "\n",
    "    return df_with_metrics\n",
    "    \n",
    "\n",
    "#res = load_subsumption_results_tsv(\"results/ont_uberon-Prelationships-Mid.original_id-BGFalse-TrNone-Te40-Mgpt-4-EMopenai.results.tsv\")\n",
    "#res.describe(include=\"all\")"
   ]
  },
  {
   "cell_type": "code",
   "execution_count": null,
   "id": "b5554d53-6423-4a2c-935f-5b7985760a77",
   "metadata": {
    "ExecuteTime": {
     "start_time": "2023-10-22T20:05:28.157373Z"
    }
   },
   "outputs": [],
   "source": [
    "res[\"accuracy\"].mean()"
   ]
  },
  {
   "cell_type": "code",
   "execution_count": null,
   "id": "76d4edc9-7a94-46c9-b123-8c3a1a364197",
   "metadata": {
    "ExecuteTime": {
     "start_time": "2023-10-22T20:05:28.158478Z"
    }
   },
   "outputs": [],
   "source": [
    "def load_all_results_subsumptions():\n",
    "    files = glob.glob(\"results/*.results.yaml\")\n",
    "    objs = []\n",
    "    for f in files:\n",
    "        obj = load_results(f)\n",
    "        if obj[\"task\"] != \"relationships\":\n",
    "            continue\n",
    "        accuracy = load_subsumption_results_tsv(f.replace(\".yaml\", \".tsv\"))[\"accuracy\"].mean()\n",
    "        obj[\"accuracy\"] = accuracy\n",
    "        objs.append(obj)\n",
    "    return objs\n",
    "\n",
    "objs = load_all_results_subsumptions()"
   ]
  },
  {
   "cell_type": "markdown",
   "id": "1787e0df-3dc0-4387-8c6a-b10c464f57a9",
   "metadata": {},
   "source": [
    "### Main subsumption results"
   ]
  },
  {
   "cell_type": "code",
   "execution_count": null,
   "id": "3276f03f-a378-44eb-93b4-3fee126d3df6",
   "metadata": {
    "ExecuteTime": {
     "start_time": "2023-10-22T20:05:28.159493Z"
    }
   },
   "outputs": [],
   "source": [
    "subs_df = pd.DataFrame(objs)"
   ]
  },
  {
   "cell_type": "code",
   "execution_count": null,
   "id": "96cb5352-1593-4125-9b88-1b514d041a62",
   "metadata": {
    "ExecuteTime": {
     "start_time": "2023-10-22T20:05:28.160280Z"
    }
   },
   "outputs": [],
   "source": [
    "hm(\"relationships\", \"direct\", subs_df)"
   ]
  },
  {
   "cell_type": "code",
   "execution_count": null,
   "id": "ab528fdf-2351-4d44-85bb-c5b7e9c4cf7a",
   "metadata": {
    "ExecuteTime": {
     "start_time": "2023-10-22T20:05:28.160986Z"
    }
   },
   "outputs": [],
   "source": [
    "hm(\"relationships\", \"direct\", subs_df, metric=\"precision\")"
   ]
  },
  {
   "cell_type": "markdown",
   "id": "ded6f642-f6ad-448c-aef3-4c5767de3888",
   "metadata": {},
   "source": [
    "### Subsumptions using background"
   ]
  },
  {
   "cell_type": "code",
   "execution_count": null,
   "id": "cf2b8371-deb6-499d-a6a4-153353577ca2",
   "metadata": {
    "ExecuteTime": {
     "start_time": "2023-10-22T20:05:28.161677Z"
    }
   },
   "outputs": [],
   "source": [
    "hm(\"relationships\", \"background\", subs_df)"
   ]
  },
  {
   "cell_type": "markdown",
   "id": "19f376ca-cb02-484c-93b4-77b16fd5ac34",
   "metadata": {},
   "source": [
    "### Subsumptions using github"
   ]
  },
  {
   "cell_type": "code",
   "execution_count": null,
   "id": "1721154d-f1a2-46ef-8fdf-c99c14fe81c3",
   "metadata": {
    "ExecuteTime": {
     "start_time": "2023-10-22T20:05:28.162517Z"
    }
   },
   "outputs": [],
   "source": [
    "#hm(\"relationships\", \"github\", subs_df)"
   ]
  },
  {
   "cell_type": "markdown",
   "id": "b9fdad50-d8f6-4af5-b9ed-8b58bcf5a463",
   "metadata": {},
   "source": [
    "## Preparing definitions for evaluation"
   ]
  },
  {
   "cell_type": "code",
   "execution_count": null,
   "id": "640ad274-5a92-495c-8bcb-15ba2dab934f",
   "metadata": {
    "ExecuteTime": {
     "start_time": "2023-10-22T20:05:28.163290Z"
    }
   },
   "outputs": [],
   "source": [
    "defs_df = all_df.query(\"task == 'definition'\")\n",
    "defs_df.groupby('ontology').size().reset_index(name='count')"
   ]
  },
  {
   "cell_type": "code",
   "execution_count": null,
   "id": "f8d3fb33-2cac-4300-ab81-37a383c2f0ab",
   "metadata": {
    "ExecuteTime": {
     "start_time": "2023-10-22T20:05:28.164236Z"
    }
   },
   "outputs": [],
   "source": [
    "len(defs_df)"
   ]
  },
  {
   "cell_type": "code",
   "execution_count": null,
   "id": "e9b924d7-5fc6-41d8-abb7-4a3b960c804b",
   "metadata": {
    "ExecuteTime": {
     "start_time": "2023-10-22T20:05:28.164946Z"
    }
   },
   "outputs": [],
   "source": [
    "len(defs_df[\"expected_definition\"].unique())"
   ]
  },
  {
   "cell_type": "code",
   "execution_count": null,
   "id": "f3604fdc-2efc-4b8f-bbcf-b2e9f1a62fcb",
   "metadata": {
    "ExecuteTime": {
     "start_time": "2023-10-22T20:05:28.165742Z"
    }
   },
   "outputs": [],
   "source": [
    "\n",
    "df_defs_gpt_direct = pd.read_csv(\"results/cl-defs-direct.tsv\", sep=\"\\t\")\n",
    "gpt_direct = { row[\"id\"]: row[\"definition\"] for _, row in df_defs_gpt_direct.iterrows() }\n",
    "objs = []\n",
    "for _, row in defs_df.iterrows():\n",
    "    id = row[\"masked_original_id\"]\n",
    "    if id not in gpt_direct:\n",
    "        continue\n",
    "    row = {**row}\n",
    "    row[\"predicted_definition\"] = gpt_direct[id]\n",
    "    row[\"model_name\"] = \"gpt-4\"\n",
    "    row[\"method\"] = \"no_RAG\"\n",
    "    del gpt_direct[id]\n",
    "    objs.append(row)\n",
    "all_defs_df = pd.concat([defs_df, pd.DataFrame(objs)])\n",
    "all_defs_df"
   ]
  }
 ],
 "metadata": {
  "kernelspec": {
   "display_name": "Python 3 (ipykernel)",
   "language": "python",
   "name": "python3"
  },
  "language_info": {
   "codemirror_mode": {
    "name": "ipython",
    "version": 3
   },
   "file_extension": ".py",
   "mimetype": "text/x-python",
   "name": "python",
   "nbconvert_exporter": "python",
   "pygments_lexer": "ipython3",
   "version": "3.10.9"
  }
 },
 "nbformat": 4,
 "nbformat_minor": 5
}
