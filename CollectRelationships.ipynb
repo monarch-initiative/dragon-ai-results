{
 "cells": [
  {
   "cell_type": "markdown",
   "id": "5625b72b-605d-4a48-b0ff-a308466a8b69",
   "metadata": {},
   "source": [
    "# DRAGON relationships pre-processing\n",
    "\n",
    "See [Makefile](Makefile) for how the results were generated"
   ]
  },
  {
   "cell_type": "code",
   "execution_count": null,
   "outputs": [],
   "source": [],
   "metadata": {
    "collapsed": false,
    "ExecuteTime": {
     "end_time": "2023-12-12T01:03:42.719139Z",
     "start_time": "2023-12-12T01:03:42.714260Z"
    }
   },
   "id": "7deb126217dea271"
  },
  {
   "cell_type": "code",
   "execution_count": 7,
   "id": "9433a0e3-29a6-4af8-bb13-fec4e0aac6a5",
   "metadata": {
    "ExecuteTime": {
     "end_time": "2023-12-12T01:13:01.826441Z",
     "start_time": "2023-12-12T01:13:01.812767Z"
    }
   },
   "outputs": [],
   "source": [
    "# initial imports\n",
    "import warnings\n",
    "warnings.filterwarnings('ignore', category=FutureWarning)\n",
    "\n",
    "import pandas as pd\n",
    "\n",
    "import matplotlib.pyplot as plt\n",
    "import seaborn as sns\n",
    "from oaklib import get_adapter\n",
    "\n",
    "from typing import List, Dict\n",
    "\n",
    "from pathlib import Path\n",
    "\n",
    "import yaml\n",
    "import glob"
   ]
  },
  {
   "cell_type": "code",
   "execution_count": 2,
   "outputs": [],
   "source": [
    "def connect(ont: str) -> pd.DataFrame:\n",
    "    \"\"\"\n",
    "    Connect to an ontology via OAK/sqlite\n",
    "    \n",
    "    Assumes already in db folder\n",
    "    :param ont: \n",
    "    :return: \n",
    "    \"\"\"\n",
    "    return get_adapter(f\"downloads/{ont}.db\")\n"
   ],
   "metadata": {
    "collapsed": false,
    "ExecuteTime": {
     "end_time": "2023-12-12T01:03:44.196298Z",
     "start_time": "2023-12-12T01:03:44.188706Z"
    }
   },
   "id": "b5e8766fe9cbdfa3"
  },
  {
   "cell_type": "code",
   "execution_count": 3,
   "outputs": [
    {
     "data": {
      "text/plain": "16012"
     },
     "execution_count": 3,
     "metadata": {},
     "output_type": "execute_result"
    }
   ],
   "source": [
    "from linkml_runtime.utils.formatutils import camelcase\n",
    "from collections import defaultdict\n",
    "from functools import lru_cache\n",
    "\n",
    "\n",
    "@lru_cache\n",
    "def labels2ids(ont: str) -> Dict[str, List[str]]:\n",
    "    \"\"\"\n",
    "    Get a map of labels to ids for an ontology\n",
    "    \n",
    "    :param ont: \n",
    "    :return: \n",
    "    \"\"\"\n",
    "    m = defaultdict(list)\n",
    "    adapter = connect(ont)\n",
    "    for id, lbl in adapter.labels(list(adapter.entities())):\n",
    "        if not lbl:\n",
    "            continue\n",
    "        lbl = camelcase(lbl)\n",
    "        m[lbl].append(id)\n",
    "    return m\n",
    "\n",
    "cl_map = labels2ids(\"cl\")\n",
    "len(cl_map)"
   ],
   "metadata": {
    "collapsed": false,
    "ExecuteTime": {
     "end_time": "2023-12-12T01:03:45.657771Z",
     "start_time": "2023-12-12T01:03:44.191533Z"
    }
   },
   "id": "1845dae6692b6afd"
  },
  {
   "cell_type": "code",
   "execution_count": 4,
   "outputs": [],
   "source": [
    "def revmap(m: Dict[str, List[str]]) -> Dict[str, str]:\n",
    "    \"\"\"\n",
    "    Reverse a one to many map into a one to one map\n",
    "    \n",
    "    :param m: \n",
    "    :return: \n",
    "    \"\"\"\n",
    "    r = {}\n",
    "    for k, v in m.items():\n",
    "        for x in v:\n",
    "            r[x] = k\n",
    "    return r"
   ],
   "metadata": {
    "collapsed": false,
    "ExecuteTime": {
     "end_time": "2023-12-12T01:03:45.661906Z",
     "start_time": "2023-12-12T01:03:45.657103Z"
    }
   },
   "id": "b96ced49e77ad940"
  },
  {
   "cell_type": "code",
   "execution_count": 10,
   "outputs": [],
   "source": [
    "from copy import copy\n",
    "from pydantic import BaseModel\n",
    "\n",
    "\n",
    "class Outcome(BaseModel):\n",
    "    \"\"\"\n",
    "    Model the outcome of the prediction for a particular term\n",
    "    \n",
    "    \"\"\"\n",
    "    tp: int = 0\n",
    "    fp: int = 0\n",
    "    fn: float = 0\n",
    "    other: List = []\n",
    "    \n",
    "    tp_list: List = []\n",
    "    fp_list: List = []\n",
    "    fn_list: List = []\n",
    "    \n",
    "    new_terms: List[str] = []\n",
    "    \n",
    "    rows: List[Dict] = []\n",
    "    \n",
    "    def matches(self, other: 'Outcome') -> bool:\n",
    "        return self.tp == other.tp and self.fp == other.fp and self.fn == other.fn and self.other == other.other"
   ],
   "metadata": {
    "collapsed": false,
    "ExecuteTime": {
     "end_time": "2023-12-12T01:16:19.405867Z",
     "start_time": "2023-12-12T01:16:19.385628Z"
    }
   },
   "id": "f8c0d6fe518abc5d"
  },
  {
   "cell_type": "code",
   "execution_count": 14,
   "outputs": [
    {
     "name": "stdout",
     "output_type": "stream",
     "text": [
      "MISSING: MadeUpRel\n",
      "tp=2 fp=0 fn=2.5 other=[('PartOf', 'Brain', 'PredictedMoreGeneralThan', 'Cerebellum')] tp_list=[('OnlyInTaxon', 'HomoSapiens'), ('subClassOf', 'Neuron')] fp_list=[] fn_list=[('subClassOf', 'Cell'), ('DevelopsFrom', 'StemCell')] new_terms=['MadeUp'] rows=[]\n"
     ]
    }
   ],
   "source": [
    "\n",
    "from oaklib.interfaces import OboGraphInterface\n",
    "from oaklib.datamodels.vocabulary import IS_A\n",
    "from oaklib.utilities.obograph_utils import graph_to_image, default_stylemap_path\n",
    "\n",
    "def score_rels(expected_rels, predicted_rels, ont, term_id:str=None, strict=False, base=\"default\", ignore_ungrounded=True) -> Outcome:\n",
    "    outcome = Outcome()\n",
    "    labelmap = labels2ids(ont)\n",
    "    idmap = revmap(labelmap)\n",
    "    new_terms = set()\n",
    "    adapter = get_adapter(f\"sqlite:obo:{ont}\")\n",
    "    if not isinstance(adapter, OboGraphInterface):\n",
    "        raise Exception(f\"Only OboGraphInterface supported\")\n",
    "    all_preds = set(expected_rels.keys()).union(set(predicted_rels.keys()))\n",
    "    all_predicted_tgts = set()\n",
    "    for pred in all_preds:\n",
    "        if pred.lower() == 'subclassof':\n",
    "            preds = [IS_A]\n",
    "        else:\n",
    "            pred_ids = labelmap.get(pred)\n",
    "            if not pred_ids:\n",
    "                pred_ids = [ids[0] for lbl, ids in labelmap.items() if pred.lower() == lbl.lower()]\n",
    "            if not pred_ids:\n",
    "                print(f\"MISSING: {pred}\")\n",
    "                continue\n",
    "                preds = [IS_A]\n",
    "            else:\n",
    "                preds = [IS_A, *pred_ids]\n",
    "        preds = list(set(preds))\n",
    "        def lbl2id(lbl):\n",
    "            return labelmap.get(lbl, [lbl])\n",
    "        expected_tgts = {x: lbl2id(x) for x in expected_rels.get(pred, [])}\n",
    "        predicted_tgts = {x: lbl2id(x) for x in predicted_rels.get(pred, [])}\n",
    "        for xs in predicted_tgts.values():\n",
    "            all_predicted_tgts.update(xs)\n",
    "        new_terms.update({x for x in predicted_tgts.keys() if x not in labelmap})\n",
    "        #print(f\"PRED: {pred} // predicted= {predicted_tgts} // expected= {expected_tgts}\")\n",
    "        \n",
    "        predicted_accounted_for = set()\n",
    "        expected_accounted_for = set()\n",
    "        rows = []\n",
    "        for expected_tgt in expected_tgts:\n",
    "            row = {\"term_id\": term_id,\n",
    "                   \"term_label\": adapter.label(term_id),\n",
    "                   \"pred\": pred, \n",
    "                   \"expected_tgt\": expected_tgt}\n",
    "            if expected_tgt in predicted_tgts:\n",
    "                #print(f\"TP: {pred} {expected_tgt}\")\n",
    "                outcome.tp += 1\n",
    "                outcome.tp_list.append((pred, expected_tgt))\n",
    "                predicted_accounted_for.add(expected_tgt)\n",
    "                expected_accounted_for.add(expected_tgt)\n",
    "                row[\"outcome\"] = \"true_positive\"\n",
    "                rows.append(row)\n",
    "            else:\n",
    "                ok = False\n",
    "                \n",
    "                for expected_tgt_id in expected_tgts.get(expected_tgt, []):\n",
    "                    ancs = adapter.ancestors(expected_tgt_id, preds)\n",
    "                    ancs_as_lbls = [idmap.get(x,x) for x in ancs]\n",
    "                    more_general_predictions = [x for x in ancs_as_lbls if x in predicted_tgts]\n",
    "                    if more_general_predictions:\n",
    "                        #print(f\"n/a PREDICTED_IS_MORE_GENERAL: {pred} {expected_tgt} // more_general_preds: {more_general_predictions}\")\n",
    "                        predicted_accounted_for.update(more_general_predictions)\n",
    "                        expected_accounted_for.add(expected_tgt)\n",
    "                        if strict:\n",
    "                           outcome.fn += 1\n",
    "                           outcome.fn_list.append((pred, expected_tgt))\n",
    "                           row[\"outcome\"] = \"fn\"\n",
    "                        else:\n",
    "                            outcome.fn += 0.5\n",
    "                            for p in more_general_predictions:\n",
    "                                outcome.other.append((pred, p, \"PredictedMoreGeneralThan\", expected_tgt))\n",
    "                            row[\"outcome\"] = \"tp[more_general]\"\n",
    "                        ok = True\n",
    "                        rows.append(row)\n",
    "                        break\n",
    "        for predicted_tgt in predicted_tgts:\n",
    "            row = {\"term_id\": term_id,\n",
    "                   \"term_label\": adapter.label(term_id),\n",
    "                   \"pred\": pred, \n",
    "                   \"expected_tgt\": expected_tgt}\n",
    "            if predicted_tgt in predicted_accounted_for:\n",
    "                continue\n",
    "            if predicted_tgt not in labelmap:\n",
    "                if ignore_ungrounded:\n",
    "                    continue\n",
    "            if term_id:\n",
    "                ancs = adapter.ancestors(term_id, preds)\n",
    "                ancs_as_lbls = [idmap.get(x, x) for x in ancs]\n",
    "                #print(f\"CHECKING {term_id} {pred} {predicted_tgt} // ancs: {ancs_as_lbls}\")\n",
    "                if predicted_tgt in ancs_as_lbls:\n",
    "                    outcome.tp += 1\n",
    "                    outcome.tp_list.append((pred, predicted_tgt))\n",
    "                    continue\n",
    "            ok = False\n",
    "            row[\"outcome\"] = \"fp\"\n",
    "            for predicted_tgt_id in predicted_tgts.get(predicted_tgt, []):\n",
    "                ancs = adapter.ancestors(predicted_tgt_id, preds)\n",
    "                ancs_as_lbls = [idmap.get(x, x) for x in ancs]\n",
    "                #print(pred, predicted_tgt_id, ancs_as_lbls)\n",
    "                more_general_expected = [x for x in ancs_as_lbls if x in expected_tgts]\n",
    "                if more_general_expected:\n",
    "                    #print(f\"?? PREDICTED_IS_MORE_SPECIFIC: {pred} {expected_tgt} // more_general_expected: {more_general_expected}\")\n",
    "                    expected_accounted_for.update(more_general_expected)\n",
    "                    if strict:\n",
    "                        outcome.fp += 1\n",
    "                        outcome.fp_list.append((pred, predicted_tgt))\n",
    "                    else:\n",
    "                        for e in more_general_expected:\n",
    "                            outcome.other.append((pred, predicted_tgt_id, \"PredictedMoreSpecificThan\", e))\n",
    "                        #outcome.other.append(f\"{pred} MoreSpecificThan {predicted_tgt} {more_general_expected}\")\n",
    "                    row[\"outcome\"] = \"tp[more_specific]\"\n",
    "                    ok = True\n",
    "                    break\n",
    "                rows.append(row)\n",
    "            if not ok:\n",
    "                #print(f\"FP: {pred} {predicted_tgt}\")\n",
    "                outcome.fp += 1\n",
    "                outcome.fp_list.append((pred, predicted_tgt))\n",
    "        for expected_tgt in expected_tgts:\n",
    "            if expected_tgt in expected_accounted_for:\n",
    "                continue\n",
    "            #print(f\"FN: {pred} {expected_tgt}\")\n",
    "            outcome.fn += 1\n",
    "            outcome.fn_list.append((pred, expected_tgt))\n",
    "    outcome.new_terms = list(new_terms)\n",
    "    outcome.rows = rows\n",
    "    if term_id:\n",
    "        seed = [term_id] + list(all_predicted_tgts)\n",
    "        #print(seed)\n",
    "        pred_ids = [IS_A]\n",
    "        for pred_name in all_preds:\n",
    "            next_pred_ids = labelmap.get(pred_name, [])\n",
    "            pred_ids.extend(next_pred_ids)\n",
    "        pred_ids = list(set(pred_ids))\n",
    "        graph = adapter.ancestor_graph(seed, pred_ids)\n",
    "        name = f\"term-{term_id}\"\n",
    "        dirn = Path(\"terms\") / base\n",
    "        dirn.mkdir(exist_ok=True)\n",
    "        imgfile = f\"{name}.png\"\n",
    "        graph_to_image(\n",
    "            graph,\n",
    "            seeds=seed,\n",
    "            stylemap=default_stylemap_path(),\n",
    "            #configure=configure,\n",
    "            imgfile=str(dirn / imgfile),\n",
    "            #view=view,\n",
    "            format=\"png\",\n",
    "        )\n",
    "        mdfile = str(dirn / f\"{name}.md\")\n",
    "        with open(mdfile, 'w') as outf:\n",
    "            outf.write(f\"## {term_id}: {adapter.label(term_id)} ({base})\\n\\n\")\n",
    "            outf.write(f\"Outcome: tp: {outcome.tp} fp: {outcome.fp} fn: {outcome.fn}\\n\\n\")\n",
    "            outf.write(f\"### True Positives\\n\")\n",
    "            for pred, tgt in outcome.tp_list:\n",
    "                outf.write(f\"* {pred} {tgt}\\n\")\n",
    "            outf.write(f\"### False Positives\\n\")\n",
    "            for pred, tgt in outcome.fp_list:\n",
    "                outf.write(f\"* {pred} {tgt}\\n\")\n",
    "            outf.write(f\"### False Negatives\\n\")\n",
    "            for pred, tgt in outcome.fn_list:\n",
    "                outf.write(f\"* {pred} {tgt}\\n\")\n",
    "            outf.write(f\"### Other\\n\")\n",
    "            for x in outcome.other:\n",
    "                outf.write(f\"* {x}\\n\")\n",
    "            outf.write(f\"### Predicted terms\\n\")\n",
    "            for pred, tgts in predicted_rels.items():\n",
    "                outf.write(f\"* {pred}: {tgts}\\n\")\n",
    "            outf.write(f\"### Expected terms\\n\")\n",
    "            for pred, tgts in expected_rels.items():\n",
    "                outf.write(f\"* {pred}: {tgts}\\n\")\n",
    "            outf.write(f\"### New terms\\n\")\n",
    "            for term in new_terms:\n",
    "                outf.write(f\"* {term}\\n\")\n",
    "            outf.write(f\"### Graph\\n\")\n",
    "            outf.write(f\"![{term_id}]({imgfile})\\n\")\n",
    "    return outcome\n",
    "                \n",
    "outcome = score_rels({\"subClassOf\": [\"Cell\"], \"PartOf\": [\"Cerebellum\"], \"DevelopsFrom\": [\"StemCell\"], \"OnlyInTaxon\": [\"HomoSapiens\"]}, {\"subClassOf\": [\"Neuron\"], \"PartOf\": [\"Brain\", \"MadeUp\"], \"MadeUpRel\": [\"z\", \"y\"], \"OnlyInTaxon\": [\"HomoSapiens\"]}, \"cl\", term_id=\"CL:0000540\")\n",
    "print(outcome) \n",
    "assert outcome.tp == 2\n",
    "assert outcome.fp == 0\n",
    "assert outcome.fn == 2.5\n",
    "assert len(outcome.other) == 1"
   ],
   "metadata": {
    "collapsed": false,
    "ExecuteTime": {
     "end_time": "2023-12-12T19:39:00.335224Z",
     "start_time": "2023-12-12T19:38:57.908029Z"
    }
   },
   "id": "7c2fe0c0a9be417d"
  },
  {
   "cell_type": "code",
   "execution_count": 78,
   "outputs": [
    {
     "name": "stdout",
     "output_type": "stream",
     "text": [
      "{'ontology': None, 'method': None, 'term_id': 'foo', 'term_label': None, 'pred': None, 'outcome': 'true_positive', 'qualifier': None, 'expected_tgt': None, 'predicted_tgt': None, 'predicted_tgt_exists': True}\n"
     ]
    }
   ],
   "source": [
    "from pydantic import ConfigDict\n",
    "from enum import Enum\n",
    "from typing import Optional\n",
    "\n",
    "\n",
    "class OutcomeType(str, Enum):\n",
    "    TRUE_POSITIVE = \"true_positive\"\n",
    "    FALSE_POSITIVE = \"false_positive\"\n",
    "    FALSE_NEGATIVE = \"false_negative\"\n",
    "    NULL = \"null\"\n",
    "    \n",
    "    \n",
    "class QualifierType(str, Enum):\n",
    "    PREDICTION_IS_MORE_GENERAL = \"prediction_is_more_general\"\n",
    "    PREDICTION_IS_MORE_SPECIFIC = \"prediction_is_more_specific\"\n",
    "    \n",
    "\n",
    "class RelationshipEval(BaseModel):\n",
    "    #model_config = ConfigDict(use_enum_values=True)\n",
    "    ontology: Optional[str] = None\n",
    "    method: Optional[str] = None\n",
    "    term_id: str\n",
    "    term_label: Optional[str] = None\n",
    "    pred: Optional[str] = None\n",
    "    outcome: Optional[OutcomeType] = None\n",
    "    qualifier: Optional[QualifierType] = None\n",
    "    expected_tgt: Optional[str] = None\n",
    "    predicted_tgt: Optional[str] = None\n",
    "    predicted_tgt_exists: bool = True\n",
    "    \n",
    "    def destrictify(self):\n",
    "        if self.qualifier:\n",
    "            self.outcome = OutcomeType.NULL\n",
    "            \n",
    "    def as_dict(self):\n",
    "        obj = self.model_dump()\n",
    "        obj[\"outcome\"] = self.outcome.value\n",
    "        obj[\"qualifier\"] = self.qualifier.value if self.qualifier else None\n",
    "        return obj\n",
    "            \n",
    "\n",
    "t = RelationshipEval(term_id=\"foo\", outcome = OutcomeType.TRUE_POSITIVE)\n",
    "print(t.as_dict())"
   ],
   "metadata": {
    "collapsed": false,
    "ExecuteTime": {
     "end_time": "2023-12-12T21:48:38.348805Z",
     "start_time": "2023-12-12T21:48:38.322413Z"
    }
   },
   "id": "e96e185a3b2ac4d9"
  },
  {
   "cell_type": "code",
   "execution_count": 79,
   "outputs": [
    {
     "name": "stdout",
     "output_type": "stream",
     "text": [
      "MISSING: MadeUpRel\n",
      "5\n",
      "{'ontology': 'cl', 'method': None, 'term_id': 'CL:0000540', 'term_label': 'neuron', 'pred': 'OnlyInTaxon', 'outcome': <OutcomeType.TRUE_POSITIVE: 'true_positive'>, 'qualifier': None, 'expected_tgt': 'HomoSapiens', 'predicted_tgt': 'HomoSapiens', 'predicted_tgt_exists': True}\n",
      "{'ontology': 'cl', 'method': None, 'term_id': 'CL:0000540', 'term_label': 'neuron', 'pred': 'subClassOf', 'outcome': <OutcomeType.FALSE_NEGATIVE: 'false_negative'>, 'qualifier': None, 'expected_tgt': 'Cell', 'predicted_tgt': None, 'predicted_tgt_exists': True}\n",
      "{'ontology': 'cl', 'method': None, 'term_id': 'CL:0000540', 'term_label': 'neuron', 'pred': 'PartOf', 'outcome': <OutcomeType.FALSE_NEGATIVE: 'false_negative'>, 'qualifier': <QualifierType.PREDICTION_IS_MORE_GENERAL: 'prediction_is_more_general'>, 'expected_tgt': 'Cerebellum', 'predicted_tgt': 'Brain', 'predicted_tgt_exists': True}\n",
      "{'ontology': 'cl', 'method': None, 'term_id': 'CL:0000540', 'term_label': 'neuron', 'pred': 'PartOf', 'outcome': <OutcomeType.FALSE_POSITIVE: 'false_positive'>, 'qualifier': None, 'expected_tgt': None, 'predicted_tgt': 'MadeUp', 'predicted_tgt_exists': False}\n",
      "{'ontology': 'cl', 'method': None, 'term_id': 'CL:0000540', 'term_label': 'neuron', 'pred': 'DevelopsFrom', 'outcome': <OutcomeType.FALSE_NEGATIVE: 'false_negative'>, 'qualifier': None, 'expected_tgt': 'StemCell', 'predicted_tgt': None, 'predicted_tgt_exists': True}\n"
     ]
    },
    {
     "data": {
      "text/plain": "  ontology method     term_id term_label          pred         outcome  \\\n0       cl   None  CL:0000540     neuron   OnlyInTaxon   true_positive   \n1       cl   None  CL:0000540     neuron    subClassOf  false_negative   \n2       cl   None  CL:0000540     neuron        PartOf  false_negative   \n3       cl   None  CL:0000540     neuron        PartOf  false_positive   \n4       cl   None  CL:0000540     neuron  DevelopsFrom  false_negative   \n\n                    qualifier expected_tgt predicted_tgt  predicted_tgt_exists  \n0                        None  HomoSapiens   HomoSapiens                  True  \n1                        None         Cell          None                  True  \n2  prediction_is_more_general   Cerebellum         Brain                  True  \n3                        None         None        MadeUp                 False  \n4                        None     StemCell          None                  True  ",
      "text/html": "<div>\n<style scoped>\n    .dataframe tbody tr th:only-of-type {\n        vertical-align: middle;\n    }\n\n    .dataframe tbody tr th {\n        vertical-align: top;\n    }\n\n    .dataframe thead th {\n        text-align: right;\n    }\n</style>\n<table border=\"1\" class=\"dataframe\">\n  <thead>\n    <tr style=\"text-align: right;\">\n      <th></th>\n      <th>ontology</th>\n      <th>method</th>\n      <th>term_id</th>\n      <th>term_label</th>\n      <th>pred</th>\n      <th>outcome</th>\n      <th>qualifier</th>\n      <th>expected_tgt</th>\n      <th>predicted_tgt</th>\n      <th>predicted_tgt_exists</th>\n    </tr>\n  </thead>\n  <tbody>\n    <tr>\n      <th>0</th>\n      <td>cl</td>\n      <td>None</td>\n      <td>CL:0000540</td>\n      <td>neuron</td>\n      <td>OnlyInTaxon</td>\n      <td>true_positive</td>\n      <td>None</td>\n      <td>HomoSapiens</td>\n      <td>HomoSapiens</td>\n      <td>True</td>\n    </tr>\n    <tr>\n      <th>1</th>\n      <td>cl</td>\n      <td>None</td>\n      <td>CL:0000540</td>\n      <td>neuron</td>\n      <td>subClassOf</td>\n      <td>false_negative</td>\n      <td>None</td>\n      <td>Cell</td>\n      <td>None</td>\n      <td>True</td>\n    </tr>\n    <tr>\n      <th>2</th>\n      <td>cl</td>\n      <td>None</td>\n      <td>CL:0000540</td>\n      <td>neuron</td>\n      <td>PartOf</td>\n      <td>false_negative</td>\n      <td>prediction_is_more_general</td>\n      <td>Cerebellum</td>\n      <td>Brain</td>\n      <td>True</td>\n    </tr>\n    <tr>\n      <th>3</th>\n      <td>cl</td>\n      <td>None</td>\n      <td>CL:0000540</td>\n      <td>neuron</td>\n      <td>PartOf</td>\n      <td>false_positive</td>\n      <td>None</td>\n      <td>None</td>\n      <td>MadeUp</td>\n      <td>False</td>\n    </tr>\n    <tr>\n      <th>4</th>\n      <td>cl</td>\n      <td>None</td>\n      <td>CL:0000540</td>\n      <td>neuron</td>\n      <td>DevelopsFrom</td>\n      <td>false_negative</td>\n      <td>None</td>\n      <td>StemCell</td>\n      <td>None</td>\n      <td>True</td>\n    </tr>\n  </tbody>\n</table>\n</div>"
     },
     "execution_count": 79,
     "metadata": {},
     "output_type": "execute_result"
    }
   ],
   "source": [
    "from oaklib.interfaces import OboGraphInterface\n",
    "from oaklib.datamodels.vocabulary import IS_A\n",
    "from oaklib.utilities.obograph_utils import graph_to_image, default_stylemap_path\n",
    "\n",
    "def get_relationship_outcomes(expected_rels, predicted_rels, ont, term_id:str) -> List[RelationshipEval]:\n",
    "    labelmap = labels2ids(ont)\n",
    "    idmap = revmap(labelmap)\n",
    "    new_terms = set()\n",
    "    adapter = get_adapter(f\"sqlite:obo:{ont}\")\n",
    "    if not isinstance(adapter, OboGraphInterface):\n",
    "        raise Exception(f\"Only OboGraphInterface supported\")\n",
    "    all_preds = set(expected_rels.keys()).union(set(predicted_rels.keys()))\n",
    "    all_predicted_tgts = set()\n",
    "    rows = []\n",
    "    for pred in all_preds:\n",
    "        # print(pred)\n",
    "        if pred.lower() == 'subclassof':\n",
    "            preds = [IS_A]\n",
    "        else:\n",
    "            pred_ids = labelmap.get(pred)\n",
    "            if not pred_ids:\n",
    "                pred_ids = [ids[0] for lbl, ids in labelmap.items() if pred.lower() == lbl.lower()]\n",
    "            if not pred_ids:\n",
    "                print(f\"MISSING: {pred}\")\n",
    "                continue\n",
    "                preds = [IS_A]\n",
    "            else:\n",
    "                preds = [IS_A, *pred_ids]\n",
    "        preds = list(set(preds))\n",
    "        def lbl2id(lbl):\n",
    "            return labelmap.get(lbl, [lbl])\n",
    "        expected_tgts = {x: lbl2id(x) for x in expected_rels.get(pred, [])}\n",
    "        predicted_tgts = {x: lbl2id(x) for x in predicted_rels.get(pred, [])}\n",
    "        for xs in predicted_tgts.values():\n",
    "            all_predicted_tgts.update(xs)\n",
    "        new_terms.update({x for x in predicted_tgts.keys() if x not in labelmap})\n",
    "        #print(f\"PRED: {pred} // predicted= {predicted_tgts} // expected= {expected_tgts}\")\n",
    "        \n",
    "        predicted_accounted_for = set()\n",
    "        expected_accounted_for = set()\n",
    "        for expected_tgt in expected_tgts:\n",
    "            row = RelationshipEval(term_id=term_id,\n",
    "                                   term_label=adapter.label(term_id),\n",
    "                                   pred=pred,\n",
    "                                   expected_tgt=expected_tgt)\n",
    "            if expected_tgt in predicted_tgts:\n",
    "                #print(f\"TP: {pred} {expected_tgt}\")\n",
    "                row.outcome = OutcomeType.TRUE_POSITIVE\n",
    "                row.predicted_tgt = expected_tgt\n",
    "                predicted_accounted_for.add(expected_tgt)\n",
    "                expected_accounted_for.add(expected_tgt)\n",
    "                rows.append(row)\n",
    "            else:\n",
    "                for expected_tgt_id in expected_tgts.get(expected_tgt, []):\n",
    "                    ancs = adapter.ancestors(expected_tgt_id, preds)\n",
    "                    ancs_as_lbls = [idmap.get(x,x) for x in ancs]\n",
    "                    more_general_predictions = [x for x in ancs_as_lbls if x in predicted_tgts]\n",
    "                    # note: we check for more specific later\n",
    "                    if more_general_predictions:\n",
    "                        #print(f\"n/a PREDICTED_IS_MORE_GENERAL: {pred} {expected_tgt} // more_general_preds: {more_general_predictions}\")\n",
    "                        predicted_accounted_for.update(more_general_predictions)\n",
    "                        expected_accounted_for.add(expected_tgt)\n",
    "                        row.outcome = OutcomeType.FALSE_NEGATIVE\n",
    "                        row.qualifier = QualifierType.PREDICTION_IS_MORE_GENERAL\n",
    "                        row.predicted_tgt = \"; \".join(more_general_predictions)\n",
    "                        rows.append(row)\n",
    "                        break\n",
    "        for predicted_tgt in predicted_tgts:\n",
    "            row = RelationshipEval(term_id=term_id,\n",
    "                                   term_label=adapter.label(term_id),\n",
    "                                   pred=pred,\n",
    "                                   predicted_tgt=predicted_tgt,\n",
    "                                   )\n",
    "            if predicted_tgt in predicted_accounted_for:\n",
    "                continue\n",
    "            if predicted_tgt not in labelmap:\n",
    "                row.predicted_tgt_exists = False\n",
    "                #if ignore_ungrounded:\n",
    "                #    continue\n",
    "            ancs = adapter.ancestors(term_id, preds)\n",
    "            ancs_as_lbls = [idmap.get(x, x) for x in ancs]\n",
    "            #print(f\"CHECKING {term_id} {pred} {predicted_tgt} // ancs: {ancs_as_lbls}\")\n",
    "            if predicted_tgt in ancs_as_lbls:\n",
    "                row.outcome = OutcomeType.TRUE_POSITIVE\n",
    "                continue\n",
    "            row.outcome = OutcomeType.FALSE_POSITIVE\n",
    "            for predicted_tgt_id in predicted_tgts.get(predicted_tgt, []):\n",
    "                ancs = adapter.ancestors(predicted_tgt_id, preds)\n",
    "                ancs_as_lbls = [idmap.get(x, x) for x in ancs]\n",
    "                #print(pred, predicted_tgt_id, ancs_as_lbls)\n",
    "                more_general_expected = [x for x in ancs_as_lbls if x in expected_tgts]\n",
    "                if more_general_expected:\n",
    "                    #print(f\"?? PREDICTED_IS_MORE_SPECIFIC: {pred} {expected_tgt} // more_general_expected: {more_general_expected}\")\n",
    "                    expected_accounted_for.update(more_general_expected)\n",
    "                    row.outcome = OutcomeType.FALSE_POSITIVE\n",
    "                    row.qualifier = QualifierType.PREDICTION_IS_MORE_SPECIFIC\n",
    "                    row.expected_tgt = \"; \".join(more_general_expected)\n",
    "                    break\n",
    "                rows.append(row)\n",
    "        for expected_tgt in expected_tgts:\n",
    "            # any remaining expected targets that are unaccounted for are false negatives\n",
    "            if expected_tgt in expected_accounted_for:\n",
    "                continue\n",
    "            row = RelationshipEval(term_id=term_id,\n",
    "                                   term_label=adapter.label(term_id),\n",
    "                                   pred=pred,\n",
    "                                   expected_tgt=expected_tgt,\n",
    "                                   outcome=OutcomeType.FALSE_NEGATIVE)\n",
    "            rows.append(row)\n",
    "    term_label = adapter.label(term_id)\n",
    "    for row in rows:\n",
    "        row.term_label=term_label\n",
    "        row.ontology = ont\n",
    "    return rows\n",
    "                \n",
    "rows = get_relationship_outcomes(\n",
    "    {\n",
    "         \"subClassOf\": [\"Cell\"],\n",
    "         \"PartOf\": [\"Cerebellum\"], \n",
    "         \"DevelopsFrom\": [\"StemCell\"],\n",
    "         \"OnlyInTaxon\": [\"HomoSapiens\"]\n",
    "    }, \n",
    "    {\n",
    "        \"subClassOf\": [\"Neuron\"], # more specific\n",
    "        \"PartOf\": [\"Brain\", \"MadeUp\"], # more general, new\n",
    "        \"MadeUpRel\": [\"z\", \"y\"], \n",
    "        \"OnlyInTaxon\": [\"HomoSapiens\"]\n",
    "    }, \n",
    "    \"cl\",\n",
    "    term_id=\"CL:0000540\"\n",
    ")\n",
    "print(len(rows))\n",
    "for row in rows:\n",
    "    print(row.model_dump())\n",
    "    \n",
    "df = pd.DataFrame([row.as_dict() for row in rows])\n",
    "df"
   ],
   "metadata": {
    "collapsed": false,
    "ExecuteTime": {
     "end_time": "2023-12-12T21:48:38.916157Z",
     "start_time": "2023-12-12T21:48:38.862005Z"
    }
   },
   "id": "b7e83312a3fa2a04"
  },
  {
   "cell_type": "code",
   "execution_count": 80,
   "outputs": [],
   "source": [
    "def parse_relationships(rel_str: str) -> Dict[str, List[str]]:\n",
    "    if pd.isnull(rel_str):\n",
    "        return {}\n",
    "    if not isinstance(rel_str, str):\n",
    "        print(f\"BAD: {rel_str}\")\n",
    "        return {}\n",
    "    rels = yaml.safe_load(rel_str)\n",
    "    m = defaultdict(list)\n",
    "    for rel in rels:\n",
    "        if \"predicate\" not in rel or \"target\" not in rel:\n",
    "            print(f\"BAD REL: {rel} in {rel_str}\")\n",
    "            continue\n",
    "        if not isinstance(rel[\"target\"], str):\n",
    "            print(f\"BAD REL: {rel} in {rel_str}\")\n",
    "            continue\n",
    "        m[rel[\"predicate\"]].append(rel[\"target\"])\n",
    "    return m"
   ],
   "metadata": {
    "collapsed": false,
    "ExecuteTime": {
     "end_time": "2023-12-12T21:48:39.892742Z",
     "start_time": "2023-12-12T21:48:39.872285Z"
    }
   },
   "id": "5a4de5dffccd121a"
  },
  {
   "cell_type": "code",
   "execution_count": 83,
   "outputs": [
    {
     "name": "stdout",
     "output_type": "stream",
     "text": [
      "MISSING: ReceivesConnectivityInputFrom\n",
      "MISSING: AxonIn\n",
      "MISSING: ConnectsTo\n",
      "MISSING: HasSynapticConvergenceOf\n",
      "MISSING: HasSynapticDivergentTo\n",
      "MISSING: HasCytosolPart\n",
      "MISSING: isPartOf\n",
      "MISSING: minimalContactWith\n",
      "MISSING: SynapsesWith\n",
      "MISSING: LacksIntracellularComponent\n"
     ]
    },
    {
     "data": {
      "text/plain": "    ontology    method     term_id                     term_label        pred  \\\n0         cl  RAG+gpt4  CL:4033045  lung migratory dendritic cell  subClassOf   \n1         cl  RAG+gpt4  CL:4033045  lung migratory dendritic cell      PartOf   \n2         cl  RAG+gpt4  CL:4033019      ON-blue cone bipolar cell  subClassOf   \n3         cl  RAG+gpt4  CL:4033019      ON-blue cone bipolar cell  subClassOf   \n4         cl  RAG+gpt4  CL:4033029        diffuse bipolar 3a cell  subClassOf   \n..       ...       ...         ...                            ...         ...   \n157       cl  RAG+gpt4  CL:4030037                 late spermatid   CapableOf   \n158       cl  RAG+gpt4  CL:4030037                 late spermatid  subClassOf   \n159       cl  RAG+gpt4  CL:4030037                 late spermatid      PartOf   \n160       cl  RAG+gpt4  CL:4030035          dental pulp stem cell  subClassOf   \n161       cl  RAG+gpt4  CL:4030035          dental pulp stem cell  subClassOf   \n\n            outcome qualifier            expected_tgt  \\\n0     true_positive      None           DendriticCell   \n1    false_positive      None                    None   \n2    false_positive      None                    None   \n3    false_negative      None           ONBipolarCell   \n4    false_positive      None                    None   \n..              ...       ...                     ...   \n157  false_negative      None    SpermatidDevelopment   \n158   true_positive      None               Spermatid   \n159  false_negative      None  MaleReproductiveSystem   \n160   true_positive      None                StemCell   \n161  false_negative      None          DentalPulpCell   \n\n                       predicted_tgt  predicted_tgt_exists  \n0                      DendriticCell                  True  \n1                               Lung                  True  \n2         PhotopicRetinalBipolarCell                 False  \n3                               None                  True  \n4    OFFCalbindinPositiveBipolarCell                 False  \n..                               ...                   ...  \n157                             None                  True  \n158                        Spermatid                  True  \n159                             None                  True  \n160                         StemCell                  True  \n161                             None                  True  \n\n[162 rows x 10 columns]",
      "text/html": "<div>\n<style scoped>\n    .dataframe tbody tr th:only-of-type {\n        vertical-align: middle;\n    }\n\n    .dataframe tbody tr th {\n        vertical-align: top;\n    }\n\n    .dataframe thead th {\n        text-align: right;\n    }\n</style>\n<table border=\"1\" class=\"dataframe\">\n  <thead>\n    <tr style=\"text-align: right;\">\n      <th></th>\n      <th>ontology</th>\n      <th>method</th>\n      <th>term_id</th>\n      <th>term_label</th>\n      <th>pred</th>\n      <th>outcome</th>\n      <th>qualifier</th>\n      <th>expected_tgt</th>\n      <th>predicted_tgt</th>\n      <th>predicted_tgt_exists</th>\n    </tr>\n  </thead>\n  <tbody>\n    <tr>\n      <th>0</th>\n      <td>cl</td>\n      <td>RAG+gpt4</td>\n      <td>CL:4033045</td>\n      <td>lung migratory dendritic cell</td>\n      <td>subClassOf</td>\n      <td>true_positive</td>\n      <td>None</td>\n      <td>DendriticCell</td>\n      <td>DendriticCell</td>\n      <td>True</td>\n    </tr>\n    <tr>\n      <th>1</th>\n      <td>cl</td>\n      <td>RAG+gpt4</td>\n      <td>CL:4033045</td>\n      <td>lung migratory dendritic cell</td>\n      <td>PartOf</td>\n      <td>false_positive</td>\n      <td>None</td>\n      <td>None</td>\n      <td>Lung</td>\n      <td>True</td>\n    </tr>\n    <tr>\n      <th>2</th>\n      <td>cl</td>\n      <td>RAG+gpt4</td>\n      <td>CL:4033019</td>\n      <td>ON-blue cone bipolar cell</td>\n      <td>subClassOf</td>\n      <td>false_positive</td>\n      <td>None</td>\n      <td>None</td>\n      <td>PhotopicRetinalBipolarCell</td>\n      <td>False</td>\n    </tr>\n    <tr>\n      <th>3</th>\n      <td>cl</td>\n      <td>RAG+gpt4</td>\n      <td>CL:4033019</td>\n      <td>ON-blue cone bipolar cell</td>\n      <td>subClassOf</td>\n      <td>false_negative</td>\n      <td>None</td>\n      <td>ONBipolarCell</td>\n      <td>None</td>\n      <td>True</td>\n    </tr>\n    <tr>\n      <th>4</th>\n      <td>cl</td>\n      <td>RAG+gpt4</td>\n      <td>CL:4033029</td>\n      <td>diffuse bipolar 3a cell</td>\n      <td>subClassOf</td>\n      <td>false_positive</td>\n      <td>None</td>\n      <td>None</td>\n      <td>OFFCalbindinPositiveBipolarCell</td>\n      <td>False</td>\n    </tr>\n    <tr>\n      <th>...</th>\n      <td>...</td>\n      <td>...</td>\n      <td>...</td>\n      <td>...</td>\n      <td>...</td>\n      <td>...</td>\n      <td>...</td>\n      <td>...</td>\n      <td>...</td>\n      <td>...</td>\n    </tr>\n    <tr>\n      <th>157</th>\n      <td>cl</td>\n      <td>RAG+gpt4</td>\n      <td>CL:4030037</td>\n      <td>late spermatid</td>\n      <td>CapableOf</td>\n      <td>false_negative</td>\n      <td>None</td>\n      <td>SpermatidDevelopment</td>\n      <td>None</td>\n      <td>True</td>\n    </tr>\n    <tr>\n      <th>158</th>\n      <td>cl</td>\n      <td>RAG+gpt4</td>\n      <td>CL:4030037</td>\n      <td>late spermatid</td>\n      <td>subClassOf</td>\n      <td>true_positive</td>\n      <td>None</td>\n      <td>Spermatid</td>\n      <td>Spermatid</td>\n      <td>True</td>\n    </tr>\n    <tr>\n      <th>159</th>\n      <td>cl</td>\n      <td>RAG+gpt4</td>\n      <td>CL:4030037</td>\n      <td>late spermatid</td>\n      <td>PartOf</td>\n      <td>false_negative</td>\n      <td>None</td>\n      <td>MaleReproductiveSystem</td>\n      <td>None</td>\n      <td>True</td>\n    </tr>\n    <tr>\n      <th>160</th>\n      <td>cl</td>\n      <td>RAG+gpt4</td>\n      <td>CL:4030035</td>\n      <td>dental pulp stem cell</td>\n      <td>subClassOf</td>\n      <td>true_positive</td>\n      <td>None</td>\n      <td>StemCell</td>\n      <td>StemCell</td>\n      <td>True</td>\n    </tr>\n    <tr>\n      <th>161</th>\n      <td>cl</td>\n      <td>RAG+gpt4</td>\n      <td>CL:4030035</td>\n      <td>dental pulp stem cell</td>\n      <td>subClassOf</td>\n      <td>false_negative</td>\n      <td>None</td>\n      <td>DentalPulpCell</td>\n      <td>None</td>\n      <td>True</td>\n    </tr>\n  </tbody>\n</table>\n<p>162 rows × 10 columns</p>\n</div>"
     },
     "execution_count": 83,
     "metadata": {},
     "output_type": "execute_result"
    }
   ],
   "source": [
    "def parse_predictions_to_outcomes(f: str, ont: str, preds: List=None, strict=False, method=\"no_method\") -> List[dict]:\n",
    "    #adapter = get_adapter(f\"sqlite:obo:{ont}\")\n",
    "    res = pd.read_csv(f, comment=\"#\", sep=\"\\t\")\n",
    "    rows = []\n",
    "    for _, row in res.iterrows():\n",
    "        expected_rels = parse_relationships(row['expected_relationships'])\n",
    "        predicted_rels = parse_relationships(row['predicted_relationships'])\n",
    "        term_id = row[\"masked_original_id\"]\n",
    "        if preds:\n",
    "            expected_rels = {k: v for k, v in expected_rels.items() if k in preds}\n",
    "            predicted_rels = {k: v for k, v in predicted_rels.items() if k in preds}\n",
    "            base = f\"{method}-{'+'.join(preds)}\"\n",
    "        else:\n",
    "            base = method\n",
    "        #print(f\"Scoring: {expected_rels} // {predicted_rels}\")\n",
    "        this_rows = get_relationship_outcomes(expected_rels, predicted_rels, ont, term_id=term_id)\n",
    "        rows.extend(this_rows)\n",
    "    for row in rows:\n",
    "        row.method = method\n",
    "    return [row.as_dict() for row in rows]\n",
    "\n",
    "rows = parse_predictions_to_outcomes(\"results/ont_cl-Prelationships-Mid.original_id-BGFalse-TrNone-Te50-Mgpt-4-EMopenai.results.tsv\", \"cl\", method=\"RAG+gpt4\")\n",
    "df = pd.DataFrame(rows)\n",
    "df.to_csv(\"foo.tsv\", sep=\"\\t\")\n",
    "df\n"
   ],
   "metadata": {
    "collapsed": false,
    "ExecuteTime": {
     "end_time": "2023-12-12T21:50:03.440202Z",
     "start_time": "2023-12-12T21:50:03.118864Z"
    }
   },
   "id": "dbd16285e8a43678"
  },
  {
   "cell_type": "code",
   "execution_count": 66,
   "outputs": [],
   "source": [],
   "metadata": {
    "collapsed": false,
    "ExecuteTime": {
     "end_time": "2023-12-12T21:36:45.729949Z",
     "start_time": "2023-12-12T21:36:45.682638Z"
    }
   },
   "id": "56003a029b59d4ac"
  },
  {
   "cell_type": "code",
   "execution_count": null,
   "outputs": [],
   "source": [
    "outcome = score_rels({\"subClassOf\": [\"DentalPulpStemCell\"]}, {\"PartOf\": [\"DentalPulp\"]}, \"cl\", term_id=\"CL:4030035\")\n",
    "outcome\n",
    "assert outcome.tp == 1\n",
    "assert outcome.fp == 0\n",
    "assert outcome.fn == 1"
   ],
   "metadata": {
    "collapsed": false,
    "ExecuteTime": {
     "start_time": "2023-12-12T01:03:46.078592Z"
    }
   },
   "id": "53b7ef58442b6f62"
  },
  {
   "cell_type": "code",
   "execution_count": null,
   "outputs": [],
   "source": [
    "assert score_rels({\"subClassOf\": [\"MadeUp\"]}, {}, \"cl\").matches(Outcome(tp=0, fp=0, fn=1))"
   ],
   "metadata": {
    "collapsed": false,
    "ExecuteTime": {
     "start_time": "2023-12-12T01:03:46.080286Z"
    }
   },
   "id": "d1f5a6287be0e441"
  },
  {
   "cell_type": "code",
   "execution_count": null,
   "outputs": [],
   "source": [
    "assert score_rels({}, {}, \"cl\").matches(Outcome(tp=0, fp=0, fn=0))"
   ],
   "metadata": {
    "collapsed": false,
    "ExecuteTime": {
     "start_time": "2023-12-12T01:03:46.082103Z"
    }
   },
   "id": "e1b73a3d5e0aac44"
  },
  {
   "cell_type": "code",
   "execution_count": null,
   "outputs": [],
   "source": [
    "assert score_rels({\"subClassOf\": [\"Cell\"]}, {}, \"cl\").matches(Outcome(tp=0, fp=0, fn=1, other=[]))"
   ],
   "metadata": {
    "collapsed": false,
    "ExecuteTime": {
     "start_time": "2023-12-12T01:03:46.084434Z"
    }
   },
   "id": "b4ea58560514bf78"
  },
  {
   "cell_type": "code",
   "execution_count": null,
   "outputs": [],
   "source": [
    "assert score_rels({}, {\"subClassOf\": [\"Cell\"]}, \"cl\") .matches(Outcome(tp=0, fp=1, fn=0))"
   ],
   "metadata": {
    "collapsed": false,
    "ExecuteTime": {
     "start_time": "2023-12-12T01:03:46.086357Z"
    }
   },
   "id": "2b767e724dcca6be"
  },
  {
   "cell_type": "code",
   "execution_count": null,
   "outputs": [],
   "source": [
    "assert score_rels({\"subClassOf\": [\"Cell\"]}, {\"subClassOf\": [\"Cell\"]}, \"cl\").matches(Outcome(tp=1, fp=0, fn=0))"
   ],
   "metadata": {
    "collapsed": false,
    "ExecuteTime": {
     "start_time": "2023-12-12T01:03:46.088119Z"
    }
   },
   "id": "cf60aec1af32cbea"
  },
  {
   "cell_type": "code",
   "execution_count": null,
   "outputs": [],
   "source": [
    "outcome = score_rels({\"subClassOf\": [\"Cell\"]}, {\"subClassOf\": [\"Neuron\"]}, \"cl\")\n",
    "assert outcome.tp == 0\n",
    "assert outcome.fp == 0\n",
    "assert outcome.fn == 0\n",
    "assert len(outcome.other) == 1"
   ],
   "metadata": {
    "collapsed": false,
    "ExecuteTime": {
     "start_time": "2023-12-12T01:03:46.089653Z"
    }
   },
   "id": "99bfe795848bf9b6"
  },
  {
   "cell_type": "code",
   "execution_count": 13,
   "outputs": [
    {
     "name": "stdout",
     "output_type": "stream",
     "text": [
      "tp=0 fp=0 fn=0.5 other=[('subClassOf', 'Cell', 'PredictedMoreGeneralThan', 'Neuron')] tp_list=[] fp_list=[] fn_list=[] new_terms=[] rows=[{'term_id': None, 'term_label': None, 'pred': 'subClassOf', 'expected_tgt': 'Neuron', 'outcome': 'tp[more_general]'}]\n"
     ]
    }
   ],
   "source": [
    "outcome = score_rels({\"subClassOf\": [\"Neuron\"]}, {\"subClassOf\": [\"Cell\"]}, \"cl\")\n",
    "print(outcome)\n",
    "assert outcome.tp == 0\n",
    "assert outcome.fp == 0\n",
    "assert outcome.fn == 0.5\n",
    "assert len(outcome.other) == 1"
   ],
   "metadata": {
    "collapsed": false,
    "ExecuteTime": {
     "start_time": "2023-12-12T19:22:35.959247Z"
    }
   },
   "id": "5fc92934d896d4c6"
  },
  {
   "cell_type": "code",
   "execution_count": null,
   "outputs": [],
   "source": [
    "assert score_rels({\"subClassOf\": [\"Neuron\"]}, {\"subClassOf\": [\"StemCell\"]}, \"cl\").matches(Outcome(tp=0, fp=1, fn=1))\n"
   ],
   "metadata": {
    "collapsed": false,
    "ExecuteTime": {
     "start_time": "2023-12-12T01:03:46.093177Z"
    }
   },
   "id": "febb464d193aefdd"
  },
  {
   "cell_type": "code",
   "execution_count": null,
   "outputs": [],
   "source": [],
   "metadata": {
    "collapsed": false,
    "ExecuteTime": {
     "start_time": "2023-12-12T01:03:46.095037Z"
    }
   },
   "id": "f3dba8ccce61fb73"
  },
  {
   "cell_type": "code",
   "execution_count": null,
   "outputs": [],
   "source": [
    "def load_relationships_results_tsv(f: str, ont: str, preds: List=None, strict=False, method=\"no_method\"):\n",
    "    #adapter = get_adapter(f\"sqlite:obo:{ont}\")\n",
    "    res = pd.read_csv(f, comment=\"#\", sep=\"\\t\")\n",
    "    rows = []\n",
    "    for _, row in res.iterrows():\n",
    "        expected_rels = parse_relationships(row['expected_relationships'])\n",
    "        predicted_rels = parse_relationships(row['predicted_relationships'])\n",
    "        term_id = row[\"masked_original_id\"]\n",
    "        if preds:\n",
    "            expected_rels = {k: v for k, v in expected_rels.items() if k in preds}\n",
    "            predicted_rels = {k: v for k, v in predicted_rels.items() if k in preds}\n",
    "            base = f\"{method}-{'+'.join(preds)}\"\n",
    "        else:\n",
    "            base = method\n",
    "        #print(f\"Scoring: {expected_rels} // {predicted_rels}\")\n",
    "        outcome = score_rels(expected_rels, predicted_rels, ont, term_id=term_id, strict=strict, base=base, ignore_ungrounded=True)\n",
    "        if outcome.other:\n",
    "            print(f\"Other: {outcome}\")\n",
    "        outcome = outcome.model_dump()\n",
    "        #outcome[\"expected_relationships\"] = json.dumps(expected_rels)\n",
    "        #outcome[\"predicted_relationships\"] = json.dumps(predicted_rels)\n",
    "        outcome = {\"ontology\": ont, \n",
    "                   \"preds\": \",\".join(preds) if preds else \"all\",\n",
    "                   **outcome, **row.to_dict()}\n",
    "        rows.append(outcome)\n",
    "    return rows\n",
    "\n",
    "#rows = load_relationships_results_tsv(\"results/ont_cl-Prelationships-Mid.original_id-BGFalse-TrNone-Te50-Mgpt-4-EMopenai.results.tsv\", \"cl\", strict=False, method=\"RAG+gpt4\")\n",
    "#df = pd.DataFrame(rows)\n",
    "#df.to_csv(\"foo.tsv\", sep=\"\\t\")\n",
    "#df"
   ],
   "metadata": {
    "collapsed": false,
    "ExecuteTime": {
     "start_time": "2023-12-12T01:03:46.098069Z"
    }
   },
   "id": "bfe25072d703377a"
  },
  {
   "cell_type": "code",
   "execution_count": null,
   "outputs": [],
   "source": [],
   "metadata": {
    "collapsed": false
   },
   "id": "8930f5bfd70e9242"
  },
  {
   "cell_type": "code",
   "execution_count": null,
   "outputs": [],
   "source": [
    "#rows = load_relationships_results_tsv(\"results/ont_cl-Prelationships-Mid.original_id-BGFalse-TrNone-Te50-Mgpt-4-EMopenai.results.tsv\", \"cl\", preds=[\"subClassOf\"])\n",
    "#df = pd.DataFrame(rows)\n",
    "#df"
   ],
   "metadata": {
    "collapsed": false,
    "ExecuteTime": {
     "start_time": "2023-12-12T01:03:46.100281Z"
    }
   },
   "id": "8ad97e7b7a17f357"
  },
  {
   "cell_type": "code",
   "execution_count": 87,
   "outputs": [],
   "source": [
    "def get_method(obj: dict) -> str:\n",
    "    \"\"\"\n",
    "    gets the method from the yaml object\n",
    "    \"\"\"\n",
    "    if obj.get(\"generate_background\"):\n",
    "        return \"RAG+background\"\n",
    "    additional = obj.get(\"additional_collections\", [])\n",
    "    if additional:\n",
    "        assert len(additional) == 1\n",
    "        x = additional[0]\n",
    "        if x.startswith(\"gh_\"):\n",
    "            return \"RAG+github\"\n",
    "        elif x.startswith(\"devdocs\"):\n",
    "            return \"RAG+devdocs\"\n",
    "        else:\n",
    "            assert False\n",
    "    else:\n",
    "        return \"RAG\""
   ],
   "metadata": {
    "collapsed": false,
    "ExecuteTime": {
     "end_time": "2023-12-12T21:52:19.456138Z",
     "start_time": "2023-12-12T21:52:19.428167Z"
    }
   },
   "id": "9a40fa1a2ee7681b"
  },
  {
   "cell_type": "code",
   "execution_count": null,
   "outputs": [],
   "source": [
    "import re\n",
    "\n",
    "def load_all_results(preds=None):\n",
    "    files = glob.glob(\"results/*.results.yaml\")\n",
    "    rows = []\n",
    "    for f in files:\n",
    "        print(f)\n",
    "        obj = yaml.safe_load(open(f))\n",
    "        if \"Prelationships\" not in f:\n",
    "            continue\n",
    "        # look for string '/ont_{ONT}-Prelationships' using regex\n",
    "        m = re.search(r\"ont_(\\w+)-Prelationships\", f)\n",
    "        assert m\n",
    "        meth = get_method(obj) + \"-\" + obj[\"model_name\"]\n",
    "        print(f, meth)\n",
    "        ont = m.group(1)\n",
    "        this_rows = load_relationships_results_tsv(f.replace(\".yaml\", \".tsv\"), ont, preds, strict=False, method=meth)\n",
    "        for row in this_rows:\n",
    "            row = {**obj, **row}\n",
    "            row[\"method\"] = meth\n",
    "            rows.append(row)\n",
    "        #rows.extend(this_rows)\n",
    "        \n",
    "    return pd.DataFrame(rows)\n"
   ],
   "metadata": {
    "collapsed": false,
    "ExecuteTime": {
     "start_time": "2023-12-12T01:03:46.103968Z"
    }
   },
   "id": "9c91705ac4b81742"
  },
  {
   "cell_type": "code",
   "execution_count": null,
   "outputs": [],
   "source": [
    "df = load_all_results()"
   ],
   "metadata": {
    "collapsed": false,
    "ExecuteTime": {
     "start_time": "2023-12-12T01:03:46.105508Z"
    }
   },
   "id": "237c56d149944ef5"
  },
  {
   "cell_type": "code",
   "execution_count": null,
   "outputs": [],
   "source": [
    "df.to_csv(\"results/relationship-analysis.tsv\", sep=\"\\t\", index=False)"
   ],
   "metadata": {
    "collapsed": false,
    "ExecuteTime": {
     "start_time": "2023-12-12T01:03:46.107196Z"
    }
   },
   "id": "91636c18c481ec2b"
  },
  {
   "cell_type": "code",
   "execution_count": null,
   "outputs": [],
   "source": [
    "isa_df = load_all_results([\"subClassOf\"])\n",
    "isa_df.to_csv(\"results/relationship-analysis-isa.tsv\", sep=\"\\t\")"
   ],
   "metadata": {
    "collapsed": false,
    "ExecuteTime": {
     "start_time": "2023-12-12T01:03:46.110116Z"
    }
   },
   "id": "c3349554de1fb9e6"
  },
  {
   "cell_type": "code",
   "execution_count": 88,
   "outputs": [],
   "source": [
    "import re\n",
    "\n",
    "def load_all_results_new(preds=None):\n",
    "    files = glob.glob(\"results/*.results.yaml\")\n",
    "    rows = []\n",
    "    for f in files:\n",
    "        print(f)\n",
    "        obj = yaml.safe_load(open(f))\n",
    "        if \"Prelationships\" not in f:\n",
    "            continue\n",
    "        # look for string '/ont_{ONT}-Prelationships' using regex\n",
    "        m = re.search(r\"ont_(\\w+)-Prelationships\", f)\n",
    "        assert m\n",
    "        meth = get_method(obj) + \"-\" + obj[\"model_name\"]\n",
    "        print(f, meth)\n",
    "        ont = m.group(1)\n",
    "        this_rows = parse_predictions_to_outcomes(f.replace(\".yaml\", \".tsv\"), ont, preds, strict=False, method=meth)\n",
    "        for row in this_rows:\n",
    "            row = {**obj, **row}\n",
    "            # row[\"method\"] = meth\n",
    "            rows.append(row)\n",
    "        #rows.extend(this_rows)\n",
    "        \n",
    "    return pd.DataFrame(rows)\n"
   ],
   "metadata": {
    "collapsed": false,
    "ExecuteTime": {
     "start_time": "2023-12-12T21:52:23.543820Z"
    }
   },
   "id": "b465e9e02405e7f"
  },
  {
   "cell_type": "code",
   "execution_count": 89,
   "outputs": [
    {
     "name": "stdout",
     "output_type": "stream",
     "text": [
      "results/ont_oba-Plabel-Mid.original_id-BGFalse-TrNone-Te50-Mgpt-3.5-turbo-EMopenai.results.yaml\n",
      "results/ont_cl-Pdefinition-Mid.original_id-BGTrue-TrNone-Te50-Mgpt-4-EMopenai.results.yaml\n",
      "results/ont_go-Plabel-Mid.original_id-BGTrue-TrNone-Te50-Mgpt-4-EMopenai.results.yaml\n",
      "results/ont_uberon-Plabel-Mid.original_id-BGFalse-TrNone-Te40-Mgpt-4-EMopenai.results.yaml\n",
      "results/ont_mondo-Plabel-Mid.original_id-BGTrue-TrNone-Te50-Mgpt-3.5-turbo-EMopenai.results.yaml\n",
      "results/ont_go-Prelationships-Mid.original_id-BGTrue-TrNone-Te50-Mgpt-4-EMopenai.results.yaml\n",
      "results/ont_go-Prelationships-Mid.original_id-BGTrue-TrNone-Te50-Mgpt-4-EMopenai.results.yaml RAG+background-gpt-4\n",
      "MISSING: HasProduct\n",
      "results/ont_envo-Plabel-Mid.original_id-BGTrue-TrNone-Te50-Mgpt-4-EMopenai.results.yaml\n",
      "results/ont_mondo-Plabel-Mid.original_id-BGFalse-TrNone-Te50-Mnous-hermes-13b-EMopenai.results.yaml\n",
      "results/ont_hp-Prelationships-Mid.original_id-BGFalse-TrNone-Te50-Mgpt-4-EMopenai.results.yaml\n",
      "results/ont_hp-Prelationships-Mid.original_id-BGFalse-TrNone-Te50-Mgpt-4-EMopenai.results.yaml RAG-gpt-4\n",
      "results/ont_cl-Plabel-Mid.original_id-BGFalse-TrNone-Te50-Mgpt-3.5-turbo-EMopenai.results.yaml\n",
      "results/ont_cl-Pdefinition-Mid.original_id-BGTrue-TrNone-Te50-Mgpt-3.5-turbo-EMopenai.results.yaml\n",
      "results/ont_oba-Pdefinition-Mid.original_id-BGFalse-TrNone-Te50-Mgpt-4-EMopenai.results.yaml\n",
      "results/ont_mp-Plogical_definition-Mid.original_id-BGFalse-TrNone-Te50-Mgpt-3.5-turbo-EMopenai.results.yaml\n",
      "results/ont_envo-Plabel-Mid.original_id-BGTrue-TrNone-Te50-Mgpt-3.5-turbo-EMopenai.results.yaml\n",
      "results/ont_mondo-Pdefinition-Mid.original_id-BGFalse-TrNone-Te50-Mnous-hermes-13b-EMopenai.results.yaml\n",
      "results/ont_cl-Prelationships-Mid.original_id-BGFalse-TrNone-Te50-Mnous-hermes-13b-EMopenai.results.yaml\n",
      "results/ont_cl-Prelationships-Mid.original_id-BGFalse-TrNone-Te50-Mnous-hermes-13b-EMopenai.results.yaml RAG-nous-hermes-13b\n",
      "MISSING: ExpressesMetallothionein\n",
      "MISSING: LacksCalbindinD28KImmunoreactivity\n",
      "BAD REL: {'predictive': 'subClassOf', 'target': 'TransitionalEpithelialCell'} in [{'predicate': 'PartOf', 'target': 'Urothelium'}, {'predictive': 'subClassOf', 'target': 'TransitionalEpithelialCell'}]\n",
      "results/ont_envo-Pdefinition-Mid.original_id-BGFalse-TrNone-Te50-Mnous-hermes-13b-EMopenai.results.yaml\n",
      "results/ont_cl-Plabel-Mid.original_id-BGTrue-TrNone-Te50-Mgpt-4-EMopenai.results.yaml\n",
      "results/ont_oba-Prelationships-Mid.original_id-BGTrue-TrNone-Te50-Mgpt-3.5-turbo-EMopenai.results.yaml\n",
      "results/ont_oba-Prelationships-Mid.original_id-BGTrue-TrNone-Te50-Mgpt-3.5-turbo-EMopenai.results.yaml RAG+background-gpt-3.5-turbo\n",
      "results/ont_envo-Prelationships-Mid.original_id-BGFalse-TrNone-Te50-Mnous-hermes-13b-EMopenai.results.yaml\n",
      "results/ont_envo-Prelationships-Mid.original_id-BGFalse-TrNone-Te50-Mnous-hermes-13b-EMopenai.results.yaml RAG-nous-hermes-13b\n",
      "BAD REL: {'predictor': 'hasCausalAgent', 'effect': 'increased hunger, malnutrition and consequent mortality'} in [{'predicate': 'subClassOf', 'target': 'AnthropogenicEnvironmentalProcess'}, {'predictor': 'hasCausalAgent', 'effect': 'increased hunger, malnutrition and consequent mortality'}]\n",
      "MISSING: provides\n",
      "MISSING: hasType\n",
      "MISSING: ComposedMainlyOf\n",
      "results/ont_foodon-Pdefinition-Mid.original_id-BGFalse-TrNone-Te50-Mgpt-3.5-turbo-EMopenai.results.yaml\n",
      "results/ont_hp-Plabel-Mid.original_id-BGFalse-TrNone-Te50-Mgpt-4-EMopenai.results.yaml\n",
      "results/ont_mp-Plabel-Mid.original_id-BGFalse-TrNone-Te50-Mnous-hermes-13b-EMopenai.results.yaml\n",
      "results/ont_mondo-Pdefinition-Mid.original_id-BGTrue-TrNone-Te50-Mgpt-4-EMopenai.results.yaml\n",
      "results/ont_go-Plabel-Mid.original_id-BGFalse-TrNone-Te50-Mgpt-4-EMopenai.results.yaml\n",
      "results/ont_foodon-Prelationships-Mid.original_id-BGFalse-TrNone-Te50-Mnous-hermes-13b-EMopenai.results.yaml\n",
      "results/ont_foodon-Prelationships-Mid.original_id-BGFalse-TrNone-Te50-Mnous-hermes-13b-EMopenai.results.yaml RAG-nous-hermes-13b\n",
      "BAD REL: {'predicate': 'hasProcess', 'object': 'saute'} in [{'predicate': 'subClassOf', 'target': 'TurkeyMeatFoodProduct'}, {'predicate': 'hasProcess', 'object': 'saute'}]\n",
      "MISSING: HasQualityRO:0000124\n",
      "MISSING: HasQuality_RO:0000086\n",
      "MISSING: rdfs:subClassOf\n",
      "MISSING: HasQuality_RO:0000086\n",
      "MISSING: HasQuality_RO:0000086\n",
      "results/ont_obi-Prelationships-Mid.original_id-BGFalse-TrNone-Te50-Mgpt-4-EMopenai.results.yaml\n",
      "results/ont_obi-Prelationships-Mid.original_id-BGFalse-TrNone-Te50-Mgpt-4-EMopenai.results.yaml RAG-gpt-4\n",
      "results/ont_obi-Plabel-Mid.original_id-BGTrue-TrNone-Te50-Mgpt-3.5-turbo-EMopenai.results.yaml\n",
      "results/ont_go-Prelationships-Mid.original_id-BGFalse-TrNone-Te50-Mgpt-4-EMopenai.results.yaml\n",
      "results/ont_go-Prelationships-Mid.original_id-BGFalse-TrNone-Te50-Mgpt-4-EMopenai.results.yaml RAG-gpt-4\n",
      "results/ont_uberon-Pdefinition-Mid.original_id-BGTrue-TrNone-Te40-Mgpt-3.5-turbo-EMopenai.results.yaml\n",
      "results/ont_go-Plogical_definition-Mid.original_id-BGFalse-TrNone-Te50-Mgpt-3.5-turbo-EMopenai.results.yaml\n",
      "results/ont_foodon-Plabel-Mid.original_id-BGFalse-TrNone-Te50-Mgpt-4-EMopenai.results.yaml\n",
      "results/ont_go-Pdefinition-Mid.original_id-BGFalse-TrNone-Te50-Mgpt-4-EMopenai.results.yaml\n",
      "results/ont_oba-Prelationships-Mid.original_id-BGFalse-TrNone-Te50-Mnous-hermes-13b-EMopenai.results.yaml\n",
      "results/ont_oba-Prelationships-Mid.original_id-BGFalse-TrNone-Te50-Mnous-hermes-13b-EMopenai.results.yaml RAG-nous-hermes-13b\n",
      "MISSING: increasedByRelativeTo\n",
      "MISSING: rdfs:subClassOf\n",
      "MISSING: rdfs:subClassOf\n",
      "results/ont_mp-Plabel-Mid.original_id-BGFalse-TrNone-Te50-Mgpt-3.5-turbo-EMopenai.results.yaml\n",
      "results/ont_foodon-Pdefinition-Mid.original_id-BGFalse-TrNone-Te50-Mgpt-4-EMopenai.results.yaml\n",
      "results/ont_envo-Plabel-Mid.original_id-BGFalse-TrNone-Te50-Mgpt-3.5-turbo-EMopenai.results.yaml\n",
      "results/ont_obi-Pdefinition-Mid.original_id-BGFalse-TrNone-Te50-Mgpt-4-EMopenai.results.yaml\n",
      "results/ont_mondo-Prelationships-Mid.original_id-BGFalse-TrNone-Te50-Mgpt-4-EMopenai.results.yaml\n",
      "results/ont_mondo-Prelationships-Mid.original_id-BGFalse-TrNone-Te50-Mgpt-4-EMopenai.results.yaml RAG-gpt-4\n",
      "MISSING: HasCause\n",
      "MISSING: HasMaterialBasisInMutationIn\n",
      "results/ont_foodon-Plabel-Mid.original_id-BGTrue-TrNone-Te50-Mgpt-4-EMopenai.results.yaml\n",
      "results/ont_obi-Prelationships-Mid.original_id-BGFalse-TrNone-Te50-Mnous-hermes-13b-EMopenai.results.yaml\n",
      "results/ont_obi-Prelationships-Mid.original_id-BGFalse-TrNone-Te50-Mnous-hermes-13b-EMopenai.results.yaml RAG-nous-hermes-13b\n",
      "MISSING: rdfs:subClassOf\n",
      "MISSING: rdfs:subClassOf\n",
      "MISSING: hasLabel\n",
      "MISSING: rdfs:subClassOf\n",
      "MISSING: rdfs:subClassOf\n",
      "results/ont_obi-Prelationships-Mid.original_id-BGFalse-TrNone-Te50-Mgpt-3.5-turbo-EMopenai.results.yaml\n",
      "results/ont_obi-Prelationships-Mid.original_id-BGFalse-TrNone-Te50-Mgpt-3.5-turbo-EMopenai.results.yaml RAG-gpt-3.5-turbo\n",
      "MISSING: hasInput\n",
      "MISSING: HasProxy\n",
      "MISSING: ManufacturedBy\n",
      "MISSING: EquipmentForAnalyzingMolecules\n",
      "results/ont_cl-Pdefinition-Mid.original_id-BGFalse-TrNone-Te50-Mgpt-4-EMopenai-ACgh_cl.results.yaml\n",
      "results/ont_foodon-Plabel-Mid.original_id-BGFalse-TrNone-Te50-Mgpt-3.5-turbo-EMopenai.results.yaml\n",
      "results/ont_obi-Pdefinition-Mid.original_id-BGTrue-TrNone-Te50-Mgpt-4-EMopenai.results.yaml\n",
      "results/ont_mondo-Pdefinition-Mid.original_id-BGFalse-TrNone-Te50-Mgpt-3.5-turbo-EMopenai.results.yaml\n",
      "results/ont_obi-Prelationships-Mid.original_id-BGTrue-TrNone-Te50-Mgpt-4-EMopenai.results.yaml\n",
      "results/ont_obi-Prelationships-Mid.original_id-BGTrue-TrNone-Te50-Mgpt-4-EMopenai.results.yaml RAG+background-gpt-4\n",
      "MISSING: designedToDetect\n",
      "MISSING: utilizes\n",
      "MISSING: usesTechnology\n",
      "MISSING: manufacturedBy\n",
      "MISSING: rdf:type\n",
      "results/ont_uberon-Pdefinition-Mid.original_id-BGFalse-TrNone-Te40-Mnous-hermes-13b-EMopenai.results.yaml\n",
      "results/ont_go-Plabel-Mid.original_id-BGFalse-TrNone-Te50-Mnous-hermes-13b-EMopenai.results.yaml\n",
      "results/ont_cl-Plabel-Mid.original_id-BGFalse-TrNone-Te50-Mgpt-4-EMopenai.results.yaml\n",
      "results/ont_hp-Plabel-Mid.original_id-BGFalse-TrNone-Te50-Mnous-hermes-13b-EMopenai.results.yaml\n",
      "results/ont_cl-Pdefinition-Mid.original_id-BGFalse-TrNone-Te50-Mgpt-4-EMopenai.results.yaml\n",
      "results/ont_uberon-Pdefinition-Mid.original_id-BGFalse-TrNone-Te44-Mgpt-4-EMopenai.results.yaml\n",
      "results/ont_mp-Pdefinition-Mid.original_id-BGFalse-TrNone-Te50-Mnous-hermes-13b-EMopenai.results.yaml\n",
      "results/ont_mondo-Prelationships-Mid.original_id-BGFalse-TrNone-Te50-Mnous-hermes-13b-EMopenai.results.yaml\n",
      "results/ont_mondo-Prelationships-Mid.original_id-BGFalse-TrNone-Te50-Mnous-hermes-13b-EMopenai.results.yaml RAG-nous-hermes-13b\n",
      "BAD REL: {'predicate': 'relationships', 'target': ['46,XX disorder of sex development induced by maternal-derived androgen']} in [{'predicate': 'subClassOf', 'target': 'DisorderOfSexualDifferentiation'}, {'predicate': 'HasMaterialBasisInGermlineMutationIn', 'target': 'CYP21A2'}, {'predicate': 'relationships', 'target': ['46,XX disorder of sex development induced by maternal-derived androgen']}]\n",
      "MISSING: rdfs:subClassOf\n",
      "MISSING: rdfs:subClassOf\n",
      "results/ont_uberon-Prelationships-Mid.original_id-BGFalse-TrNone-Te40-Mgpt-4-EMopenai.results.yaml\n",
      "results/ont_uberon-Prelationships-Mid.original_id-BGFalse-TrNone-Te40-Mgpt-4-EMopenai.results.yaml RAG-gpt-4\n",
      "MISSING: AssociatedWith\n",
      "MISSING: ComposedOf\n",
      "MISSING: BranchesInto\n",
      "MISSING: DrainsTo\n",
      "MISSING: AssociatedWith\n",
      "results/ont_uberon-Plabel-Mid.original_id-BGFalse-TrNone-Te40-Mnous-hermes-13b-EMopenai.results.yaml\n",
      "results/ont_envo-Prelationships-Mid.original_id-BGFalse-TrNone-Te50-Mgpt-3.5-turbo-EMopenai.results.yaml\n",
      "results/ont_envo-Prelationships-Mid.original_id-BGFalse-TrNone-Te50-Mgpt-3.5-turbo-EMopenai.results.yaml RAG-gpt-3.5-turbo\n",
      "MISSING: FloatsIn\n",
      "MISSING: CanBeUsedFor\n",
      "MISSING: ProvidesService\n",
      "MISSING: HasUsage\n",
      "MISSING: OwnedBy\n",
      "MISSING: InheresIn\n",
      "results/ont_hp-Pdefinition-Mid.original_id-BGFalse-TrNone-Te50-Mnous-hermes-13b-EMopenai.results.yaml\n",
      "results/ont_mondo-Plogical_definition-Mid.original_id-BGFalse-TrNone-Te50-Mgpt-4-EMopenai.results.yaml\n",
      "results/ont_obi-Pdefinition-Mid.original_id-BGFalse-TrNone-Te50-Mgpt-3.5-turbo-EMopenai-ACgh_obi.results.yaml\n",
      "results/ont_foodon-Pdefinition-Mid.original_id-BGTrue-TrNone-Te50-Mgpt-4-EMopenai-ACgh_foodon.results.yaml\n",
      "results/ont_envo-Plabel-Mid.original_id-BGFalse-TrNone-Te50-Mnous-hermes-13b-EMopenai.results.yaml\n",
      "results/ont_uberon-Pdefinition-Mid.original_id-BGFalse-TrNone-Te40-Mgpt-3.5-turbo-EMopenai-ACgh_uberon.results.yaml\n",
      "results/ont_obi-Plabel-Mid.original_id-BGTrue-TrNone-Te50-Mgpt-4-EMopenai.results.yaml\n",
      "results/ont_go-Prelationships-Mid.original_id-BGFalse-TrNone-Te50-Mgpt-3.5-turbo-EMopenai.results.yaml\n",
      "results/ont_go-Prelationships-Mid.original_id-BGFalse-TrNone-Te50-Mgpt-3.5-turbo-EMopenai.results.yaml RAG-gpt-3.5-turbo\n",
      "results/ont_oba-Plogical_definition-Mid.original_id-BGFalse-TrNone-Te50-Mgpt-3.5-turbo-EMopenai.results.yaml\n",
      "results/ont_mondo-Prelationships-Mid.original_id-BGTrue-TrNone-Te50-Mgpt-4-EMopenai.results.yaml\n",
      "results/ont_mondo-Prelationships-Mid.original_id-BGTrue-TrNone-Te50-Mgpt-4-EMopenai.results.yaml RAG+background-gpt-4\n",
      "MISSING: AssociatedWith\n",
      "MISSING: HasEffectOnQualityOfLife\n",
      "MISSING: HasPotentialComplication\n",
      "MISSING: HasMaterialBasisIn\n",
      "MISSING: HasSymptom\n",
      "MISSING: associatedWith\n",
      "MISSING: HasCause\n",
      "MISSING: HasMaterialBasisInMutationIn\n",
      "MISSING: HasMaterialBasisInMutationIn\n",
      "MISSING: AssociatedWith\n",
      "results/ont_hp-Prelationships-Mid.original_id-BGFalse-TrNone-Te50-Mnous-hermes-13b-EMopenai.results.yaml\n",
      "results/ont_hp-Prelationships-Mid.original_id-BGFalse-TrNone-Te50-Mnous-hermes-13b-EMopenai.results.yaml RAG-nous-hermes-13b\n",
      "results/ont_mondo-Plabel-Mid.original_id-BGFalse-TrNone-Te50-Mgpt-4-EMopenai.results.yaml\n",
      "results/ont_go-Prelationships-Mid.original_id-BGFalse-TrNone-Te50-Mnous-hermes-13b-EMopenai.results.yaml\n",
      "results/ont_go-Prelationships-Mid.original_id-BGFalse-TrNone-Te50-Mnous-hermes-13b-EMopenai.results.yaml RAG-nous-hermes-13b\n",
      "MISSING: capable of activating\n",
      "results/ont_mp-Prelationships-Mid.original_id-BGFalse-TrNone-Te50-Mnous-hermes-13b-EMopenai.results.yaml\n",
      "results/ont_mp-Prelationships-Mid.original_id-BGFalse-TrNone-Te50-Mnous-hermes-13b-EMopenai.results.yaml RAG-nous-hermes-13b\n",
      "MISSING: PartiallyFused\n",
      "results/ont_go-Pdefinition-Mid.original_id-BGTrue-TrNone-Te50-Mgpt-3.5-turbo-EMopenai.results.yaml\n",
      "results/ont_oba-Prelationships-Mid.original_id-BGFalse-TrNone-Te50-Mgpt-3.5-turbo-EMopenai.results.yaml\n",
      "results/ont_oba-Prelationships-Mid.original_id-BGFalse-TrNone-Te50-Mgpt-3.5-turbo-EMopenai.results.yaml RAG-gpt-3.5-turbo\n",
      "results/ont_cl-Plogical_definition-Mid.original_id-BGFalse-TrNone-Te50-Mgpt-3.5-turbo-EMopenai.results.yaml\n",
      "results/ont_mp-Plabel-Mid.original_id-BGFalse-TrNone-Te50-Mgpt-4-EMopenai.results.yaml\n",
      "results/ont_go-Plabel-Mid.original_id-BGTrue-TrNone-Te50-Mgpt-3.5-turbo-EMopenai.results.yaml\n",
      "results/ont_go-Plogical_definition-Mid.original_id-BGFalse-TrNone-Te50-Mgpt-4-EMopenai.results.yaml\n",
      "results/ont_oba-Plabel-Mid.original_id-BGFalse-TrNone-Te50-Mgpt-4-EMopenai.results.yaml\n",
      "results/ont_envo-Prelationships-Mid.original_id-BGTrue-TrNone-Te50-Mgpt-3.5-turbo-EMopenai.results.yaml\n",
      "results/ont_envo-Prelationships-Mid.original_id-BGTrue-TrNone-Te50-Mgpt-3.5-turbo-EMopenai.results.yaml RAG+background-gpt-3.5-turbo\n",
      "MISSING: InheritsQualityFrom\n",
      "MISSING: providesService\n",
      "MISSING: UsedFor\n",
      "MISSING: MadeFromMaterial\n",
      "MISSING: usedFor\n",
      "MISSING: HasIssue\n",
      "MISSING: UsedFor\n",
      "MISSING: HasProperty\n",
      "MISSING: HasComposition\n",
      "results/ont_oba-Pdefinition-Mid.original_id-BGFalse-TrNone-Te50-Mnous-hermes-13b-EMopenai.results.yaml\n",
      "results/ont_uberon-Prelationships-Mid.original_id-BGFalse-TrNone-Te40-Mnous-hermes-13b-EMopenai.results.yaml\n",
      "results/ont_uberon-Prelationships-Mid.original_id-BGFalse-TrNone-Te40-Mnous-hermes-13b-EMopenai.results.yaml RAG-nous-hermes-13b\n",
      "MISSING: RelatesTo\n",
      "BAD REL: {'predictive': 'subClassOf', 'target': 'Iris'} in [{'predicate': 'PartOf', 'target': 'CameraTypeEye'}, {'predictive': 'subClassOf', 'target': 'Iris'}]\n",
      "results/ont_go-Pdefinition-Mid.original_id-BGFalse-TrNone-Te50-Mgpt-3.5-turbo-EMopenai.results.yaml\n",
      "results/ont_obi-Pdefinition-Mid.original_id-BGFalse-TrNone-Te50-Mgpt-4-EMopenai-ACgh_obi.results.yaml\n",
      "results/ont_envo-Prelationships-Mid.original_id-BGTrue-TrNone-Te50-Mgpt-4-EMopenai.results.yaml\n",
      "results/ont_envo-Prelationships-Mid.original_id-BGTrue-TrNone-Te50-Mgpt-4-EMopenai.results.yaml RAG+background-gpt-4\n",
      "MISSING: UsedFor\n",
      "MISSING: dependentOn\n",
      "MISSING: UsedFor\n",
      "MISSING: UsedFor\n",
      "MISSING: MoreFormalThan\n",
      "MISSING: LessFormalThan\n",
      "MISSING: ownedBy\n",
      "MISSING: InheresIn\n",
      "MISSING: MadeBy\n",
      "results/ont_mondo-Pdefinition-Mid.original_id-BGTrue-TrNone-Te50-Mgpt-3.5-turbo-EMopenai.results.yaml\n",
      "results/ont_mp-Pdefinition-Mid.original_id-BGFalse-TrNone-Te50-Mgpt-4-EMopenai.results.yaml\n",
      "results/ont_mondo-Prelationships-Mid.original_id-BGTrue-TrNone-Te50-Mgpt-3.5-turbo-EMopenai.results.yaml\n",
      "results/ont_mondo-Prelationships-Mid.original_id-BGTrue-TrNone-Te50-Mgpt-3.5-turbo-EMopenai.results.yaml RAG+background-gpt-3.5-turbo\n",
      "MISSING: RequiresLongTermManagement\n",
      "MISSING: HasAssociatedSyndrome\n",
      "MISSING: HasAlternativeTreatment\n",
      "MISSING: HasManifestation\n",
      "MISSING: RequiresCareBy\n",
      "MISSING: RequiresSurgicalIntervention\n",
      "MISSING: MayDevelopInto\n",
      "MISSING: HasAssociatedFinding\n",
      "MISSING: HasMaterialBasisIn\n",
      "MISSING: DiseaseHasCharacteristic\n",
      "results/ont_hp-Plogical_definition-Mid.original_id-BGFalse-TrNone-Te50-Mgpt-3.5-turbo-EMopenai.results.yaml\n",
      "results/ont_obi-Plabel-Mid.original_id-BGFalse-TrNone-Te50-Mgpt-3.5-turbo-EMopenai.results.yaml\n",
      "results/ont_uberon-Pdefinition-Mid.original_id-BGFalse-TrNone-Te40-Mnous-hermes-13b-EMopenai-ACgh_uberon.results.yaml\n",
      "results/ont_envo-Pdefinition-Mid.original_id-BGTrue-TrNone-Te50-Mgpt-4-EMopenai.results.yaml\n",
      "results/ont_mp-Prelationships-Mid.original_id-BGFalse-TrNone-Te50-Mgpt-3.5-turbo-EMopenai.results.yaml\n",
      "results/ont_mp-Prelationships-Mid.original_id-BGFalse-TrNone-Te50-Mgpt-3.5-turbo-EMopenai.results.yaml RAG-gpt-3.5-turbo\n",
      "results/ont_envo-Pdefinition-Mid.original_id-BGFalse-TrNone-Te50-Mgpt-4-EMopenai-ACgh_envo.results.yaml\n",
      "results/ont_go-Prelationships-Mid.original_id-BGTrue-TrNone-Te50-Mgpt-3.5-turbo-EMopenai.results.yaml\n",
      "results/ont_go-Prelationships-Mid.original_id-BGTrue-TrNone-Te50-Mgpt-3.5-turbo-EMopenai.results.yaml RAG+background-gpt-3.5-turbo\n",
      "MISSING: Activates\n",
      "MISSING: Modulates\n",
      "results/ont_go-Plabel-Mid.original_id-BGFalse-TrNone-Te50-Mgpt-3.5-turbo-EMopenai.results.yaml\n",
      "results/ont_obi-Pdefinition-Mid.original_id-BGFalse-TrNone-Te50-Mnous-hermes-13b-EMopenai.results.yaml\n",
      "results/ont_foodon-Pdefinition-Mid.original_id-BGTrue-TrNone-Te50-Mgpt-4-EMopenai.results.yaml\n",
      "results/ont_obi-Pdefinition-Mid.original_id-BGFalse-TrNone-Te50-Mgpt-3.5-turbo-EMopenai.results.yaml\n",
      "results/ont_mp-Prelationships-Mid.original_id-BGFalse-TrNone-Te50-Mgpt-4-EMopenai.results.yaml\n",
      "results/ont_mp-Prelationships-Mid.original_id-BGFalse-TrNone-Te50-Mgpt-4-EMopenai.results.yaml RAG-gpt-4\n",
      "results/ont_mondo-Pdefinition-Mid.original_id-BGFalse-TrNone-Te50-Mgpt-4-EMopenai.results.yaml\n",
      "results/ont_uberon-Pdefinition-Mid.original_id-BGFalse-TrNone-Te40-Mgpt-3.5-turbo-EMopenai.results.yaml\n",
      "results/ont_cl-Plabel-Mid.original_id-BGFalse-TrNone-Te50-Mnous-hermes-13b-EMopenai.results.yaml\n",
      "results/ont_obi-Pdefinition-Mid.original_id-BGTrue-TrNone-Te50-Mgpt-3.5-turbo-EMopenai.results.yaml\n",
      "results/ont_uberon-Pdefinition-Mid.original_id-BGFalse-TrNone-Te40-Mgpt-4-EMopenai-ACgh_uberon.results.yaml\n",
      "results/ont_mondo-Plabel-Mid.original_id-BGFalse-TrNone-Te50-Mgpt-3.5-turbo-EMopenai.results.yaml\n",
      "results/ont_envo-Prelationships-Mid.original_id-BGFalse-TrNone-Te50-Mgpt-4-EMopenai.results.yaml\n",
      "results/ont_envo-Prelationships-Mid.original_id-BGFalse-TrNone-Te50-Mgpt-4-EMopenai.results.yaml RAG-gpt-4\n",
      "MISSING: UsedToProvide\n",
      "MISSING: InheresIn\n",
      "results/ont_hp-Pdefinition-Mid.original_id-BGFalse-TrNone-Te50-Mgpt-4-EMopenai.results.yaml\n",
      "results/ont_foodon-Pdefinition-Mid.original_id-BGFalse-TrNone-Te50-Mnous-hermes-13b-EMopenai.results.yaml\n",
      "results/ont_foodon-Plabel-Mid.original_id-BGTrue-TrNone-Te50-Mgpt-3.5-turbo-EMopenai.results.yaml\n",
      "results/ont_go-Pdefinition-Mid.original_id-BGTrue-TrNone-Te50-Mgpt-4-EMopenai.results.yaml\n",
      "results/ont_cl-Plabel-Mid.original_id-BGTrue-TrNone-Te50-Mgpt-3.5-turbo-EMopenai.results.yaml\n",
      "results/ont_oba-Prelationships-Mid.original_id-BGFalse-TrNone-Te50-Mgpt-4-EMopenai.results.yaml\n",
      "results/ont_oba-Prelationships-Mid.original_id-BGFalse-TrNone-Te50-Mgpt-4-EMopenai.results.yaml RAG-gpt-4\n",
      "results/ont_mondo-Plogical_definition-Mid.original_id-BGFalse-TrNone-Te50-Mgpt-3.5-turbo-EMopenai.results.yaml\n",
      "results/ont_mp-Pdefinition-Mid.original_id-BGFalse-TrNone-Te50-Mgpt-3.5-turbo-EMopenai.results.yaml\n",
      "results/ont_uberon-Plabel-Mid.original_id-BGFalse-TrNone-Te40-Mgpt-3.5-turbo-EMopenai.results.yaml\n",
      "results/ont_cl-Prelationships-Mid.original_id-BGFalse-TrNone-Te50-Mgpt-3.5-turbo-EMopenai.results.yaml\n",
      "results/ont_cl-Prelationships-Mid.original_id-BGFalse-TrNone-Te50-Mgpt-3.5-turbo-EMopenai.results.yaml RAG-gpt-3.5-turbo\n",
      "MISSING: HasExpressionOf\n",
      "MISSING: ConnectsTo\n",
      "MISSING: ContributesTo\n",
      "MISSING: ConnectsTo\n",
      "MISSING: HasCellPart\n",
      "MISSING: HasSynapticIOWith\n",
      "MISSING: HasMinimalContactWith\n",
      "MISSING: InvasiveCellType\n",
      "MISSING: LacksMorphologicalFeature\n",
      "results/ont_hp-Plogical_definition-Mid.original_id-BGFalse-TrNone-Te50-Mgpt-4-EMopenai.results.yaml\n",
      "results/ont_cl-Prelationships-Mid.original_id-BGFalse-TrNone-Te50-Mgpt-4-EMopenai.results.yaml\n",
      "results/ont_cl-Prelationships-Mid.original_id-BGFalse-TrNone-Te50-Mgpt-4-EMopenai.results.yaml RAG-gpt-4\n",
      "MISSING: ReceivesConnectivityInputFrom\n",
      "MISSING: AxonIn\n",
      "MISSING: ConnectsTo\n",
      "MISSING: HasSynapticConvergenceOf\n",
      "MISSING: HasSynapticDivergentTo\n",
      "MISSING: HasCytosolPart\n",
      "MISSING: isPartOf\n",
      "MISSING: minimalContactWith\n",
      "MISSING: SynapsesWith\n",
      "MISSING: LacksIntracellularComponent\n",
      "results/ont_hp-Plabel-Mid.original_id-BGFalse-TrNone-Te50-Mgpt-3.5-turbo-EMopenai.results.yaml\n",
      "results/ont_cl-Pdefinition-Mid.original_id-BGFalse-TrNone-Te50-Mnous-hermes-13b-EMopenai.results.yaml\n",
      "results/ont_foodon-Plabel-Mid.original_id-BGFalse-TrNone-Te50-Mnous-hermes-13b-EMopenai.results.yaml\n",
      "results/ont_uberon-Plabel-Mid.original_id-BGFalse-TrNone-Te44-Mgpt-4-EMopenai.results.yaml\n",
      "results/ont_foodon-Pdefinition-Mid.original_id-BGTrue-TrNone-Te50-Mgpt-3.5-turbo-EMopenai-ACgh_foodon.results.yaml\n",
      "results/ont_hp-Pdefinition-Mid.original_id-BGFalse-TrNone-Te50-Mgpt-3.5-turbo-EMopenai.results.yaml\n",
      "results/ont_mp-Plogical_definition-Mid.original_id-BGFalse-TrNone-Te50-Mgpt-4-EMopenai.results.yaml\n",
      "results/ont_oba-Plabel-Mid.original_id-BGFalse-TrNone-Te50-Mnous-hermes-13b-EMopenai.results.yaml\n",
      "results/ont_envo-Pdefinition-Mid.original_id-BGFalse-TrNone-Te50-Mgpt-3.5-turbo-EMopenai-ACgh_envo.results.yaml\n",
      "results/ont_cl-Pdefinition-Mid.original_id-BGFalse-TrNone-Te50-Mgpt-3.5-turbo-EMopenai-ACdevdocs_cl.results.yaml\n",
      "results/ont_cl-Pdefinition-Mid.original_id-BGFalse-TrNone-Te50-Mgpt-3.5-turbo-EMopenai-ACgh_cl.results.yaml\n",
      "results/ont_cl-Prelationships-Mid.original_id-BGTrue-TrNone-Te50-Mgpt-4-EMopenai.results.yaml\n",
      "results/ont_cl-Prelationships-Mid.original_id-BGTrue-TrNone-Te50-Mgpt-4-EMopenai.results.yaml RAG+background-gpt-4\n",
      "MISSING: StratifiesInRegion\n",
      "MISSING: Contacts\n",
      "MISSING: HasDistribution\n",
      "MISSING: IsPartOf\n",
      "MISSING: PredominantlyConnectsTo\n",
      "MISSING: ContributesTo\n",
      "MISSING: ConnectsTo\n",
      "MISSING: ContributesTo\n",
      "MISSING: Secretes\n",
      "MISSING: Undergoes\n",
      "MISSING: CooperatesWith\n",
      "MISSING: ContributesTo\n",
      "MISSING: connectsTo\n",
      "MISSING: HasCytosolPart\n",
      "MISSING: MostContactsAre\n",
      "MISSING: AxonCharacterizedBy\n",
      "MISSING: HasProperty\n",
      "MISSING: AssociatedWith\n",
      "MISSING: HasSynapticContactWith\n",
      "MISSING: HasMinimalContactWith\n",
      "MISSING: FoundInTaxon\n",
      "MISSING: LacksIntracellularPart\n",
      "results/ont_cl-Pdefinition-Mid.original_id-BGFalse-TrNone-Te50-Mgpt-3.5-turbo-EMopenai.results.yaml\n",
      "results/ont_obi-Plabel-Mid.original_id-BGFalse-TrNone-Te50-Mgpt-4-EMopenai.results.yaml\n",
      "results/ont_cl-Prelationships-Mid.original_id-BGTrue-TrNone-Te50-Mgpt-3.5-turbo-EMopenai.results.yaml\n",
      "results/ont_cl-Prelationships-Mid.original_id-BGTrue-TrNone-Te50-Mgpt-3.5-turbo-EMopenai.results.yaml RAG+background-gpt-3.5-turbo\n",
      "MISSING: ConnectsWith\n",
      "MISSING: EnrichedIn\n",
      "MISSING: ConnectsTo\n",
      "MISSING: HasSynapticIOWith\n",
      "MISSING: Amplifies\n",
      "MISSING: ExpressesGene\n",
      "MISSING: LocalizedIn\n",
      "BAD REL: {'predicate': 'Produces', 'target': ['FrameworkOfElastin', 'Tenascin']} in [{'predicate': 'subClassOf', 'target': 'Myofibroblast'}, {'predicate': 'PartOf', 'target': 'Alveoli'}, {'predicate': 'Function', 'target': 'ElongateSecondaryCrest'}, {'predicate': 'Produces', 'target': ['FrameworkOfElastin', 'Tenascin']}, {'predicate': 'WorksWith', 'target': 'MatrixFibroblast'}, {'predicate': 'Secrete', 'target': 'Metalloproteinases'}, {'predicate': 'ContinuesProducing', 'target': 'Elastin'}, {'predicate': 'Undergoes', 'target': 'Apoptosis'}, {'predicate': 'subClassOf', 'target': 'LungDevelopmentCell'}]\n",
      "MISSING: Secrete\n",
      "MISSING: ContinuesProducing\n",
      "MISSING: Undergoes\n",
      "MISSING: WorksWith\n",
      "MISSING: HasSynapticIOWith\n",
      "MISSING: UndergoesChangeInShape\n",
      "MISSING: HasShape\n",
      "MISSING: FormsBarrierAgainst\n",
      "MISSING: LacksCytoplasmicPart\n",
      "MISSING: HasCytoplasmicPart\n",
      "MISSING: IsAssociatedWith\n",
      "MISSING: HasMorphology\n",
      "MISSING: Resembles\n",
      "MISSING: HasMinimalSynapticContactWith\n",
      "MISSING: HasSynapticContactWith\n",
      "MISSING: LacksOrganelle\n",
      "results/ont_oba-Plogical_definition-Mid.original_id-BGFalse-TrNone-Te50-Mgpt-4-EMopenai.results.yaml\n",
      "results/ont_uberon-Prelationships-Mid.original_id-BGFalse-TrNone-Te40-Mgpt-3.5-turbo-EMopenai.results.yaml\n",
      "results/ont_uberon-Prelationships-Mid.original_id-BGFalse-TrNone-Te40-Mgpt-3.5-turbo-EMopenai.results.yaml RAG-gpt-3.5-turbo\n",
      "MISSING: SubareaOf\n",
      "MISSING: DrainsInto\n",
      "MISSING: BorderedBy\n",
      "MISSING: LocatedOn\n",
      "MISSING: Secrete\n",
      "MISSING: Promote\n",
      "MISSING: Maintain\n",
      "results/ont_envo-Pdefinition-Mid.original_id-BGFalse-TrNone-Te50-Mgpt-3.5-turbo-EMopenai.results.yaml\n",
      "results/ont_obi-Plabel-Mid.original_id-BGFalse-TrNone-Te50-Mnous-hermes-13b-EMopenai.results.yaml\n",
      "results/ont_envo-Pdefinition-Mid.original_id-BGFalse-TrNone-Te50-Mgpt-4-EMopenai.results.yaml\n",
      "results/ont_oba-Pdefinition-Mid.original_id-BGTrue-TrNone-Te50-Mgpt-3.5-turbo-EMopenai.results.yaml\n",
      "results/ont_hp-Prelationships-Mid.original_id-BGFalse-TrNone-Te50-Mgpt-3.5-turbo-EMopenai.results.yaml\n",
      "results/ont_hp-Prelationships-Mid.original_id-BGFalse-TrNone-Te50-Mgpt-3.5-turbo-EMopenai.results.yaml RAG-gpt-3.5-turbo\n",
      "results/ont_mondo-Plabel-Mid.original_id-BGTrue-TrNone-Te50-Mgpt-4-EMopenai.results.yaml\n",
      "results/ont_oba-Pdefinition-Mid.original_id-BGFalse-TrNone-Te50-Mgpt-3.5-turbo-EMopenai.results.yaml\n",
      "results/ont_envo-Pdefinition-Mid.original_id-BGTrue-TrNone-Te50-Mgpt-3.5-turbo-EMopenai.results.yaml\n",
      "results/ont_uberon-Pdefinition-Mid.original_id-BGTrue-TrNone-Te40-Mgpt-4-EMopenai.results.yaml\n",
      "results/ont_mondo-Prelationships-Mid.original_id-BGFalse-TrNone-Te50-Mgpt-3.5-turbo-EMopenai.results.yaml\n",
      "results/ont_mondo-Prelationships-Mid.original_id-BGFalse-TrNone-Te50-Mgpt-3.5-turbo-EMopenai.results.yaml RAG-gpt-3.5-turbo\n",
      "MISSING: HasMaterialBasisInMaternalDerivedAndrogen\n",
      "results/ont_cl-Plogical_definition-Mid.original_id-BGFalse-TrNone-Te50-Mgpt-4-EMopenai.results.yaml\n",
      "results/ont_uberon-Prelationships-Mid.original_id-BGFalse-TrNone-Te44-Mgpt-4-EMopenai.results.yaml\n",
      "results/ont_uberon-Prelationships-Mid.original_id-BGFalse-TrNone-Te44-Mgpt-4-EMopenai.results.yaml RAG-gpt-4\n",
      "MISSING: AssociatedWith\n",
      "MISSING: MadeByDevelopmentalProcess\n",
      "MISSING: ComposedOf\n",
      "MISSING: CharacterizedBy\n",
      "MISSING: LocatedBehind\n",
      "MISSING: AssociatedWith\n",
      "results/ont_foodon-Prelationships-Mid.original_id-BGFalse-TrNone-Te50-Mgpt-3.5-turbo-EMopenai.results.yaml\n",
      "results/ont_foodon-Prelationships-Mid.original_id-BGFalse-TrNone-Te50-Mgpt-3.5-turbo-EMopenai.results.yaml RAG-gpt-3.5-turbo\n",
      "MISSING: DerivedFrom\n",
      "MISSING: HasPreparation\n",
      "MISSING: HasQuality_RO:0000086\n",
      "MISSING: HasProperty\n",
      "MISSING: HasQuality_RO:0000086\n",
      "MISSING: HasQuality_RO:0000086\n",
      "MISSING: HasQuality_RO:0000086\n",
      "results/ont_uberon-Pdefinition-Mid.original_id-BGTrue-TrNone-Te40-Mnous-hermes-13b-EMopenai.results.yaml\n",
      "results/ont_foodon-Prelationships-Mid.original_id-BGFalse-TrNone-Te50-Mgpt-4-EMopenai.results.yaml\n",
      "results/ont_foodon-Prelationships-Mid.original_id-BGFalse-TrNone-Te50-Mgpt-4-EMopenai.results.yaml RAG-gpt-4\n",
      "MISSING: HasProcessing\n",
      "MISSING: HasQuality_RO:0000086\n",
      "MISSING: HasQuality_RO:0000086\n",
      "MISSING: HasQuality_RO:0000086\n",
      "MISSING: HasQuality_RO:0000086\n",
      "MISSING: HasQuality_RO:0000086\n",
      "MISSING: HasStage\n",
      "results/ont_oba-Plabel-Mid.original_id-BGTrue-TrNone-Te50-Mgpt-3.5-turbo-EMopenai.results.yaml\n",
      "results/ont_go-Pdefinition-Mid.original_id-BGFalse-TrNone-Te50-Mnous-hermes-13b-EMopenai.results.yaml\n",
      "results/ont_envo-Plabel-Mid.original_id-BGFalse-TrNone-Te50-Mgpt-4-EMopenai.results.yaml\n",
      "results/ont_obi-Prelationships-Mid.original_id-BGTrue-TrNone-Te50-Mgpt-3.5-turbo-EMopenai.results.yaml\n",
      "results/ont_obi-Prelationships-Mid.original_id-BGTrue-TrNone-Te50-Mgpt-3.5-turbo-EMopenai.results.yaml RAG+background-gpt-3.5-turbo\n",
      "MISSING: assesses\n",
      "MISSING: Detects\n",
      "MISSING: HasManufacturer\n",
      "MISSING: IsUsedForDetectionOf\n",
      "results/ont_uberon-Pdefinition-Mid.original_id-BGFalse-TrNone-Te40-Mgpt-4-EMopenai.results.yaml\n",
      "results/ont_foodon-Prelationships-Mid.original_id-BGTrue-TrNone-Te50-Mgpt-3.5-turbo-EMopenai.results.yaml\n",
      "results/ont_foodon-Prelationships-Mid.original_id-BGTrue-TrNone-Te50-Mgpt-3.5-turbo-EMopenai.results.yaml RAG+background-gpt-3.5-turbo\n",
      "MISSING: hasProcess\n",
      "MISSING: HasQuality_RO:0000086\n",
      "MISSING: HasQuality_RO:0000086\n",
      "MISSING: HasQuality_RO:0000086\n",
      "MISSING: HasQuality_RO:0000086\n",
      "results/ont_foodon-Pdefinition-Mid.original_id-BGTrue-TrNone-Te50-Mgpt-3.5-turbo-EMopenai.results.yaml\n",
      "results/ont_foodon-Prelationships-Mid.original_id-BGTrue-TrNone-Te50-Mgpt-4-EMopenai.results.yaml\n",
      "results/ont_foodon-Prelationships-Mid.original_id-BGTrue-TrNone-Te50-Mgpt-4-EMopenai.results.yaml RAG+background-gpt-4\n",
      "MISSING: stateOfMatter\n",
      "MISSING: HasQuality_RO:0000086\n",
      "MISSING: HasQuality_RO:0000086\n",
      "MISSING: HasQuality_RO:0000086\n",
      "MISSING: hasColor\n",
      "MISSING: HasQuality_RO:0000086\n",
      "MISSING: HasQuality_RO:0000086\n",
      "MISSING: HasQuality_RO:0000086\n",
      "MISSING: HasProperty\n",
      "MISSING: HasQuality_RO:0000086\n",
      "MISSING: HasQuality_RO:0000086\n"
     ]
    },
    {
     "data": {
      "text/plain": "     model_name embedding_model_name  generate_background  \\\n0         gpt-4              openai:                 True   \n1         gpt-4              openai:                 True   \n2         gpt-4              openai:                 True   \n3         gpt-4              openai:                 True   \n4         gpt-4              openai:                 True   \n...         ...                  ...                  ...   \n5229      gpt-4              openai:                 True   \n5230      gpt-4              openai:                 True   \n5231      gpt-4              openai:                 True   \n5232      gpt-4              openai:                 True   \n5233      gpt-4              openai:                 True   \n\n                    task_started               task_finished  \\\n0     2023-09-01 10:18:02.586748  2023-09-01 10:48:40.723027   \n1     2023-09-01 10:18:02.586748  2023-09-01 10:48:40.723027   \n2     2023-09-01 10:18:02.586748  2023-09-01 10:48:40.723027   \n3     2023-09-01 10:18:02.586748  2023-09-01 10:48:40.723027   \n4     2023-09-01 10:18:02.586748  2023-09-01 10:48:40.723027   \n...                          ...                         ...   \n5229  2023-09-03 22:37:08.004964  2023-09-03 23:02:01.765563   \n5230  2023-09-03 22:37:08.004964  2023-09-03 23:02:01.765563   \n5231  2023-09-03 22:37:08.004964  2023-09-03 23:02:01.765563   \n5232  2023-09-03 22:37:08.004964  2023-09-03 23:02:01.765563   \n5233  2023-09-03 22:37:08.004964  2023-09-03 23:02:01.765563   \n\n                                            executed_on agent       extractor  \\\n0     Darwin-21.6.0-Darwin Kernel Version 21.6.0: Mo...   dae  BasicExtractor   \n1     Darwin-21.6.0-Darwin Kernel Version 21.6.0: Mo...   dae  BasicExtractor   \n2     Darwin-21.6.0-Darwin Kernel Version 21.6.0: Mo...   dae  BasicExtractor   \n3     Darwin-21.6.0-Darwin Kernel Version 21.6.0: Mo...   dae  BasicExtractor   \n4     Darwin-21.6.0-Darwin Kernel Version 21.6.0: Mo...   dae  BasicExtractor   \n...                                                 ...   ...             ...   \n5229  Darwin-21.6.0-Darwin Kernel Version 21.6.0: Mo...   dae  BasicExtractor   \n5230  Darwin-21.6.0-Darwin Kernel Version 21.6.0: Mo...   dae  BasicExtractor   \n5231  Darwin-21.6.0-Darwin Kernel Version 21.6.0: Mo...   dae  BasicExtractor   \n5232  Darwin-21.6.0-Darwin Kernel Version 21.6.0: Mo...   dae  BasicExtractor   \n5233  Darwin-21.6.0-Darwin Kernel Version 21.6.0: Mo...   dae  BasicExtractor   \n\n                    method source_db_path  ... ontology          term_id  \\\n0     RAG+background-gpt-4             db  ...       go       GO:0160073   \n1     RAG+background-gpt-4             db  ...       go       GO:0160073   \n2     RAG+background-gpt-4             db  ...       go       GO:0160073   \n3     RAG+background-gpt-4             db  ...       go       GO:0120340   \n4     RAG+background-gpt-4             db  ...       go       GO:0120340   \n...                    ...            ...  ...      ...              ...   \n5229  RAG+background-gpt-4             db  ...   foodon  FOODON:00004454   \n5230  RAG+background-gpt-4             db  ...   foodon  FOODON:00004454   \n5231  RAG+background-gpt-4             db  ...   foodon  FOODON:00004438   \n5232  RAG+background-gpt-4             db  ...   foodon  FOODON:00004438   \n5233  RAG+background-gpt-4             db  ...   foodon  FOODON:00004438   \n\n                       term_label                 pred         outcome  \\\n0        Casparian strip assembly           subClassOf   true_positive   \n1        Casparian strip assembly               PartOf  false_negative   \n2        Casparian strip assembly  ResultsInAssemblyOf   true_positive   \n3             radial spoke base 1           subClassOf   true_positive   \n4             radial spoke base 1               PartOf   true_positive   \n...                           ...                  ...             ...   \n5229  green cardamom seed (dried)           subClassOf   true_positive   \n5230  green cardamom seed (dried)          DerivesFrom  false_positive   \n5231       common millet (cooked)           subClassOf  false_positive   \n5232       common millet (cooked)           subClassOf  false_positive   \n5233       common millet (cooked)           subClassOf  false_negative   \n\n     qualifier               expected_tgt                 predicted_tgt  \\\n0         None  CellularComponentAssembly     CellularComponentAssembly   \n1         None  PlantTypeCellWallAssembly                          None   \n2         None             CasparianStrip                CasparianStrip   \n3         None            RadialSpokeBase               RadialSpokeBase   \n4         None               RadialSpoke1                  RadialSpoke1   \n...        ...                        ...                           ...   \n5229      None        CardamomFoodProduct           CardamomFoodProduct   \n5230      None                       None            GreenCardamomPlant   \n5231      None                       None                  Food_cooked_   \n5232      None                       None  Common_millet_wholeOrPieces_   \n5233      None    CommonMilletFoodProduct                          None   \n\n     predicted_tgt_exists additional_collections  \n0                    True                    NaN  \n1                    True                    NaN  \n2                    True                    NaN  \n3                    True                    NaN  \n4                    True                    NaN  \n...                   ...                    ...  \n5229                 True                    NaN  \n5230                 True                    NaN  \n5231                False                    NaN  \n5232                False                    NaN  \n5233                 True                    NaN  \n\n[5234 rows x 31 columns]",
      "text/html": "<div>\n<style scoped>\n    .dataframe tbody tr th:only-of-type {\n        vertical-align: middle;\n    }\n\n    .dataframe tbody tr th {\n        vertical-align: top;\n    }\n\n    .dataframe thead th {\n        text-align: right;\n    }\n</style>\n<table border=\"1\" class=\"dataframe\">\n  <thead>\n    <tr style=\"text-align: right;\">\n      <th></th>\n      <th>model_name</th>\n      <th>embedding_model_name</th>\n      <th>generate_background</th>\n      <th>task_started</th>\n      <th>task_finished</th>\n      <th>executed_on</th>\n      <th>agent</th>\n      <th>extractor</th>\n      <th>method</th>\n      <th>source_db_path</th>\n      <th>...</th>\n      <th>ontology</th>\n      <th>term_id</th>\n      <th>term_label</th>\n      <th>pred</th>\n      <th>outcome</th>\n      <th>qualifier</th>\n      <th>expected_tgt</th>\n      <th>predicted_tgt</th>\n      <th>predicted_tgt_exists</th>\n      <th>additional_collections</th>\n    </tr>\n  </thead>\n  <tbody>\n    <tr>\n      <th>0</th>\n      <td>gpt-4</td>\n      <td>openai:</td>\n      <td>True</td>\n      <td>2023-09-01 10:18:02.586748</td>\n      <td>2023-09-01 10:48:40.723027</td>\n      <td>Darwin-21.6.0-Darwin Kernel Version 21.6.0: Mo...</td>\n      <td>dae</td>\n      <td>BasicExtractor</td>\n      <td>RAG+background-gpt-4</td>\n      <td>db</td>\n      <td>...</td>\n      <td>go</td>\n      <td>GO:0160073</td>\n      <td>Casparian strip assembly</td>\n      <td>subClassOf</td>\n      <td>true_positive</td>\n      <td>None</td>\n      <td>CellularComponentAssembly</td>\n      <td>CellularComponentAssembly</td>\n      <td>True</td>\n      <td>NaN</td>\n    </tr>\n    <tr>\n      <th>1</th>\n      <td>gpt-4</td>\n      <td>openai:</td>\n      <td>True</td>\n      <td>2023-09-01 10:18:02.586748</td>\n      <td>2023-09-01 10:48:40.723027</td>\n      <td>Darwin-21.6.0-Darwin Kernel Version 21.6.0: Mo...</td>\n      <td>dae</td>\n      <td>BasicExtractor</td>\n      <td>RAG+background-gpt-4</td>\n      <td>db</td>\n      <td>...</td>\n      <td>go</td>\n      <td>GO:0160073</td>\n      <td>Casparian strip assembly</td>\n      <td>PartOf</td>\n      <td>false_negative</td>\n      <td>None</td>\n      <td>PlantTypeCellWallAssembly</td>\n      <td>None</td>\n      <td>True</td>\n      <td>NaN</td>\n    </tr>\n    <tr>\n      <th>2</th>\n      <td>gpt-4</td>\n      <td>openai:</td>\n      <td>True</td>\n      <td>2023-09-01 10:18:02.586748</td>\n      <td>2023-09-01 10:48:40.723027</td>\n      <td>Darwin-21.6.0-Darwin Kernel Version 21.6.0: Mo...</td>\n      <td>dae</td>\n      <td>BasicExtractor</td>\n      <td>RAG+background-gpt-4</td>\n      <td>db</td>\n      <td>...</td>\n      <td>go</td>\n      <td>GO:0160073</td>\n      <td>Casparian strip assembly</td>\n      <td>ResultsInAssemblyOf</td>\n      <td>true_positive</td>\n      <td>None</td>\n      <td>CasparianStrip</td>\n      <td>CasparianStrip</td>\n      <td>True</td>\n      <td>NaN</td>\n    </tr>\n    <tr>\n      <th>3</th>\n      <td>gpt-4</td>\n      <td>openai:</td>\n      <td>True</td>\n      <td>2023-09-01 10:18:02.586748</td>\n      <td>2023-09-01 10:48:40.723027</td>\n      <td>Darwin-21.6.0-Darwin Kernel Version 21.6.0: Mo...</td>\n      <td>dae</td>\n      <td>BasicExtractor</td>\n      <td>RAG+background-gpt-4</td>\n      <td>db</td>\n      <td>...</td>\n      <td>go</td>\n      <td>GO:0120340</td>\n      <td>radial spoke base 1</td>\n      <td>subClassOf</td>\n      <td>true_positive</td>\n      <td>None</td>\n      <td>RadialSpokeBase</td>\n      <td>RadialSpokeBase</td>\n      <td>True</td>\n      <td>NaN</td>\n    </tr>\n    <tr>\n      <th>4</th>\n      <td>gpt-4</td>\n      <td>openai:</td>\n      <td>True</td>\n      <td>2023-09-01 10:18:02.586748</td>\n      <td>2023-09-01 10:48:40.723027</td>\n      <td>Darwin-21.6.0-Darwin Kernel Version 21.6.0: Mo...</td>\n      <td>dae</td>\n      <td>BasicExtractor</td>\n      <td>RAG+background-gpt-4</td>\n      <td>db</td>\n      <td>...</td>\n      <td>go</td>\n      <td>GO:0120340</td>\n      <td>radial spoke base 1</td>\n      <td>PartOf</td>\n      <td>true_positive</td>\n      <td>None</td>\n      <td>RadialSpoke1</td>\n      <td>RadialSpoke1</td>\n      <td>True</td>\n      <td>NaN</td>\n    </tr>\n    <tr>\n      <th>...</th>\n      <td>...</td>\n      <td>...</td>\n      <td>...</td>\n      <td>...</td>\n      <td>...</td>\n      <td>...</td>\n      <td>...</td>\n      <td>...</td>\n      <td>...</td>\n      <td>...</td>\n      <td>...</td>\n      <td>...</td>\n      <td>...</td>\n      <td>...</td>\n      <td>...</td>\n      <td>...</td>\n      <td>...</td>\n      <td>...</td>\n      <td>...</td>\n      <td>...</td>\n      <td>...</td>\n    </tr>\n    <tr>\n      <th>5229</th>\n      <td>gpt-4</td>\n      <td>openai:</td>\n      <td>True</td>\n      <td>2023-09-03 22:37:08.004964</td>\n      <td>2023-09-03 23:02:01.765563</td>\n      <td>Darwin-21.6.0-Darwin Kernel Version 21.6.0: Mo...</td>\n      <td>dae</td>\n      <td>BasicExtractor</td>\n      <td>RAG+background-gpt-4</td>\n      <td>db</td>\n      <td>...</td>\n      <td>foodon</td>\n      <td>FOODON:00004454</td>\n      <td>green cardamom seed (dried)</td>\n      <td>subClassOf</td>\n      <td>true_positive</td>\n      <td>None</td>\n      <td>CardamomFoodProduct</td>\n      <td>CardamomFoodProduct</td>\n      <td>True</td>\n      <td>NaN</td>\n    </tr>\n    <tr>\n      <th>5230</th>\n      <td>gpt-4</td>\n      <td>openai:</td>\n      <td>True</td>\n      <td>2023-09-03 22:37:08.004964</td>\n      <td>2023-09-03 23:02:01.765563</td>\n      <td>Darwin-21.6.0-Darwin Kernel Version 21.6.0: Mo...</td>\n      <td>dae</td>\n      <td>BasicExtractor</td>\n      <td>RAG+background-gpt-4</td>\n      <td>db</td>\n      <td>...</td>\n      <td>foodon</td>\n      <td>FOODON:00004454</td>\n      <td>green cardamom seed (dried)</td>\n      <td>DerivesFrom</td>\n      <td>false_positive</td>\n      <td>None</td>\n      <td>None</td>\n      <td>GreenCardamomPlant</td>\n      <td>True</td>\n      <td>NaN</td>\n    </tr>\n    <tr>\n      <th>5231</th>\n      <td>gpt-4</td>\n      <td>openai:</td>\n      <td>True</td>\n      <td>2023-09-03 22:37:08.004964</td>\n      <td>2023-09-03 23:02:01.765563</td>\n      <td>Darwin-21.6.0-Darwin Kernel Version 21.6.0: Mo...</td>\n      <td>dae</td>\n      <td>BasicExtractor</td>\n      <td>RAG+background-gpt-4</td>\n      <td>db</td>\n      <td>...</td>\n      <td>foodon</td>\n      <td>FOODON:00004438</td>\n      <td>common millet (cooked)</td>\n      <td>subClassOf</td>\n      <td>false_positive</td>\n      <td>None</td>\n      <td>None</td>\n      <td>Food_cooked_</td>\n      <td>False</td>\n      <td>NaN</td>\n    </tr>\n    <tr>\n      <th>5232</th>\n      <td>gpt-4</td>\n      <td>openai:</td>\n      <td>True</td>\n      <td>2023-09-03 22:37:08.004964</td>\n      <td>2023-09-03 23:02:01.765563</td>\n      <td>Darwin-21.6.0-Darwin Kernel Version 21.6.0: Mo...</td>\n      <td>dae</td>\n      <td>BasicExtractor</td>\n      <td>RAG+background-gpt-4</td>\n      <td>db</td>\n      <td>...</td>\n      <td>foodon</td>\n      <td>FOODON:00004438</td>\n      <td>common millet (cooked)</td>\n      <td>subClassOf</td>\n      <td>false_positive</td>\n      <td>None</td>\n      <td>None</td>\n      <td>Common_millet_wholeOrPieces_</td>\n      <td>False</td>\n      <td>NaN</td>\n    </tr>\n    <tr>\n      <th>5233</th>\n      <td>gpt-4</td>\n      <td>openai:</td>\n      <td>True</td>\n      <td>2023-09-03 22:37:08.004964</td>\n      <td>2023-09-03 23:02:01.765563</td>\n      <td>Darwin-21.6.0-Darwin Kernel Version 21.6.0: Mo...</td>\n      <td>dae</td>\n      <td>BasicExtractor</td>\n      <td>RAG+background-gpt-4</td>\n      <td>db</td>\n      <td>...</td>\n      <td>foodon</td>\n      <td>FOODON:00004438</td>\n      <td>common millet (cooked)</td>\n      <td>subClassOf</td>\n      <td>false_negative</td>\n      <td>None</td>\n      <td>CommonMilletFoodProduct</td>\n      <td>None</td>\n      <td>True</td>\n      <td>NaN</td>\n    </tr>\n  </tbody>\n</table>\n<p>5234 rows × 31 columns</p>\n</div>"
     },
     "execution_count": 89,
     "metadata": {},
     "output_type": "execute_result"
    }
   ],
   "source": [
    "df = load_all_results_new()\n",
    "df"
   ],
   "metadata": {
    "collapsed": false,
    "ExecuteTime": {
     "start_time": "2023-12-12T21:52:26.075511Z"
    }
   },
   "id": "f76bff91a6786474"
  },
  {
   "cell_type": "code",
   "execution_count": 90,
   "outputs": [],
   "source": [
    "df.to_csv(\"results/predicted-relationships-for-eval.tsv\", sep=\"\\t\", index=False)"
   ],
   "metadata": {
    "collapsed": false,
    "ExecuteTime": {
     "end_time": "2023-12-12T23:14:06.726218Z",
     "start_time": "2023-12-12T23:14:06.656675Z"
    }
   },
   "id": "75fecddd2d57b46b"
  },
  {
   "cell_type": "code",
   "execution_count": 91,
   "outputs": [],
   "source": [
    "df.query(\"method == 'RAG-gpt-4'\").to_csv(\"results/predicted-relationships-for-eval-rag-gpt-4.tsv\", sep=\"\\t\", index=False)"
   ],
   "metadata": {
    "collapsed": false,
    "ExecuteTime": {
     "end_time": "2023-12-12T23:34:16.165673Z",
     "start_time": "2023-12-12T23:34:16.126541Z"
    }
   },
   "id": "f8a8f773889da096"
  },
  {
   "cell_type": "markdown",
   "id": "a84de4ee-c273-4457-9bb0-0de8f684d8c3",
   "metadata": {},
   "source": [
    "## Loading YAML result objects\n",
    "\n",
    "Each run generates a single yaml object"
   ]
  },
  {
   "cell_type": "code",
   "execution_count": null,
   "id": "32a6ec25-7954-4124-9d3b-10df383804b8",
   "metadata": {
    "ExecuteTime": {
     "end_time": "2023-12-12T01:03:46.135715Z",
     "start_time": "2023-12-12T01:03:46.112383Z"
    }
   },
   "outputs": [],
   "source": [
    "\n",
    "\n",
    "def load_results(f):\n",
    "    \"\"\"Loads main results summaries\"\"\"\n",
    "    obj = yaml.safe_load(open(f))\n",
    "    ont = obj[\"source_collection\"].replace(\"ont_\", \"\")\n",
    "    for k, v in obj[\"results\"].items():\n",
    "        obj[k] = v\n",
    "    del obj[\"results\"]\n",
    "    obj[\"task\"] = \" \".join(obj[\"fields_to_predict\"])\n",
    "    obj[\"ontology\"] = ont\n",
    "    #additional = obj.get(\"additional_collections\", [])\n",
    "    #is_github = any(x for x in additional if x.startswith(\"gh_\")) if additional else []\n",
    "    #obj[\"method\"] = \"background\" if obj.get(\"generate_background\") else (\"github\" if is_github else \"direct\")\n",
    "    obj[\"method\"] = get_method(obj)\n",
    "    return obj\n",
    "\n",
    "from pathlib import Path\n",
    "def load_granular_results():\n",
    "    files = glob.glob(\"results/*.results.tsv\")\n",
    "    dfs = []\n",
    "    for file in files:\n",
    "        yaml_path = file.replace(\".tsv\", \".yaml\")\n",
    "        if not Path(yaml_path).exists():\n",
    "            continue\n",
    "        meta = yaml.safe_load(open(yaml_path))\n",
    "        # print(file)\n",
    "        res = pd.read_csv(file, comment=\"#\", sep=\"\\t\")\n",
    "        #res['task'] = res.apply(lambda row :  \" \".join(row.get(\"fields_to_predict\", [])), axis = 1)\n",
    "        #res['ontology'] = res.apply(lambda row :  row.get(\"source_collection\", \"\").replace(\"ont_\", \"\"), axis = 1)\n",
    "        res['task'] =  \" \".join(meta.get(\"fields_to_predict\"))\n",
    "        res['ontology'] = meta.get(\"source_collection\", \"\").replace(\"ont_\", \"\")\n",
    "        res[\"method\"] = get_method(meta)\n",
    "        res[\"model_name\"] = meta[\"model_name\"]\n",
    "        res[\"accuracy\"] = res[\"metric_accuracy\"]\n",
    "        dfs.append(res)\n",
    "    return pd.concat(dfs)\n",
    "\n",
    "all_df = load_granular_results()\n",
    "all_df.describe(include='all')"
   ]
  },
  {
   "cell_type": "code",
   "execution_count": null,
   "id": "d9d55163-247f-42ae-a02e-c91a67be9f3e",
   "metadata": {
    "ExecuteTime": {
     "start_time": "2023-12-12T01:03:46.113979Z"
    }
   },
   "outputs": [],
   "source": [
    "import glob\n",
    "\n",
    "def load_all_results() -> List[dict]:\n",
    "    \"\"\"\n",
    "    load all yaml files\n",
    "    \"\"\"\n",
    "    files = glob.glob(\"results/*.results.yaml\")\n",
    "    objs = [load_results(f) for f in files]\n",
    "    return objs\n",
    "\n",
    "objs = load_all_results()\n",
    "len(objs)\n",
    "    "
   ]
  },
  {
   "cell_type": "code",
   "execution_count": null,
   "id": "c1f6cdbe-a36b-4ac8-83f3-4cdb22e9a78d",
   "metadata": {
    "ExecuteTime": {
     "start_time": "2023-12-12T01:03:46.115699Z"
    }
   },
   "outputs": [],
   "source": [
    "df = pd.DataFrame(objs)\n",
    "df = df.query(\"model_name != 'llama2'\") # incomplete\n",
    "df.describe(include=\"all\")"
   ]
  },
  {
   "cell_type": "code",
   "execution_count": null,
   "id": "6b3bd552-9ca5-409a-bab7-7f40fda2df92",
   "metadata": {
    "ExecuteTime": {
     "start_time": "2023-12-12T01:03:46.118165Z"
    }
   },
   "outputs": [],
   "source": [
    "df.query(f\"task=='relationships' and method=='direct' and model_name=='gpt-4'\")"
   ]
  },
  {
   "cell_type": "code",
   "execution_count": null,
   "id": "bc2501b5-549f-433d-993c-e9830351c1c0",
   "metadata": {
    "ExecuteTime": {
     "start_time": "2023-12-12T01:03:46.119994Z"
    }
   },
   "outputs": [],
   "source": [
    "\n",
    "# Line plot for precision across different models and methods\n",
    "#sns.lineplot(data=df, x='model_name', y='precision', hue='method')\n",
    "#plt.show()\n",
    "\n",
    "# Heatmap for precision\n",
    "heatmap_data = pd.pivot_table(df, values='precision', \n",
    "                              index=['model_name'], \n",
    "                              columns='method')\n",
    "sns.heatmap(heatmap_data, annot=True, cmap=\"YlGnBu\")\n",
    "plt.show()\n",
    "\n",
    "# Boxplot for precision across different methods\n",
    "sns.boxplot(data=df, x='method', y='precision')\n",
    "plt.show()\n",
    "\n",
    "sns.boxplot(data=df, x='method', y='recall')\n",
    "plt.show()\n",
    "\n",
    "sns.boxplot(data=df, x='method', y='accuracy')\n",
    "plt.show()\n",
    "\n"
   ]
  },
  {
   "cell_type": "code",
   "execution_count": null,
   "id": "d9adcd33-3a12-4d0b-b34e-e2e13715833c",
   "metadata": {
    "ExecuteTime": {
     "start_time": "2023-12-12T01:03:46.121736Z"
    }
   },
   "outputs": [],
   "source": [
    "from scipy import stats\n",
    "\n",
    "\n",
    "def hm(task, method, df_x=None, metric=\"accuracy\"):\n",
    "    if df_x is None:\n",
    "        df_x = df\n",
    "    df_x = df_x.query(f\"task=='{task}' and method=='{method}'\")\n",
    "\n",
    "    # Heatmap for precision\n",
    "    heatmap_data = pd.pivot_table(df_x, values=metric, \n",
    "                                  index=['model_name'], \n",
    "                                  columns='ontology')\n",
    "    sns.heatmap(heatmap_data, annot=True, cmap=\"YlGnBu\")\n",
    "    plt.show()\n",
    "\n",
    "def my_ttest(task, method):\n",
    "    all_df_x = all_df.query(f\"task=='{task}' and method=='{method}'\")\n",
    "    models = all_df_x[\"model_name\"].unique()\n",
    "    for m1 in models:\n",
    "        for m2 in models:\n",
    "            if m2 >= m1:\n",
    "                continue\n",
    "            model1_data = all_df_x[(all_df_x['model_name'] == m1)]['accuracy']\n",
    "            model2_data = all_df_x[(all_df_x['model_name'] == m2)]['accuracy']\n",
    "\n",
    "            # Step 2: Conduct the T-Test\n",
    "            # Use ttest_ind to conduct the t-test\n",
    "            t_statistic, p_value = stats.ttest_ind(model1_data, model2_data)\n",
    "\n",
    "            print(f'{m1} v {m2}: len {len(model1_data)} v len {len(model2_data)}')\n",
    "            print(f'{m1} v {m2}: T-statistic: {t_statistic}')\n",
    "            print(f'{m1} v {m2}: P-value: {p_value}')\n",
    "    \n",
    "    \n",
    "\n",
    "def lp(task, df_x=None):\n",
    "    if df_x is None:\n",
    "        df_x = df\n",
    "    df_x = df_x.query(f\"task=='{task}'\")\n",
    "\n",
    "    sns.lineplot(data=df_x, x='model_name', y='accuracy', hue='method')\n",
    "    plt.show()"
   ]
  },
  {
   "cell_type": "markdown",
   "id": "5448b1dd-8687-4546-8cf9-4a5fcd1e0a58",
   "metadata": {},
   "source": [
    "## Relationships Task"
   ]
  },
  {
   "cell_type": "code",
   "execution_count": null,
   "id": "491f176e-ffc1-4584-a710-686e23a1ad38",
   "metadata": {
    "ExecuteTime": {
     "start_time": "2023-12-12T01:03:46.123168Z"
    }
   },
   "outputs": [],
   "source": [
    "hm(\"relationships\", \"direct\")"
   ]
  },
  {
   "cell_type": "code",
   "execution_count": null,
   "id": "86188ec0-3490-4f54-9663-df8d66368106",
   "metadata": {
    "ExecuteTime": {
     "start_time": "2023-12-12T01:03:46.126655Z"
    }
   },
   "outputs": [],
   "source": [
    "hm(\"relationships\", \"direct\", metric=\"precision\")"
   ]
  },
  {
   "cell_type": "code",
   "execution_count": null,
   "id": "3e01905e-0bc7-4009-9dd2-c657ddd438cf",
   "metadata": {
    "ExecuteTime": {
     "start_time": "2023-12-12T01:03:46.128780Z"
    }
   },
   "outputs": [],
   "source": [
    "my_ttest(\"relationships\", \"direct\")"
   ]
  },
  {
   "cell_type": "code",
   "execution_count": null,
   "id": "8ba4d1d4-0742-4150-945c-2cb00a472992",
   "metadata": {
    "ExecuteTime": {
     "start_time": "2023-12-12T01:03:46.131225Z"
    }
   },
   "outputs": [],
   "source": [
    "lp(\"relationships\")"
   ]
  },
  {
   "cell_type": "markdown",
   "id": "8635009e-5d37-4c9b-b8fc-a583a8c761d8",
   "metadata": {},
   "source": [
    "## Labels Task"
   ]
  },
  {
   "cell_type": "code",
   "execution_count": null,
   "id": "27eafca0-468d-4c29-9e58-fea99b8c0b0a",
   "metadata": {
    "ExecuteTime": {
     "start_time": "2023-12-12T01:03:46.132624Z"
    }
   },
   "outputs": [],
   "source": [
    "hm(\"label\", \"direct\")"
   ]
  },
  {
   "cell_type": "code",
   "execution_count": null,
   "id": "6450d3bb-d16c-4fe4-8999-ccb38b0bbda9",
   "metadata": {
    "ExecuteTime": {
     "start_time": "2023-12-12T01:03:46.134115Z"
    }
   },
   "outputs": [],
   "source": [
    "my_ttest(\"label\", \"direct\")"
   ]
  },
  {
   "cell_type": "code",
   "execution_count": null,
   "id": "80d6a7fb-ac24-49c4-ae9e-21fe60f41267",
   "metadata": {
    "ExecuteTime": {
     "start_time": "2023-12-12T01:03:46.135219Z"
    }
   },
   "outputs": [],
   "source": [
    "lp(\"label\")"
   ]
  },
  {
   "cell_type": "markdown",
   "id": "5486ceab-f619-484f-a458-d598f528daa6",
   "metadata": {},
   "source": [
    "## Logical Definitions"
   ]
  },
  {
   "cell_type": "code",
   "execution_count": null,
   "id": "5614638d-481c-4857-ae64-fecf780f1e3d",
   "metadata": {
    "ExecuteTime": {
     "end_time": "2023-12-12T01:03:46.180888Z",
     "start_time": "2023-12-12T01:03:46.136449Z"
    }
   },
   "outputs": [],
   "source": [
    "import numpy as np\n",
    "\n",
    "def load_ldef_results_tsv(f):\n",
    "    res = pd.read_csv(f, comment=\"#\", sep=\"\\t\")\n",
    "    res['expected_logical_definition'].replace('', np.nan, inplace=True)\n",
    "    res = res[res['expected_logical_definition'].notnull()]\n",
    "    # Calculate Accuracy per row: (TP + TN) / (TP + TN + FP + FN)\n",
    "    # Since we can't calculate TN here, we'll omit it from the formula\n",
    "    res['accuracy'] = res['metric_true_positives'] / (res['metric_true_positives'] + res['metric_false_positives'] + res['metric_false_negatives'])\n",
    "    res['precision'] = res['metric_true_positives'] / (res['metric_true_positives'] + res['metric_false_positives'])\n",
    "\n",
    "    return res\n",
    "    \n",
    "\n",
    "res = load_ldef_results_tsv(\"results/ont_go-Plogical_definition-Mid.original_id-BGFalse-TrNone-Te50-Mgpt-4-EMopenai.results.tsv\")\n",
    "res.describe(include=\"all\")"
   ]
  },
  {
   "cell_type": "code",
   "execution_count": null,
   "id": "db0ef1ea-b3e7-4456-928d-c609a134efd3",
   "metadata": {
    "ExecuteTime": {
     "start_time": "2023-12-12T01:03:46.137692Z"
    }
   },
   "outputs": [],
   "source": [
    "def load_all_results_ldefs():\n",
    "    files = glob.glob(\"results/*.results.yaml\")\n",
    "    objs = []\n",
    "    for f in files:\n",
    "        obj = load_results(f)\n",
    "        if obj[\"task\"] != \"logical_definition\":\n",
    "            continue\n",
    "        accuracy = load_ldef_results_tsv(f.replace(\".yaml\", \".tsv\"))[\"accuracy\"].mean()\n",
    "        obj[\"accuracy\"] = accuracy\n",
    "        objs.append(obj)\n",
    "    return objs\n",
    "\n",
    "objs = load_all_results_ldefs()"
   ]
  },
  {
   "cell_type": "code",
   "execution_count": null,
   "id": "b2cc1e88-c004-418b-b961-d516df6c9ffd",
   "metadata": {
    "ExecuteTime": {
     "start_time": "2023-12-12T01:03:46.139296Z"
    }
   },
   "outputs": [],
   "source": [
    "ldefs_df = pd.DataFrame(objs)"
   ]
  },
  {
   "cell_type": "markdown",
   "id": "286db37a-9ddd-4016-8376-539ccb3c535d",
   "metadata": {},
   "source": [
    "### Logical Definitions (Excluding terms with none)"
   ]
  },
  {
   "cell_type": "code",
   "execution_count": null,
   "id": "86436a6e-5c47-4af4-a769-55a1a68da087",
   "metadata": {
    "ExecuteTime": {
     "start_time": "2023-12-12T01:03:46.140369Z"
    }
   },
   "outputs": [],
   "source": [
    "hm(\"logical_definition\", \"direct\", ldefs_df)"
   ]
  },
  {
   "cell_type": "markdown",
   "id": "2c1687ac-1331-4570-b833-311c410beebe",
   "metadata": {},
   "source": [
    "### Logical Definitions (including over-prediction)"
   ]
  },
  {
   "cell_type": "code",
   "execution_count": null,
   "id": "2a31acf4-710b-484a-aaed-3fbd27355704",
   "metadata": {
    "ExecuteTime": {
     "start_time": "2023-12-12T01:03:46.141673Z"
    }
   },
   "outputs": [],
   "source": [
    "hm(\"logical_definition\", \"direct\")"
   ]
  },
  {
   "cell_type": "markdown",
   "id": "139833df-e765-4893-87ac-04c747a8112b",
   "metadata": {},
   "source": [
    "## Definitions Task\n",
    "\n",
    "### Definitions (direct)\n",
    "\n",
    "No additional background knowledge"
   ]
  },
  {
   "cell_type": "code",
   "execution_count": null,
   "id": "56f626f1-de88-4ba0-b570-1a0dab680871",
   "metadata": {
    "ExecuteTime": {
     "start_time": "2023-12-12T01:03:46.143120Z"
    }
   },
   "outputs": [],
   "source": [
    "hm(\"definition\", \"direct\")"
   ]
  },
  {
   "cell_type": "code",
   "execution_count": null,
   "id": "32cf2630-dc85-4369-a892-b9a4a33a490b",
   "metadata": {
    "ExecuteTime": {
     "start_time": "2023-12-12T01:03:46.145080Z"
    }
   },
   "outputs": [],
   "source": [
    "my_ttest(\"definition\", \"direct\")"
   ]
  },
  {
   "cell_type": "markdown",
   "id": "9290362d-be80-4ccd-aa32-8a1d971771f6",
   "metadata": {},
   "source": [
    "### Definitions with github as background method"
   ]
  },
  {
   "cell_type": "code",
   "execution_count": null,
   "id": "0cc37759-e652-47ad-9219-c947e276fdf0",
   "metadata": {
    "ExecuteTime": {
     "start_time": "2023-12-12T01:03:46.146748Z"
    }
   },
   "outputs": [],
   "source": [
    "hm(\"definition\", \"github\")"
   ]
  },
  {
   "cell_type": "markdown",
   "id": "b909d806-8810-4234-89bc-e2ed00e73380",
   "metadata": {},
   "source": [
    "### Definitions with auto-generated background summaries"
   ]
  },
  {
   "cell_type": "code",
   "execution_count": null,
   "id": "9ff5a471-eec0-4760-ba50-4cb2643ee318",
   "metadata": {
    "ExecuteTime": {
     "start_time": "2023-12-12T01:03:46.148579Z"
    }
   },
   "outputs": [],
   "source": [
    "hm(\"definition\", \"background\")"
   ]
  },
  {
   "cell_type": "code",
   "execution_count": null,
   "id": "e3492c99-070f-4708-96d7-e34026e34e97",
   "metadata": {
    "ExecuteTime": {
     "start_time": "2023-12-12T01:03:46.150552Z"
    }
   },
   "outputs": [],
   "source": [
    "lp(\"definition\")"
   ]
  },
  {
   "cell_type": "markdown",
   "id": "f0544b0a-e0c1-45fd-bd39-9d8ab8742a81",
   "metadata": {},
   "source": [
    "### Definitions using developer docs"
   ]
  },
  {
   "cell_type": "code",
   "execution_count": null,
   "id": "cc85fb38-85c4-4f31-8559-62dfe41e5959",
   "metadata": {
    "ExecuteTime": {
     "start_time": "2023-12-12T01:03:46.152045Z"
    }
   },
   "outputs": [],
   "source": [
    "df.query(\"ontology == 'cl' and task == 'definition'\")[\"method\"].unique()"
   ]
  },
  {
   "cell_type": "code",
   "execution_count": null,
   "id": "d5327085-b90d-4292-beb5-3d4782bd3182",
   "metadata": {
    "ExecuteTime": {
     "start_time": "2023-12-12T01:03:46.153332Z"
    }
   },
   "outputs": [],
   "source": [
    "hm(\"definition\", \"devdocs\", df.query(\"ontology == 'cl'\"))"
   ]
  },
  {
   "cell_type": "markdown",
   "id": "c97451a3-75ac-4912-ac0e-13f769e41940",
   "metadata": {},
   "source": [
    "### Significance of different methods"
   ]
  },
  {
   "cell_type": "code",
   "execution_count": null,
   "id": "3a69baeb-4879-439c-80cf-dc5d068b37a9",
   "metadata": {
    "ExecuteTime": {
     "start_time": "2023-12-12T01:03:46.154328Z"
    }
   },
   "outputs": [],
   "source": [
    "methods = all_df[\"method\"].unique()\n",
    "models = all_df[\"model_name\"].unique()\n",
    "for m1 in methods:\n",
    "    for m2 in methods:\n",
    "        if m2 >= m1:\n",
    "            continue\n",
    "        for mn in list(models) + [None]:\n",
    "            if mn is None:\n",
    "                all_df_x = all_df.query(\"task == 'definition'\")\n",
    "            else:\n",
    "                all_df_x = all_df.query(f\"task == 'definition' and model_name == '{mn}'\")\n",
    "            m1_data = all_df_x[(all_df_x['method'] == m1)]['accuracy']\n",
    "            m2_data = all_df_x[(all_df_x['method'] == m2)]['accuracy']\n",
    "\n",
    "            # Step 2: Conduct the T-Test\n",
    "            # Use ttest_ind to conduct the t-test\n",
    "            t_statistic, p_value = stats.ttest_ind(m1_data, m2_data)\n",
    "\n",
    "            print(f'{mn}:: {m1} v {m2}: T-statistic: {t_statistic}')\n",
    "            print(f'{mn}:: {m1} v {m2}: P-value: {p_value}')\n"
   ]
  },
  {
   "cell_type": "markdown",
   "id": "a356a637-9d6a-481a-a6cf-c1272548b954",
   "metadata": {},
   "source": [
    "## Subsumption Analysis\n",
    "\n",
    "Note that the relationships stats above are calculated on predicting *all* relationships.\n",
    "\n",
    "To compare with owl2vec, we filter these for only subsumptions (subClassOf) relationships. See https://arxiv.org/pdf/2009.14654.pdf\n"
   ]
  },
  {
   "cell_type": "code",
   "execution_count": null,
   "id": "929220ec-5bd9-4a4c-a029-d7670c86726d",
   "metadata": {
    "ExecuteTime": {
     "start_time": "2023-12-12T01:03:46.155233Z"
    }
   },
   "outputs": [],
   "source": [
    "import json\n",
    "\n",
    "def subsumptions(rel_str: str):\n",
    "    if pd.isnull(rel_str):\n",
    "        return []\n",
    "    if not isinstance(rel_str, str):\n",
    "        print(f\"BAD: {rel_str}\")\n",
    "        return []\n",
    "    rels = yaml.safe_load(rel_str)\n",
    "    for rel in rels:\n",
    "         if \"predicate\" not in rel:\n",
    "             print(f\"BAD REL: {rel} in {rel_str}\")\n",
    "    return [r[\"target\"] for r in rels if r.get(\"predicate\", \"\") ==\"subClassOf\"]\n",
    "\n",
    "def calculate_metrics(row):\n",
    "    expected_set = set(row['expected_subsumptions'])\n",
    "    predicted_set = set(row['predicted_subsumptions'])\n",
    "    \n",
    "    TP = len(expected_set & predicted_set)\n",
    "    FP = len(predicted_set - expected_set)\n",
    "    FN = len(expected_set - predicted_set)\n",
    "    \n",
    "    # In a classical setting, TN would be calculated here. \n",
    "    # However, if you don't have information about what could have been predicted \n",
    "    # but wasn't (i.e., the universal set), TN can't be calculated.\n",
    "    \n",
    "    return pd.Series({'TP': TP, 'FP': FP, 'FN': FN})\n",
    "    \n",
    "\n",
    "def load_subsumption_results_tsv(f):\n",
    "    res = pd.read_csv(f, comment=\"#\", sep=\"\\t\")\n",
    "    res['expected_subsumptions'] = res.apply(lambda row : subsumptions(row['expected_relationships']), axis = 1)\n",
    "    res['predicted_subsumptions'] = res.apply(lambda row : subsumptions(row['predicted_relationships']), axis = 1)\n",
    "    metrics_df = res.apply(calculate_metrics, axis=1)\n",
    "\n",
    "    # Add the metrics as new columns to the original DataFrame\n",
    "    df_with_metrics = pd.concat([df, metrics_df], axis=1)\n",
    "\n",
    "    # Calculate Accuracy per row: (TP + TN) / (TP + TN + FP + FN)\n",
    "    # Since we can't calculate TN here, we'll omit it from the formula\n",
    "    df_with_metrics['accuracy'] = df_with_metrics['TP'] / (df_with_metrics['TP'] + df_with_metrics['FP'] + df_with_metrics['FN'])\n",
    "    df_with_metrics['precision'] = df_with_metrics['TP'] / (df_with_metrics['TP'] + df_with_metrics['FP'])\n",
    "\n",
    "    return df_with_metrics\n",
    "    \n",
    "\n",
    "res = load_subsumption_results_tsv(\"results/ont_uberon-Prelationships-Mid.original_id-BGFalse-TrNone-Te40-Mgpt-4-EMopenai.results.tsv\")\n",
    "res.describe(include=\"all\")"
   ]
  },
  {
   "cell_type": "code",
   "execution_count": null,
   "id": "b7e7ec3b-e1b2-41ea-a04d-5e23ee4a8b90",
   "metadata": {
    "ExecuteTime": {
     "start_time": "2023-12-12T01:03:46.156647Z"
    }
   },
   "outputs": [],
   "source": [
    "import json\n",
    "\n",
    "def subsumptions(rel_str: str):\n",
    "    if pd.isnull(rel_str):\n",
    "        return []\n",
    "    if not isinstance(rel_str, str):\n",
    "        print(f\"BAD: {rel_str}\")\n",
    "        return []\n",
    "    rels = yaml.safe_load(rel_str)\n",
    "    for rel in rels:\n",
    "         if \"predicate\" not in rel:\n",
    "             print(f\"BAD REL: {rel} in {rel_str}\")\n",
    "    return [r[\"target\"] for r in rels if r.get(\"predicate\", \"\") ==\"subClassOf\"]\n",
    "\n",
    "def calculate_metrics(row):\n",
    "    expected_set = set(row['expected_subsumptions'])\n",
    "    predicted_set = set(row['predicted_subsumptions'])\n",
    "    \n",
    "    TP = len(expected_set & predicted_set)\n",
    "    FP = len(predicted_set - expected_set)\n",
    "    FN = len(expected_set - predicted_set)\n",
    "    \n",
    "    # In a classical setting, TN would be calculated here. \n",
    "    # However, if you don't have information about what could have been predicted \n",
    "    # but wasn't (i.e., the universal set), TN can't be calculated.\n",
    "    \n",
    "    return pd.Series({'TP': TP, 'FP': FP, 'FN': FN})\n",
    "    \n",
    "\n",
    "def load_subsumption_results_tsv(f):\n",
    "    res = pd.read_csv(f, comment=\"#\", sep=\"\\t\")\n",
    "    res['expected_subsumptions'] = res.apply(lambda row : subsumptions(row['expected_relationships']), axis = 1)\n",
    "    res['predicted_subsumptions'] = res.apply(lambda row : subsumptions(row['predicted_relationships']), axis = 1)\n",
    "    metrics_df = res.apply(calculate_metrics, axis=1)\n",
    "\n",
    "    # Add the metrics as new columns to the original DataFrame\n",
    "    df_with_metrics = pd.concat([df, metrics_df], axis=1)\n",
    "\n",
    "    # Calculate Accuracy per row: (TP + TN) / (TP + TN + FP + FN)\n",
    "    # Since we can't calculate TN here, we'll omit it from the formula\n",
    "    df_with_metrics['accuracy'] = df_with_metrics['TP'] / (df_with_metrics['TP'] + df_with_metrics['FP'] + df_with_metrics['FN'])\n",
    "    df_with_metrics['precision'] = df_with_metrics['TP'] / (df_with_metrics['TP'] + df_with_metrics['FP'])\n",
    "\n",
    "    return df_with_metrics\n",
    "    \n",
    "\n",
    "#res = load_subsumption_results_tsv(\"results/ont_uberon-Prelationships-Mid.original_id-BGFalse-TrNone-Te40-Mgpt-4-EMopenai.results.tsv\")\n",
    "#res.describe(include=\"all\")"
   ]
  },
  {
   "cell_type": "code",
   "execution_count": null,
   "id": "b5554d53-6423-4a2c-935f-5b7985760a77",
   "metadata": {
    "ExecuteTime": {
     "start_time": "2023-12-12T01:03:46.158039Z"
    }
   },
   "outputs": [],
   "source": [
    "res[\"accuracy\"].mean()"
   ]
  },
  {
   "cell_type": "code",
   "execution_count": null,
   "id": "76d4edc9-7a94-46c9-b123-8c3a1a364197",
   "metadata": {
    "ExecuteTime": {
     "start_time": "2023-12-12T01:03:46.159932Z"
    }
   },
   "outputs": [],
   "source": [
    "def load_all_results_subsumptions():\n",
    "    files = glob.glob(\"results/*.results.yaml\")\n",
    "    objs = []\n",
    "    for f in files:\n",
    "        obj = load_results(f)\n",
    "        if obj[\"task\"] != \"relationships\":\n",
    "            continue\n",
    "        accuracy = load_subsumption_results_tsv(f.replace(\".yaml\", \".tsv\"))[\"accuracy\"].mean()\n",
    "        obj[\"accuracy\"] = accuracy\n",
    "        objs.append(obj)\n",
    "    return objs\n",
    "\n",
    "objs = load_all_results_subsumptions()"
   ]
  },
  {
   "cell_type": "markdown",
   "id": "1787e0df-3dc0-4387-8c6a-b10c464f57a9",
   "metadata": {},
   "source": [
    "### Main subsumption results"
   ]
  },
  {
   "cell_type": "code",
   "execution_count": null,
   "id": "3276f03f-a378-44eb-93b4-3fee126d3df6",
   "metadata": {
    "ExecuteTime": {
     "start_time": "2023-12-12T01:03:46.160945Z"
    }
   },
   "outputs": [],
   "source": [
    "subs_df = pd.DataFrame(objs)"
   ]
  },
  {
   "cell_type": "code",
   "execution_count": null,
   "id": "96cb5352-1593-4125-9b88-1b514d041a62",
   "metadata": {
    "ExecuteTime": {
     "start_time": "2023-12-12T01:03:46.162308Z"
    }
   },
   "outputs": [],
   "source": [
    "hm(\"relationships\", \"direct\", subs_df)"
   ]
  },
  {
   "cell_type": "code",
   "execution_count": null,
   "id": "ab528fdf-2351-4d44-85bb-c5b7e9c4cf7a",
   "metadata": {
    "ExecuteTime": {
     "start_time": "2023-12-12T01:03:46.163501Z"
    }
   },
   "outputs": [],
   "source": [
    "hm(\"relationships\", \"direct\", subs_df, metric=\"precision\")"
   ]
  },
  {
   "cell_type": "markdown",
   "id": "ded6f642-f6ad-448c-aef3-4c5767de3888",
   "metadata": {},
   "source": [
    "### Subsumptions using background"
   ]
  },
  {
   "cell_type": "code",
   "execution_count": null,
   "id": "cf2b8371-deb6-499d-a6a4-153353577ca2",
   "metadata": {
    "ExecuteTime": {
     "start_time": "2023-12-12T01:03:46.164716Z"
    }
   },
   "outputs": [],
   "source": [
    "hm(\"relationships\", \"background\", subs_df)"
   ]
  },
  {
   "cell_type": "markdown",
   "id": "19f376ca-cb02-484c-93b4-77b16fd5ac34",
   "metadata": {},
   "source": [
    "### Subsumptions using github"
   ]
  },
  {
   "cell_type": "code",
   "execution_count": null,
   "id": "1721154d-f1a2-46ef-8fdf-c99c14fe81c3",
   "metadata": {
    "ExecuteTime": {
     "start_time": "2023-12-12T01:03:46.166440Z"
    }
   },
   "outputs": [],
   "source": [
    "#hm(\"relationships\", \"github\", subs_df)"
   ]
  },
  {
   "cell_type": "markdown",
   "id": "b9fdad50-d8f6-4af5-b9ed-8b58bcf5a463",
   "metadata": {},
   "source": [
    "## Preparing definitions for evaluation"
   ]
  },
  {
   "cell_type": "code",
   "execution_count": null,
   "id": "640ad274-5a92-495c-8bcb-15ba2dab934f",
   "metadata": {
    "ExecuteTime": {
     "start_time": "2023-12-12T01:03:46.168288Z"
    }
   },
   "outputs": [],
   "source": [
    "defs_df = all_df.query(\"task == 'definition'\")\n",
    "defs_df.groupby('ontology').size().reset_index(name='count')"
   ]
  },
  {
   "cell_type": "code",
   "execution_count": null,
   "id": "f8d3fb33-2cac-4300-ab81-37a383c2f0ab",
   "metadata": {
    "ExecuteTime": {
     "start_time": "2023-12-12T01:03:46.169677Z"
    }
   },
   "outputs": [],
   "source": [
    "len(defs_df)"
   ]
  },
  {
   "cell_type": "code",
   "execution_count": null,
   "id": "e9b924d7-5fc6-41d8-abb7-4a3b960c804b",
   "metadata": {
    "ExecuteTime": {
     "start_time": "2023-12-12T01:03:46.170998Z"
    }
   },
   "outputs": [],
   "source": [
    "len(defs_df[\"expected_definition\"].unique())"
   ]
  },
  {
   "cell_type": "code",
   "execution_count": null,
   "id": "f3604fdc-2efc-4b8f-bbcf-b2e9f1a62fcb",
   "metadata": {
    "ExecuteTime": {
     "start_time": "2023-12-12T01:03:46.172405Z"
    }
   },
   "outputs": [],
   "source": [
    "\n",
    "df_defs_gpt_direct = pd.read_csv(\"results/cl-defs-direct.tsv\", sep=\"\\t\")\n",
    "gpt_direct = { row[\"id\"]: row[\"definition\"] for _, row in df_defs_gpt_direct.iterrows() }\n",
    "objs = []\n",
    "for _, row in defs_df.iterrows():\n",
    "    id = row[\"masked_original_id\"]\n",
    "    if id not in gpt_direct:\n",
    "        continue\n",
    "    row = {**row}\n",
    "    row[\"predicted_definition\"] = gpt_direct[id]\n",
    "    row[\"model_name\"] = \"gpt-4\"\n",
    "    row[\"method\"] = \"no_RAG\"\n",
    "    del gpt_direct[id]\n",
    "    objs.append(row)\n",
    "all_defs_df = pd.concat([defs_df, pd.DataFrame(objs)])\n",
    "all_defs_df"
   ]
  }
 ],
 "metadata": {
  "kernelspec": {
   "display_name": "Python 3 (ipykernel)",
   "language": "python",
   "name": "python3"
  },
  "language_info": {
   "codemirror_mode": {
    "name": "ipython",
    "version": 3
   },
   "file_extension": ".py",
   "mimetype": "text/x-python",
   "name": "python",
   "nbconvert_exporter": "python",
   "pygments_lexer": "ipython3",
   "version": "3.10.9"
  }
 },
 "nbformat": 4,
 "nbformat_minor": 5
}
