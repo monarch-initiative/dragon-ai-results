{
 "cells": [
  {
   "cell_type": "code",
   "execution_count": 1,
   "id": "cc2e2119-f668-40ff-a757-84b8a5248a93",
   "metadata": {},
   "outputs": [],
   "source": [
    "import pandas as pd\n",
    "import gspread\n",
    "from google.oauth2.service_account import Credentials\n",
    "gc = gspread.service_account()"
   ]
  },
  {
   "cell_type": "code",
   "execution_count": 2,
   "id": "1990f185-daaf-45b2-910e-cec0d6b3b53c",
   "metadata": {},
   "outputs": [],
   "source": [
    "scopes = [\"https://spreadsheets.google.com/feeds\", 'https://www.googleapis.com/auth/spreadsheets',\n",
    "          \"https://www.googleapis.com/auth/drive.file\", \"https://www.googleapis.com/auth/drive\"]\n",
    "creds = Credentials.from_service_account_file('secrets/linkml-336707-1c85304108ea.json', scopes=scopes)\n",
    "client = gspread.authorize(creds)\n"
   ]
  },
  {
   "cell_type": "code",
   "execution_count": 3,
   "id": "1fcb69ef-06f3-4211-8047-00589b750eda",
   "metadata": {},
   "outputs": [],
   "source": [
    "import time\n",
    "#time.sleep(1)"
   ]
  },
  {
   "cell_type": "code",
   "execution_count": 4,
   "id": "dd0ad7de-e3ad-40e3-a7ee-5759353f9186",
   "metadata": {},
   "outputs": [],
   "source": [
    "names = [\"sr\", \"lc\", \"tl\", \"wd\", \"ST\", \"rc\", \"mw\", \"Ray S\", \"ad\", \"wd\", \"lr\", \"dd\", \"pfey\", \\\n",
    "         \"SB\", \"AA\", \"cjm\", \"js\", \"kb\", \"leila\", \"VW\", \"dolson\", \"aleix@ebi.ac.uk\", \"tr\", \"esegerd3\", \"pascale\"]"
   ]
  },
  {
   "cell_type": "code",
   "execution_count": 5,
   "id": "bd1ef4b8-678f-41c9-8364-bc4abba9b682",
   "metadata": {},
   "outputs": [
    {
     "name": "stdout",
     "output_type": "stream",
     "text": [
      "sr\n",
      "rows 700\n",
      "propagated 2\n",
      "lc\n",
      "BAD VAL   in {'ontology': 'hp', 'label': 'Bent sperm neck', 'definition': 'A structural abnormality in which the sperm neck is bent or curved.', 'internal_id': 1515, 'accuracy': ' ', 'internal_consistency': 5, 'score': 5, 'confidence': 5, 'notes': '', 'is_a': 'AbnormalSpermNeckMorphology', 'relationships': '', 'evaluator': 'lc'}\n",
      "rows 558\n",
      "propagated 0\n",
      "tl\n",
      "rows 102\n",
      "propagated 0\n",
      "wd\n",
      "rows 315\n",
      "propagated 0\n",
      "ST\n",
      "rows 644\n",
      "propagated 0\n",
      "rc\n",
      "rows 245\n",
      "propagated 0\n",
      "mw\n",
      "rows 245\n",
      "propagated 0\n",
      "Ray S\n",
      "rows 362\n",
      "propagated 0\n",
      "ad\n",
      "rows 53\n",
      "propagated 0\n",
      "wd\n",
      "rows 315\n",
      "propagated 0\n",
      "lr\n",
      "rows 36\n",
      "propagated 3\n",
      "dd\n",
      "rows 243\n",
      "propagated 0\n",
      "pfey\n",
      "rows 27\n",
      "propagated 0\n",
      "SB\n",
      "rows 75\n",
      "propagated 0\n",
      "AA\n",
      "rows 190\n",
      "propagated 0\n",
      "cjm\n",
      "rows 486\n",
      "propagated 0\n",
      "js\n",
      "rows 288\n",
      "propagated 0\n",
      "kb\n",
      "rows 245\n",
      "propagated 0\n",
      "leila\n",
      "rows 164\n",
      "propagated 0\n",
      "VW\n",
      "rows 215\n",
      "propagated 215\n",
      "dolson\n",
      "rows 0\n",
      "propagated 0\n",
      "aleix@ebi.ac.uk\n",
      "rows 435\n",
      "propagated 0\n",
      "tr\n",
      "rows 133\n",
      "propagated 0\n",
      "esegerd3\n",
      "rows 147\n",
      "propagated 0\n",
      "pascale\n",
      "rows 123\n",
      "propagated 0\n"
     ]
    },
    {
     "data": {
      "text/plain": [
       "array(['sr', 'lc', 'tl', 'wd', 'ST', 'rc', 'mw', 'Ray S', 'ad', 'lr',\n",
       "       'dd', 'pfey', 'SB', 'AA', 'cjm', 'js', 'kb', 'leila', 'VW',\n",
       "       'aleix@ebi.ac.uk', 'tr', 'esegerd3', 'pascale'], dtype=object)"
      ]
     },
     "execution_count": 5,
     "metadata": {},
     "output_type": "execute_result"
    }
   ],
   "source": [
    "dfs = []\n",
    "all_rows = []\n",
    "for name in names:\n",
    "    print(name)\n",
    "    wks = gc.open(str(f\"Definition Evaluation Template - {name}\")).worksheet(\"Definitions (EDIT HERE)\")\n",
    "    rows = wks.get_all_records()\n",
    "    rows = [row for row in rows if row[\"score\"] or row[\"accuracy\"]]\n",
    "    propagated = 0\n",
    "    for row in rows:\n",
    "        row[\"evaluator\"] = name\n",
    "        for k in [\"accuracy\", \"internal_consistency\", \"score\", \"confidence\"]:\n",
    "            v = row[k]\n",
    "            if v == \"?\":\n",
    "                v = \"\"\n",
    "            if isinstance(v,float):\n",
    "                v = round(v)\n",
    "            if isinstance(v,str) and \"-\" in v:\n",
    "                # some customized their form\n",
    "                v = int(v.split(\"-\")[0])\n",
    "            if v and v not in list(range(1,6)):\n",
    "                print(f\"BAD VAL {v} in {row}\")\n",
    "                row[k] = None\n",
    "        if not row[\"score\"] and row[\"accuracy\"]:\n",
    "            propagated += 1\n",
    "            row[\"score\"] = row[\"accuracy\"]\n",
    "    all_rows.extend(rows)\n",
    "    wks_df = pd.DataFrame(rows)\n",
    "    print(\"rows\", len(rows))\n",
    "    print(\"propagated\", propagated)\n",
    "    wks_df[\"evaluator\"] = name\n",
    "    time.sleep(3)\n",
    "    \n",
    "    dfs.append(wks_df)\n",
    "#eval_df = pd.concat(dfs)\n",
    "eval_df = pd.DataFrame(all_rows)\n",
    "eval_df.to_csv(\"definitions-sheets/combined.csv\", index=False)\n",
    "eval_df[\"evaluator\"].unique()"
   ]
  },
  {
   "cell_type": "code",
   "execution_count": 6,
   "id": "bea188bd-09e2-41d1-b7ff-1baf8c09e06d",
   "metadata": {},
   "outputs": [
    {
     "data": {
      "text/plain": [
       "ontology  evaluator      \n",
       "cl        ad                  53\n",
       "          aleix@ebi.ac.uk    435\n",
       "          cjm                173\n",
       "          esegerd3           147\n",
       "          lc                 145\n",
       "          lr                  36\n",
       "          pfey                27\n",
       "          sr                 432\n",
       "          tl                 102\n",
       "          wd                  54\n",
       "envo      js                 288\n",
       "          leila              164\n",
       "          wd                 576\n",
       "foodon    dd                 243\n",
       "          kb                 245\n",
       "          mw                 245\n",
       "          rc                 245\n",
       "          tr                 133\n",
       "go        Ray S              236\n",
       "          ST                 230\n",
       "          VW                 215\n",
       "          pascale            123\n",
       "hp        ST                 178\n",
       "          lc                 177\n",
       "mondo     ST                 236\n",
       "          lc                 236\n",
       "mp        AA                 190\n",
       "          SB                  75\n",
       "oba       Ray S              126\n",
       "          cjm                110\n",
       "uberon    cjm                203\n",
       "          sr                 268\n",
       "dtype: int64"
      ]
     },
     "execution_count": 6,
     "metadata": {},
     "output_type": "execute_result"
    }
   ],
   "source": [
    "eval_df.groupby([\"ontology\", \"evaluator\"]).size()"
   ]
  },
  {
   "cell_type": "code",
   "execution_count": 7,
   "id": "836f177e-e289-4a29-b817-770a0b33a0ed",
   "metadata": {},
   "outputs": [],
   "source": [
    "src_df = pd.read_csv(\"definitions-sheets/key.tsv\", sep=\"\\t\")\n",
    "rows = []\n",
    "for _, row in src_df.iterrows():\n",
    "    if row[\"is_original\"] == True:\n",
    "        row[\"method\"] = \"curator\"\n",
    "        row[\"model_name\"] = \"human\"\n",
    "    else:\n",
    "        if row[\"model_name\"] == \"nous-hermes-13b\" and row[\"method\"] != \"direct\":\n",
    "            # too few\n",
    "            continue\n",
    "        if row[\"method\"] == \"direct\":\n",
    "            row[\"method\"] = \"RAG\"\n",
    "        elif row[\"method\"] == \"background\":\n",
    "            row[\"method\"] = \"RAG+background\"\n",
    "        elif row[\"method\"] == \"github\":\n",
    "            row[\"method\"] = \"RAG+github\"\n",
    "        elif row[\"method\"] == \"devdocs\":\n",
    "            row[\"method\"] = \"RAG+docs\"\n",
    "    rows.append(row)\n",
    "src_df = pd.DataFrame(rows)\n",
    "\n",
    "df = pd.merge(eval_df, src_df, how='inner', on='definition')"
   ]
  },
  {
   "cell_type": "code",
   "execution_count": 8,
   "id": "9522d411-9acc-4025-9e14-d1ffff6a8ffa",
   "metadata": {},
   "outputs": [
    {
     "data": {
      "text/plain": [
       "array([False,  True])"
      ]
     },
     "execution_count": 8,
     "metadata": {},
     "output_type": "execute_result"
    }
   ],
   "source": [
    "src_df[\"is_original\"].unique()"
   ]
  },
  {
   "cell_type": "code",
   "execution_count": 9,
   "id": "b6895322-8573-4819-b9a9-11579a56c347",
   "metadata": {},
   "outputs": [
    {
     "data": {
      "text/plain": [
       "method          model_name     \n",
       "RAG             gpt-3.5-turbo      1051\n",
       "                gpt-4              1069\n",
       "                nous-hermes-13b    1025\n",
       "RAG+background  gpt-3.5-turbo      1063\n",
       "                gpt-4               961\n",
       "RAG+docs        gpt-3.5-turbo       189\n",
       "RAG+github      gpt-3.5-turbo       399\n",
       "                gpt-4               397\n",
       "curator         human               938\n",
       "no_RAG          gpt-4               145\n",
       "dtype: int64"
      ]
     },
     "execution_count": 9,
     "metadata": {},
     "output_type": "execute_result"
    }
   ],
   "source": [
    "df.groupby([\"method\", \"model_name\"]).size()"
   ]
  },
  {
   "cell_type": "code",
   "execution_count": 10,
   "id": "98b027dc-c9cb-44eb-b696-67d898da3708",
   "metadata": {},
   "outputs": [],
   "source": [
    "for k in [\"score_x\", \"accuracy_x\", \"internal_consistency_x\"]:\n",
    "    df[k] = pd.to_numeric(df[k], errors='coerce')\n"
   ]
  }
 ],
 "metadata": {
  "kernelspec": {
   "display_name": "Python 3 (ipykernel)",
   "language": "python",
   "name": "python3"
  },
  "language_info": {
   "codemirror_mode": {
    "name": "ipython",
    "version": 3
   },
   "file_extension": ".py",
   "mimetype": "text/x-python",
   "name": "python",
   "nbconvert_exporter": "python",
   "pygments_lexer": "ipython3",
   "version": "3.10.9"
  }
 },
 "nbformat": 4,
 "nbformat_minor": 5
}
