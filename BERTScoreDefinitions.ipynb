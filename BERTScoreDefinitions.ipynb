{
 "cells": [
  {
   "cell_type": "code",
   "execution_count": 1,
   "id": "initial_id",
   "metadata": {
    "collapsed": true,
    "ExecuteTime": {
     "end_time": "2024-07-27T02:05:03.900790Z",
     "start_time": "2024-07-27T02:05:03.720345Z"
    }
   },
   "outputs": [
    {
     "ename": "ModuleNotFoundError",
     "evalue": "No module named 'bert_score'",
     "output_type": "error",
     "traceback": [
      "\u001B[0;31m---------------------------------------------------------------------------\u001B[0m",
      "\u001B[0;31mModuleNotFoundError\u001B[0m                       Traceback (most recent call last)",
      "Cell \u001B[0;32mIn[1], line 1\u001B[0m\n\u001B[0;32m----> 1\u001B[0m \u001B[38;5;28;01mimport\u001B[39;00m \u001B[38;5;21;01mbert_score\u001B[39;00m\n",
      "\u001B[0;31mModuleNotFoundError\u001B[0m: No module named 'bert_score'"
     ]
    }
   ],
   "source": []
  },
  {
   "cell_type": "code",
   "execution_count": 2,
   "outputs": [
    {
     "name": "stdout",
     "output_type": "stream",
     "text": [
      "Collecting bert_score\r\n",
      "  Downloading bert_score-0.3.13-py3-none-any.whl (61 kB)\r\n",
      "\u001B[2K     \u001B[90m━━━━━━━━━━━━━━━━━━━━━━━━━━━━━━━━━━━━━━━━\u001B[0m \u001B[32m61.1/61.1 kB\u001B[0m \u001B[31m1.9 MB/s\u001B[0m eta \u001B[36m0:00:00\u001B[0m\r\n",
      "\u001B[?25hCollecting transformers>=3.0.0\r\n",
      "  Downloading transformers-4.43.3-py3-none-any.whl (9.4 MB)\r\n",
      "\u001B[2K     \u001B[90m━━━━━━━━━━━━━━━━━━━━━━━━━━━━━━━━━━━━━━━━\u001B[0m \u001B[32m9.4/9.4 MB\u001B[0m \u001B[31m42.1 MB/s\u001B[0m eta \u001B[36m0:00:00\u001B[0ma \u001B[36m0:00:01\u001B[0m\r\n",
      "\u001B[?25hRequirement already satisfied: matplotlib in /Users/cjm/Library/Caches/pypoetry/virtualenvs/gpt-ontology-completion-analysis-LiQZhntW-py3.10/lib/python3.10/site-packages (from bert_score) (3.7.2)\r\n",
      "Requirement already satisfied: packaging>=20.9 in /Users/cjm/Library/Caches/pypoetry/virtualenvs/gpt-ontology-completion-analysis-LiQZhntW-py3.10/lib/python3.10/site-packages (from bert_score) (23.1)\r\n",
      "Collecting torch>=1.0.0\r\n",
      "  Downloading torch-2.4.0-cp310-none-macosx_11_0_arm64.whl (62.1 MB)\r\n",
      "\u001B[2K     \u001B[90m━━━━━━━━━━━━━━━━━━━━━━━━━━━━━━━━━━━━━━━━\u001B[0m \u001B[32m62.1/62.1 MB\u001B[0m \u001B[31m41.4 MB/s\u001B[0m eta \u001B[36m0:00:00\u001B[0m00:01\u001B[0m00:01\u001B[0m\r\n",
      "\u001B[?25hRequirement already satisfied: pandas>=1.0.1 in /Users/cjm/Library/Caches/pypoetry/virtualenvs/gpt-ontology-completion-analysis-LiQZhntW-py3.10/lib/python3.10/site-packages (from bert_score) (2.1.0)\r\n",
      "Requirement already satisfied: tqdm>=4.31.1 in /Users/cjm/Library/Caches/pypoetry/virtualenvs/gpt-ontology-completion-analysis-LiQZhntW-py3.10/lib/python3.10/site-packages (from bert_score) (4.66.1)\r\n",
      "Requirement already satisfied: numpy in /Users/cjm/Library/Caches/pypoetry/virtualenvs/gpt-ontology-completion-analysis-LiQZhntW-py3.10/lib/python3.10/site-packages (from bert_score) (1.25.2)\r\n",
      "Requirement already satisfied: requests in /Users/cjm/Library/Caches/pypoetry/virtualenvs/gpt-ontology-completion-analysis-LiQZhntW-py3.10/lib/python3.10/site-packages (from bert_score) (2.31.0)\r\n",
      "Requirement already satisfied: python-dateutil>=2.8.2 in /Users/cjm/Library/Caches/pypoetry/virtualenvs/gpt-ontology-completion-analysis-LiQZhntW-py3.10/lib/python3.10/site-packages (from pandas>=1.0.1->bert_score) (2.8.2)\r\n",
      "Requirement already satisfied: tzdata>=2022.1 in /Users/cjm/Library/Caches/pypoetry/virtualenvs/gpt-ontology-completion-analysis-LiQZhntW-py3.10/lib/python3.10/site-packages (from pandas>=1.0.1->bert_score) (2023.3)\r\n",
      "Requirement already satisfied: pytz>=2020.1 in /Users/cjm/Library/Caches/pypoetry/virtualenvs/gpt-ontology-completion-analysis-LiQZhntW-py3.10/lib/python3.10/site-packages (from pandas>=1.0.1->bert_score) (2023.3)\r\n",
      "Collecting typing-extensions>=4.8.0\r\n",
      "  Using cached typing_extensions-4.12.2-py3-none-any.whl (37 kB)\r\n",
      "Collecting sympy\r\n",
      "  Downloading sympy-1.13.1-py3-none-any.whl (6.2 MB)\r\n",
      "\u001B[2K     \u001B[90m━━━━━━━━━━━━━━━━━━━━━━━━━━━━━━━━━━━━━━━━\u001B[0m \u001B[32m6.2/6.2 MB\u001B[0m \u001B[31m43.5 MB/s\u001B[0m eta \u001B[36m0:00:00\u001B[0ma \u001B[36m0:00:01\u001B[0m\r\n",
      "\u001B[?25hRequirement already satisfied: networkx in /Users/cjm/Library/Caches/pypoetry/virtualenvs/gpt-ontology-completion-analysis-LiQZhntW-py3.10/lib/python3.10/site-packages (from torch>=1.0.0->bert_score) (3.1)\r\n",
      "Requirement already satisfied: jinja2 in /Users/cjm/Library/Caches/pypoetry/virtualenvs/gpt-ontology-completion-analysis-LiQZhntW-py3.10/lib/python3.10/site-packages (from torch>=1.0.0->bert_score) (3.1.2)\r\n",
      "Collecting fsspec\r\n",
      "  Downloading fsspec-2024.6.1-py3-none-any.whl (177 kB)\r\n",
      "\u001B[2K     \u001B[90m━━━━━━━━━━━━━━━━━━━━━━━━━━━━━━━━━━━━━━━\u001B[0m \u001B[32m177.6/177.6 kB\u001B[0m \u001B[31m7.4 MB/s\u001B[0m eta \u001B[36m0:00:00\u001B[0m\r\n",
      "\u001B[?25hCollecting filelock\r\n",
      "  Downloading filelock-3.15.4-py3-none-any.whl (16 kB)\r\n",
      "Requirement already satisfied: regex!=2019.12.17 in /Users/cjm/Library/Caches/pypoetry/virtualenvs/gpt-ontology-completion-analysis-LiQZhntW-py3.10/lib/python3.10/site-packages (from transformers>=3.0.0->bert_score) (2023.10.3)\r\n",
      "Collecting safetensors>=0.4.1\r\n",
      "  Downloading safetensors-0.4.3-cp310-cp310-macosx_11_0_arm64.whl (410 kB)\r\n",
      "\u001B[2K     \u001B[90m━━━━━━━━━━━━━━━━━━━━━━━━━━━━━━━━━━━━━━\u001B[0m \u001B[32m410.9/410.9 kB\u001B[0m \u001B[31m13.9 MB/s\u001B[0m eta \u001B[36m0:00:00\u001B[0m\r\n",
      "\u001B[?25hCollecting huggingface-hub<1.0,>=0.23.2\r\n",
      "  Downloading huggingface_hub-0.24.2-py3-none-any.whl (417 kB)\r\n",
      "\u001B[2K     \u001B[90m━━━━━━━━━━━━━━━━━━━━━━━━━━━━━━━━━━━━━━\u001B[0m \u001B[32m417.2/417.2 kB\u001B[0m \u001B[31m13.9 MB/s\u001B[0m eta \u001B[36m0:00:00\u001B[0m\r\n",
      "\u001B[?25hCollecting tokenizers<0.20,>=0.19\r\n",
      "  Downloading tokenizers-0.19.1-cp310-cp310-macosx_11_0_arm64.whl (2.4 MB)\r\n",
      "\u001B[2K     \u001B[90m━━━━━━━━━━━━━━━━━━━━━━━━━━━━━━━━━━━━━━━━\u001B[0m \u001B[32m2.4/2.4 MB\u001B[0m \u001B[31m33.7 MB/s\u001B[0m eta \u001B[36m0:00:00\u001B[0ma \u001B[36m0:00:01\u001B[0m\r\n",
      "\u001B[?25hRequirement already satisfied: pyyaml>=5.1 in /Users/cjm/Library/Caches/pypoetry/virtualenvs/gpt-ontology-completion-analysis-LiQZhntW-py3.10/lib/python3.10/site-packages (from transformers>=3.0.0->bert_score) (6.0.1)\r\n",
      "Requirement already satisfied: pillow>=6.2.0 in /Users/cjm/Library/Caches/pypoetry/virtualenvs/gpt-ontology-completion-analysis-LiQZhntW-py3.10/lib/python3.10/site-packages (from matplotlib->bert_score) (10.0.0)\r\n",
      "Requirement already satisfied: pyparsing<3.1,>=2.3.1 in /Users/cjm/Library/Caches/pypoetry/virtualenvs/gpt-ontology-completion-analysis-LiQZhntW-py3.10/lib/python3.10/site-packages (from matplotlib->bert_score) (3.0.9)\r\n",
      "Requirement already satisfied: fonttools>=4.22.0 in /Users/cjm/Library/Caches/pypoetry/virtualenvs/gpt-ontology-completion-analysis-LiQZhntW-py3.10/lib/python3.10/site-packages (from matplotlib->bert_score) (4.42.1)\r\n",
      "Requirement already satisfied: kiwisolver>=1.0.1 in /Users/cjm/Library/Caches/pypoetry/virtualenvs/gpt-ontology-completion-analysis-LiQZhntW-py3.10/lib/python3.10/site-packages (from matplotlib->bert_score) (1.4.5)\r\n",
      "Requirement already satisfied: cycler>=0.10 in /Users/cjm/Library/Caches/pypoetry/virtualenvs/gpt-ontology-completion-analysis-LiQZhntW-py3.10/lib/python3.10/site-packages (from matplotlib->bert_score) (0.11.0)\r\n",
      "Requirement already satisfied: contourpy>=1.0.1 in /Users/cjm/Library/Caches/pypoetry/virtualenvs/gpt-ontology-completion-analysis-LiQZhntW-py3.10/lib/python3.10/site-packages (from matplotlib->bert_score) (1.1.0)\r\n",
      "Requirement already satisfied: certifi>=2017.4.17 in /Users/cjm/Library/Caches/pypoetry/virtualenvs/gpt-ontology-completion-analysis-LiQZhntW-py3.10/lib/python3.10/site-packages (from requests->bert_score) (2023.7.22)\r\n",
      "Requirement already satisfied: urllib3<3,>=1.21.1 in /Users/cjm/Library/Caches/pypoetry/virtualenvs/gpt-ontology-completion-analysis-LiQZhntW-py3.10/lib/python3.10/site-packages (from requests->bert_score) (2.0.4)\r\n",
      "Requirement already satisfied: charset-normalizer<4,>=2 in /Users/cjm/Library/Caches/pypoetry/virtualenvs/gpt-ontology-completion-analysis-LiQZhntW-py3.10/lib/python3.10/site-packages (from requests->bert_score) (3.2.0)\r\n",
      "Requirement already satisfied: idna<4,>=2.5 in /Users/cjm/Library/Caches/pypoetry/virtualenvs/gpt-ontology-completion-analysis-LiQZhntW-py3.10/lib/python3.10/site-packages (from requests->bert_score) (3.4)\r\n",
      "Requirement already satisfied: six>=1.5 in /Users/cjm/Library/Caches/pypoetry/virtualenvs/gpt-ontology-completion-analysis-LiQZhntW-py3.10/lib/python3.10/site-packages (from python-dateutil>=2.8.2->pandas>=1.0.1->bert_score) (1.16.0)\r\n",
      "Requirement already satisfied: MarkupSafe>=2.0 in /Users/cjm/Library/Caches/pypoetry/virtualenvs/gpt-ontology-completion-analysis-LiQZhntW-py3.10/lib/python3.10/site-packages (from jinja2->torch>=1.0.0->bert_score) (2.1.3)\r\n",
      "Collecting mpmath<1.4,>=1.1.0\r\n",
      "  Downloading mpmath-1.3.0-py3-none-any.whl (536 kB)\r\n",
      "\u001B[2K     \u001B[90m━━━━━━━━━━━━━━━━━━━━━━━━━━━━━━━━━━━━━━\u001B[0m \u001B[32m536.2/536.2 kB\u001B[0m \u001B[31m15.0 MB/s\u001B[0m eta \u001B[36m0:00:00\u001B[0m\r\n",
      "\u001B[?25hInstalling collected packages: mpmath, typing-extensions, sympy, safetensors, fsspec, filelock, torch, huggingface-hub, tokenizers, transformers, bert_score\r\n",
      "  Attempting uninstall: typing-extensions\r\n",
      "    Found existing installation: typing_extensions 4.7.1\r\n",
      "    Uninstalling typing_extensions-4.7.1:\r\n",
      "      Successfully uninstalled typing_extensions-4.7.1\r\n",
      "Successfully installed bert_score-0.3.13 filelock-3.15.4 fsspec-2024.6.1 huggingface-hub-0.24.2 mpmath-1.3.0 safetensors-0.4.3 sympy-1.13.1 tokenizers-0.19.1 torch-2.4.0 transformers-4.43.3 typing-extensions-4.12.2\r\n",
      "\r\n",
      "\u001B[1m[\u001B[0m\u001B[34;49mnotice\u001B[0m\u001B[1;39;49m]\u001B[0m\u001B[39;49m A new release of pip is available: \u001B[0m\u001B[31;49m23.0.1\u001B[0m\u001B[39;49m -> \u001B[0m\u001B[32;49m24.1.2\u001B[0m\r\n",
      "\u001B[1m[\u001B[0m\u001B[34;49mnotice\u001B[0m\u001B[1;39;49m]\u001B[0m\u001B[39;49m To update, run: \u001B[0m\u001B[32;49mpip install --upgrade pip\u001B[0m\r\n"
     ]
    }
   ],
   "source": [
    "import pyasn1_modules.rfc5084\n",
    "!pip install bert_score"
   ],
   "metadata": {
    "collapsed": false,
    "ExecuteTime": {
     "end_time": "2024-07-27T02:05:33.530999Z",
     "start_time": "2024-07-27T02:05:16.198325Z"
    }
   },
   "id": "673b7804f49c010e"
  },
  {
   "cell_type": "code",
   "execution_count": 36,
   "outputs": [],
   "source": [
    "METHODS = [\"RAG\", \"RAG+github\"]\n",
    "MODELS = [\"gpt-3.5-turbo\", \"gpt-4\", \"nous-hermes-13b\"]\n"
   ],
   "metadata": {
    "collapsed": false,
    "ExecuteTime": {
     "end_time": "2024-07-27T02:30:07.007896Z",
     "start_time": "2024-07-27T02:30:06.985393Z"
    }
   },
   "id": "ecc9202db64e4605"
  },
  {
   "cell_type": "code",
   "execution_count": 3,
   "outputs": [],
   "source": [
    "import pandas as pd\n",
    "import yaml\n",
    "import glob\n",
    "\n",
    "def get_method(obj: dict) -> str:\n",
    "    \"\"\"\n",
    "    gets the method from the yaml object\n",
    "    \"\"\"\n",
    "    if obj.get(\"generate_background\"):\n",
    "        return \"RAG+background\"\n",
    "    additional = obj.get(\"additional_collections\", [])\n",
    "    if additional:\n",
    "        assert len(additional) == 1\n",
    "        x = additional[0]\n",
    "        if x.startswith(\"gh_\"):\n",
    "            return \"RAG+github\"\n",
    "        elif x.startswith(\"devdocs\"):\n",
    "            return \"RAG+devdocs\"\n",
    "        else:\n",
    "            assert False\n",
    "    else:\n",
    "        return \"RAG\"\n",
    "\n",
    "from pathlib import Path\n",
    "def load_definition_results():\n",
    "    files = glob.glob(\"results/*-Pdefinition-*.results.tsv\")\n",
    "    dfs = []\n",
    "    for file in files:\n",
    "        yaml_path = file.replace(\".tsv\", \".yaml\")\n",
    "        if not Path(yaml_path).exists():\n",
    "            continue\n",
    "        meta = yaml.safe_load(open(yaml_path))\n",
    "        res = pd.read_csv(file, comment=\"#\", sep=\"\\t\")\n",
    "        res['task'] =  \" \".join(meta.get(\"fields_to_predict\"))\n",
    "        res['ontology'] = meta.get(\"source_collection\", \"\").replace(\"ont_\", \"\")\n",
    "        res[\"method\"] = get_method(meta)\n",
    "        res[\"model_name\"] = meta[\"model_name\"]\n",
    "        dfs.append(res)\n",
    "    return pd.concat(dfs)\n",
    "        \n",
    "df = load_definition_results()"
   ],
   "metadata": {
    "collapsed": false,
    "ExecuteTime": {
     "start_time": "2024-07-27T02:05:37.949357Z"
    }
   },
   "id": "b2b7a78d33c17383"
  },
  {
   "cell_type": "code",
   "execution_count": 4,
   "outputs": [
    {
     "data": {
      "text/plain": "                                masked_id  \\\n0                        PignutHickoryNut   \n1                             GreekYogurt   \n2              TurkeyMeat_ground_sauteed_   \n3                                     Raw   \n4                        SpeltFoodProduct   \n..                                    ...   \n45                          DrySoilAlbedo   \n46     PediatricIntensiveCareUnitFacility   \n47                        NestOfAlligator   \n48  ConcentrationOfCarbon13AtomInSeaWater   \n49                                Hillock   \n\n                                   feature_label  \\\n0                             pignut hickory nut   \n1                                   greek yogurt   \n2                  turkey meat (ground, sauteed)   \n3                                            raw   \n4                             spelt food product   \n..                                           ...   \n45                               dry soil albedo   \n46        pediatric intensive care unit facility   \n47                             nest of alligator   \n48  concentration of carbon-13 atom in sea water   \n49                                       hillock   \n\n                                  expected_definition  feature_aliases  \\\n0   A whole hickory nut from a pignut hickory tree...              NaN   \n1                                                 NaN              NaN   \n2          Ground turkey meat which has been sauteed.              NaN   \n3   A characteristic of an animal, plant, fungi or...              NaN   \n4               A food product made from spelt wheat.              NaN   \n..                                                ...              ...   \n45             Soil albedo which inheres in dry soil.              NaN   \n46  A hospital unit facility which is used to prov...              NaN   \n47  An animal habitation which is built by alligat...              NaN   \n48  The concentration of carbon-13 atom when measu...              NaN   \n49  A hill which is small and usually separated fr...              NaN   \n\n                                feature_relationships  \\\n0   [{'predicate': 'InTaxon', 'target': 'CaryaGlab...   \n1   [{'predicate': 'subClassOf', 'target': 'Strain...   \n2   [{'predicate': 'subClassOf', 'target': 'Turkey...   \n3   [{'predicate': 'subClassOf', 'target': 'FoodOb...   \n4   [{'predicate': 'subClassOf', 'target': 'WheatF...   \n..                                                ...   \n45  [{'predicate': 'subClassOf', 'target': 'SoilAl...   \n46  [{'predicate': 'subClassOf', 'target': 'Intens...   \n47  [{'predicate': 'subClassOf', 'target': 'Animal...   \n48  [{'predicate': 'subClassOf', 'target': 'Concen...   \n49    [{'predicate': 'subClassOf', 'target': 'Hill'}]   \n\n                           feature_logical_definition masked_original_id  \\\n0   [{'predicate': 'rdfs:subClassOf', 'target': 'C...    FOODON:00004448   \n1                                                 NaN    FOODON:00004409   \n2                                                 NaN    FOODON:00004417   \n3                                                 NaN    FOODON:00004348   \n4                                                 NaN    FOODON:00004434   \n..                                                ...                ...   \n45                                                NaN      ENVO:06105233   \n46                                                NaN      ENVO:03501170   \n47                                                NaN      ENVO:03600069   \n48  [{'predicate': 'rdfs:subClassOf', 'target': 'C...       ENVO:3100042   \n49                                                NaN      ENVO:03501238   \n\n                                 predicted_definition  metric_precision  \\\n0   A caryopsis fruit of a pignut hickory tree (Ca...               0.0   \n1   Greek yogurt is a type of yogurt that is made ...               0.0   \n2   Ground sautéed turkey meat is a specific type ...               0.0   \n3                                                 NaN               0.0   \n4                                                 NaN               0.0   \n..                                                ...               ...   \n45  Soil albedo that specifically focuses on the r...               0.0   \n46  A specialized healthcare facility that provide...               0.0   \n47  A specific physical structure or location wher...               0.0   \n48  The concentration of carbon-13 atom when measu...               1.0   \n49  A hillock is a smaller, gently sloping landfor...               0.0   \n\n    metric_recall  ...  ontology          method     model_name  id  label  \\\n0             0.0  ...    foodon  RAG+background  gpt-3.5-turbo NaN    NaN   \n1             0.0  ...    foodon  RAG+background  gpt-3.5-turbo NaN    NaN   \n2             0.0  ...    foodon  RAG+background  gpt-3.5-turbo NaN    NaN   \n3             0.0  ...    foodon  RAG+background  gpt-3.5-turbo NaN    NaN   \n4             0.0  ...    foodon  RAG+background  gpt-3.5-turbo NaN    NaN   \n..            ...  ...       ...             ...            ...  ..    ...   \n45            0.0  ...      envo  RAG+background  gpt-3.5-turbo NaN    NaN   \n46            0.0  ...      envo  RAG+background  gpt-3.5-turbo NaN    NaN   \n47            0.0  ...      envo  RAG+background  gpt-3.5-turbo NaN    NaN   \n48            1.0  ...      envo  RAG+background  gpt-3.5-turbo NaN    NaN   \n49            0.0  ...      envo  RAG+background  gpt-3.5-turbo NaN    NaN   \n\n    definition  aliases relationships logical_definition original_id  \n0          NaN      NaN           NaN                NaN         NaN  \n1          NaN      NaN           NaN                NaN         NaN  \n2          NaN      NaN           NaN                NaN         NaN  \n3          NaN      NaN           NaN                NaN         NaN  \n4          NaN      NaN           NaN                NaN         NaN  \n..         ...      ...           ...                ...         ...  \n45         NaN      NaN           NaN                NaN         NaN  \n46         NaN      NaN           NaN                NaN         NaN  \n47         NaN      NaN           NaN                NaN         NaN  \n48         NaN      NaN           NaN                NaN         NaN  \n49         NaN      NaN           NaN                NaN         NaN  \n\n[2854 rows x 28 columns]",
      "text/html": "<div>\n<style scoped>\n    .dataframe tbody tr th:only-of-type {\n        vertical-align: middle;\n    }\n\n    .dataframe tbody tr th {\n        vertical-align: top;\n    }\n\n    .dataframe thead th {\n        text-align: right;\n    }\n</style>\n<table border=\"1\" class=\"dataframe\">\n  <thead>\n    <tr style=\"text-align: right;\">\n      <th></th>\n      <th>masked_id</th>\n      <th>feature_label</th>\n      <th>expected_definition</th>\n      <th>feature_aliases</th>\n      <th>feature_relationships</th>\n      <th>feature_logical_definition</th>\n      <th>masked_original_id</th>\n      <th>predicted_definition</th>\n      <th>metric_precision</th>\n      <th>metric_recall</th>\n      <th>...</th>\n      <th>ontology</th>\n      <th>method</th>\n      <th>model_name</th>\n      <th>id</th>\n      <th>label</th>\n      <th>definition</th>\n      <th>aliases</th>\n      <th>relationships</th>\n      <th>logical_definition</th>\n      <th>original_id</th>\n    </tr>\n  </thead>\n  <tbody>\n    <tr>\n      <th>0</th>\n      <td>PignutHickoryNut</td>\n      <td>pignut hickory nut</td>\n      <td>A whole hickory nut from a pignut hickory tree...</td>\n      <td>NaN</td>\n      <td>[{'predicate': 'InTaxon', 'target': 'CaryaGlab...</td>\n      <td>[{'predicate': 'rdfs:subClassOf', 'target': 'C...</td>\n      <td>FOODON:00004448</td>\n      <td>A caryopsis fruit of a pignut hickory tree (Ca...</td>\n      <td>0.0</td>\n      <td>0.0</td>\n      <td>...</td>\n      <td>foodon</td>\n      <td>RAG+background</td>\n      <td>gpt-3.5-turbo</td>\n      <td>NaN</td>\n      <td>NaN</td>\n      <td>NaN</td>\n      <td>NaN</td>\n      <td>NaN</td>\n      <td>NaN</td>\n      <td>NaN</td>\n    </tr>\n    <tr>\n      <th>1</th>\n      <td>GreekYogurt</td>\n      <td>greek yogurt</td>\n      <td>NaN</td>\n      <td>NaN</td>\n      <td>[{'predicate': 'subClassOf', 'target': 'Strain...</td>\n      <td>NaN</td>\n      <td>FOODON:00004409</td>\n      <td>Greek yogurt is a type of yogurt that is made ...</td>\n      <td>0.0</td>\n      <td>0.0</td>\n      <td>...</td>\n      <td>foodon</td>\n      <td>RAG+background</td>\n      <td>gpt-3.5-turbo</td>\n      <td>NaN</td>\n      <td>NaN</td>\n      <td>NaN</td>\n      <td>NaN</td>\n      <td>NaN</td>\n      <td>NaN</td>\n      <td>NaN</td>\n    </tr>\n    <tr>\n      <th>2</th>\n      <td>TurkeyMeat_ground_sauteed_</td>\n      <td>turkey meat (ground, sauteed)</td>\n      <td>Ground turkey meat which has been sauteed.</td>\n      <td>NaN</td>\n      <td>[{'predicate': 'subClassOf', 'target': 'Turkey...</td>\n      <td>NaN</td>\n      <td>FOODON:00004417</td>\n      <td>Ground sautéed turkey meat is a specific type ...</td>\n      <td>0.0</td>\n      <td>0.0</td>\n      <td>...</td>\n      <td>foodon</td>\n      <td>RAG+background</td>\n      <td>gpt-3.5-turbo</td>\n      <td>NaN</td>\n      <td>NaN</td>\n      <td>NaN</td>\n      <td>NaN</td>\n      <td>NaN</td>\n      <td>NaN</td>\n      <td>NaN</td>\n    </tr>\n    <tr>\n      <th>3</th>\n      <td>Raw</td>\n      <td>raw</td>\n      <td>A characteristic of an animal, plant, fungi or...</td>\n      <td>NaN</td>\n      <td>[{'predicate': 'subClassOf', 'target': 'FoodOb...</td>\n      <td>NaN</td>\n      <td>FOODON:00004348</td>\n      <td>NaN</td>\n      <td>0.0</td>\n      <td>0.0</td>\n      <td>...</td>\n      <td>foodon</td>\n      <td>RAG+background</td>\n      <td>gpt-3.5-turbo</td>\n      <td>NaN</td>\n      <td>NaN</td>\n      <td>NaN</td>\n      <td>NaN</td>\n      <td>NaN</td>\n      <td>NaN</td>\n      <td>NaN</td>\n    </tr>\n    <tr>\n      <th>4</th>\n      <td>SpeltFoodProduct</td>\n      <td>spelt food product</td>\n      <td>A food product made from spelt wheat.</td>\n      <td>NaN</td>\n      <td>[{'predicate': 'subClassOf', 'target': 'WheatF...</td>\n      <td>NaN</td>\n      <td>FOODON:00004434</td>\n      <td>NaN</td>\n      <td>0.0</td>\n      <td>0.0</td>\n      <td>...</td>\n      <td>foodon</td>\n      <td>RAG+background</td>\n      <td>gpt-3.5-turbo</td>\n      <td>NaN</td>\n      <td>NaN</td>\n      <td>NaN</td>\n      <td>NaN</td>\n      <td>NaN</td>\n      <td>NaN</td>\n      <td>NaN</td>\n    </tr>\n    <tr>\n      <th>...</th>\n      <td>...</td>\n      <td>...</td>\n      <td>...</td>\n      <td>...</td>\n      <td>...</td>\n      <td>...</td>\n      <td>...</td>\n      <td>...</td>\n      <td>...</td>\n      <td>...</td>\n      <td>...</td>\n      <td>...</td>\n      <td>...</td>\n      <td>...</td>\n      <td>...</td>\n      <td>...</td>\n      <td>...</td>\n      <td>...</td>\n      <td>...</td>\n      <td>...</td>\n      <td>...</td>\n    </tr>\n    <tr>\n      <th>45</th>\n      <td>DrySoilAlbedo</td>\n      <td>dry soil albedo</td>\n      <td>Soil albedo which inheres in dry soil.</td>\n      <td>NaN</td>\n      <td>[{'predicate': 'subClassOf', 'target': 'SoilAl...</td>\n      <td>NaN</td>\n      <td>ENVO:06105233</td>\n      <td>Soil albedo that specifically focuses on the r...</td>\n      <td>0.0</td>\n      <td>0.0</td>\n      <td>...</td>\n      <td>envo</td>\n      <td>RAG+background</td>\n      <td>gpt-3.5-turbo</td>\n      <td>NaN</td>\n      <td>NaN</td>\n      <td>NaN</td>\n      <td>NaN</td>\n      <td>NaN</td>\n      <td>NaN</td>\n      <td>NaN</td>\n    </tr>\n    <tr>\n      <th>46</th>\n      <td>PediatricIntensiveCareUnitFacility</td>\n      <td>pediatric intensive care unit facility</td>\n      <td>A hospital unit facility which is used to prov...</td>\n      <td>NaN</td>\n      <td>[{'predicate': 'subClassOf', 'target': 'Intens...</td>\n      <td>NaN</td>\n      <td>ENVO:03501170</td>\n      <td>A specialized healthcare facility that provide...</td>\n      <td>0.0</td>\n      <td>0.0</td>\n      <td>...</td>\n      <td>envo</td>\n      <td>RAG+background</td>\n      <td>gpt-3.5-turbo</td>\n      <td>NaN</td>\n      <td>NaN</td>\n      <td>NaN</td>\n      <td>NaN</td>\n      <td>NaN</td>\n      <td>NaN</td>\n      <td>NaN</td>\n    </tr>\n    <tr>\n      <th>47</th>\n      <td>NestOfAlligator</td>\n      <td>nest of alligator</td>\n      <td>An animal habitation which is built by alligat...</td>\n      <td>NaN</td>\n      <td>[{'predicate': 'subClassOf', 'target': 'Animal...</td>\n      <td>NaN</td>\n      <td>ENVO:03600069</td>\n      <td>A specific physical structure or location wher...</td>\n      <td>0.0</td>\n      <td>0.0</td>\n      <td>...</td>\n      <td>envo</td>\n      <td>RAG+background</td>\n      <td>gpt-3.5-turbo</td>\n      <td>NaN</td>\n      <td>NaN</td>\n      <td>NaN</td>\n      <td>NaN</td>\n      <td>NaN</td>\n      <td>NaN</td>\n      <td>NaN</td>\n    </tr>\n    <tr>\n      <th>48</th>\n      <td>ConcentrationOfCarbon13AtomInSeaWater</td>\n      <td>concentration of carbon-13 atom in sea water</td>\n      <td>The concentration of carbon-13 atom when measu...</td>\n      <td>NaN</td>\n      <td>[{'predicate': 'subClassOf', 'target': 'Concen...</td>\n      <td>[{'predicate': 'rdfs:subClassOf', 'target': 'C...</td>\n      <td>ENVO:3100042</td>\n      <td>The concentration of carbon-13 atom when measu...</td>\n      <td>1.0</td>\n      <td>1.0</td>\n      <td>...</td>\n      <td>envo</td>\n      <td>RAG+background</td>\n      <td>gpt-3.5-turbo</td>\n      <td>NaN</td>\n      <td>NaN</td>\n      <td>NaN</td>\n      <td>NaN</td>\n      <td>NaN</td>\n      <td>NaN</td>\n      <td>NaN</td>\n    </tr>\n    <tr>\n      <th>49</th>\n      <td>Hillock</td>\n      <td>hillock</td>\n      <td>A hill which is small and usually separated fr...</td>\n      <td>NaN</td>\n      <td>[{'predicate': 'subClassOf', 'target': 'Hill'}]</td>\n      <td>NaN</td>\n      <td>ENVO:03501238</td>\n      <td>A hillock is a smaller, gently sloping landfor...</td>\n      <td>0.0</td>\n      <td>0.0</td>\n      <td>...</td>\n      <td>envo</td>\n      <td>RAG+background</td>\n      <td>gpt-3.5-turbo</td>\n      <td>NaN</td>\n      <td>NaN</td>\n      <td>NaN</td>\n      <td>NaN</td>\n      <td>NaN</td>\n      <td>NaN</td>\n      <td>NaN</td>\n    </tr>\n  </tbody>\n</table>\n<p>2854 rows × 28 columns</p>\n</div>"
     },
     "execution_count": 4,
     "metadata": {},
     "output_type": "execute_result"
    }
   ],
   "source": [
    "df"
   ],
   "metadata": {
    "collapsed": false,
    "ExecuteTime": {
     "start_time": "2024-07-27T02:05:40.577306Z"
    }
   },
   "id": "3e265e0fb1fcea08"
  },
  {
   "cell_type": "code",
   "execution_count": 42,
   "outputs": [
    {
     "data": {
      "text/plain": "model_name       method        \ngpt-3.5-turbo    RAG               490\n                 RAG+background    440\n                 RAG+devdocs        50\n                 RAG+github        190\ngpt-4            RAG               534\n                 RAG+background    390\n                 RAG+github        190\nnous-hermes-13b  RAG               490\n                 RAG+background     40\n                 RAG+github         40\ndtype: int64"
     },
     "execution_count": 42,
     "metadata": {},
     "output_type": "execute_result"
    }
   ],
   "source": [
    "# count number of rows grouped by model_name and method\n",
    "df.groupby([\"model_name\", \"method\"]).size()"
   ],
   "metadata": {
    "collapsed": false,
    "ExecuteTime": {
     "end_time": "2024-07-27T02:37:11.171556Z",
     "start_time": "2024-07-27T02:37:11.137665Z"
    }
   },
   "id": "13f0bf57e23cf97a"
  },
  {
   "cell_type": "markdown",
   "source": [],
   "metadata": {
    "collapsed": false
   },
   "id": "d16fae3b81f3f74f"
  },
  {
   "cell_type": "code",
   "execution_count": 5,
   "outputs": [],
   "source": [
    "from bert_score import score as bscore"
   ],
   "metadata": {
    "collapsed": false,
    "ExecuteTime": {
     "start_time": "2024-07-27T02:05:58.128463Z"
    }
   },
   "id": "cffe7eb7227d962c"
  },
  {
   "cell_type": "code",
   "execution_count": 43,
   "outputs": [],
   "source": [
    "def get_bert_score(df, model_name, method, n=None):\n",
    "    df2 = df[(df.model_name == model_name) & (df.method == method)]\n",
    "    df2 = df2.dropna(subset=[\"expected_definition\", \"predicted_definition\"])\n",
    "    refs = df2[\"expected_definition\"].values\n",
    "    hyps = df2[\"predicted_definition\"].values\n",
    "    # convert np array to list\n",
    "    refs = [x for x in refs]\n",
    "    hyps = [x for x in hyps]\n",
    "    if n:\n",
    "        refs = refs[:n]\n",
    "        hyps = hyps[:n]\n",
    "    P, R, F1 = bscore(hyps, refs, lang=\"en\", verbose=False)\n",
    "    return P.mean().tolist(), R.mean().tolist(), F1.mean().tolist()\n",
    "\n",
    "#get_bert_score(df, \"gpt-3.5-turbo\", \"RAG\")"
   ],
   "metadata": {
    "collapsed": false,
    "ExecuteTime": {
     "end_time": "2024-07-27T02:46:07.313598Z",
     "start_time": "2024-07-27T02:46:07.290406Z"
    }
   },
   "id": "e4ec949ed1353d99"
  },
  {
   "cell_type": "code",
   "execution_count": 44,
   "outputs": [
    {
     "name": "stderr",
     "output_type": "stream",
     "text": [
      "Some weights of RobertaModel were not initialized from the model checkpoint at roberta-large and are newly initialized: ['roberta.pooler.dense.bias', 'roberta.pooler.dense.weight']\n",
      "You should probably TRAIN this model on a down-stream task to be able to use it for predictions and inference.\n"
     ]
    },
    {
     "name": "stdout",
     "output_type": "stream",
     "text": [
      "{'model': 'gpt-3.5-turbo', 'method': 'RAG', 'F1': 0.9232134819030762, 'P': 0.9330469965934753, 'R': 0.9142860174179077}\n"
     ]
    },
    {
     "name": "stderr",
     "output_type": "stream",
     "text": [
      "Some weights of RobertaModel were not initialized from the model checkpoint at roberta-large and are newly initialized: ['roberta.pooler.dense.bias', 'roberta.pooler.dense.weight']\n",
      "You should probably TRAIN this model on a down-stream task to be able to use it for predictions and inference.\n"
     ]
    },
    {
     "name": "stdout",
     "output_type": "stream",
     "text": [
      "{'model': 'gpt-3.5-turbo', 'method': 'RAG+github', 'F1': 0.9242426753044128, 'P': 0.9273239374160767, 'R': 0.9219368100166321}\n"
     ]
    },
    {
     "name": "stderr",
     "output_type": "stream",
     "text": [
      "Some weights of RobertaModel were not initialized from the model checkpoint at roberta-large and are newly initialized: ['roberta.pooler.dense.bias', 'roberta.pooler.dense.weight']\n",
      "You should probably TRAIN this model on a down-stream task to be able to use it for predictions and inference.\n"
     ]
    },
    {
     "name": "stdout",
     "output_type": "stream",
     "text": [
      "{'model': 'gpt-4', 'method': 'RAG', 'F1': 0.9199519753456116, 'P': 0.9283441305160522, 'R': 0.9123955965042114}\n"
     ]
    },
    {
     "name": "stderr",
     "output_type": "stream",
     "text": [
      "Some weights of RobertaModel were not initialized from the model checkpoint at roberta-large and are newly initialized: ['roberta.pooler.dense.bias', 'roberta.pooler.dense.weight']\n",
      "You should probably TRAIN this model on a down-stream task to be able to use it for predictions and inference.\n"
     ]
    },
    {
     "name": "stdout",
     "output_type": "stream",
     "text": [
      "{'model': 'gpt-4', 'method': 'RAG+github', 'F1': 0.9257653951644897, 'P': 0.9291232824325562, 'R': 0.9231078624725342}\n"
     ]
    },
    {
     "name": "stderr",
     "output_type": "stream",
     "text": [
      "Some weights of RobertaModel were not initialized from the model checkpoint at roberta-large and are newly initialized: ['roberta.pooler.dense.bias', 'roberta.pooler.dense.weight']\n",
      "You should probably TRAIN this model on a down-stream task to be able to use it for predictions and inference.\n"
     ]
    },
    {
     "name": "stdout",
     "output_type": "stream",
     "text": [
      "{'model': 'nous-hermes-13b', 'method': 'RAG', 'F1': 0.9158900380134583, 'P': 0.9220759868621826, 'R': 0.9104764461517334}\n"
     ]
    }
   ],
   "source": [
    "rows = []\n",
    "for model in MODELS:\n",
    "    for method in METHODS:\n",
    "        if method == \"RAG+github\" and model == \"nous-hermes-13b\":\n",
    "            continue\n",
    "        avg_p, avg_r, avg_f1 = get_bert_score(df, model, method)\n",
    "        row = {\"model\": model, \"method\": method, \"F1\": avg_f1, \"P\": avg_p, \"R\": avg_r}\n",
    "        rows.append(row)\n",
    "        print(row)\n",
    "        "
   ],
   "metadata": {
    "collapsed": false,
    "ExecuteTime": {
     "end_time": "2024-07-27T02:48:45.885163Z",
     "start_time": "2024-07-27T02:47:18.423115Z"
    }
   },
   "id": "68242d4bc3d2e09b"
  },
  {
   "cell_type": "code",
   "execution_count": 45,
   "outputs": [
    {
     "data": {
      "text/plain": "5"
     },
     "execution_count": 45,
     "metadata": {},
     "output_type": "execute_result"
    }
   ],
   "source": [
    "len(rows)"
   ],
   "metadata": {
    "collapsed": false,
    "ExecuteTime": {
     "end_time": "2024-07-27T02:48:45.889198Z",
     "start_time": "2024-07-27T02:48:45.884572Z"
    }
   },
   "id": "69280db24b5b7169"
  },
  {
   "cell_type": "code",
   "execution_count": 46,
   "outputs": [
    {
     "data": {
      "text/plain": "             model      method        F1         P         R\n0    gpt-3.5-turbo         RAG  0.923213  0.933047  0.914286\n1    gpt-3.5-turbo  RAG+github  0.924243  0.927324  0.921937\n2            gpt-4         RAG  0.919952  0.928344  0.912396\n3            gpt-4  RAG+github  0.925765  0.929123  0.923108\n4  nous-hermes-13b         RAG  0.915890  0.922076  0.910476",
      "text/html": "<div>\n<style scoped>\n    .dataframe tbody tr th:only-of-type {\n        vertical-align: middle;\n    }\n\n    .dataframe tbody tr th {\n        vertical-align: top;\n    }\n\n    .dataframe thead th {\n        text-align: right;\n    }\n</style>\n<table border=\"1\" class=\"dataframe\">\n  <thead>\n    <tr style=\"text-align: right;\">\n      <th></th>\n      <th>model</th>\n      <th>method</th>\n      <th>F1</th>\n      <th>P</th>\n      <th>R</th>\n    </tr>\n  </thead>\n  <tbody>\n    <tr>\n      <th>0</th>\n      <td>gpt-3.5-turbo</td>\n      <td>RAG</td>\n      <td>0.923213</td>\n      <td>0.933047</td>\n      <td>0.914286</td>\n    </tr>\n    <tr>\n      <th>1</th>\n      <td>gpt-3.5-turbo</td>\n      <td>RAG+github</td>\n      <td>0.924243</td>\n      <td>0.927324</td>\n      <td>0.921937</td>\n    </tr>\n    <tr>\n      <th>2</th>\n      <td>gpt-4</td>\n      <td>RAG</td>\n      <td>0.919952</td>\n      <td>0.928344</td>\n      <td>0.912396</td>\n    </tr>\n    <tr>\n      <th>3</th>\n      <td>gpt-4</td>\n      <td>RAG+github</td>\n      <td>0.925765</td>\n      <td>0.929123</td>\n      <td>0.923108</td>\n    </tr>\n    <tr>\n      <th>4</th>\n      <td>nous-hermes-13b</td>\n      <td>RAG</td>\n      <td>0.915890</td>\n      <td>0.922076</td>\n      <td>0.910476</td>\n    </tr>\n  </tbody>\n</table>\n</div>"
     },
     "execution_count": 46,
     "metadata": {},
     "output_type": "execute_result"
    }
   ],
   "source": [
    "results_df = pd.DataFrame(rows)\n",
    "results_df"
   ],
   "metadata": {
    "collapsed": false,
    "ExecuteTime": {
     "end_time": "2024-07-27T02:48:54.606414Z",
     "start_time": "2024-07-27T02:48:54.590615Z"
    }
   },
   "id": "e15f3f0b607db5d9"
  },
  {
   "cell_type": "code",
   "execution_count": 49,
   "outputs": [
    {
     "data": {
      "text/plain": "             model method     F1      P      R\n0    gpt-3.5-turbo    RAG  0.923  0.933  0.914\n2            gpt-4    RAG  0.920  0.928  0.912\n4  nous-hermes-13b    RAG  0.916  0.922  0.910",
      "text/html": "<div>\n<style scoped>\n    .dataframe tbody tr th:only-of-type {\n        vertical-align: middle;\n    }\n\n    .dataframe tbody tr th {\n        vertical-align: top;\n    }\n\n    .dataframe thead th {\n        text-align: right;\n    }\n</style>\n<table border=\"1\" class=\"dataframe\">\n  <thead>\n    <tr style=\"text-align: right;\">\n      <th></th>\n      <th>model</th>\n      <th>method</th>\n      <th>F1</th>\n      <th>P</th>\n      <th>R</th>\n    </tr>\n  </thead>\n  <tbody>\n    <tr>\n      <th>0</th>\n      <td>gpt-3.5-turbo</td>\n      <td>RAG</td>\n      <td>0.923</td>\n      <td>0.933</td>\n      <td>0.914</td>\n    </tr>\n    <tr>\n      <th>2</th>\n      <td>gpt-4</td>\n      <td>RAG</td>\n      <td>0.920</td>\n      <td>0.928</td>\n      <td>0.912</td>\n    </tr>\n    <tr>\n      <th>4</th>\n      <td>nous-hermes-13b</td>\n      <td>RAG</td>\n      <td>0.916</td>\n      <td>0.922</td>\n      <td>0.910</td>\n    </tr>\n  </tbody>\n</table>\n</div>"
     },
     "execution_count": 49,
     "metadata": {},
     "output_type": "execute_result"
    }
   ],
   "source": [
    "# filter and show with precision=3\n",
    "results_df[results_df.method == \"RAG\"].round(3)"
   ],
   "metadata": {
    "collapsed": false,
    "ExecuteTime": {
     "end_time": "2024-07-27T02:49:50.577219Z",
     "start_time": "2024-07-27T02:49:50.561925Z"
    }
   },
   "id": "8846a77a6ab16240"
  },
  {
   "cell_type": "code",
   "execution_count": 85,
   "outputs": [],
   "source": [
    "df2 = df.dropna(subset=[\"expected_definition\", \"predicted_definition\"])\n",
    "random_defs = df2[\"expected_definition\"].values\n",
    "random_defs = [x for x in random_defs]\n",
    "\n",
    "# randomize order\n",
    "import random\n",
    "random.seed(42)\n",
    "random.shuffle(random_defs)\n",
    "all_refs = df2[\"expected_definition\"].values\n",
    "\n",
    "all_refs = [x for x in all_refs]\n"
   ],
   "metadata": {
    "collapsed": false,
    "ExecuteTime": {
     "end_time": "2024-07-27T03:05:19.708286Z",
     "start_time": "2024-07-27T03:05:19.685491Z"
    }
   },
   "id": "8958eead646e75b9"
  },
  {
   "cell_type": "code",
   "execution_count": 86,
   "outputs": [
    {
     "name": "stderr",
     "output_type": "stream",
     "text": [
      "Some weights of RobertaModel were not initialized from the model checkpoint at roberta-large and are newly initialized: ['roberta.pooler.dense.bias', 'roberta.pooler.dense.weight']\n",
      "You should probably TRAIN this model on a down-stream task to be able to use it for predictions and inference.\n"
     ]
    }
   ],
   "source": [
    "t = bscore(random_defs[:10], all_refs[:10], lang=\"en\", verbose=False)"
   ],
   "metadata": {
    "collapsed": false,
    "ExecuteTime": {
     "end_time": "2024-07-27T03:05:23.144133Z",
     "start_time": "2024-07-27T03:05:21.477626Z"
    }
   },
   "id": "8d67312f43b07c82"
  },
  {
   "cell_type": "code",
   "execution_count": 89,
   "outputs": [
    {
     "data": {
      "text/plain": "(tensor(0.8452), tensor(0.8320), tensor(0.8384))"
     },
     "execution_count": 89,
     "metadata": {},
     "output_type": "execute_result"
    }
   ],
   "source": [
    "t[0].mean(), t[1].mean(), t[2].mean()"
   ],
   "metadata": {
    "collapsed": false,
    "ExecuteTime": {
     "end_time": "2024-07-27T03:06:36.428316Z",
     "start_time": "2024-07-27T03:06:36.414582Z"
    }
   },
   "id": "f71a8d0b1f6b97b9"
  },
  {
   "cell_type": "code",
   "execution_count": 90,
   "outputs": [
    {
     "data": {
      "text/plain": "(tensor(0.8452), tensor(0.8320), tensor(0.8384))"
     },
     "execution_count": 90,
     "metadata": {},
     "output_type": "execute_result"
    }
   ],
   "source": [
    "t[0].mean(), t[1].mean(), t[2].mean()\n"
   ],
   "metadata": {
    "collapsed": false,
    "ExecuteTime": {
     "end_time": "2024-07-27T03:06:41.946200Z",
     "start_time": "2024-07-27T03:06:41.929023Z"
    }
   },
   "id": "2bab6b35b2713ae4"
  },
  {
   "cell_type": "code",
   "execution_count": 76,
   "outputs": [
    {
     "data": {
      "text/plain": "('An alpha-beta CD4 T cell that resides in the lung. This cell expresses the resident marker CD69 and has the effector/memory phenotype, high CD44 (hyaluronic acid receptor) expression and low CD62L expression. A lung resident memory CD4-positive, alpha-beta T cell upregulates specific genes associated with tissue residency and downregulates genes associated with circulation and migration.',\n 'The amount of a IgA immunoglobulin complex, circulating when measured in blood serum.')"
     },
     "execution_count": 76,
     "metadata": {},
     "output_type": "execute_result"
    }
   ],
   "source": [
    "all_preds[1], all_refs[1]"
   ],
   "metadata": {
    "collapsed": false,
    "ExecuteTime": {
     "end_time": "2024-07-27T03:01:00.337925Z",
     "start_time": "2024-07-27T03:01:00.319193Z"
    }
   },
   "id": "832e5884b7271822"
  },
  {
   "cell_type": "code",
   "execution_count": null,
   "outputs": [],
   "source": [],
   "metadata": {
    "collapsed": false
   },
   "id": "87274992efbeffe3"
  }
 ],
 "metadata": {
  "kernelspec": {
   "display_name": "Python 3",
   "language": "python",
   "name": "python3"
  },
  "language_info": {
   "codemirror_mode": {
    "name": "ipython",
    "version": 2
   },
   "file_extension": ".py",
   "mimetype": "text/x-python",
   "name": "python",
   "nbconvert_exporter": "python",
   "pygments_lexer": "ipython2",
   "version": "2.7.6"
  }
 },
 "nbformat": 4,
 "nbformat_minor": 5
}
